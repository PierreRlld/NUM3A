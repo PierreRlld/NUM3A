{
  "cells": [
    {
      "cell_type": "markdown",
      "id": "e5fdd06e-29f3-48b0-86e9-59ed1d8ce05e",
      "metadata": {},
      "source": [
        "# Homework 2024\n",
        "\n",
        "**Name**:\n",
        "\n",
        "**Surname**:\n",
        "\n",
        "After completing the following questions, send the edited notebook to\n",
        "`pablo.winant@ensae.fr`. You can work in (small) teams but are not\n",
        "allowed to copy/paste any code. Don’t forget to comment your code and\n",
        "take any initiative you find relevant.\n",
        "\n",
        "## General Problem\n",
        "\n",
        "We seek to solve numerically the following **consumption-saving problem using the time-iteration algorithm.**\n",
        "\n",
        "**Income is an iid normally distributed process** with standard deviation\n",
        "$\\sigma$. Interest rate is $r\\in [1,\\frac{1}{\\beta}[$ where\n",
        "$\\beta\\in]0,1[$ is the discount factor.\n",
        "\n",
        "Available income is $w_t$ and follows the law of motion:\n",
        "\n",
        "$$w_{t+1} = e^ {\\epsilon_{t+1}} +  (w_{t} - c_{t}) r$$\n",
        "\n",
        "where $c_t \\in ]0,w_t]$ is consumption chosen at date $t$ (which\n",
        "includes an **implicit no borrowing constraint**).\n",
        "\n",
        "## Calibration\n",
        "\n",
        "We will use the following calibration:\n",
        "\n",
        "$\\sigma = 0.01$\n",
        "\n",
        "$\\beta = 0.96$\n",
        "\n",
        "$r = 1.03$\n",
        "\n",
        "**Choose a structure `model` to represent the model parameters.**"
      ]
    },
    {
      "cell_type": "code",
      "execution_count": 10,
      "id": "644f1a49",
      "metadata": {},
      "outputs": [],
      "source": [
        "using Interpolations, Plots, Statistics, Distributions"
      ]
    },
    {
      "cell_type": "code",
      "execution_count": 11,
      "id": "d583ccea",
      "metadata": {},
      "outputs": [
        {
          "data": {
            "text/plain": [
              "Normal{Float64}(μ=0.0, σ=0.01)"
            ]
          },
          "metadata": {},
          "output_type": "display_data"
        }
      ],
      "source": [
        "model = (;\n",
        "        σ = 0.01,\n",
        "        β = 0.96,\n",
        "        r = 1.03)\n",
        "\n",
        "d = Normal(0,model.σ)"
      ]
    },
    {
      "cell_type": "markdown",
      "id": "f586d93f-5647-4e21-8555-e4f0ea147dc8",
      "metadata": {},
      "source": [
        "## Representing the decision function\n",
        "\n",
        "The solution of the model is a decision rule $c(w)$.\n",
        "\n",
        "In what follows, we will approximate it by a function defined over\n",
        "$[0,w_{max}[$, pinned down by the values it takes on $N$ linearly spaced\n",
        "grid points.\n",
        "\n",
        "In our solutions algorithm, we will use the **initial guess**\n",
        "$\\varphi_0(w) = min(w, p_0+p_1(w-p_0))$.\n",
        "\n",
        "**Create a structure `approx` to represent the approximation space. This\n",
        "structure should contain the parameters, as well as a\n",
        "`points::Vector{Float64}` array coontaining the (regularly spaced) list\n",
        "of grid points.**\n",
        "\n",
        "To start with you can take $w_{max}=5$, $N=20$, $p_0=0.95, p_1=0.03$ but\n",
        "don’t hesitate to change these values later if needed."
      ]
    },
    {
      "cell_type": "code",
      "execution_count": 3,
      "id": "9f968914",
      "metadata": {},
      "outputs": [
        {
          "data": {
            "text/plain": [
              "(wmax = 5, N = 20, p_0 = 0.95, p_1 = 0.03, points = [0.0, 0.2631578947368421, 0.5263157894736842, 0.7894736842105263, 1.0526315789473684, 1.3157894736842104, 1.5789473684210527, 1.8421052631578947, 2.1052631578947367, 2.3684210526315788, 2.631578947368421, 2.8947368421052633, 3.1578947368421053, 3.4210526315789473, 3.6842105263157894, 3.947368421052632, 4.2105263157894735, 4.473684210526316, 4.7368421052631575, 5.0])"
            ]
          },
          "metadata": {},
          "output_type": "display_data"
        }
      ],
      "source": [
        "approx = (;\n",
        "        wmax = 5,\n",
        "        N = 20,\n",
        "        p_0 = 0.95,\n",
        "        p_1 = 0.03,\n",
        "        points = Array(LinRange(0,5,20)))"
      ]
    },
    {
      "cell_type": "markdown",
      "id": "932bd3fa",
      "metadata": {},
      "source": [
        "**Define a method `φ_0(w::Float64)::Float64` for the initial guess. Plot\n",
        "it against $w$ in the approximation space.**\n",
        "\n",
        "**Compute the values `c_0::{Float64}`of `φ_0()` on the grid `points`**\n",
        "\n",
        "**Use the `Interpolations.jl` library to define a function\n",
        "`φ(w::Float64)` defined for any `w` using piecewise *linear*\n",
        "interpolation in such a way that it takes values `c_0` on the grid\n",
        "`points`.**\n",
        "\n",
        "**Create a single plot with**:\n",
        "\n",
        "-   the function `φ_0()`\n",
        "-   the interpolated function $φ$\n",
        "-   its values `c_0` on the grid points\n",
        "\n",
        "**Bonus: add to the graph the function obtained using cubic spline\n",
        "interpolation. What *could* be the problem?**"
      ]
    },
    {
      "cell_type": "code",
      "execution_count": 4,
      "id": "db5b14b7",
      "metadata": {},
      "outputs": [
        {
          "data": {
            "image/png": "[encoded data removed]",
            "image/svg+xml": [
              "<?xml version=\"1.0\" encoding=\"utf-8\"?>\n",
              "<svg xmlns=\"http://www.w3.org/2000/svg\" xmlns:xlink=\"http://www.w3.org/1999/xlink\" width=\"600\" height=\"400\" viewBox=\"0 0 2400 1600\">\n",
              "<defs>\n",
              "  <clipPath id=\"clip140\">\n",
              "    <rect x=\"0\" y=\"0\" width=\"2400\" height=\"1600\"/>\n",
              "  </clipPath>\n",
              "</defs>\n",
              "<path clip-path=\"url(#clip140)\" d=\"M0 1600 L2400 1600 L2400 8.88178e-14 L0 8.88178e-14  Z\" fill=\"#ffffff\" fill-rule=\"evenodd\" fill-opacity=\"1\"/>\n",
              "<defs>\n",
              "  <clipPath id=\"clip141\">\n",
              "    <rect x=\"480\" y=\"0\" width=\"1681\" height=\"1600\"/>\n",
              "  </clipPath>\n",
              "</defs>\n",
              "<path clip-path=\"url(#clip140)\" d=\"M249.542 1423.18 L2352.76 1423.18 L2352.76 123.472 L249.542 123.472  Z\" fill=\"#ffffff\" fill-rule=\"evenodd\" fill-opacity=\"1\"/>\n",
              "<defs>\n",
              "  <clipPath id=\"clip142\">\n",
              "    <rect x=\"249\" y=\"123\" width=\"2104\" height=\"1301\"/>\n",
              "  </clipPath>\n",
              "</defs>\n",
              "<polyline clip-path=\"url(#clip142)\" style=\"stroke:#000000; stroke-linecap:round; stroke-linejoin:round; stroke-width:2; stroke-opacity:0.1; fill:none\" points=\"249.542,1423.18 249.542,123.472 \"/>\n",
              "<polyline clip-path=\"url(#clip142)\" style=\"stroke:#000000; stroke-linecap:round; stroke-linejoin:round; stroke-width:2; stroke-opacity:0.1; fill:none\" points=\"670.185,1423.18 670.185,123.472 \"/>\n",
              "<polyline clip-path=\"url(#clip142)\" style=\"stroke:#000000; stroke-linecap:round; stroke-linejoin:round; stroke-width:2; stroke-opacity:0.1; fill:none\" points=\"1090.83,1423.18 1090.83,123.472 \"/>\n",
              "<polyline clip-path=\"url(#clip142)\" style=\"stroke:#000000; stroke-linecap:round; stroke-linejoin:round; stroke-width:2; stroke-opacity:0.1; fill:none\" points=\"1511.47,1423.18 1511.47,123.472 \"/>\n",
              "<polyline clip-path=\"url(#clip142)\" style=\"stroke:#000000; stroke-linecap:round; stroke-linejoin:round; stroke-width:2; stroke-opacity:0.1; fill:none\" points=\"1932.11,1423.18 1932.11,123.472 \"/>\n",
              "<polyline clip-path=\"url(#clip142)\" style=\"stroke:#000000; stroke-linecap:round; stroke-linejoin:round; stroke-width:2; stroke-opacity:0.1; fill:none\" points=\"2352.76,1423.18 2352.76,123.472 \"/>\n",
              "<polyline clip-path=\"url(#clip140)\" style=\"stroke:#000000; stroke-linecap:round; stroke-linejoin:round; stroke-width:4; stroke-opacity:1; fill:none\" points=\"249.542,1423.18 2352.76,1423.18 \"/>\n",
              "<polyline clip-path=\"url(#clip140)\" style=\"stroke:#000000; stroke-linecap:round; stroke-linejoin:round; stroke-width:4; stroke-opacity:1; fill:none\" points=\"249.542,1423.18 249.542,1404.28 \"/>\n",
              "<polyline clip-path=\"url(#clip140)\" style=\"stroke:#000000; stroke-linecap:round; stroke-linejoin:round; stroke-width:4; stroke-opacity:1; fill:none\" points=\"670.185,1423.18 670.185,1404.28 \"/>\n",
              "<polyline clip-path=\"url(#clip140)\" style=\"stroke:#000000; stroke-linecap:round; stroke-linejoin:round; stroke-width:4; stroke-opacity:1; fill:none\" points=\"1090.83,1423.18 1090.83,1404.28 \"/>\n",
              "<polyline clip-path=\"url(#clip140)\" style=\"stroke:#000000; stroke-linecap:round; stroke-linejoin:round; stroke-width:4; stroke-opacity:1; fill:none\" points=\"1511.47,1423.18 1511.47,1404.28 \"/>\n",
              "<polyline clip-path=\"url(#clip140)\" style=\"stroke:#000000; stroke-linecap:round; stroke-linejoin:round; stroke-width:4; stroke-opacity:1; fill:none\" points=\"1932.11,1423.18 1932.11,1404.28 \"/>\n",
              "<polyline clip-path=\"url(#clip140)\" style=\"stroke:#000000; stroke-linecap:round; stroke-linejoin:round; stroke-width:4; stroke-opacity:1; fill:none\" points=\"2352.76,1423.18 2352.76,1404.28 \"/>\n",
              "<path clip-path=\"url(#clip140)\" d=\"M249.542 1454.1 Q245.931 1454.1 244.102 1457.66 Q242.297 1461.2 242.297 1468.33 Q242.297 1475.44 244.102 1479.01 Q245.931 1482.55 249.542 1482.55 Q253.176 1482.55 254.982 1479.01 Q256.811 1475.44 256.811 1468.33 Q256.811 1461.2 254.982 1457.66 Q253.176 1454.1 249.542 1454.1 M249.542 1450.39 Q255.352 1450.39 258.408 1455 Q261.486 1459.58 261.486 1468.33 Q261.486 1477.06 258.408 1481.67 Q255.352 1486.25 249.542 1486.25 Q243.732 1486.25 240.653 1481.67 Q237.598 1477.06 237.598 1468.33 Q237.598 1459.58 240.653 1455 Q243.732 1450.39 249.542 1450.39 Z\" fill=\"#000000\" fill-rule=\"nonzero\" fill-opacity=\"1\" /><path clip-path=\"url(#clip140)\" d=\"M660.567 1481.64 L668.206 1481.64 L668.206 1455.28 L659.896 1456.95 L659.896 1452.69 L668.159 1451.02 L672.835 1451.02 L672.835 1481.64 L680.474 1481.64 L680.474 1485.58 L660.567 1485.58 L660.567 1481.64 Z\" fill=\"#000000\" fill-rule=\"nonzero\" fill-opacity=\"1\" /><path clip-path=\"url(#clip140)\" d=\"M1085.48 1481.64 L1101.8 1481.64 L1101.8 1485.58 L1079.86 1485.58 L1079.86 1481.64 Q1082.52 1478.89 1087.1 1474.26 Q1091.71 1469.61 1092.89 1468.27 Q1095.13 1465.74 1096.01 1464.01 Q1096.92 1462.25 1096.92 1460.56 Q1096.92 1457.8 1094.97 1456.07 Q1093.05 1454.33 1089.95 1454.33 Q1087.75 1454.33 1085.3 1455.09 Q1082.86 1455.86 1080.09 1457.41 L1080.09 1452.69 Q1082.91 1451.55 1085.36 1450.97 Q1087.82 1450.39 1089.86 1450.39 Q1095.23 1450.39 1098.42 1453.08 Q1101.61 1455.77 1101.61 1460.26 Q1101.61 1462.39 1100.8 1464.31 Q1100.02 1466.2 1097.91 1468.8 Q1097.33 1469.47 1094.23 1472.69 Q1091.13 1475.88 1085.48 1481.64 Z\" fill=\"#000000\" fill-rule=\"nonzero\" fill-opacity=\"1\" /><path clip-path=\"url(#clip140)\" d=\"M1515.72 1466.95 Q1519.07 1467.66 1520.95 1469.93 Q1522.85 1472.2 1522.85 1475.53 Q1522.85 1480.65 1519.33 1483.45 Q1515.81 1486.25 1509.33 1486.25 Q1507.15 1486.25 1504.84 1485.81 Q1502.55 1485.39 1500.09 1484.54 L1500.09 1480.02 Q1502.04 1481.16 1504.35 1481.74 Q1506.67 1482.32 1509.19 1482.32 Q1513.59 1482.32 1515.88 1480.58 Q1518.19 1478.84 1518.19 1475.53 Q1518.19 1472.48 1516.04 1470.77 Q1513.91 1469.03 1510.09 1469.03 L1506.07 1469.03 L1506.07 1465.19 L1510.28 1465.19 Q1513.73 1465.19 1515.56 1463.82 Q1517.38 1462.43 1517.38 1459.84 Q1517.38 1457.18 1515.49 1455.77 Q1513.61 1454.33 1510.09 1454.33 Q1508.17 1454.33 1505.97 1454.75 Q1503.77 1455.16 1501.13 1456.04 L1501.13 1451.88 Q1503.8 1451.14 1506.11 1450.77 Q1508.45 1450.39 1510.51 1450.39 Q1515.83 1450.39 1518.94 1452.83 Q1522.04 1455.23 1522.04 1459.35 Q1522.04 1462.22 1520.39 1464.21 Q1518.75 1466.18 1515.72 1466.95 Z\" fill=\"#000000\" fill-rule=\"nonzero\" fill-opacity=\"1\" /><path clip-path=\"url(#clip140)\" d=\"M1935.12 1455.09 L1923.32 1473.54 L1935.12 1473.54 L1935.12 1455.09 M1933.9 1451.02 L1939.78 1451.02 L1939.78 1473.54 L1944.71 1473.54 L1944.71 1477.43 L1939.78 1477.43 L1939.78 1485.58 L1935.12 1485.58 L1935.12 1477.43 L1919.52 1477.43 L1919.52 1472.92 L1933.9 1451.02 Z\" fill=\"#000000\" fill-rule=\"nonzero\" fill-opacity=\"1\" /><path clip-path=\"url(#clip140)\" d=\"M2343.03 1451.02 L2361.39 1451.02 L2361.39 1454.96 L2347.32 1454.96 L2347.32 1463.43 Q2348.33 1463.08 2349.35 1462.92 Q2350.37 1462.73 2351.39 1462.73 Q2357.18 1462.73 2360.56 1465.9 Q2363.94 1469.08 2363.94 1474.49 Q2363.94 1480.07 2360.46 1483.17 Q2356.99 1486.25 2350.67 1486.25 Q2348.5 1486.25 2346.23 1485.88 Q2343.98 1485.51 2341.58 1484.77 L2341.58 1480.07 Q2343.66 1481.2 2345.88 1481.76 Q2348.1 1482.32 2350.58 1482.32 Q2354.58 1482.32 2356.92 1480.21 Q2359.26 1478.1 2359.26 1474.49 Q2359.26 1470.88 2356.92 1468.77 Q2354.58 1466.67 2350.58 1466.67 Q2348.71 1466.67 2346.83 1467.08 Q2344.98 1467.5 2343.03 1468.38 L2343.03 1451.02 Z\" fill=\"#000000\" fill-rule=\"nonzero\" fill-opacity=\"1\" /><path clip-path=\"url(#clip140)\" d=\"M1277.23 1532.4 L1283.09 1532.4 L1290.41 1560.21 L1297.7 1532.4 L1304.6 1532.4 L1311.92 1560.21 L1319.21 1532.4 L1325.07 1532.4 L1315.74 1568.04 L1308.84 1568.04 L1301.16 1538.83 L1293.46 1568.04 L1286.56 1568.04 L1277.23 1532.4 Z\" fill=\"#000000\" fill-rule=\"nonzero\" fill-opacity=\"1\" /><polyline clip-path=\"url(#clip142)\" style=\"stroke:#000000; stroke-linecap:round; stroke-linejoin:round; stroke-width:2; stroke-opacity:0.1; fill:none\" points=\"249.542,1386.4 2352.76,1386.4 \"/>\n",
              "<polyline clip-path=\"url(#clip142)\" style=\"stroke:#000000; stroke-linecap:round; stroke-linejoin:round; stroke-width:2; stroke-opacity:0.1; fill:none\" points=\"249.542,1100.32 2352.76,1100.32 \"/>\n",
              "<polyline clip-path=\"url(#clip142)\" style=\"stroke:#000000; stroke-linecap:round; stroke-linejoin:round; stroke-width:2; stroke-opacity:0.1; fill:none\" points=\"249.542,814.235 2352.76,814.235 \"/>\n",
              "<polyline clip-path=\"url(#clip142)\" style=\"stroke:#000000; stroke-linecap:round; stroke-linejoin:round; stroke-width:2; stroke-opacity:0.1; fill:none\" points=\"249.542,528.155 2352.76,528.155 \"/>\n",
              "<polyline clip-path=\"url(#clip142)\" style=\"stroke:#000000; stroke-linecap:round; stroke-linejoin:round; stroke-width:2; stroke-opacity:0.1; fill:none\" points=\"249.542,242.075 2352.76,242.075 \"/>\n",
              "<polyline clip-path=\"url(#clip140)\" style=\"stroke:#000000; stroke-linecap:round; stroke-linejoin:round; stroke-width:4; stroke-opacity:1; fill:none\" points=\"249.542,1423.18 249.542,123.472 \"/>\n",
              "<polyline clip-path=\"url(#clip140)\" style=\"stroke:#000000; stroke-linecap:round; stroke-linejoin:round; stroke-width:4; stroke-opacity:1; fill:none\" points=\"249.542,1386.4 268.44,1386.4 \"/>\n",
              "<polyline clip-path=\"url(#clip140)\" style=\"stroke:#000000; stroke-linecap:round; stroke-linejoin:round; stroke-width:4; stroke-opacity:1; fill:none\" points=\"249.542,1100.32 268.44,1100.32 \"/>\n",
              "<polyline clip-path=\"url(#clip140)\" style=\"stroke:#000000; stroke-linecap:round; stroke-linejoin:round; stroke-width:4; stroke-opacity:1; fill:none\" points=\"249.542,814.235 268.44,814.235 \"/>\n",
              "<polyline clip-path=\"url(#clip140)\" style=\"stroke:#000000; stroke-linecap:round; stroke-linejoin:round; stroke-width:4; stroke-opacity:1; fill:none\" points=\"249.542,528.155 268.44,528.155 \"/>\n",
              "<polyline clip-path=\"url(#clip140)\" style=\"stroke:#000000; stroke-linecap:round; stroke-linejoin:round; stroke-width:4; stroke-opacity:1; fill:none\" points=\"249.542,242.075 268.44,242.075 \"/>\n",
              "<path clip-path=\"url(#clip140)\" d=\"M126.205 1372.19 Q122.593 1372.19 120.765 1375.76 Q118.959 1379.3 118.959 1386.43 Q118.959 1393.54 120.765 1397.1 Q122.593 1400.64 126.205 1400.64 Q129.839 1400.64 131.644 1397.1 Q133.473 1393.54 133.473 1386.43 Q133.473 1379.3 131.644 1375.76 Q129.839 1372.19 126.205 1372.19 M126.205 1368.49 Q132.015 1368.49 135.07 1373.1 Q138.149 1377.68 138.149 1386.43 Q138.149 1395.16 135.07 1399.76 Q132.015 1404.35 126.205 1404.35 Q120.394 1404.35 117.316 1399.76 Q114.26 1395.16 114.26 1386.43 Q114.26 1377.68 117.316 1373.1 Q120.394 1368.49 126.205 1368.49 Z\" fill=\"#000000\" fill-rule=\"nonzero\" fill-opacity=\"1\" /><path clip-path=\"url(#clip140)\" d=\"M146.366 1397.8 L151.251 1397.8 L151.251 1403.68 L146.366 1403.68 L146.366 1397.8 Z\" fill=\"#000000\" fill-rule=\"nonzero\" fill-opacity=\"1\" /><path clip-path=\"url(#clip140)\" d=\"M171.436 1372.19 Q167.825 1372.19 165.996 1375.76 Q164.19 1379.3 164.19 1386.43 Q164.19 1393.54 165.996 1397.1 Q167.825 1400.64 171.436 1400.64 Q175.07 1400.64 176.876 1397.1 Q178.704 1393.54 178.704 1386.43 Q178.704 1379.3 176.876 1375.76 Q175.07 1372.19 171.436 1372.19 M171.436 1368.49 Q177.246 1368.49 180.301 1373.1 Q183.38 1377.68 183.38 1386.43 Q183.38 1395.16 180.301 1399.76 Q177.246 1404.35 171.436 1404.35 Q165.626 1404.35 162.547 1399.76 Q159.491 1395.16 159.491 1386.43 Q159.491 1377.68 162.547 1373.1 Q165.626 1368.49 171.436 1368.49 Z\" fill=\"#000000\" fill-rule=\"nonzero\" fill-opacity=\"1\" /><path clip-path=\"url(#clip140)\" d=\"M201.598 1372.19 Q197.987 1372.19 196.158 1375.76 Q194.352 1379.3 194.352 1386.43 Q194.352 1393.54 196.158 1397.1 Q197.987 1400.64 201.598 1400.64 Q205.232 1400.64 207.037 1397.1 Q208.866 1393.54 208.866 1386.43 Q208.866 1379.3 207.037 1375.76 Q205.232 1372.19 201.598 1372.19 M201.598 1368.49 Q207.408 1368.49 210.463 1373.1 Q213.542 1377.68 213.542 1386.43 Q213.542 1395.16 210.463 1399.76 Q207.408 1404.35 201.598 1404.35 Q195.787 1404.35 192.709 1399.76 Q189.653 1395.16 189.653 1386.43 Q189.653 1377.68 192.709 1373.1 Q195.787 1368.49 201.598 1368.49 Z\" fill=\"#000000\" fill-rule=\"nonzero\" fill-opacity=\"1\" /><path clip-path=\"url(#clip140)\" d=\"M127.2 1086.11 Q123.589 1086.11 121.76 1089.68 Q119.955 1093.22 119.955 1100.35 Q119.955 1107.46 121.76 1111.02 Q123.589 1114.56 127.2 1114.56 Q130.834 1114.56 132.64 1111.02 Q134.468 1107.46 134.468 1100.35 Q134.468 1093.22 132.64 1089.68 Q130.834 1086.11 127.2 1086.11 M127.2 1082.41 Q133.01 1082.41 136.066 1087.02 Q139.144 1091.6 139.144 1100.35 Q139.144 1109.08 136.066 1113.68 Q133.01 1118.27 127.2 1118.27 Q121.39 1118.27 118.311 1113.68 Q115.256 1109.08 115.256 1100.35 Q115.256 1091.6 118.311 1087.02 Q121.39 1082.41 127.2 1082.41 Z\" fill=\"#000000\" fill-rule=\"nonzero\" fill-opacity=\"1\" /><path clip-path=\"url(#clip140)\" d=\"M147.362 1111.72 L152.246 1111.72 L152.246 1117.6 L147.362 1117.6 L147.362 1111.72 Z\" fill=\"#000000\" fill-rule=\"nonzero\" fill-opacity=\"1\" /><path clip-path=\"url(#clip140)\" d=\"M166.459 1113.66 L182.778 1113.66 L182.778 1117.6 L160.834 1117.6 L160.834 1113.66 Q163.496 1110.91 168.079 1106.28 Q172.686 1101.62 173.866 1100.28 Q176.112 1097.76 176.991 1096.02 Q177.894 1094.26 177.894 1092.57 Q177.894 1089.82 175.95 1088.08 Q174.028 1086.35 170.927 1086.35 Q168.727 1086.35 166.274 1087.11 Q163.843 1087.87 161.065 1089.42 L161.065 1084.7 Q163.89 1083.57 166.343 1082.99 Q168.797 1082.41 170.834 1082.41 Q176.204 1082.41 179.399 1085.1 Q182.593 1087.78 182.593 1092.27 Q182.593 1094.4 181.783 1096.32 Q180.996 1098.22 178.889 1100.81 Q178.311 1101.48 175.209 1104.7 Q172.107 1107.9 166.459 1113.66 Z\" fill=\"#000000\" fill-rule=\"nonzero\" fill-opacity=\"1\" /><path clip-path=\"url(#clip140)\" d=\"M192.639 1083.04 L210.996 1083.04 L210.996 1086.97 L196.922 1086.97 L196.922 1095.44 Q197.94 1095.1 198.959 1094.93 Q199.977 1094.75 200.996 1094.75 Q206.783 1094.75 210.162 1097.92 Q213.542 1101.09 213.542 1106.51 Q213.542 1112.09 210.07 1115.19 Q206.598 1118.27 200.278 1118.27 Q198.102 1118.27 195.834 1117.9 Q193.588 1117.53 191.181 1116.79 L191.181 1112.09 Q193.264 1113.22 195.487 1113.78 Q197.709 1114.33 200.186 1114.33 Q204.19 1114.33 206.528 1112.23 Q208.866 1110.12 208.866 1106.51 Q208.866 1102.9 206.528 1100.79 Q204.19 1098.68 200.186 1098.68 Q198.311 1098.68 196.436 1099.1 Q194.584 1099.52 192.639 1100.4 L192.639 1083.04 Z\" fill=\"#000000\" fill-rule=\"nonzero\" fill-opacity=\"1\" /><path clip-path=\"url(#clip140)\" d=\"M126.205 800.034 Q122.593 800.034 120.765 803.599 Q118.959 807.141 118.959 814.27 Q118.959 821.377 120.765 824.941 Q122.593 828.483 126.205 828.483 Q129.839 828.483 131.644 824.941 Q133.473 821.377 133.473 814.27 Q133.473 807.141 131.644 803.599 Q129.839 800.034 126.205 800.034 M126.205 796.33 Q132.015 796.33 135.07 800.937 Q138.149 805.52 138.149 814.27 Q138.149 822.997 135.07 827.603 Q132.015 832.187 126.205 832.187 Q120.394 832.187 117.316 827.603 Q114.26 822.997 114.26 814.27 Q114.26 805.52 117.316 800.937 Q120.394 796.33 126.205 796.33 Z\" fill=\"#000000\" fill-rule=\"nonzero\" fill-opacity=\"1\" /><path clip-path=\"url(#clip140)\" d=\"M146.366 825.636 L151.251 825.636 L151.251 831.515 L146.366 831.515 L146.366 825.636 Z\" fill=\"#000000\" fill-rule=\"nonzero\" fill-opacity=\"1\" /><path clip-path=\"url(#clip140)\" d=\"M161.482 796.955 L179.839 796.955 L179.839 800.891 L165.765 800.891 L165.765 809.363 Q166.783 809.016 167.802 808.854 Q168.82 808.668 169.839 808.668 Q175.626 808.668 179.005 811.84 Q182.385 815.011 182.385 820.428 Q182.385 826.006 178.913 829.108 Q175.44 832.187 169.121 832.187 Q166.945 832.187 164.677 831.816 Q162.431 831.446 160.024 830.705 L160.024 826.006 Q162.107 827.14 164.329 827.696 Q166.552 828.252 169.028 828.252 Q173.033 828.252 175.371 826.145 Q177.709 824.039 177.709 820.428 Q177.709 816.816 175.371 814.71 Q173.033 812.604 169.028 812.604 Q167.153 812.604 165.278 813.02 Q163.427 813.437 161.482 814.316 L161.482 796.955 Z\" fill=\"#000000\" fill-rule=\"nonzero\" fill-opacity=\"1\" /><path clip-path=\"url(#clip140)\" d=\"M201.598 800.034 Q197.987 800.034 196.158 803.599 Q194.352 807.141 194.352 814.27 Q194.352 821.377 196.158 824.941 Q197.987 828.483 201.598 828.483 Q205.232 828.483 207.037 824.941 Q208.866 821.377 208.866 814.27 Q208.866 807.141 207.037 803.599 Q205.232 800.034 201.598 800.034 M201.598 796.33 Q207.408 796.33 210.463 800.937 Q213.542 805.52 213.542 814.27 Q213.542 822.997 210.463 827.603 Q207.408 832.187 201.598 832.187 Q195.787 832.187 192.709 827.603 Q189.653 822.997 189.653 814.27 Q189.653 805.52 192.709 800.937 Q195.787 796.33 201.598 796.33 Z\" fill=\"#000000\" fill-rule=\"nonzero\" fill-opacity=\"1\" /><path clip-path=\"url(#clip140)\" d=\"M127.2 513.954 Q123.589 513.954 121.76 517.519 Q119.955 521.06 119.955 528.19 Q119.955 535.296 121.76 538.861 Q123.589 542.403 127.2 542.403 Q130.834 542.403 132.64 538.861 Q134.468 535.296 134.468 528.19 Q134.468 521.06 132.64 517.519 Q130.834 513.954 127.2 513.954 M127.2 510.25 Q133.01 510.25 136.066 514.857 Q139.144 519.44 139.144 528.19 Q139.144 536.917 136.066 541.523 Q133.01 546.107 127.2 546.107 Q121.39 546.107 118.311 541.523 Q115.256 536.917 115.256 528.19 Q115.256 519.44 118.311 514.857 Q121.39 510.25 127.2 510.25 Z\" fill=\"#000000\" fill-rule=\"nonzero\" fill-opacity=\"1\" /><path clip-path=\"url(#clip140)\" d=\"M147.362 539.556 L152.246 539.556 L152.246 545.435 L147.362 545.435 L147.362 539.556 Z\" fill=\"#000000\" fill-rule=\"nonzero\" fill-opacity=\"1\" /><path clip-path=\"url(#clip140)\" d=\"M161.251 510.875 L183.473 510.875 L183.473 512.866 L170.927 545.435 L166.042 545.435 L177.848 514.81 L161.251 514.81 L161.251 510.875 Z\" fill=\"#000000\" fill-rule=\"nonzero\" fill-opacity=\"1\" /><path clip-path=\"url(#clip140)\" d=\"M192.639 510.875 L210.996 510.875 L210.996 514.81 L196.922 514.81 L196.922 523.283 Q197.94 522.935 198.959 522.773 Q199.977 522.588 200.996 522.588 Q206.783 522.588 210.162 525.76 Q213.542 528.931 213.542 534.347 Q213.542 539.926 210.07 543.028 Q206.598 546.107 200.278 546.107 Q198.102 546.107 195.834 545.736 Q193.588 545.366 191.181 544.625 L191.181 539.926 Q193.264 541.06 195.487 541.616 Q197.709 542.171 200.186 542.171 Q204.19 542.171 206.528 540.065 Q208.866 537.959 208.866 534.347 Q208.866 530.736 206.528 528.63 Q204.19 526.523 200.186 526.523 Q198.311 526.523 196.436 526.94 Q194.584 527.357 192.639 528.236 L192.639 510.875 Z\" fill=\"#000000\" fill-rule=\"nonzero\" fill-opacity=\"1\" /><path clip-path=\"url(#clip140)\" d=\"M117.015 255.42 L124.654 255.42 L124.654 229.054 L116.343 230.721 L116.343 226.462 L124.607 224.795 L129.283 224.795 L129.283 255.42 L136.922 255.42 L136.922 259.355 L117.015 259.355 L117.015 255.42 Z\" fill=\"#000000\" fill-rule=\"nonzero\" fill-opacity=\"1\" /><path clip-path=\"url(#clip140)\" d=\"M146.366 253.476 L151.251 253.476 L151.251 259.355 L146.366 259.355 L146.366 253.476 Z\" fill=\"#000000\" fill-rule=\"nonzero\" fill-opacity=\"1\" /><path clip-path=\"url(#clip140)\" d=\"M171.436 227.874 Q167.825 227.874 165.996 231.439 Q164.19 234.98 164.19 242.11 Q164.19 249.216 165.996 252.781 Q167.825 256.323 171.436 256.323 Q175.07 256.323 176.876 252.781 Q178.704 249.216 178.704 242.11 Q178.704 234.98 176.876 231.439 Q175.07 227.874 171.436 227.874 M171.436 224.17 Q177.246 224.17 180.301 228.777 Q183.38 233.36 183.38 242.11 Q183.38 250.837 180.301 255.443 Q177.246 260.027 171.436 260.027 Q165.626 260.027 162.547 255.443 Q159.491 250.837 159.491 242.11 Q159.491 233.36 162.547 228.777 Q165.626 224.17 171.436 224.17 Z\" fill=\"#000000\" fill-rule=\"nonzero\" fill-opacity=\"1\" /><path clip-path=\"url(#clip140)\" d=\"M201.598 227.874 Q197.987 227.874 196.158 231.439 Q194.352 234.98 194.352 242.11 Q194.352 249.216 196.158 252.781 Q197.987 256.323 201.598 256.323 Q205.232 256.323 207.037 252.781 Q208.866 249.216 208.866 242.11 Q208.866 234.98 207.037 231.439 Q205.232 227.874 201.598 227.874 M201.598 224.17 Q207.408 224.17 210.463 228.777 Q213.542 233.36 213.542 242.11 Q213.542 250.837 210.463 255.443 Q207.408 260.027 201.598 260.027 Q195.787 260.027 192.709 255.443 Q189.653 250.837 189.653 242.11 Q189.653 233.36 192.709 228.777 Q195.787 224.17 201.598 224.17 Z\" fill=\"#000000\" fill-rule=\"nonzero\" fill-opacity=\"1\" /><path clip-path=\"url(#clip140)\" d=\"M29.7248 847.566 L35.1993 847.566 Q33.8307 850.049 33.1623 852.563 Q32.4621 855.046 32.4621 857.592 Q32.4621 863.289 36.0905 866.44 Q39.6872 869.591 46.212 869.591 Q52.7369 869.591 56.3653 866.44 Q59.9619 863.289 59.9619 857.592 Q59.9619 855.046 59.2935 852.563 Q58.5933 850.049 57.2247 847.566 L62.6355 847.566 Q63.7814 850.017 64.3543 852.659 Q64.9272 855.269 64.9272 858.229 Q64.9272 866.281 59.8664 871.024 Q54.8057 875.766 46.212 875.766 Q37.491 875.766 32.4939 870.992 Q27.4968 866.186 27.4968 857.847 Q27.4968 855.141 28.0697 852.563 Q28.6108 849.985 29.7248 847.566 Z\" fill=\"#000000\" fill-rule=\"nonzero\" fill-opacity=\"1\" /><path clip-path=\"url(#clip140)\" d=\"M74.8259 810.295 L79.3773 810.295 L79.3773 844.16 L74.8259 844.16 L74.8259 810.295 Z\" fill=\"#000000\" fill-rule=\"nonzero\" fill-opacity=\"1\" /><path clip-path=\"url(#clip140)\" d=\"M20.7174 790.211 Q20.7174 795.176 25.6189 797.691 Q30.4887 800.173 40.2919 800.173 Q50.0633 800.173 54.9649 797.691 Q59.8346 795.176 59.8346 790.211 Q59.8346 785.214 54.9649 782.731 Q50.0633 780.217 40.2919 780.217 Q30.4887 780.217 25.6189 782.731 Q20.7174 785.214 20.7174 790.211 M15.6248 790.211 Q15.6248 782.222 21.9587 778.021 Q28.2607 773.787 40.2919 773.787 Q52.2913 773.787 58.6251 778.021 Q64.9272 782.222 64.9272 790.211 Q64.9272 798.2 58.6251 802.433 Q52.2913 806.635 40.2919 806.635 Q28.2607 806.635 21.9587 802.433 Q15.6248 798.2 15.6248 790.211 Z\" fill=\"#000000\" fill-rule=\"nonzero\" fill-opacity=\"1\" /><path clip-path=\"url(#clip140)\" d=\"M14.5426 749.248 Q21.8632 753.513 29.0246 755.582 Q36.186 757.65 43.5384 757.65 Q50.8908 757.65 58.1159 755.582 Q65.3091 753.481 72.5979 749.248 L72.5979 754.34 Q65.1182 759.115 57.8931 761.502 Q50.668 763.857 43.5384 763.857 Q36.4406 763.857 29.2474 761.502 Q22.0542 759.146 14.5426 754.34 L14.5426 749.248 Z\" fill=\"#000000\" fill-rule=\"nonzero\" fill-opacity=\"1\" /><path clip-path=\"url(#clip140)\" d=\"M28.3562 741.291 L28.3562 735.434 L56.1743 728.114 L28.3562 720.825 L28.3562 713.918 L56.1743 706.597 L28.3562 699.309 L28.3562 693.452 L64.0042 702.778 L64.0042 709.685 L34.7856 717.356 L64.0042 725.058 L64.0042 731.965 L28.3562 741.291 Z\" fill=\"#000000\" fill-rule=\"nonzero\" fill-opacity=\"1\" /><path clip-path=\"url(#clip140)\" d=\"M14.5426 685.495 L14.5426 680.403 Q22.0542 675.628 29.2474 673.273 Q36.4406 670.886 43.5384 670.886 Q50.668 670.886 57.8931 673.273 Q65.1182 675.628 72.5979 680.403 L72.5979 685.495 Q65.3091 681.262 58.1159 679.193 Q50.8908 677.092 43.5384 677.092 Q36.186 677.092 29.0246 679.193 Q21.8632 681.262 14.5426 685.495 Z\" fill=\"#000000\" fill-rule=\"nonzero\" fill-opacity=\"1\" /><path clip-path=\"url(#clip140)\" d=\"M1057.91 12.096 L1066.1 12.096 L1066.1 72.576 L1057.91 72.576 L1057.91 12.096 Z\" fill=\"#000000\" fill-rule=\"nonzero\" fill-opacity=\"1\" /><path clip-path=\"url(#clip140)\" d=\"M1119.77 45.1919 L1119.77 72.576 L1112.32 72.576 L1112.32 45.4349 Q1112.32 38.994 1109.8 35.7938 Q1107.29 32.5936 1102.27 32.5936 Q1096.23 32.5936 1092.75 36.4419 Q1089.27 40.2903 1089.27 46.9338 L1089.27 72.576 L1081.77 72.576 L1081.77 27.2059 L1089.27 27.2059 L1089.27 34.2544 Q1091.94 30.163 1095.55 28.1376 Q1099.19 26.1121 1103.93 26.1121 Q1111.75 26.1121 1115.76 30.9732 Q1119.77 35.7938 1119.77 45.1919 Z\" fill=\"#000000\" fill-rule=\"nonzero\" fill-opacity=\"1\" /><path clip-path=\"url(#clip140)\" d=\"M1134.64 27.2059 L1142.09 27.2059 L1142.09 72.576 L1134.64 72.576 L1134.64 27.2059 M1134.64 9.54393 L1142.09 9.54393 L1142.09 18.9825 L1134.64 18.9825 L1134.64 9.54393 Z\" fill=\"#000000\" fill-rule=\"nonzero\" fill-opacity=\"1\" /><path clip-path=\"url(#clip140)\" d=\"M1165.06 14.324 L1165.06 27.2059 L1180.41 27.2059 L1180.41 32.9987 L1165.06 32.9987 L1165.06 57.6282 Q1165.06 63.1779 1166.56 64.7578 Q1168.1 66.3376 1172.76 66.3376 L1180.41 66.3376 L1180.41 72.576 L1172.76 72.576 Q1164.13 72.576 1160.85 69.3758 Q1157.56 66.1351 1157.56 57.6282 L1157.56 32.9987 L1152.1 32.9987 L1152.1 27.2059 L1157.56 27.2059 L1157.56 14.324 L1165.06 14.324 Z\" fill=\"#000000\" fill-rule=\"nonzero\" fill-opacity=\"1\" /><path clip-path=\"url(#clip140)\" d=\"M1190.21 27.2059 L1197.67 27.2059 L1197.67 72.576 L1190.21 72.576 L1190.21 27.2059 M1190.21 9.54393 L1197.67 9.54393 L1197.67 18.9825 L1190.21 18.9825 L1190.21 9.54393 Z\" fill=\"#000000\" fill-rule=\"nonzero\" fill-opacity=\"1\" /><path clip-path=\"url(#clip140)\" d=\"M1233.88 49.7694 Q1224.85 49.7694 1221.37 51.8354 Q1217.88 53.9013 1217.88 58.8839 Q1217.88 62.8538 1220.48 65.2034 Q1223.11 67.5124 1227.6 67.5124 Q1233.8 67.5124 1237.53 63.1374 Q1241.3 58.7219 1241.3 51.4303 L1241.3 49.7694 L1233.88 49.7694 M1248.75 46.6907 L1248.75 72.576 L1241.3 72.576 L1241.3 65.6895 Q1238.74 69.8214 1234.94 71.8063 Q1231.13 73.7508 1225.62 73.7508 Q1218.65 73.7508 1214.52 69.8619 Q1210.43 65.9325 1210.43 59.3701 Q1210.43 51.7138 1215.53 47.825 Q1220.68 43.9361 1230.85 43.9361 L1241.3 43.9361 L1241.3 43.2069 Q1241.3 38.0623 1237.89 35.2672 Q1234.53 32.4315 1228.41 32.4315 Q1224.53 32.4315 1220.84 33.3632 Q1217.15 34.295 1213.75 36.1584 L1213.75 29.2718 Q1217.84 27.692 1221.69 26.9223 Q1225.54 26.1121 1229.18 26.1121 Q1239.03 26.1121 1243.89 31.2163 Q1248.75 36.3204 1248.75 46.6907 Z\" fill=\"#000000\" fill-rule=\"nonzero\" fill-opacity=\"1\" /><path clip-path=\"url(#clip140)\" d=\"M1264.1 9.54393 L1271.56 9.54393 L1271.56 72.576 L1264.1 72.576 L1264.1 9.54393 Z\" fill=\"#000000\" fill-rule=\"nonzero\" fill-opacity=\"1\" /><path clip-path=\"url(#clip140)\" d=\"M1343.38 49.3643 Q1343.38 41.2625 1340.02 36.8065 Q1336.7 32.3505 1330.66 32.3505 Q1324.66 32.3505 1321.3 36.8065 Q1317.98 41.2625 1317.98 49.3643 Q1317.98 57.4256 1321.3 61.8816 Q1324.66 66.3376 1330.66 66.3376 Q1336.7 66.3376 1340.02 61.8816 Q1343.38 57.4256 1343.38 49.3643 M1350.83 66.9452 Q1350.83 78.5308 1345.69 84.1616 Q1340.54 89.8329 1329.93 89.8329 Q1326 89.8329 1322.52 89.2252 Q1319.03 88.6581 1315.75 87.4428 L1315.75 80.1917 Q1319.03 81.9741 1322.23 82.8248 Q1325.43 83.6755 1328.76 83.6755 Q1336.09 83.6755 1339.73 79.8271 Q1343.38 76.0193 1343.38 68.282 L1343.38 64.5957 Q1341.07 68.6061 1337.47 70.5911 Q1333.86 72.576 1328.84 72.576 Q1320.49 72.576 1315.39 66.2161 Q1310.28 59.8562 1310.28 49.3643 Q1310.28 38.832 1315.39 32.472 Q1320.49 26.1121 1328.84 26.1121 Q1333.86 26.1121 1337.47 28.0971 Q1341.07 30.082 1343.38 34.0924 L1343.38 27.2059 L1350.83 27.2059 L1350.83 66.9452 Z\" fill=\"#000000\" fill-rule=\"nonzero\" fill-opacity=\"1\" /><path clip-path=\"url(#clip140)\" d=\"M1365.42 54.671 L1365.42 27.2059 L1372.87 27.2059 L1372.87 54.3874 Q1372.87 60.8284 1375.38 64.0691 Q1377.89 67.2693 1382.92 67.2693 Q1388.95 67.2693 1392.44 63.421 Q1395.96 59.5726 1395.96 52.9291 L1395.96 27.2059 L1403.41 27.2059 L1403.41 72.576 L1395.96 72.576 L1395.96 65.6084 Q1393.25 69.7404 1389.64 71.7658 Q1386.08 73.7508 1381.34 73.7508 Q1373.52 73.7508 1369.47 68.8897 Q1365.42 64.0286 1365.42 54.671 M1384.17 26.1121 L1384.17 26.1121 Z\" fill=\"#000000\" fill-rule=\"nonzero\" fill-opacity=\"1\" /><path clip-path=\"url(#clip140)\" d=\"M1457.57 48.0275 L1457.57 51.6733 L1423.3 51.6733 Q1423.79 59.3701 1427.92 63.421 Q1432.09 67.4314 1439.51 67.4314 Q1443.8 67.4314 1447.81 66.3781 Q1451.86 65.3249 1455.83 63.2184 L1455.83 70.267 Q1451.82 71.9684 1447.61 72.8596 Q1443.4 73.7508 1439.06 73.7508 Q1428.21 73.7508 1421.85 67.4314 Q1415.53 61.1119 1415.53 50.3365 Q1415.53 39.1965 1421.52 32.6746 Q1427.56 26.1121 1437.77 26.1121 Q1446.92 26.1121 1452.23 32.0264 Q1457.57 37.9003 1457.57 48.0275 M1450.12 45.84 Q1450.04 39.7232 1446.68 36.0774 Q1443.36 32.4315 1437.85 32.4315 Q1431.61 32.4315 1427.84 35.9558 Q1424.11 39.4801 1423.55 45.8805 L1450.12 45.84 Z\" fill=\"#000000\" fill-rule=\"nonzero\" fill-opacity=\"1\" /><path clip-path=\"url(#clip140)\" d=\"M1498.73 28.5427 L1498.73 35.5912 Q1495.57 33.9709 1492.17 33.1607 Q1488.77 32.3505 1485.12 32.3505 Q1479.57 32.3505 1476.78 34.0519 Q1474.02 35.7533 1474.02 39.156 Q1474.02 41.7486 1476.01 43.2475 Q1477.99 44.7058 1483.99 46.0426 L1486.54 46.6097 Q1494.48 48.3111 1497.8 51.4303 Q1501.16 54.509 1501.16 60.0587 Q1501.16 66.3781 1496.14 70.0644 Q1491.16 73.7508 1482.41 73.7508 Q1478.76 73.7508 1474.79 73.0216 Q1470.86 72.3329 1466.49 70.9151 L1466.49 63.2184 Q1470.62 65.3654 1474.63 66.4591 Q1478.64 67.5124 1482.57 67.5124 Q1487.83 67.5124 1490.67 65.73 Q1493.51 63.9071 1493.51 60.6258 Q1493.51 57.5877 1491.44 55.9673 Q1489.41 54.3469 1482.49 52.8481 L1479.9 52.2405 Q1472.97 50.7821 1469.89 47.7845 Q1466.81 44.7463 1466.81 39.4801 Q1466.81 33.0797 1471.35 29.5959 Q1475.88 26.1121 1484.23 26.1121 Q1488.36 26.1121 1492.01 26.7198 Q1495.65 27.3274 1498.73 28.5427 Z\" fill=\"#000000\" fill-rule=\"nonzero\" fill-opacity=\"1\" /><path clip-path=\"url(#clip140)\" d=\"M1541.95 28.5427 L1541.95 35.5912 Q1538.8 33.9709 1535.39 33.1607 Q1531.99 32.3505 1528.34 32.3505 Q1522.79 32.3505 1520 34.0519 Q1517.24 35.7533 1517.24 39.156 Q1517.24 41.7486 1519.23 43.2475 Q1521.21 44.7058 1527.21 46.0426 L1529.76 46.6097 Q1537.7 48.3111 1541.02 51.4303 Q1544.39 54.509 1544.39 60.0587 Q1544.39 66.3781 1539.36 70.0644 Q1534.38 73.7508 1525.63 73.7508 Q1521.98 73.7508 1518.01 73.0216 Q1514.08 72.3329 1509.71 70.9151 L1509.71 63.2184 Q1513.84 65.3654 1517.85 66.4591 Q1521.86 67.5124 1525.79 67.5124 Q1531.06 67.5124 1533.89 65.73 Q1536.73 63.9071 1536.73 60.6258 Q1536.73 57.5877 1534.66 55.9673 Q1532.64 54.3469 1525.71 52.8481 L1523.12 52.2405 Q1516.19 50.7821 1513.11 47.7845 Q1510.03 44.7463 1510.03 39.4801 Q1510.03 33.0797 1514.57 29.5959 Q1519.11 26.1121 1527.45 26.1121 Q1531.58 26.1121 1535.23 26.7198 Q1538.88 27.3274 1541.95 28.5427 Z\" fill=\"#000000\" fill-rule=\"nonzero\" fill-opacity=\"1\" /><polyline clip-path=\"url(#clip142)\" style=\"stroke:#000000; stroke-linecap:round; stroke-linejoin:round; stroke-width:4; stroke-opacity:1; fill:none\" points=\"249.542,1386.4 360.237,1085.26 470.933,784.122 581.628,482.985 692.324,295.768 803.019,286.734 913.715,277.7 1024.41,268.666 1135.11,259.632 1245.8,250.597 1356.5,241.563 1467.19,232.529 1577.89,223.495 1688.58,214.461 1799.28,205.427 1909.97,196.393 2020.67,187.359 2131.36,178.325 2242.06,169.29 2352.76,160.256 \"/>\n",
              "</svg>\n"
            ],
            "text/html": [
              "<?xml version=\"1.0\" encoding=\"utf-8\"?>\n",
              "<svg xmlns=\"http://www.w3.org/2000/svg\" xmlns:xlink=\"http://www.w3.org/1999/xlink\" width=\"600\" height=\"400\" viewBox=\"0 0 2400 1600\">\n",
              "<defs>\n",
              "  <clipPath id=\"clip190\">\n",
              "    <rect x=\"0\" y=\"0\" width=\"2400\" height=\"1600\"/>\n",
              "  </clipPath>\n",
              "</defs>\n",
              "<path clip-path=\"url(#clip190)\" d=\"M0 1600 L2400 1600 L2400 8.88178e-14 L0 8.88178e-14  Z\" fill=\"#ffffff\" fill-rule=\"evenodd\" fill-opacity=\"1\"/>\n",
              "<defs>\n",
              "  <clipPath id=\"clip191\">\n",
              "    <rect x=\"480\" y=\"0\" width=\"1681\" height=\"1600\"/>\n",
              "  </clipPath>\n",
              "</defs>\n",
              "<path clip-path=\"url(#clip190)\" d=\"M249.542 1423.18 L2352.76 1423.18 L2352.76 123.472 L249.542 123.472  Z\" fill=\"#ffffff\" fill-rule=\"evenodd\" fill-opacity=\"1\"/>\n",
              "<defs>\n",
              "  <clipPath id=\"clip192\">\n",
              "    <rect x=\"249\" y=\"123\" width=\"2104\" height=\"1301\"/>\n",
              "  </clipPath>\n",
              "</defs>\n",
              "<polyline clip-path=\"url(#clip192)\" style=\"stroke:#000000; stroke-linecap:round; stroke-linejoin:round; stroke-width:2; stroke-opacity:0.1; fill:none\" points=\"249.542,1423.18 249.542,123.472 \"/>\n",
              "<polyline clip-path=\"url(#clip192)\" style=\"stroke:#000000; stroke-linecap:round; stroke-linejoin:round; stroke-width:2; stroke-opacity:0.1; fill:none\" points=\"670.185,1423.18 670.185,123.472 \"/>\n",
              "<polyline clip-path=\"url(#clip192)\" style=\"stroke:#000000; stroke-linecap:round; stroke-linejoin:round; stroke-width:2; stroke-opacity:0.1; fill:none\" points=\"1090.83,1423.18 1090.83,123.472 \"/>\n",
              "<polyline clip-path=\"url(#clip192)\" style=\"stroke:#000000; stroke-linecap:round; stroke-linejoin:round; stroke-width:2; stroke-opacity:0.1; fill:none\" points=\"1511.47,1423.18 1511.47,123.472 \"/>\n",
              "<polyline clip-path=\"url(#clip192)\" style=\"stroke:#000000; stroke-linecap:round; stroke-linejoin:round; stroke-width:2; stroke-opacity:0.1; fill:none\" points=\"1932.11,1423.18 1932.11,123.472 \"/>\n",
              "<polyline clip-path=\"url(#clip192)\" style=\"stroke:#000000; stroke-linecap:round; stroke-linejoin:round; stroke-width:2; stroke-opacity:0.1; fill:none\" points=\"2352.76,1423.18 2352.76,123.472 \"/>\n",
              "<polyline clip-path=\"url(#clip190)\" style=\"stroke:#000000; stroke-linecap:round; stroke-linejoin:round; stroke-width:4; stroke-opacity:1; fill:none\" points=\"249.542,1423.18 2352.76,1423.18 \"/>\n",
              "<polyline clip-path=\"url(#clip190)\" style=\"stroke:#000000; stroke-linecap:round; stroke-linejoin:round; stroke-width:4; stroke-opacity:1; fill:none\" points=\"249.542,1423.18 249.542,1404.28 \"/>\n",
              "<polyline clip-path=\"url(#clip190)\" style=\"stroke:#000000; stroke-linecap:round; stroke-linejoin:round; stroke-width:4; stroke-opacity:1; fill:none\" points=\"670.185,1423.18 670.185,1404.28 \"/>\n",
              "<polyline clip-path=\"url(#clip190)\" style=\"stroke:#000000; stroke-linecap:round; stroke-linejoin:round; stroke-width:4; stroke-opacity:1; fill:none\" points=\"1090.83,1423.18 1090.83,1404.28 \"/>\n",
              "<polyline clip-path=\"url(#clip190)\" style=\"stroke:#000000; stroke-linecap:round; stroke-linejoin:round; stroke-width:4; stroke-opacity:1; fill:none\" points=\"1511.47,1423.18 1511.47,1404.28 \"/>\n",
              "<polyline clip-path=\"url(#clip190)\" style=\"stroke:#000000; stroke-linecap:round; stroke-linejoin:round; stroke-width:4; stroke-opacity:1; fill:none\" points=\"1932.11,1423.18 1932.11,1404.28 \"/>\n",
              "<polyline clip-path=\"url(#clip190)\" style=\"stroke:#000000; stroke-linecap:round; stroke-linejoin:round; stroke-width:4; stroke-opacity:1; fill:none\" points=\"2352.76,1423.18 2352.76,1404.28 \"/>\n",
              "<path clip-path=\"url(#clip190)\" d=\"M249.542 1454.1 Q245.931 1454.1 244.102 1457.66 Q242.297 1461.2 242.297 1468.33 Q242.297 1475.44 244.102 1479.01 Q245.931 1482.55 249.542 1482.55 Q253.176 1482.55 254.982 1479.01 Q256.811 1475.44 256.811 1468.33 Q256.811 1461.2 254.982 1457.66 Q253.176 1454.1 249.542 1454.1 M249.542 1450.39 Q255.352 1450.39 258.408 1455 Q261.486 1459.58 261.486 1468.33 Q261.486 1477.06 258.408 1481.67 Q255.352 1486.25 249.542 1486.25 Q243.732 1486.25 240.653 1481.67 Q237.598 1477.06 237.598 1468.33 Q237.598 1459.58 240.653 1455 Q243.732 1450.39 249.542 1450.39 Z\" fill=\"#000000\" fill-rule=\"nonzero\" fill-opacity=\"1\" /><path clip-path=\"url(#clip190)\" d=\"M660.567 1481.64 L668.206 1481.64 L668.206 1455.28 L659.896 1456.95 L659.896 1452.69 L668.159 1451.02 L672.835 1451.02 L672.835 1481.64 L680.474 1481.64 L680.474 1485.58 L660.567 1485.58 L660.567 1481.64 Z\" fill=\"#000000\" fill-rule=\"nonzero\" fill-opacity=\"1\" /><path clip-path=\"url(#clip190)\" d=\"M1085.48 1481.64 L1101.8 1481.64 L1101.8 1485.58 L1079.86 1485.58 L1079.86 1481.64 Q1082.52 1478.89 1087.1 1474.26 Q1091.71 1469.61 1092.89 1468.27 Q1095.13 1465.74 1096.01 1464.01 Q1096.92 1462.25 1096.92 1460.56 Q1096.92 1457.8 1094.97 1456.07 Q1093.05 1454.33 1089.95 1454.33 Q1087.75 1454.33 1085.3 1455.09 Q1082.86 1455.86 1080.09 1457.41 L1080.09 1452.69 Q1082.91 1451.55 1085.36 1450.97 Q1087.82 1450.39 1089.86 1450.39 Q1095.23 1450.39 1098.42 1453.08 Q1101.61 1455.77 1101.61 1460.26 Q1101.61 1462.39 1100.8 1464.31 Q1100.02 1466.2 1097.91 1468.8 Q1097.33 1469.47 1094.23 1472.69 Q1091.13 1475.88 1085.48 1481.64 Z\" fill=\"#000000\" fill-rule=\"nonzero\" fill-opacity=\"1\" /><path clip-path=\"url(#clip190)\" d=\"M1515.72 1466.95 Q1519.07 1467.66 1520.95 1469.93 Q1522.85 1472.2 1522.85 1475.53 Q1522.85 1480.65 1519.33 1483.45 Q1515.81 1486.25 1509.33 1486.25 Q1507.15 1486.25 1504.84 1485.81 Q1502.55 1485.39 1500.09 1484.54 L1500.09 1480.02 Q1502.04 1481.16 1504.35 1481.74 Q1506.67 1482.32 1509.19 1482.32 Q1513.59 1482.32 1515.88 1480.58 Q1518.19 1478.84 1518.19 1475.53 Q1518.19 1472.48 1516.04 1470.77 Q1513.91 1469.03 1510.09 1469.03 L1506.07 1469.03 L1506.07 1465.19 L1510.28 1465.19 Q1513.73 1465.19 1515.56 1463.82 Q1517.38 1462.43 1517.38 1459.84 Q1517.38 1457.18 1515.49 1455.77 Q1513.61 1454.33 1510.09 1454.33 Q1508.17 1454.33 1505.97 1454.75 Q1503.77 1455.16 1501.13 1456.04 L1501.13 1451.88 Q1503.8 1451.14 1506.11 1450.77 Q1508.45 1450.39 1510.51 1450.39 Q1515.83 1450.39 1518.94 1452.83 Q1522.04 1455.23 1522.04 1459.35 Q1522.04 1462.22 1520.39 1464.21 Q1518.75 1466.18 1515.72 1466.95 Z\" fill=\"#000000\" fill-rule=\"nonzero\" fill-opacity=\"1\" /><path clip-path=\"url(#clip190)\" d=\"M1935.12 1455.09 L1923.32 1473.54 L1935.12 1473.54 L1935.12 1455.09 M1933.9 1451.02 L1939.78 1451.02 L1939.78 1473.54 L1944.71 1473.54 L1944.71 1477.43 L1939.78 1477.43 L1939.78 1485.58 L1935.12 1485.58 L1935.12 1477.43 L1919.52 1477.43 L1919.52 1472.92 L1933.9 1451.02 Z\" fill=\"#000000\" fill-rule=\"nonzero\" fill-opacity=\"1\" /><path clip-path=\"url(#clip190)\" d=\"M2343.03 1451.02 L2361.39 1451.02 L2361.39 1454.96 L2347.32 1454.96 L2347.32 1463.43 Q2348.33 1463.08 2349.35 1462.92 Q2350.37 1462.73 2351.39 1462.73 Q2357.18 1462.73 2360.56 1465.9 Q2363.94 1469.08 2363.94 1474.49 Q2363.94 1480.07 2360.46 1483.17 Q2356.99 1486.25 2350.67 1486.25 Q2348.5 1486.25 2346.23 1485.88 Q2343.98 1485.51 2341.58 1484.77 L2341.58 1480.07 Q2343.66 1481.2 2345.88 1481.76 Q2348.1 1482.32 2350.58 1482.32 Q2354.58 1482.32 2356.92 1480.21 Q2359.26 1478.1 2359.26 1474.49 Q2359.26 1470.88 2356.92 1468.77 Q2354.58 1466.67 2350.58 1466.67 Q2348.71 1466.67 2346.83 1467.08 Q2344.98 1467.5 2343.03 1468.38 L2343.03 1451.02 Z\" fill=\"#000000\" fill-rule=\"nonzero\" fill-opacity=\"1\" /><path clip-path=\"url(#clip190)\" d=\"M1277.23 1532.4 L1283.09 1532.4 L1290.41 1560.21 L1297.7 1532.4 L1304.6 1532.4 L1311.92 1560.21 L1319.21 1532.4 L1325.07 1532.4 L1315.74 1568.04 L1308.84 1568.04 L1301.16 1538.83 L1293.46 1568.04 L1286.56 1568.04 L1277.23 1532.4 Z\" fill=\"#000000\" fill-rule=\"nonzero\" fill-opacity=\"1\" /><polyline clip-path=\"url(#clip192)\" style=\"stroke:#000000; stroke-linecap:round; stroke-linejoin:round; stroke-width:2; stroke-opacity:0.1; fill:none\" points=\"249.542,1386.4 2352.76,1386.4 \"/>\n",
              "<polyline clip-path=\"url(#clip192)\" style=\"stroke:#000000; stroke-linecap:round; stroke-linejoin:round; stroke-width:2; stroke-opacity:0.1; fill:none\" points=\"249.542,1100.32 2352.76,1100.32 \"/>\n",
              "<polyline clip-path=\"url(#clip192)\" style=\"stroke:#000000; stroke-linecap:round; stroke-linejoin:round; stroke-width:2; stroke-opacity:0.1; fill:none\" points=\"249.542,814.235 2352.76,814.235 \"/>\n",
              "<polyline clip-path=\"url(#clip192)\" style=\"stroke:#000000; stroke-linecap:round; stroke-linejoin:round; stroke-width:2; stroke-opacity:0.1; fill:none\" points=\"249.542,528.155 2352.76,528.155 \"/>\n",
              "<polyline clip-path=\"url(#clip192)\" style=\"stroke:#000000; stroke-linecap:round; stroke-linejoin:round; stroke-width:2; stroke-opacity:0.1; fill:none\" points=\"249.542,242.075 2352.76,242.075 \"/>\n",
              "<polyline clip-path=\"url(#clip190)\" style=\"stroke:#000000; stroke-linecap:round; stroke-linejoin:round; stroke-width:4; stroke-opacity:1; fill:none\" points=\"249.542,1423.18 249.542,123.472 \"/>\n",
              "<polyline clip-path=\"url(#clip190)\" style=\"stroke:#000000; stroke-linecap:round; stroke-linejoin:round; stroke-width:4; stroke-opacity:1; fill:none\" points=\"249.542,1386.4 268.44,1386.4 \"/>\n",
              "<polyline clip-path=\"url(#clip190)\" style=\"stroke:#000000; stroke-linecap:round; stroke-linejoin:round; stroke-width:4; stroke-opacity:1; fill:none\" points=\"249.542,1100.32 268.44,1100.32 \"/>\n",
              "<polyline clip-path=\"url(#clip190)\" style=\"stroke:#000000; stroke-linecap:round; stroke-linejoin:round; stroke-width:4; stroke-opacity:1; fill:none\" points=\"249.542,814.235 268.44,814.235 \"/>\n",
              "<polyline clip-path=\"url(#clip190)\" style=\"stroke:#000000; stroke-linecap:round; stroke-linejoin:round; stroke-width:4; stroke-opacity:1; fill:none\" points=\"249.542,528.155 268.44,528.155 \"/>\n",
              "<polyline clip-path=\"url(#clip190)\" style=\"stroke:#000000; stroke-linecap:round; stroke-linejoin:round; stroke-width:4; stroke-opacity:1; fill:none\" points=\"249.542,242.075 268.44,242.075 \"/>\n",
              "<path clip-path=\"url(#clip190)\" d=\"M126.205 1372.19 Q122.593 1372.19 120.765 1375.76 Q118.959 1379.3 118.959 1386.43 Q118.959 1393.54 120.765 1397.1 Q122.593 1400.64 126.205 1400.64 Q129.839 1400.64 131.644 1397.1 Q133.473 1393.54 133.473 1386.43 Q133.473 1379.3 131.644 1375.76 Q129.839 1372.19 126.205 1372.19 M126.205 1368.49 Q132.015 1368.49 135.07 1373.1 Q138.149 1377.68 138.149 1386.43 Q138.149 1395.16 135.07 1399.76 Q132.015 1404.35 126.205 1404.35 Q120.394 1404.35 117.316 1399.76 Q114.26 1395.16 114.26 1386.43 Q114.26 1377.68 117.316 1373.1 Q120.394 1368.49 126.205 1368.49 Z\" fill=\"#000000\" fill-rule=\"nonzero\" fill-opacity=\"1\" /><path clip-path=\"url(#clip190)\" d=\"M146.366 1397.8 L151.251 1397.8 L151.251 1403.68 L146.366 1403.68 L146.366 1397.8 Z\" fill=\"#000000\" fill-rule=\"nonzero\" fill-opacity=\"1\" /><path clip-path=\"url(#clip190)\" d=\"M171.436 1372.19 Q167.825 1372.19 165.996 1375.76 Q164.19 1379.3 164.19 1386.43 Q164.19 1393.54 165.996 1397.1 Q167.825 1400.64 171.436 1400.64 Q175.07 1400.64 176.876 1397.1 Q178.704 1393.54 178.704 1386.43 Q178.704 1379.3 176.876 1375.76 Q175.07 1372.19 171.436 1372.19 M171.436 1368.49 Q177.246 1368.49 180.301 1373.1 Q183.38 1377.68 183.38 1386.43 Q183.38 1395.16 180.301 1399.76 Q177.246 1404.35 171.436 1404.35 Q165.626 1404.35 162.547 1399.76 Q159.491 1395.16 159.491 1386.43 Q159.491 1377.68 162.547 1373.1 Q165.626 1368.49 171.436 1368.49 Z\" fill=\"#000000\" fill-rule=\"nonzero\" fill-opacity=\"1\" /><path clip-path=\"url(#clip190)\" d=\"M201.598 1372.19 Q197.987 1372.19 196.158 1375.76 Q194.352 1379.3 194.352 1386.43 Q194.352 1393.54 196.158 1397.1 Q197.987 1400.64 201.598 1400.64 Q205.232 1400.64 207.037 1397.1 Q208.866 1393.54 208.866 1386.43 Q208.866 1379.3 207.037 1375.76 Q205.232 1372.19 201.598 1372.19 M201.598 1368.49 Q207.408 1368.49 210.463 1373.1 Q213.542 1377.68 213.542 1386.43 Q213.542 1395.16 210.463 1399.76 Q207.408 1404.35 201.598 1404.35 Q195.787 1404.35 192.709 1399.76 Q189.653 1395.16 189.653 1386.43 Q189.653 1377.68 192.709 1373.1 Q195.787 1368.49 201.598 1368.49 Z\" fill=\"#000000\" fill-rule=\"nonzero\" fill-opacity=\"1\" /><path clip-path=\"url(#clip190)\" d=\"M127.2 1086.11 Q123.589 1086.11 121.76 1089.68 Q119.955 1093.22 119.955 1100.35 Q119.955 1107.46 121.76 1111.02 Q123.589 1114.56 127.2 1114.56 Q130.834 1114.56 132.64 1111.02 Q134.468 1107.46 134.468 1100.35 Q134.468 1093.22 132.64 1089.68 Q130.834 1086.11 127.2 1086.11 M127.2 1082.41 Q133.01 1082.41 136.066 1087.02 Q139.144 1091.6 139.144 1100.35 Q139.144 1109.08 136.066 1113.68 Q133.01 1118.27 127.2 1118.27 Q121.39 1118.27 118.311 1113.68 Q115.256 1109.08 115.256 1100.35 Q115.256 1091.6 118.311 1087.02 Q121.39 1082.41 127.2 1082.41 Z\" fill=\"#000000\" fill-rule=\"nonzero\" fill-opacity=\"1\" /><path clip-path=\"url(#clip190)\" d=\"M147.362 1111.72 L152.246 1111.72 L152.246 1117.6 L147.362 1117.6 L147.362 1111.72 Z\" fill=\"#000000\" fill-rule=\"nonzero\" fill-opacity=\"1\" /><path clip-path=\"url(#clip190)\" d=\"M166.459 1113.66 L182.778 1113.66 L182.778 1117.6 L160.834 1117.6 L160.834 1113.66 Q163.496 1110.91 168.079 1106.28 Q172.686 1101.62 173.866 1100.28 Q176.112 1097.76 176.991 1096.02 Q177.894 1094.26 177.894 1092.57 Q177.894 1089.82 175.95 1088.08 Q174.028 1086.35 170.927 1086.35 Q168.727 1086.35 166.274 1087.11 Q163.843 1087.87 161.065 1089.42 L161.065 1084.7 Q163.89 1083.57 166.343 1082.99 Q168.797 1082.41 170.834 1082.41 Q176.204 1082.41 179.399 1085.1 Q182.593 1087.78 182.593 1092.27 Q182.593 1094.4 181.783 1096.32 Q180.996 1098.22 178.889 1100.81 Q178.311 1101.48 175.209 1104.7 Q172.107 1107.9 166.459 1113.66 Z\" fill=\"#000000\" fill-rule=\"nonzero\" fill-opacity=\"1\" /><path clip-path=\"url(#clip190)\" d=\"M192.639 1083.04 L210.996 1083.04 L210.996 1086.97 L196.922 1086.97 L196.922 1095.44 Q197.94 1095.1 198.959 1094.93 Q199.977 1094.75 200.996 1094.75 Q206.783 1094.75 210.162 1097.92 Q213.542 1101.09 213.542 1106.51 Q213.542 1112.09 210.07 1115.19 Q206.598 1118.27 200.278 1118.27 Q198.102 1118.27 195.834 1117.9 Q193.588 1117.53 191.181 1116.79 L191.181 1112.09 Q193.264 1113.22 195.487 1113.78 Q197.709 1114.33 200.186 1114.33 Q204.19 1114.33 206.528 1112.23 Q208.866 1110.12 208.866 1106.51 Q208.866 1102.9 206.528 1100.79 Q204.19 1098.68 200.186 1098.68 Q198.311 1098.68 196.436 1099.1 Q194.584 1099.52 192.639 1100.4 L192.639 1083.04 Z\" fill=\"#000000\" fill-rule=\"nonzero\" fill-opacity=\"1\" /><path clip-path=\"url(#clip190)\" d=\"M126.205 800.034 Q122.593 800.034 120.765 803.599 Q118.959 807.141 118.959 814.27 Q118.959 821.377 120.765 824.941 Q122.593 828.483 126.205 828.483 Q129.839 828.483 131.644 824.941 Q133.473 821.377 133.473 814.27 Q133.473 807.141 131.644 803.599 Q129.839 800.034 126.205 800.034 M126.205 796.33 Q132.015 796.33 135.07 800.937 Q138.149 805.52 138.149 814.27 Q138.149 822.997 135.07 827.603 Q132.015 832.187 126.205 832.187 Q120.394 832.187 117.316 827.603 Q114.26 822.997 114.26 814.27 Q114.26 805.52 117.316 800.937 Q120.394 796.33 126.205 796.33 Z\" fill=\"#000000\" fill-rule=\"nonzero\" fill-opacity=\"1\" /><path clip-path=\"url(#clip190)\" d=\"M146.366 825.636 L151.251 825.636 L151.251 831.515 L146.366 831.515 L146.366 825.636 Z\" fill=\"#000000\" fill-rule=\"nonzero\" fill-opacity=\"1\" /><path clip-path=\"url(#clip190)\" d=\"M161.482 796.955 L179.839 796.955 L179.839 800.891 L165.765 800.891 L165.765 809.363 Q166.783 809.016 167.802 808.854 Q168.82 808.668 169.839 808.668 Q175.626 808.668 179.005 811.84 Q182.385 815.011 182.385 820.428 Q182.385 826.006 178.913 829.108 Q175.44 832.187 169.121 832.187 Q166.945 832.187 164.677 831.816 Q162.431 831.446 160.024 830.705 L160.024 826.006 Q162.107 827.14 164.329 827.696 Q166.552 828.252 169.028 828.252 Q173.033 828.252 175.371 826.145 Q177.709 824.039 177.709 820.428 Q177.709 816.816 175.371 814.71 Q173.033 812.604 169.028 812.604 Q167.153 812.604 165.278 813.02 Q163.427 813.437 161.482 814.316 L161.482 796.955 Z\" fill=\"#000000\" fill-rule=\"nonzero\" fill-opacity=\"1\" /><path clip-path=\"url(#clip190)\" d=\"M201.598 800.034 Q197.987 800.034 196.158 803.599 Q194.352 807.141 194.352 814.27 Q194.352 821.377 196.158 824.941 Q197.987 828.483 201.598 828.483 Q205.232 828.483 207.037 824.941 Q208.866 821.377 208.866 814.27 Q208.866 807.141 207.037 803.599 Q205.232 800.034 201.598 800.034 M201.598 796.33 Q207.408 796.33 210.463 800.937 Q213.542 805.52 213.542 814.27 Q213.542 822.997 210.463 827.603 Q207.408 832.187 201.598 832.187 Q195.787 832.187 192.709 827.603 Q189.653 822.997 189.653 814.27 Q189.653 805.52 192.709 800.937 Q195.787 796.33 201.598 796.33 Z\" fill=\"#000000\" fill-rule=\"nonzero\" fill-opacity=\"1\" /><path clip-path=\"url(#clip190)\" d=\"M127.2 513.954 Q123.589 513.954 121.76 517.519 Q119.955 521.06 119.955 528.19 Q119.955 535.296 121.76 538.861 Q123.589 542.403 127.2 542.403 Q130.834 542.403 132.64 538.861 Q134.468 535.296 134.468 528.19 Q134.468 521.06 132.64 517.519 Q130.834 513.954 127.2 513.954 M127.2 510.25 Q133.01 510.25 136.066 514.857 Q139.144 519.44 139.144 528.19 Q139.144 536.917 136.066 541.523 Q133.01 546.107 127.2 546.107 Q121.39 546.107 118.311 541.523 Q115.256 536.917 115.256 528.19 Q115.256 519.44 118.311 514.857 Q121.39 510.25 127.2 510.25 Z\" fill=\"#000000\" fill-rule=\"nonzero\" fill-opacity=\"1\" /><path clip-path=\"url(#clip190)\" d=\"M147.362 539.556 L152.246 539.556 L152.246 545.435 L147.362 545.435 L147.362 539.556 Z\" fill=\"#000000\" fill-rule=\"nonzero\" fill-opacity=\"1\" /><path clip-path=\"url(#clip190)\" d=\"M161.251 510.875 L183.473 510.875 L183.473 512.866 L170.927 545.435 L166.042 545.435 L177.848 514.81 L161.251 514.81 L161.251 510.875 Z\" fill=\"#000000\" fill-rule=\"nonzero\" fill-opacity=\"1\" /><path clip-path=\"url(#clip190)\" d=\"M192.639 510.875 L210.996 510.875 L210.996 514.81 L196.922 514.81 L196.922 523.283 Q197.94 522.935 198.959 522.773 Q199.977 522.588 200.996 522.588 Q206.783 522.588 210.162 525.76 Q213.542 528.931 213.542 534.347 Q213.542 539.926 210.07 543.028 Q206.598 546.107 200.278 546.107 Q198.102 546.107 195.834 545.736 Q193.588 545.366 191.181 544.625 L191.181 539.926 Q193.264 541.06 195.487 541.616 Q197.709 542.171 200.186 542.171 Q204.19 542.171 206.528 540.065 Q208.866 537.959 208.866 534.347 Q208.866 530.736 206.528 528.63 Q204.19 526.523 200.186 526.523 Q198.311 526.523 196.436 526.94 Q194.584 527.357 192.639 528.236 L192.639 510.875 Z\" fill=\"#000000\" fill-rule=\"nonzero\" fill-opacity=\"1\" /><path clip-path=\"url(#clip190)\" d=\"M117.015 255.42 L124.654 255.42 L124.654 229.054 L116.343 230.721 L116.343 226.462 L124.607 224.795 L129.283 224.795 L129.283 255.42 L136.922 255.42 L136.922 259.355 L117.015 259.355 L117.015 255.42 Z\" fill=\"#000000\" fill-rule=\"nonzero\" fill-opacity=\"1\" /><path clip-path=\"url(#clip190)\" d=\"M146.366 253.476 L151.251 253.476 L151.251 259.355 L146.366 259.355 L146.366 253.476 Z\" fill=\"#000000\" fill-rule=\"nonzero\" fill-opacity=\"1\" /><path clip-path=\"url(#clip190)\" d=\"M171.436 227.874 Q167.825 227.874 165.996 231.439 Q164.19 234.98 164.19 242.11 Q164.19 249.216 165.996 252.781 Q167.825 256.323 171.436 256.323 Q175.07 256.323 176.876 252.781 Q178.704 249.216 178.704 242.11 Q178.704 234.98 176.876 231.439 Q175.07 227.874 171.436 227.874 M171.436 224.17 Q177.246 224.17 180.301 228.777 Q183.38 233.36 183.38 242.11 Q183.38 250.837 180.301 255.443 Q177.246 260.027 171.436 260.027 Q165.626 260.027 162.547 255.443 Q159.491 250.837 159.491 242.11 Q159.491 233.36 162.547 228.777 Q165.626 224.17 171.436 224.17 Z\" fill=\"#000000\" fill-rule=\"nonzero\" fill-opacity=\"1\" /><path clip-path=\"url(#clip190)\" d=\"M201.598 227.874 Q197.987 227.874 196.158 231.439 Q194.352 234.98 194.352 242.11 Q194.352 249.216 196.158 252.781 Q197.987 256.323 201.598 256.323 Q205.232 256.323 207.037 252.781 Q208.866 249.216 208.866 242.11 Q208.866 234.98 207.037 231.439 Q205.232 227.874 201.598 227.874 M201.598 224.17 Q207.408 224.17 210.463 228.777 Q213.542 233.36 213.542 242.11 Q213.542 250.837 210.463 255.443 Q207.408 260.027 201.598 260.027 Q195.787 260.027 192.709 255.443 Q189.653 250.837 189.653 242.11 Q189.653 233.36 192.709 228.777 Q195.787 224.17 201.598 224.17 Z\" fill=\"#000000\" fill-rule=\"nonzero\" fill-opacity=\"1\" /><path clip-path=\"url(#clip190)\" d=\"M29.7248 847.566 L35.1993 847.566 Q33.8307 850.049 33.1623 852.563 Q32.4621 855.046 32.4621 857.592 Q32.4621 863.289 36.0905 866.44 Q39.6872 869.591 46.212 869.591 Q52.7369 869.591 56.3653 866.44 Q59.9619 863.289 59.9619 857.592 Q59.9619 855.046 59.2935 852.563 Q58.5933 850.049 57.2247 847.566 L62.6355 847.566 Q63.7814 850.017 64.3543 852.659 Q64.9272 855.269 64.9272 858.229 Q64.9272 866.281 59.8664 871.024 Q54.8057 875.766 46.212 875.766 Q37.491 875.766 32.4939 870.992 Q27.4968 866.186 27.4968 857.847 Q27.4968 855.141 28.0697 852.563 Q28.6108 849.985 29.7248 847.566 Z\" fill=\"#000000\" fill-rule=\"nonzero\" fill-opacity=\"1\" /><path clip-path=\"url(#clip190)\" d=\"M74.8259 810.295 L79.3773 810.295 L79.3773 844.16 L74.8259 844.16 L74.8259 810.295 Z\" fill=\"#000000\" fill-rule=\"nonzero\" fill-opacity=\"1\" /><path clip-path=\"url(#clip190)\" d=\"M20.7174 790.211 Q20.7174 795.176 25.6189 797.691 Q30.4887 800.173 40.2919 800.173 Q50.0633 800.173 54.9649 797.691 Q59.8346 795.176 59.8346 790.211 Q59.8346 785.214 54.9649 782.731 Q50.0633 780.217 40.2919 780.217 Q30.4887 780.217 25.6189 782.731 Q20.7174 785.214 20.7174 790.211 M15.6248 790.211 Q15.6248 782.222 21.9587 778.021 Q28.2607 773.787 40.2919 773.787 Q52.2913 773.787 58.6251 778.021 Q64.9272 782.222 64.9272 790.211 Q64.9272 798.2 58.6251 802.433 Q52.2913 806.635 40.2919 806.635 Q28.2607 806.635 21.9587 802.433 Q15.6248 798.2 15.6248 790.211 Z\" fill=\"#000000\" fill-rule=\"nonzero\" fill-opacity=\"1\" /><path clip-path=\"url(#clip190)\" d=\"M14.5426 749.248 Q21.8632 753.513 29.0246 755.582 Q36.186 757.65 43.5384 757.65 Q50.8908 757.65 58.1159 755.582 Q65.3091 753.481 72.5979 749.248 L72.5979 754.34 Q65.1182 759.115 57.8931 761.502 Q50.668 763.857 43.5384 763.857 Q36.4406 763.857 29.2474 761.502 Q22.0542 759.146 14.5426 754.34 L14.5426 749.248 Z\" fill=\"#000000\" fill-rule=\"nonzero\" fill-opacity=\"1\" /><path clip-path=\"url(#clip190)\" d=\"M28.3562 741.291 L28.3562 735.434 L56.1743 728.114 L28.3562 720.825 L28.3562 713.918 L56.1743 706.597 L28.3562 699.309 L28.3562 693.452 L64.0042 702.778 L64.0042 709.685 L34.7856 717.356 L64.0042 725.058 L64.0042 731.965 L28.3562 741.291 Z\" fill=\"#000000\" fill-rule=\"nonzero\" fill-opacity=\"1\" /><path clip-path=\"url(#clip190)\" d=\"M14.5426 685.495 L14.5426 680.403 Q22.0542 675.628 29.2474 673.273 Q36.4406 670.886 43.5384 670.886 Q50.668 670.886 57.8931 673.273 Q65.1182 675.628 72.5979 680.403 L72.5979 685.495 Q65.3091 681.262 58.1159 679.193 Q50.8908 677.092 43.5384 677.092 Q36.186 677.092 29.0246 679.193 Q21.8632 681.262 14.5426 685.495 Z\" fill=\"#000000\" fill-rule=\"nonzero\" fill-opacity=\"1\" /><path clip-path=\"url(#clip190)\" d=\"M1057.91 12.096 L1066.1 12.096 L1066.1 72.576 L1057.91 72.576 L1057.91 12.096 Z\" fill=\"#000000\" fill-rule=\"nonzero\" fill-opacity=\"1\" /><path clip-path=\"url(#clip190)\" d=\"M1119.77 45.1919 L1119.77 72.576 L1112.32 72.576 L1112.32 45.4349 Q1112.32 38.994 1109.8 35.7938 Q1107.29 32.5936 1102.27 32.5936 Q1096.23 32.5936 1092.75 36.4419 Q1089.27 40.2903 1089.27 46.9338 L1089.27 72.576 L1081.77 72.576 L1081.77 27.2059 L1089.27 27.2059 L1089.27 34.2544 Q1091.94 30.163 1095.55 28.1376 Q1099.19 26.1121 1103.93 26.1121 Q1111.75 26.1121 1115.76 30.9732 Q1119.77 35.7938 1119.77 45.1919 Z\" fill=\"#000000\" fill-rule=\"nonzero\" fill-opacity=\"1\" /><path clip-path=\"url(#clip190)\" d=\"M1134.64 27.2059 L1142.09 27.2059 L1142.09 72.576 L1134.64 72.576 L1134.64 27.2059 M1134.64 9.54393 L1142.09 9.54393 L1142.09 18.9825 L1134.64 18.9825 L1134.64 9.54393 Z\" fill=\"#000000\" fill-rule=\"nonzero\" fill-opacity=\"1\" /><path clip-path=\"url(#clip190)\" d=\"M1165.06 14.324 L1165.06 27.2059 L1180.41 27.2059 L1180.41 32.9987 L1165.06 32.9987 L1165.06 57.6282 Q1165.06 63.1779 1166.56 64.7578 Q1168.1 66.3376 1172.76 66.3376 L1180.41 66.3376 L1180.41 72.576 L1172.76 72.576 Q1164.13 72.576 1160.85 69.3758 Q1157.56 66.1351 1157.56 57.6282 L1157.56 32.9987 L1152.1 32.9987 L1152.1 27.2059 L1157.56 27.2059 L1157.56 14.324 L1165.06 14.324 Z\" fill=\"#000000\" fill-rule=\"nonzero\" fill-opacity=\"1\" /><path clip-path=\"url(#clip190)\" d=\"M1190.21 27.2059 L1197.67 27.2059 L1197.67 72.576 L1190.21 72.576 L1190.21 27.2059 M1190.21 9.54393 L1197.67 9.54393 L1197.67 18.9825 L1190.21 18.9825 L1190.21 9.54393 Z\" fill=\"#000000\" fill-rule=\"nonzero\" fill-opacity=\"1\" /><path clip-path=\"url(#clip190)\" d=\"M1233.88 49.7694 Q1224.85 49.7694 1221.37 51.8354 Q1217.88 53.9013 1217.88 58.8839 Q1217.88 62.8538 1220.48 65.2034 Q1223.11 67.5124 1227.6 67.5124 Q1233.8 67.5124 1237.53 63.1374 Q1241.3 58.7219 1241.3 51.4303 L1241.3 49.7694 L1233.88 49.7694 M1248.75 46.6907 L1248.75 72.576 L1241.3 72.576 L1241.3 65.6895 Q1238.74 69.8214 1234.94 71.8063 Q1231.13 73.7508 1225.62 73.7508 Q1218.65 73.7508 1214.52 69.8619 Q1210.43 65.9325 1210.43 59.3701 Q1210.43 51.7138 1215.53 47.825 Q1220.68 43.9361 1230.85 43.9361 L1241.3 43.9361 L1241.3 43.2069 Q1241.3 38.0623 1237.89 35.2672 Q1234.53 32.4315 1228.41 32.4315 Q1224.53 32.4315 1220.84 33.3632 Q1217.15 34.295 1213.75 36.1584 L1213.75 29.2718 Q1217.84 27.692 1221.69 26.9223 Q1225.54 26.1121 1229.18 26.1121 Q1239.03 26.1121 1243.89 31.2163 Q1248.75 36.3204 1248.75 46.6907 Z\" fill=\"#000000\" fill-rule=\"nonzero\" fill-opacity=\"1\" /><path clip-path=\"url(#clip190)\" d=\"M1264.1 9.54393 L1271.56 9.54393 L1271.56 72.576 L1264.1 72.576 L1264.1 9.54393 Z\" fill=\"#000000\" fill-rule=\"nonzero\" fill-opacity=\"1\" /><path clip-path=\"url(#clip190)\" d=\"M1343.38 49.3643 Q1343.38 41.2625 1340.02 36.8065 Q1336.7 32.3505 1330.66 32.3505 Q1324.66 32.3505 1321.3 36.8065 Q1317.98 41.2625 1317.98 49.3643 Q1317.98 57.4256 1321.3 61.8816 Q1324.66 66.3376 1330.66 66.3376 Q1336.7 66.3376 1340.02 61.8816 Q1343.38 57.4256 1343.38 49.3643 M1350.83 66.9452 Q1350.83 78.5308 1345.69 84.1616 Q1340.54 89.8329 1329.93 89.8329 Q1326 89.8329 1322.52 89.2252 Q1319.03 88.6581 1315.75 87.4428 L1315.75 80.1917 Q1319.03 81.9741 1322.23 82.8248 Q1325.43 83.6755 1328.76 83.6755 Q1336.09 83.6755 1339.73 79.8271 Q1343.38 76.0193 1343.38 68.282 L1343.38 64.5957 Q1341.07 68.6061 1337.47 70.5911 Q1333.86 72.576 1328.84 72.576 Q1320.49 72.576 1315.39 66.2161 Q1310.28 59.8562 1310.28 49.3643 Q1310.28 38.832 1315.39 32.472 Q1320.49 26.1121 1328.84 26.1121 Q1333.86 26.1121 1337.47 28.0971 Q1341.07 30.082 1343.38 34.0924 L1343.38 27.2059 L1350.83 27.2059 L1350.83 66.9452 Z\" fill=\"#000000\" fill-rule=\"nonzero\" fill-opacity=\"1\" /><path clip-path=\"url(#clip190)\" d=\"M1365.42 54.671 L1365.42 27.2059 L1372.87 27.2059 L1372.87 54.3874 Q1372.87 60.8284 1375.38 64.0691 Q1377.89 67.2693 1382.92 67.2693 Q1388.95 67.2693 1392.44 63.421 Q1395.96 59.5726 1395.96 52.9291 L1395.96 27.2059 L1403.41 27.2059 L1403.41 72.576 L1395.96 72.576 L1395.96 65.6084 Q1393.25 69.7404 1389.64 71.7658 Q1386.08 73.7508 1381.34 73.7508 Q1373.52 73.7508 1369.47 68.8897 Q1365.42 64.0286 1365.42 54.671 M1384.17 26.1121 L1384.17 26.1121 Z\" fill=\"#000000\" fill-rule=\"nonzero\" fill-opacity=\"1\" /><path clip-path=\"url(#clip190)\" d=\"M1457.57 48.0275 L1457.57 51.6733 L1423.3 51.6733 Q1423.79 59.3701 1427.92 63.421 Q1432.09 67.4314 1439.51 67.4314 Q1443.8 67.4314 1447.81 66.3781 Q1451.86 65.3249 1455.83 63.2184 L1455.83 70.267 Q1451.82 71.9684 1447.61 72.8596 Q1443.4 73.7508 1439.06 73.7508 Q1428.21 73.7508 1421.85 67.4314 Q1415.53 61.1119 1415.53 50.3365 Q1415.53 39.1965 1421.52 32.6746 Q1427.56 26.1121 1437.77 26.1121 Q1446.92 26.1121 1452.23 32.0264 Q1457.57 37.9003 1457.57 48.0275 M1450.12 45.84 Q1450.04 39.7232 1446.68 36.0774 Q1443.36 32.4315 1437.85 32.4315 Q1431.61 32.4315 1427.84 35.9558 Q1424.11 39.4801 1423.55 45.8805 L1450.12 45.84 Z\" fill=\"#000000\" fill-rule=\"nonzero\" fill-opacity=\"1\" /><path clip-path=\"url(#clip190)\" d=\"M1498.73 28.5427 L1498.73 35.5912 Q1495.57 33.9709 1492.17 33.1607 Q1488.77 32.3505 1485.12 32.3505 Q1479.57 32.3505 1476.78 34.0519 Q1474.02 35.7533 1474.02 39.156 Q1474.02 41.7486 1476.01 43.2475 Q1477.99 44.7058 1483.99 46.0426 L1486.54 46.6097 Q1494.48 48.3111 1497.8 51.4303 Q1501.16 54.509 1501.16 60.0587 Q1501.16 66.3781 1496.14 70.0644 Q1491.16 73.7508 1482.41 73.7508 Q1478.76 73.7508 1474.79 73.0216 Q1470.86 72.3329 1466.49 70.9151 L1466.49 63.2184 Q1470.62 65.3654 1474.63 66.4591 Q1478.64 67.5124 1482.57 67.5124 Q1487.83 67.5124 1490.67 65.73 Q1493.51 63.9071 1493.51 60.6258 Q1493.51 57.5877 1491.44 55.9673 Q1489.41 54.3469 1482.49 52.8481 L1479.9 52.2405 Q1472.97 50.7821 1469.89 47.7845 Q1466.81 44.7463 1466.81 39.4801 Q1466.81 33.0797 1471.35 29.5959 Q1475.88 26.1121 1484.23 26.1121 Q1488.36 26.1121 1492.01 26.7198 Q1495.65 27.3274 1498.73 28.5427 Z\" fill=\"#000000\" fill-rule=\"nonzero\" fill-opacity=\"1\" /><path clip-path=\"url(#clip190)\" d=\"M1541.95 28.5427 L1541.95 35.5912 Q1538.8 33.9709 1535.39 33.1607 Q1531.99 32.3505 1528.34 32.3505 Q1522.79 32.3505 1520 34.0519 Q1517.24 35.7533 1517.24 39.156 Q1517.24 41.7486 1519.23 43.2475 Q1521.21 44.7058 1527.21 46.0426 L1529.76 46.6097 Q1537.7 48.3111 1541.02 51.4303 Q1544.39 54.509 1544.39 60.0587 Q1544.39 66.3781 1539.36 70.0644 Q1534.38 73.7508 1525.63 73.7508 Q1521.98 73.7508 1518.01 73.0216 Q1514.08 72.3329 1509.71 70.9151 L1509.71 63.2184 Q1513.84 65.3654 1517.85 66.4591 Q1521.86 67.5124 1525.79 67.5124 Q1531.06 67.5124 1533.89 65.73 Q1536.73 63.9071 1536.73 60.6258 Q1536.73 57.5877 1534.66 55.9673 Q1532.64 54.3469 1525.71 52.8481 L1523.12 52.2405 Q1516.19 50.7821 1513.11 47.7845 Q1510.03 44.7463 1510.03 39.4801 Q1510.03 33.0797 1514.57 29.5959 Q1519.11 26.1121 1527.45 26.1121 Q1531.58 26.1121 1535.23 26.7198 Q1538.88 27.3274 1541.95 28.5427 Z\" fill=\"#000000\" fill-rule=\"nonzero\" fill-opacity=\"1\" /><polyline clip-path=\"url(#clip192)\" style=\"stroke:#000000; stroke-linecap:round; stroke-linejoin:round; stroke-width:4; stroke-opacity:1; fill:none\" points=\"249.542,1386.4 360.237,1085.26 470.933,784.122 581.628,482.985 692.324,295.768 803.019,286.734 913.715,277.7 1024.41,268.666 1135.11,259.632 1245.8,250.597 1356.5,241.563 1467.19,232.529 1577.89,223.495 1688.58,214.461 1799.28,205.427 1909.97,196.393 2020.67,187.359 2131.36,178.325 2242.06,169.29 2352.76,160.256 \"/>\n",
              "</svg>\n"
            ]
          },
          "metadata": {},
          "output_type": "display_data"
        }
      ],
      "source": [
        "function φ_0(w::Float64)\n",
        "    return min(w,approx.p_0 + approx.p_1*(w-approx.p_0))\n",
        "end\n",
        "\n",
        "c_0 = φ_0.(approx.points)\n",
        "\n",
        "fig = plot(xlim=(0,approx.wmax), legend=:bottomright, title=\"Initial guess\", xaxis=\"w\", yaxis=\"c_0(w)\")\n",
        "plot!(fig, approx.points, c_0, c=:black, label=\"\")"
      ]
    },
    {
      "cell_type": "code",
      "execution_count": 9,
      "id": "20ec6dba",
      "metadata": {},
      "outputs": [
        {
          "name": "stdout",
          "output_type": "stream",
          "text": [
            "1.0715\n",
            "0.1\n"
          ]
        }
      ],
      "source": [
        "#! Linear interpolation of φ_0 \n",
        "φ = linear_interpolation(approx.points,c_0)\n",
        "\n",
        "println(φ(5.0)) # point on the grid\n",
        "println(φ(0.1)) # point not on the grid : interpolate"
      ]
    },
    {
      "cell_type": "markdown",
      "id": "7aecb0a7-58c3-42a5-9c99-ec2106b913fd",
      "metadata": {},
      "source": [
        "## Discretizing $\\epsilon_{t+1}$\n",
        "\n",
        "**Represent the shock $\\epsilon$ by two vectors $(e_1, ... e_q)$ and\n",
        "$(l_1, ..., l_q)$ with $q=10$ such that for a suitable function $g$ we\n",
        "can approximate $E_{\\epsilon} (g(\\epsilon))$ by $\\sum_{i=1}^q l_i e_i$\n",
        ".**\n",
        "\n",
        "(choose the method you want)"
      ]
    },
    {
      "cell_type": "code",
      "execution_count": 24,
      "id": "2ebe5907",
      "metadata": {},
      "outputs": [
        {
          "ename": "MethodError",
          "evalue": "MethodError: no method matching median(::Normal{Float64}, ::Vector{Int64})\n\nClosest candidates are:\n  median(::Normal)\n   @ Distributions ~/.julia/packages/Distributions/fgrZq/src/univariate/continuous/normal.jl:68\n  median(::UnivariateDistribution)\n   @ Distributions ~/.julia/packages/Distributions/fgrZq/src/univariates.jl:189\n  median(::Any)\n   @ Statistics /Applications/Julia-1.10.app/Contents/Resources/julia/share/julia/stdlib/v1.10/Statistics/src/Statistics.jl:858\n",
          "output_type": "error",
          "traceback": [
            "MethodError: no method matching median(::Normal{Float64}, ::Vector{Int64})\n",
            "\n",
            "Closest candidates are:\n",
            "  median(::Normal)\n",
            "   @ Distributions ~/.julia/packages/Distributions/fgrZq/src/univariate/continuous/normal.jl:68\n",
            "  median(::UnivariateDistribution)\n",
            "   @ Distributions ~/.julia/packages/Distributions/fgrZq/src/univariates.jl:189\n",
            "  median(::Any)\n",
            "   @ Statistics /Applications/Julia-1.10.app/Contents/Resources/julia/share/julia/stdlib/v1.10/Statistics/src/Statistics.jl:858\n",
            "\n",
            "\n",
            "Stacktrace:\n",
            " [1] top-level scope\n",
            "   @ ~/git/NUM3A/Pushups/Homework_2024.ipynb:1"
          ]
        }
      ],
      "source": [
        "median(d,[-100,-1])"
      ]
    },
    {
      "cell_type": "code",
      "execution_count": 19,
      "id": "9e5cbd11",
      "metadata": {},
      "outputs": [
        {
          "data": {
            "text/plain": [
              "9-element Vector{Float64}:\n",
              " -0.012815515655446004\n",
              " -0.008416212335729143\n",
              " -0.005244005127080408\n",
              " -0.002533471031357997\n",
              "  0.0\n",
              "  0.002533471031357997\n",
              "  0.0052440051270804065\n",
              "  0.008416212335729143\n",
              "  0.012815515655446004"
            ]
          },
          "metadata": {},
          "output_type": "display_data"
        }
      ],
      "source": [
        "# Monte Carlo : Ê[f(X)] := 1/N.sum(f(x_i)) \n",
        "# Quantization using quantiles to aleviate MC's need of a large nb of observations to be precise\n",
        "\n",
        "#e = ..\n",
        "#l = ..\n",
        "\n",
        "quantile.(d, [i*1/20 for i=1:20])[j+2 for j=-1:]"
      ]
    },
    {
      "cell_type": "code",
      "execution_count": 27,
      "id": "3d2a818d",
      "metadata": {},
      "outputs": [
        {
          "data": {
            "text/plain": [
              "1.0:4.0:5.0"
            ]
          },
          "metadata": {},
          "output_type": "display_data"
        }
      ],
      "source": [
        "range(1,5,2)"
      ]
    },
    {
      "cell_type": "code",
      "execution_count": 26,
      "id": "1d23b7a3",
      "metadata": {},
      "outputs": [
        {
          "data": {
            "text/plain": [
              "20-element Vector{Float64}:\n",
              " -0.01644853626951473\n",
              " -0.012815515655446004\n",
              " -0.010364333894937896\n",
              " -0.008416212335729143\n",
              " -0.006744897501960818\n",
              " -0.005244005127080408\n",
              " -0.0038532046640756767\n",
              " -0.002533471031357997\n",
              " -0.0012566134685507403\n",
              "  0.0\n",
              "  0.0012566134685507416\n",
              "  0.002533471031357997\n",
              "  0.0038532046640756767\n",
              "  0.0052440051270804065\n",
              "  0.006744897501960818\n",
              "  0.008416212335729143\n",
              "  0.010364333894937896\n",
              "  0.012815515655446004\n",
              "  0.01644853626951472\n",
              " Inf"
            ]
          },
          "metadata": {},
          "output_type": "display_data"
        }
      ],
      "source": [
        "quantile.(d, [i*1/20 for i=1:20])"
      ]
    },
    {
      "cell_type": "markdown",
      "id": "22de1b39-fbba-445c-9ef0-b616815b7648",
      "metadata": {},
      "source": [
        "**Test that it works by computing\n",
        "$E_{\\epsilon} \\left[ \\epsilon^2 \\right]$.**\n",
        "\n",
        "**Redefine `approx` so as to include the discretized shock**\n",
        "\n",
        "## Euler equation\n",
        "\n",
        "**Write down the Euler equation, paying attention to the slackness\n",
        "condition.**\n",
        "\n",
        "It should be of the form\n",
        "$$0 \\leq \\underbrace{E_t \\left[ f(w_t, c_t, w_{t+1}, c_{t+1}, \\epsilon_{t+1}) \\right]}_{\\Phi_t} \\perp c_t \\leq w_t$$\n",
        "\n",
        "where $f$ is a function to be explicited.\n",
        "\n",
        "**Define the function `Phi(w::Float64,c::Float64,φ::Fun, model, approx)`\n",
        "which approximates the residuals of the euler equation given the\n",
        "available income today, the consumption choice today, the consumption\n",
        "*function* tomorrow and the model/approx structures.**\n",
        "\n",
        "**Overload `Phi` function with another method\n",
        "`Phi(w::Float64,c::Float64,φ::Fun, model, approx, slackness=true)` which\n",
        "uses the Fisher-Burmeister transform to incorporate the credit\n",
        "constraint.**\n",
        "\n",
        "**Plot the optization residuals (i.e. values of $\\Phi_t$) corresponding\n",
        "to the initial guess function with and without the complementarity\n",
        "constraints.**\n",
        "\n",
        "## Time Iteration\n",
        "\n",
        "**(prep): Assuming the initial guess $φ_0()$ is the decision rule\n",
        "followed tomorrow, determine, for a given value `w` in the state-space,\n",
        "the optimal consumption choice made today. This can be achieved by\n",
        "feeding the appropriate function into the right nonlinear root-finder.**\n",
        "\n",
        "**(prep): Find the vector of all the optimal consumption choices on the\n",
        "grid today, given the decision rule tomorrow.**\n",
        "\n",
        "**Plot the optimization residuals (i.e. values of $\\Phi_t$) for the\n",
        "initial guess function**\n",
        "\n",
        "**Write down the time-iteration algorithm.**\n",
        "\n",
        "You can use the course as reference and/or repeat the recurrence steps\n",
        "below:\n",
        "\n",
        "-   given an initial guess for the consumption vector `c0`\n",
        "-   create a function defined `φ` on `[0,wmax]` which interpolates `c0`\n",
        "    on the grid\n",
        "-   for each grid point `w` in the grid, solve the system\n",
        "    `u->Phi(w,u,φ, model, approx, slackness=true)`\n",
        "    -   store the result as a vector `c1`\n",
        "-   check whether `c1` is close to `c0`\n",
        "    -   yes: check the system is indeed solved and return\n",
        "    -   no: start again with `c1` as `c0`"
      ]
    },
    {
      "cell_type": "code",
      "execution_count": 1,
      "id": "86dbbbeb",
      "metadata": {},
      "outputs": [
        {
          "ename": "Base.Meta.ParseError",
          "evalue": "ParseError:\n# Error @ /Users/prld/git/NUM3A/Pushups/Homework_2024.ipynb:12:51\n\"\"\"\nfunction time_iteration(φ0, model, approx; K=200, ... )\n#                                                 └─┘ ── invalid identifier",
          "output_type": "error",
          "traceback": [
            "ParseError:\n",
            "# Error @ /Users/prld/git/NUM3A/Pushups/Homework_2024.ipynb:12:51\n",
            "\"\"\"\n",
            "function time_iteration(φ0, model, approx; K=200, ... )\n",
            "#                                                 └─┘ ── invalid identifier\n",
            "\n",
            "Stacktrace:\n",
            " [1] top-level scope\n",
            "   @ ~/git/NUM3A/Pushups/Homework_2024.ipynb:12"
          ]
        }
      ],
      "source": [
        "# here is a placeholder implementation to help you structure your program.\n",
        "#  feel free to modify or discard\n",
        "\n",
        "\n",
        "\"\"\"\n",
        "φ: Float64->Float64 Initial guess for the consumption function\n",
        "model: parameters representing the model\n",
        "approx: parameters defining the approximation and solution method\n",
        "K: max number of iterations\n",
        "... other parameters for you to choose\n",
        "\"\"\"\n",
        "function time_iteration(φ0, model, approx; K=200, ... )\n",
        "\n",
        "    # ...\n",
        "\n",
        "    # convert initial function φ0 into a consumption vector by evaluating φ on the grid\n",
        "    # c0 = ... :: Vector{Float64}\n",
        "\n",
        "    for k=1:K\n",
        "\n",
        "        # convert consumption vector c0 into a function φ\n",
        "        # φ = ...\n",
        "\n",
        "        # solve for the optimal consumption for all grid points\n",
        "        # ...\n",
        "        # c1  :: Vector{Float64}\n",
        "\n",
        "        # check distance between c0 and c1\n",
        "\n",
        "        # η = ...\n",
        "\n",
        "        # if distance is small return function `varphi`\n",
        "\n",
        "    end\n",
        "\n",
        "\n",
        "\n",
        "\n",
        "end"
      ]
    },
    {
      "cell_type": "markdown",
      "id": "e6dd7f7e-b37f-4ef9-b2c7-a8bf71d4d090",
      "metadata": {},
      "source": [
        "**Check that the value returned by `time_iteration` is actually a\n",
        "solution to the system. How fast is the convergence? Graphical\n",
        "representation.**\n",
        "\n",
        "## Bonuses\n",
        "\n",
        "**(easy): perform some sensitivity analysis on the model to explain the\n",
        "effect of the main parameters**\n",
        "\n",
        "**(medium): Give the solution to the above problem, simulate the law of\n",
        "motion for the available income. Find a way to plot the distriution of\n",
        "that income over a long period of time.**\n",
        "\n",
        "**(hard): Propose and implement some ideas to speed up the solution\n",
        "process.**\n",
        "\n",
        "One promising avenue consists in solving for all consumption values at\n",
        "all grid points as one single system of equation after recognizing that\n",
        "the jacobian of this particular system has a specific structure."
      ]
    }
  ],
  "metadata": {
    "kernelspec": {
      "display_name": "Julia 1.10.1",
      "language": "julia",
      "name": "julia-1.10"
    },
    "language_info": {
      "file_extension": ".jl",
      "mimetype": "application/julia",
      "name": "julia",
      "version": "1.10.1"
    }
  },
  "nbformat": 4,
  "nbformat_minor": 5
}
