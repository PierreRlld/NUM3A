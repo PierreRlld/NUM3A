{
  "cells": [
    {
      "cell_type": "markdown",
      "id": "9a2b0c16-490a-41dc-a2fd-c87e7024529f",
      "metadata": {},
      "source": [
        "# Perturbation of Neoclassical Model\n",
        "\n",
        "Pablo Winant\n",
        "\n",
        "Our goal here is to compute a linear approximation of solution to the\n",
        "neoclassical model, close ot the steady-state.\n",
        "\n",
        "**Warm-up: install the `ForwardDiff` library. Use it to differentiate\n",
        "the function below. Check the jacobian function.**\n",
        "\n",
        "Note: the signature of function `f` needs to be fixed first to allow for\n",
        "dual numbers as arguments."
      ]
    },
    {
      "cell_type": "code",
      "execution_count": 1,
      "id": "41b4b955",
      "metadata": {},
      "outputs": [],
      "source": [
        "using Symbolics, ForwardDiff"
      ]
    },
    {
      "cell_type": "code",
      "execution_count": 2,
      "id": "735f61a7",
      "metadata": {},
      "outputs": [
        {
          "name": "stdout",
          "output_type": "stream",
          "text": [
            "2.220446049250313e-16\n",
            "0.0\n"
          ]
        }
      ],
      "source": [
        "test = eps(Float64)\n",
        "println((1+test)-1)\n",
        "println((1+test/2)-1)\n",
        "\n",
        "# test = smallest number : a number smaller than test will disappear in computations"
      ]
    },
    {
      "cell_type": "code",
      "execution_count": 3,
      "id": "141f064d",
      "metadata": {},
      "outputs": [
        {
          "data": {
            "text/latex": [
              "$$ \\begin{equation}\n",
              "b\n",
              "\\end{equation}\n",
              " $$"
            ],
            "text/plain": [
              "b"
            ]
          },
          "metadata": {},
          "output_type": "display_data"
        }
      ],
      "source": [
        "@variables a b x\n",
        "\n",
        "# Dual number :\n",
        "# Pour redéfinir opérations \n",
        "# import Base: *\n",
        "# import Base: /\n",
        "# import Base: +\n",
        "# import Base: -\n",
        "\n",
        "a + b*x\n",
        "Symbolics.derivative(a+b*x, x)"
      ]
    },
    {
      "cell_type": "code",
      "execution_count": 4,
      "id": "b7d526ae",
      "metadata": {},
      "outputs": [
        {
          "data": {
            "text/plain": [
              "Dual{Nothing}(1.0,1.0)"
            ]
          },
          "metadata": {},
          "output_type": "display_data"
        }
      ],
      "source": [
        "ForwardDiff.Dual(1.0,1.0)"
      ]
    },
    {
      "cell_type": "code",
      "execution_count": 5,
      "id": "cell-2",
      "metadata": {},
      "outputs": [
        {
          "data": {
            "text/plain": [
              "f (generic function with 1 method)"
            ]
          },
          "metadata": {},
          "output_type": "display_data"
        }
      ],
      "source": [
        "#function f(x::Vector{T}) where T <: Number # Is equivalent to below definition\n",
        "function f(x::Vector{<:Number})\n",
        "    #works because 'Dual' (number) of ForwardDiff is a Number !\n",
        "    a = x[1]\n",
        "    b = x[2]\n",
        "    x1 = a+b\n",
        "    x2 = a*exp(b)\n",
        "    return [x1,x2]\n",
        "end"
      ]
    },
    {
      "cell_type": "code",
      "execution_count": 6,
      "id": "d17140d3",
      "metadata": {},
      "outputs": [
        {
          "data": {
            "text/plain": [
              "2×2 Matrix{Float64}:\n",
              " 1.0      1.0\n",
              " 2.71828  1.35914"
            ]
          },
          "metadata": {},
          "output_type": "display_data"
        }
      ],
      "source": [
        "# typeof(ForwardDiff.Dual(2.0,1.0,0.0))\n",
        "ForwardDiff.jacobian(u->f(u),[0.5,1.0])"
      ]
    },
    {
      "cell_type": "code",
      "execution_count": 7,
      "id": "7515de3e",
      "metadata": {},
      "outputs": [
        {
          "data": {
            "text/plain": [
              "(α = 0.3, β = 0.96, γ = 4.0, δ = 0.1, ρ = 0.9)"
            ]
          },
          "metadata": {},
          "output_type": "display_data"
        }
      ],
      "source": [
        "model = (; α=0.3, β=0.96, γ=4.0, δ=0.1, ρ=0.9)"
      ]
    },
    {
      "cell_type": "code",
      "execution_count": 8,
      "id": "f1c67f56",
      "metadata": {},
      "outputs": [
        {
          "data": {
            "text/plain": [
              "arbitrage (generic function with 1 method)"
            ]
          },
          "metadata": {},
          "output_type": "display_data"
        }
      ],
      "source": [
        "function transition(z::Number, k::Number, i::Number, p)\n",
        "\n",
        "    (; α, β, γ, δ, ρ) = p\n",
        "    Z = ρ * z\n",
        "    K = (1-δ)*k + i\n",
        "\n",
        "    return (;Z,K)\n",
        "end\n",
        "\n",
        "\n",
        "function arbitrage(z::Number, k::Number, i::Number, Z::Number, K::Number, I::Number, p)\n",
        "    \n",
        "    # α, β, δ, γ = p works but is order sensitive !! Below formulation reads α will correspond to p.α\n",
        "    (; α, β, γ, δ, ρ) = p\n",
        "\n",
        "    # Auxiliary variables today\n",
        "    y = exp(z)*k^α\n",
        "    c = y-i\n",
        "\n",
        "    # Auxiliary variables tomorrow\n",
        "    Y = exp(Z)*K^α\n",
        "    C = Y-I\n",
        "\n",
        "    # Residual of Euler equation\n",
        "    residual = β*(C/c)^(-γ)*( 1-δ+α*exp(Z)*K^(α-1) ) - 1\n",
        "\n",
        "    return residual\n",
        "end"
      ]
    },
    {
      "cell_type": "code",
      "execution_count": 9,
      "id": "da05db49",
      "metadata": {},
      "outputs": [
        {
          "data": {
            "text/plain": [
              "transition (generic function with 2 methods)"
            ]
          },
          "metadata": {},
          "output_type": "display_data"
        }
      ],
      "source": [
        "#! /// To modify defined function to also accept different types than previously defined /// \n",
        "\n",
        "arbitrage(s::Vector{T}, x::Vector{T}, S::Vector{T}, X::Vector{T}, p) where T<:Number = arbitrage(s[1],s[2],x[1],S[1],S[2],X[1],p)\n",
        "\n",
        "# For transition, do not return the named tuple but a vector then\n",
        "transition(s::Vector{T}, x::Vector{T}, p) where T<:Number = [ transition(s[1],s[2],x[1],p)... ]\n",
        "\n",
        "# t = (3.0, 2.0, 1.0)\n",
        "# [ x for x in t] to convert tuple into vector or simpler : [t...]"
      ]
    },
    {
      "cell_type": "code",
      "execution_count": 10,
      "id": "c26aad3d",
      "metadata": {},
      "outputs": [
        {
          "data": {
            "text/plain": [
              "(s = [0.0, 2.920822149964071], x = [0.29208221499640713])"
            ]
          },
          "metadata": {},
          "output_type": "display_data"
        }
      ],
      "source": [
        "function steady_state(p)\n",
        "\n",
        "    (; α, β, γ, δ, ρ) = p\n",
        "\n",
        "    # Steady states\n",
        "    z = 0.0\n",
        "    k = ( (1/β - (1-δ))/α )^(1/(α-1))\n",
        "    i = δ*k\n",
        "\n",
        "    s = [z,k] # vector of states\n",
        "    x = [i]   # vector of controls\n",
        "    \n",
        "    return (;\n",
        "        s,\n",
        "        x)\n",
        "end\n",
        "\n",
        "steady_state(model)"
      ]
    },
    {
      "cell_type": "code",
      "execution_count": 11,
      "id": "a9238b99",
      "metadata": {},
      "outputs": [
        {
          "data": {
            "text/plain": [
              "0.0"
            ]
          },
          "metadata": {},
          "output_type": "display_data"
        }
      ],
      "source": [
        "#? Check that the steady state is correct using the functions representing the model : i.e transition keeps still\n",
        "\n",
        "ss = steady_state(model)\n",
        "# transition(ss.s, ss.x, model) - ss.s \n",
        "# returns zero good\n",
        "\n",
        "arbitrage(ss.s, ss.x, ss.s, ss.x, model)\n",
        "# returns zero good"
      ]
    },
    {
      "cell_type": "code",
      "execution_count": 12,
      "id": "815d1a52",
      "metadata": {},
      "outputs": [],
      "source": [
        "@assert maximum(transition(ss.s, ss.x, model) - ss.s) == 0.0"
      ]
    },
    {
      "cell_type": "markdown",
      "id": "4baf3e9a",
      "metadata": {},
      "source": [
        "**Define a structure `PerturbedModel` to hold matrices A,B,C,D,E,F.**"
      ]
    },
    {
      "cell_type": "code",
      "execution_count": 13,
      "id": "8a272d00",
      "metadata": {},
      "outputs": [],
      "source": [
        "struct PerturbedModel\n",
        "    A::Matrix\n",
        "    B::Matrix\n",
        "    C::Matrix\n",
        "    D::Matrix\n",
        "    E::Matrix\n",
        "    F::Matrix\n",
        "end"
      ]
    },
    {
      "cell_type": "markdown",
      "id": "d3cee668",
      "metadata": {},
      "source": [
        "**Write a function\n",
        "`first_order_model(s::Vector, x::Vector, p)::PerturbedModel`, which\n",
        "returns the first order model, given the steady-state and the\n",
        "calibration. Suggestion: use `ForwardDiff.jl` library.**\n",
        "\n",
        "$f(s_t,x_t,s_{t-1},x_{t-1})$\n",
        "\n",
        "Derivate of :\n",
        "$ u \\rightarrow f(u,\\overline{x},\\overline{s},\\overline{x})$"
      ]
    },
    {
      "cell_type": "code",
      "execution_count": 14,
      "id": "4bf26212",
      "metadata": {},
      "outputs": [
        {
          "data": {
            "text/plain": [
              "transition (generic function with 3 methods)"
            ]
          },
          "metadata": {},
          "output_type": "display_data"
        }
      ],
      "source": [
        "# We need to loosen the constraint on the arbitrage arguments : \n",
        "\n",
        "# brutal \n",
        "arbitrage(s, x, S, X, p) = [ arbitrage(s[1],s[2],x[1],S[1],S[2],X[1],p) ]\n",
        "transition(s, x, p) = [ transition(s[1],s[2],x[1],p)... ]\n",
        "\n",
        "# More precise, allows for each parameter to be a different type of Number\n",
        "# arbitrage(s::Vector{<:Number}, x::Vector{<:Number}, S::Vector{<:Number}, X::Vector{<:Number}, p) = arbitrage(s[1],s[2],x[1],S[1],S[2],X[1],p)"
      ]
    },
    {
      "cell_type": "code",
      "execution_count": 15,
      "id": "c443a54d",
      "metadata": {},
      "outputs": [
        {
          "data": {
            "text/plain": [
              "PerturbedModel([5.074626865671642 0.5212190203776081], [-3.679193085018409;;], [-4.938626865671642 -0.5538125831185546], [3.679193085018409;;], [0.9 0.0; 0.0 0.9], [0.0; 1.0;;])"
            ]
          },
          "metadata": {},
          "output_type": "display_data"
        }
      ],
      "source": [
        "s = ss.s\n",
        "x = ss.x\n",
        "\n",
        "function first_order_model(s,x,parameters)\n",
        "    A = ForwardDiff.jacobian( u->arbitrage(u,x,s,x,parameters), s)\n",
        "    B = ForwardDiff.jacobian( u->arbitrage(s,u,s,x,parameters), x)\n",
        "    C = ForwardDiff.jacobian( u->arbitrage(s,x,u,x,parameters), s)\n",
        "    D = ForwardDiff.jacobian( u->arbitrage(s,x,s,u,parameters), x)\n",
        "    E = ForwardDiff.jacobian( u->transition(u,x,parameters), s)\n",
        "    F = ForwardDiff.jacobian( u->transition(s,u,parameters), x)\n",
        "\n",
        "    return PerturbedModel(A,B,C,D,E,F)\n",
        "end\n",
        "\n",
        "first_order_model(s,x,model)"
      ]
    },
    {
      "cell_type": "markdown",
      "id": "fea34a91-1f50-4bac-80b3-ad15f6ffa3fc",
      "metadata": {},
      "source": [
        "**Create a NamedTuple to hold the model parameters.**\n",
        "\n",
        "**Define two functions:** -\n",
        "`transition(z::Number, k::Number, i::Number, p)::Tuple{Number}` which\n",
        "returns productivity and capital at date `t+1` as a function of\n",
        "productivity, capital and investment at date `t` -\n",
        "`arbitrage(z::Number, k::Number, i::Number, Z::Number, K::Number, I::Number, p)::Number`\n",
        "which returns the residual of the euler equation (lower case variable\n",
        "for date t, upper case for date t+1)\n",
        "\n",
        "**Using multiple dispatch, define two variants of the same functions,\n",
        "that take vectors as input and output arguments:** -\n",
        "`arbitrage(s::Vector{T}, x::Vector{T}, S::Vector{T}, X::Vector{T}, p) where T<:Number` -\n",
        "`transition(s::Vector{T}, x::Vector{T}, p) where T<:Number`\n",
        "\n",
        "**Write a function `steady_state(p)::Tuple{Vector,Vector}` which\n",
        "computes the steady-state of the model computed by hand.** It returns\n",
        "two vectors, one for the states, one for the controls. Check that the\n",
        "steady-state satisfies the model equations.\n",
        "\n",
        "The first order system satisfies:\n",
        "$$\\begin{align}A s_t + B x_t + C s_{t+1} + D x_{t+1} & = & 0 \\\\\\\\ \n",
        "s_{t+1} & = & E s_t + F x_t\n",
        " \\end{align}$$\n",
        "\n",
        "**Define a structure `PerturbedModel` to hold matrices A,B,C,D,E,F.**\n",
        "\n",
        "**Write a function\n",
        "`first_order_model(s::Vector, x::Vector, p)::PerturbedModel`, which\n",
        "returns the first order model, given the steady-state and the\n",
        "calibration. Suggestion: use `ForwardDiff.jl` library.**\n",
        "\n",
        "**We look for a linear solution $x_t = X s_t$ . Write the matrix\n",
        "equation which `X` must satisfy. Write a function\n",
        "`residual(X::Array, M::PerturbedModel)` which computes the residual of\n",
        "this equation for a given `X`.**\n",
        "\n",
        "**Write a function `T(X, M::PerturbedModel)` which implements the time\n",
        "iteration step.**\n",
        "\n",
        "**Write function\n",
        "`linear_time_iteration(X_0::Matrix, m::PerturbedModel)::Matrix` which\n",
        "implements the time iteration algorithm. Apply it to `X0 = rand(1,2)`\n",
        "and check that the result satisfies the first order model.**\n",
        "\n",
        "**Define two linear operators\n",
        "`L_S(U::Union{Vector, Matrix}, X_0::Matrix, m::PerturbedModel)::Matrix`\n",
        "and `L_T(U::Matrix, X_0::Matrix, m::PerturbedModel)::Matrix` which\n",
        "implement the derivatives of the simulation and the time-iteration\n",
        "operator respectively.**\n",
        "\n",
        "**Implement a function `spectral_radius(f::Function)::Float64` which\n",
        "implements the power iteration method to compute the biggest eigenvalues\n",
        "of the two previously defined operators. Check that Blanchard-Kahn\n",
        "conditions are met.**\n",
        "\n",
        "**Write a function\n",
        "`simulate(s0::Vector, X::Matrix, p, T::Int64)::Tuple{Matrix, Matrix}` to\n",
        "simulate the model over $T$ periods (by using the formula\n",
        "$\\Delta s_t = (E + F X) \\Delta s_{t-1}$. Return a matrix for the states\n",
        "(one line per date) and another matrix for the controls. Bonus: add a\n",
        "keyword option to compute variables levels or log-deviations. If\n",
        "possible, return a DataFrame object.**\n",
        "\n",
        "**Make some nice plots.**"
      ]
    },
    {
      "cell_type": "code",
      "execution_count": null,
      "id": "76e30194",
      "metadata": {},
      "outputs": [],
      "source": []
    }
  ],
  "metadata": {
    "kernelspec": {
      "display_name": "Julia 1.10.1",
      "language": "julia",
      "name": "julia-1.10"
    },
    "language_info": {
      "file_extension": ".jl",
      "mimetype": "application/julia",
      "name": "julia",
      "version": "1.10.1"
    }
  },
  "nbformat": 4,
  "nbformat_minor": 5
}
