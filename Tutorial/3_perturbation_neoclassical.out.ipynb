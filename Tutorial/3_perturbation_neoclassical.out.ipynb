{
  "cells": [
    {
      "cell_type": "markdown",
      "id": "9a2b0c16-490a-41dc-a2fd-c87e7024529f",
      "metadata": {},
      "source": [
        "# Perturbation of Neoclassical Model with Deterministic Productivity shock\n",
        "\n",
        "From Pablo Winant's course\n",
        "\n",
        "Our goal here is to compute a $\\textrm{\\textbf{linear approximation of solution to the\n",
        "neoclassical model, close ot the steady-state}}$."
      ]
    },
    {
      "cell_type": "markdown",
      "id": "868991ba",
      "metadata": {},
      "source": [
        "- Definition:\n",
        "$$ y_t = f(k_t) = \\exp(z_t) k_t^\\alpha \\\\\n",
        "c_t = y_t - i_t $$\n",
        "\n",
        "- Transition Equation > Deterministic Productivity shock\n",
        "$$\n",
        "k_t = (1-\\delta) k_{t-1} + i_{t-1} \\\\\n",
        "z_t = \\rho z_{t-1}\n",
        "$$\n",
        "\n",
        "- Control $i_t\\in[0, y_t = \\exp(z_t)k_t^\\alpha[$\n",
        "  - or equivalently $c_t \\in ]0, \\exp(z_t) k_t^{\\alpha}]$\n",
        "  - 0 excluded because $U'(0) = \\infty $ with $U(x) = \\frac{x^{1-\\gamma}}{1-\\gamma}$"
      ]
    },
    {
      "cell_type": "markdown",
      "id": "47b7a3da",
      "metadata": {},
      "source": [
        "> $\\textrm{\\textbf{\\color{blue}Objective function}}$ <br>\n",
        "\n",
        "$$ \n",
        "V(k_0, z_0) :: \\max_{ \\color{red}{\\{ c_t, k_{t+1} \\}}_{t\\geq 0} } \\sum_{t} \\beta^t U(c_t) \\\\ \\; \\\\\n",
        "s.c \\; \\begin{cases} \\begin{align*} k_{t+1} & = (1-\\delta) k_{t} + \\exp(z_t) k_t^\\alpha - c_t \\\\ z_t & = \\rho z_{t-1} \\end{align*} \\\\ c_t > 0, \\; k_{t+1}\\geq 0 \\end{cases}\n",
        "$$\n",
        "\n",
        "soit\n",
        "\n",
        "$$ \n",
        "V(k_0, z_0) :: \\max_{ \\color{red}{\\{ c_t, i_t, k_{t+1} \\}}_{t\\geq 0} } \\sum_{t} \\beta^t U(c_t) \\\\ \\; \\\\\n",
        "s.c \\; \\begin{cases} \\begin{align*} c_t & = \\exp(z_t) k_t^\\alpha - i_t \\\\ k_{t+1} & = (1-\\delta) k_{t} + i_t \\\\ z_t & = \\rho z_{t-1} \\end{align*} \\\\ i_t \\geq 0, \\; k_{t+1}\\geq 0 \\end{cases}\n",
        "$$\n",
        "\n",
        "soit \n",
        "\n",
        "$$ \n",
        "V(k_0, z_0) :: \\max_{ \\color{red}{\\{ i_t, k_{t+1} \\}}_{t\\geq 0} } \\sum_{t} \\beta^t U[ \\exp(z_t) k_t^\\alpha - i_t ] \\\\ \\; \\\\\n",
        "s.c \\; \\begin{cases} \\begin{align*} k_{t+1} & = (1-\\delta) k_{t} + i_t \\\\ z_t & = \\rho z_{t-1} \\end{align*} \\\\ i_t \\geq 0, \\; k_{t+1}\\geq 0 \\end{cases}\n",
        "$$\n",
        "\n",
        "- $\\textrm{\\textbf{Pre-determined / State variables}}$\n",
        "    - $k_t$ and $z_t$ are pre-determined variables at date $t$ = **state variables**\n",
        "    - $c_t$ and $i_t$ are optimized upon at date $t$ = **control variables**\n",
        "    - Solve with Lagrangian or Bellman operator"
      ]
    },
    {
      "cell_type": "markdown",
      "id": "dbd06d20",
      "metadata": {},
      "source": [
        "> $\\textrm{\\color{blue}\\textbf{Lagrangian solution}}$\n",
        "\n",
        "$$ \n",
        "V(k_0, z_0) :: \\max_{ \\color{red}{\\{ c_t, k_{t+1} \\}}_{t\\geq 0} } \\sum_{t} \\beta^t U(c_t) \\\\ \\; \\\\\n",
        "\n",
        "s.c \\; \\begin{cases} \\begin{align*} \n",
        "\n",
        "k_{t+1} & = (1-\\delta) k_{t} + \\exp(z_t) k_t^\\alpha - c_t & \\Rightarrow & \\; {\\color{red}\\lambda_t}\\\\\n",
        "z_t & = \\rho z_{t-1} \\\\\n",
        "\n",
        "c_t & > 0 & \\Rightarrow & \\; {\\color{red}\\mu_t} \\; (\\geq 0)\\\\\n",
        "\n",
        "c_t & \\leq \\exp(z_t) k_t^\\alpha \\rightarrow \\exp(z_t) k_t^\\alpha - c_t \\geq 0 & \\Rightarrow & \\; {\\color{red}\\nu_t} \\; (\\geq 0)\\\\\n",
        "\n",
        "k_{t+1} & \\geq 0 & \\Rightarrow & \\; {\\color{red}q_t} \\; (\\geq 0)\\\\\n",
        "\\end{align*} \\end{cases}\n",
        "$$\n",
        "\n",
        "$$\\Rightarrow \\textrm{{6 variables}}$$ "
      ]
    },
    {
      "cell_type": "markdown",
      "id": "533ecc8d",
      "metadata": {},
      "source": [
        "$$\\forall t \\geq 0 \\qquad \n",
        "\\mathcal{L}_t = \\sum_{s \\geq 0} \\beta^{t+s}\\left\n",
        "\\{ \\; U(c_{t+s}) + {\\color{green} \\mu_s}  [c_{t+s}] + {\\color{green} \\nu_s} [\\exp(z_{t+s})k_{t+s}^{\\alpha} - c_{t+s}] + {\\color{green} q_s}  [k_{t+s+1}] + {\\color{green} \\lambda_s} [(1-\\delta) k_{t+s} + i_{t+s} - k_{t+s+1}] \\; \\right\\}\n",
        "$$\n",
        "\n",
        "$$\\textrm{\\textbf{2 FOCs : }} \\qquad \\forall s \\geq 0 \\quad \\begin{cases} \\begin{align*} \n",
        "\\frac{\\partial \\mathcal{L}_t}{\\partial c_{t+s}} & = & 0 \\\\ \n",
        "\\frac{\\partial \\mathcal{L}_t}{\\partial k_{t+s+1}} & = & 0 \\\\\n",
        "\\end{align*} \\end{cases}\n",
        "$$\n",
        "\n",
        "$$\\textrm{\\textbf{Karush-Kuhn-Tucker {\\color{blue}complementary slackness condition} (at optima) : }}$$ \n",
        "$$\n",
        "\\begin{cases} \\begin{align*}\n",
        "{\\color{blue}\\mu_t} & = 0 \\quad & \\textrm{or} \\quad & c_t = 0 & \\rightarrow & \\; \\textrm{Impossible otherwise $U'(0) = \\infty $ } \\\\\n",
        "\\nu_t & = 0 \\quad & \\textrm{or} \\quad & c_t = \\exp(z_t) k_t^\\alpha & \\rightarrow & \\; \\textrm{ ? } \\\\\n",
        "{\\color{blue}q_t} & = 0 \\quad & \\textrm{or} \\quad & k_{t+1} = 0 & \\rightarrow & \\; \\textrm{If $k_{t+1} = 0$ then so is $c_{t+1}$ which is impossible $U'(0) = \\infty$ } \\\\\n",
        "\\end{align*} \\end{cases}\n",
        "$$\n",
        "$$\n",
        "\\textrm{\\textbf{\\textit{and} }} \\qquad (1-\\delta) k_{t+s} + i_{t+s} - k_{t+s+1} = 0 \\rightarrow {\\color{blue}\\lambda_t}\n",
        "$$"
      ]
    },
    {
      "cell_type": "markdown",
      "id": "81bac2ba",
      "metadata": {},
      "source": [
        "- **Optimality Condition from FOCs** :\n",
        "  - Takes into account the fact that $c_t>0$.\n",
        "$$ \\textrm{\\textbf{Optimality condition - Euler equation : \\quad }} \n",
        "\\beta  \\left[ \\left( \\frac{c_{t+1}}{c_t} \\right) ^{-\\gamma} \\left( 1-\\delta + \\alpha e^{z_{t+1}} k_{t+1}^{\\alpha -1} \\right)\\right] = 1\n",
        "$$"
      ]
    },
    {
      "cell_type": "markdown",
      "id": "5fae9297",
      "metadata": {},
      "source": [
        "> $\\textrm{\\textbf{\\color{blue}Perturbation around the steady-state values}}$ \n",
        "\n",
        "- $z_{t}=\\overline{z} + \\Delta z_t \\\\$\n",
        "- $k_{t}=\\overline{k} + \\Delta k_t \\\\$\n",
        "- $i_{t}=\\overline{i} + \\Delta i_t \\\\$\n",
        "- $c_{t}=\\overline{c} + \\Delta c_t$\n",
        "\n",
        "Let \n",
        "\n",
        "$\\overline{\\Delta x_t} = \\frac{\\Delta x_t}{\\overline{x}}$\n",
        "\n",
        "- $\\textrm{\\textbf{\\color{red}Linearize the model around the steady-state :}}$"
      ]
    },
    {
      "cell_type": "markdown",
      "id": "71acfea8",
      "metadata": {},
      "source": [
        "$$\\begin{align*}\n",
        "\" \\beta  \\left[ \\left( \\frac{c_{t+1}}{c_t} \\right) ^{-\\gamma} \\left( 1-\\delta + \\alpha e^{z_{t+1}} k_{t+1}^{\\alpha -1} \\right)\\right] & = 1 \" \\tag{1} \\\\ \n",
        "\\rightarrow \\beta  \\left[ \n",
        "    \\frac{(\\overline{c}+ \\Delta c_{t+1})^{-\\gamma}}{( \\overline{c} + \\Delta c_t)^{-\\gamma}} ( 1-\\delta + \\alpha e^{\\overline{z} + \\Delta z_{t+1}} (\\overline{k} + \\Delta k_{t+1})^{\\alpha -1} )\n",
        "    \\right] \n",
        "    & = 1 \\\\ \n",
        "\\beta  \\left[\n",
        "    (\\overline{c}+ \\Delta c_{t})^{\\gamma} \\frac{1}{(\\overline{c} + \\Delta c_{t+1})^{\\gamma}} ( 1-\\delta + \\alpha e^{\\overline{z} + \\Delta z_{t+1}} (\\overline{k} + \\Delta k_{t+1})^{\\alpha -1})\n",
        "    \\right] \n",
        "    & = 1 \\nonumber \\\\ \\\\\n",
        "\\rightarrow \\beta  \\left[\n",
        "    (1 + \\gamma \\overline{\\Delta c_t}) (1 - \\gamma \\overline{\\Delta c_{t+1}}) (1-\\delta + \\alpha \\overline{k}^{\\alpha -1} e^{\\overline{z}} (1+\\Delta z_{t+1}) (1 + \\overline{\\Delta k_{t+1}})^{\\alpha -1} )\n",
        "    \\right] \n",
        "    & \\sim 1  \\\\\n",
        "\\beta  \\left[\n",
        "    1 + \\gamma (\\overline{\\Delta c_t} - \\overline{\\Delta c_{t+1}}) \\right] \\left[1-\\delta + \\alpha \\overline{k}^{\\alpha -1} e^{\\overline{z}} (1+\\Delta z_{t+1}) (1 + (\\alpha -1) \\overline{\\Delta k_{t+1}})\n",
        "    \\right] \n",
        "    & \\sim 1 \\\\\n",
        "\\beta  \\left[\n",
        "    1 + \\gamma (\\overline{\\Delta c_t} - \\overline{\\Delta c_{t+1}}) \\right] \\left[1-\\delta + \\alpha \\overline{k}^{\\alpha -1} e^{\\overline{z}} (1+\\Delta z_{t+1} + (\\alpha -1) \\overline{\\Delta k_{t+1}})\n",
        "    \\right] \n",
        "    & \\sim 1 \\nonumber \\\\ \\\\\n",
        "\\left[\n",
        "    1-\\delta + \\alpha \\overline{k}^{\\alpha -1} e^{\\overline{z}}\n",
        "    \\right] \\left[ 1 + \\frac{\\gamma}{\\overline{c}} (\\Delta c_t - \\Delta c_{t+1}) \\right] + \\alpha (\\alpha-1) \\overline{k}^{\\alpha -1} e^{\\overline{z}} \\left[ \\Delta z_{t+1} + \\frac{\\Delta k_{t+1}}{\\overline{k}} \\right]\n",
        "    & \\sim 1/\\beta \\\\\n",
        "\\rightarrow \\left[\n",
        "    1-\\delta + \\alpha \\overline{k}^{\\alpha -1} e^{\\overline{z}}\n",
        "    \\right] \\frac{\\gamma}{\\overline{c}} {\\color{blue}(\\Delta c_t - \\Delta c_{t+1})} + \\alpha (\\alpha-1) \\overline{k}^{\\alpha -1} e^{\\overline{z}} {\\color{blue} \\left[ \\Delta z_{t+1} + \\frac{\\Delta k_{t+1}}{\\overline{k}} \\right]}\n",
        "    & \\sim 1/\\beta - \\left[\n",
        "    1-\\delta + \\alpha \\overline{k}^{\\alpha -1} e^{\\overline{z}}\n",
        "    \\right] \\tag{1} \\\\\n",
        "\\end{align*}$$"
      ]
    },
    {
      "cell_type": "markdown",
      "id": "2d92e90c",
      "metadata": {},
      "source": [
        "$$ \\begin{align*}\n",
        "\" c_t & = y_t - i_t \"\\tag{2} \\\\\n",
        "\\rightarrow \\overline{c} + \\Delta c_t & = e^{\\overline{z}+ \\Delta z_t} (\\overline{k}+ \\Delta k_t)^\\alpha - \\overline{i} - \\Delta i_t \\\\\n",
        " & \\sim e^{\\overline{z}}(1+\\Delta z_t) \\overline{k}^{\\alpha}(1 + \\alpha\\overline{\\Delta k_t}) - \\overline{i} - \\Delta i_t \\nonumber \\\\ \\\\\n",
        "\\rightarrow \\overline{c} + {\\color{blue}\\Delta c_t} & \\sim \\overline{k}^{\\alpha}e^{\\overline{z}} \\left[ {\\color{blue}\\Delta z_t + \\frac{\\Delta k_t}{\\overline{k}}}\\right] - \\overline{i} - {\\color{blue} \\Delta i_t} \\tag{2}\n",
        "\\end{align*}$$"
      ]
    },
    {
      "cell_type": "markdown",
      "id": "04820e06",
      "metadata": {},
      "source": [
        "- Transition (1)\n",
        "$$\\begin{align*}\n",
        "\"k_{t} & = (1-\\delta) k_{t-1} + i_{t-1}\" \\tag{3} \\\\\n",
        "\\overline{k} + \\Delta k_t & = (1-\\delta) (\\overline{k}+ \\Delta k_{t-1}) + \\overline{i }+ \\Delta i_{t-1} \\\\\n",
        "\\rightarrow {\\color{blue}\\Delta k_t} & = (1-\\delta) {\\color{blue}\\Delta k_{t-1} + \\Delta i_{t-1}} -\\delta \\overline{k} + \\overline{i} \\tag{3} \\\\\n",
        "\\end{align*}$$"
      ]
    },
    {
      "cell_type": "markdown",
      "id": "0bd158a9",
      "metadata": {},
      "source": [
        "- Transition (2)\n",
        "$$\\begin{align*}\n",
        "\"z_{t} & = \\rho z_{t-1}\" \\tag{4} \\\\\n",
        "\\overline{z} + \\Delta z_t & = \\rho (\\overline{z} + \\Delta z_{t-1}) \\\\\n",
        "\\rightarrow {\\color{blue}\\Delta z_t} & = \\rho {\\color{blue}\\Delta z_{t-1}} + (\\rho-1) \\tag{4} \\\\\n",
        "\\end{align*}$$\n"
      ]
    },
    {
      "cell_type": "markdown",
      "id": "9054e7ce",
      "metadata": {},
      "source": [
        "> $\\textrm{\\textbf{\\color{blue}General formulation of a \\underline{Linearized model} / Formulation of the First Order System :}}$ \n",
        ">  - $s_t \\in \\mathbb{R}^{n_s}$ is a vector of ***states***\n",
        ">  - $x_t \\in \\mathbb{R}^{n_x}$ is a vector of ***controls***\n",
        "> $$ \n",
        "\\begin{cases} \\begin{align*} \n",
        "A s_t + B x_t + C s_{t+1} + D x_{t+1} & = & 0_{n_x} \\qquad \\textrm{\\textit{forward looking}} \\\\\n",
        "s_{t+1} & = & E s_t + F x_t \\qquad \\textrm{\\textit{backward looking}} \n",
        "\\end{align*} \\end{cases}\n",
        "$$ "
      ]
    },
    {
      "cell_type": "markdown",
      "id": "65e65a33",
      "metadata": {},
      "source": [
        "$\\textrm{\\textbf{\\underline{Linearization of the model around the Steady-State : }}}$ \n",
        "\n",
        "Let :\n",
        "- $s_t = \\begin{bmatrix} \\Delta z_t \\\\ \\Delta k_t \\end{bmatrix}\\quad$ : **state variables** > $k_t$ and $z_t$ are pre-determined variables at date $t$\n",
        "\n",
        "- $x_t = \\begin{bmatrix} \\Delta i_t \\\\ \\Delta c_t \\end{bmatrix}\\quad$ : **control variables** > $c_t$ and $i_t$ are optimized upon at date $t$\n",
        "\n",
        "<br>\n",
        "\n",
        "$\\textrm{\\textbf{The First Order System satisfies : }}$ \n",
        "$$ \n",
        "\\textrm{\\textbf{\\underline{Around the steady-state :}}}\\quad \n",
        "\\begin{cases} \\begin{align*} \n",
        "A \\begin{bmatrix} \\Delta z_t \\\\ \\Delta k_t \\end{bmatrix} + B \\begin{bmatrix} \\Delta i_t \\\\ \\Delta c_t \\end{bmatrix} + C \\begin{bmatrix} \\Delta z_{t+1} \\\\ \\Delta k_{t+1} \\end{bmatrix} + D \\begin{bmatrix} \\Delta i_{t+1} \\\\ \\Delta c_{t+1} \\end{bmatrix} \n",
        "& = 0 & \\qquad \\textrm{\\textit{forward looking}} \\\\\n",
        "\n",
        "\\begin{bmatrix} \\Delta z_{t+1} \\\\ \\Delta k_{t+1} \\end{bmatrix} & = E \\begin{bmatrix} \\Delta z_{t} \\\\ \\Delta k_{t} \\end{bmatrix} + F \\begin{bmatrix} \\Delta i_t \\\\ \\Delta c_t \\end{bmatrix} & \\qquad \\textrm{\\textit{backward looking}} \n",
        "\\end{align*} \\end{cases}\n",
        "$$"
      ]
    },
    {
      "cell_type": "markdown",
      "id": "b8aa3965",
      "metadata": {},
      "source": [
        "The linearized system is:\n",
        "$$\\begin{align*}\n",
        "A & = & ...\\\\\n",
        "B & = & ...\\\\\n",
        "C & = & ...\\\\\n",
        "D & = & ...\\\\\n",
        "E & = & ...\\\\\n",
        "F & = & ...\n",
        "\\end{align*}$$"
      ]
    },
    {
      "cell_type": "markdown",
      "id": "b87afaef",
      "metadata": {},
      "source": [
        "$\\textrm{\\textbf{\\underline{\\color{blue}Solution of the First Order System around the Steady-State ? }}}$ \n",
        "- At date $t$ *controls* must be chosen as a function of (predetermined) *states*\n",
        "- Mathematically speaking, the solution is a function $\\varphi$ such that:\n",
        "  $$\\forall t, x_t = \\varphi(s_t)$$\n",
        "- **Since the model is linear** we look for un *unknown matrix* $X \\in \\mathbb{R}^{n_x} \\times \\mathbb{R}^{n_s}$ such that:\n",
        "$${\\color{red}x_t = X s_t}$$\n",
        "- $\\textrm{\\textbf{\\underline{In our Linearized model this means : }}}$ \n",
        "$$ {\\color{red} \\begin{bmatrix} \\Delta i_t \\\\ \\Delta c_t \\end{bmatrix} = X \\begin{bmatrix} \\Delta z_t \\\\ \\Delta k_t \\end{bmatrix} } $$"
      ]
    },
    {
      "cell_type": "markdown",
      "id": "e9bbe7b7",
      "metadata": {},
      "source": [
        "----"
      ]
    },
    {
      "cell_type": "code",
      "execution_count": 1,
      "id": "41b4b955",
      "metadata": {},
      "outputs": [],
      "source": [
        "using Symbolics, ForwardDiff, Random, Printf, Plots"
      ]
    },
    {
      "cell_type": "markdown",
      "id": "3471d795",
      "metadata": {},
      "source": [
        "**Create a NamedTuple to hold the model parameters.**"
      ]
    },
    {
      "cell_type": "code",
      "execution_count": 2,
      "id": "7515de3e",
      "metadata": {},
      "outputs": [
        {
          "data": {
            "text/plain": [
              "(α = 0.3, β = 0.96, γ = 4.0, δ = 0.1, ρ = 0.9)"
            ]
          },
          "metadata": {},
          "output_type": "display_data"
        }
      ],
      "source": [
        "model = (; α=0.3, β=0.96, γ=4.0, δ=0.1, ρ=0.9)"
      ]
    },
    {
      "cell_type": "markdown",
      "id": "52d36938",
      "metadata": {},
      "source": [
        "**Define two functions:** \n",
        "- `transition(z::Number, k::Number, i::Number, p)::Tuple{Number}` which\n",
        "returns productivity and capital at date `t+1` as a function of\n",
        "productivity, capital and investment at date `t` \n",
        "- `arbitrage(z::Number, k::Number, i::Number, Z::Number, K::Number, I::Number, p)::Number`\n",
        "which returns the residual of the euler equation (lower case variable\n",
        "for date t, upper case for date t+1)"
      ]
    },
    {
      "cell_type": "markdown",
      "id": "5c6552a3",
      "metadata": {},
      "source": [
        "$ \\textrm{\\underline{arbitrage} = Euler equation :} \n",
        "\\begin{bmatrix} s_t \\\\ {\\color{red}x_t} \\\\ s_{t+1} \\\\ {\\color{red}x_{t+1}} \\end{bmatrix}\n",
        "= \\begin{bmatrix} z_t \\\\ k_t \\\\ {\\color{red}i_t} \\\\ z_{t+1} \\\\ k_{t+1} \\\\ {\\color{red}i_{t+1}} \\end{bmatrix} \n",
        "\\mapsto \\beta \\left[ \\frac{ e^{z_{t+1}} k_{t+1}^{\\alpha} - i_{t+1} }{ e^{z_{t}} k_{t}^{\\alpha} - i_{t} } \\right]^{-\\gamma} - 1 \n",
        "$ \n",
        "\n",
        "**and**\n",
        "\n",
        "$ \\textrm{\\underline{transition} :} \n",
        "\\begin{bmatrix} s_t \\\\ {\\color{red}x_t} \\end{bmatrix}\n",
        "= \\begin{bmatrix} z_t \\\\ k_t \\\\ {\\color{red}i_t} \\end{bmatrix} \n",
        "\\mapsto \\begin{bmatrix} \\rho z_t \\\\ (1-\\delta)k_t + i_t \\end{bmatrix}\n",
        "= \\begin{bmatrix} z_{t+1} \\\\ k_{t+1} \\end{bmatrix}\n",
        "= \\begin{bmatrix} s_{t+1} \\end{bmatrix}\n",
        "$ "
      ]
    },
    {
      "cell_type": "code",
      "execution_count": 3,
      "id": "f1c67f56",
      "metadata": {},
      "outputs": [
        {
          "data": {
            "text/plain": [
              "arbitrage (generic function with 1 method)"
            ]
          },
          "metadata": {},
          "output_type": "display_data"
        }
      ],
      "source": [
        "function transition(z::Number, k::Number, i::Number, p)\n",
        "\n",
        "    (; α, β, γ, δ, ρ) = p\n",
        "    Z = ρ * z\n",
        "    K = (1-δ)*k + i\n",
        "\n",
        "    return (;Z,K)\n",
        "end\n",
        "\n",
        "\n",
        "function arbitrage(z::Number, k::Number, i::Number, Z::Number, K::Number, I::Number, p)\n",
        "    \n",
        "    # α, β, δ, γ = p works but is order sensitive !! Below formulation reads : α corresponds to p.α whatever the order\n",
        "    (; α, β, γ, δ, ρ) = p\n",
        "\n",
        "    # Auxiliary variables today\n",
        "    y = exp(z)*k^α\n",
        "    c = y-i\n",
        "\n",
        "    # Auxiliary variables tomorrow\n",
        "    Y = exp(Z)*K^α\n",
        "    C = Y-I\n",
        "\n",
        "    # Residual of Euler equation\n",
        "    residual = β*(C/c)^(-γ)*( 1-δ+α*exp(Z)*K^(α-1) ) - 1\n",
        "\n",
        "    return residual\n",
        "end"
      ]
    },
    {
      "cell_type": "markdown",
      "id": "da5f5570",
      "metadata": {},
      "source": [
        "**Using multiple dispatch, define two variants of the same functions,\n",
        "that take vectors as input and output arguments:** -\n",
        "`arbitrage(s::Vector{T}, x::Vector{T}, S::Vector{T}, X::Vector{T}, p) where T<:Number` -\n",
        "`transition(s::Vector{T}, x::Vector{T}, p) where T<:Number`"
      ]
    },
    {
      "cell_type": "code",
      "execution_count": 4,
      "id": "da05db49",
      "metadata": {},
      "outputs": [
        {
          "data": {
            "text/plain": [
              "transition (generic function with 2 methods)"
            ]
          },
          "metadata": {},
          "output_type": "display_data"
        }
      ],
      "source": [
        "#! /// To modify defined function to also accept different types than previously defined /// \n",
        "\n",
        "arbitrage(s::Vector{T}, x::Vector{T}, S::Vector{T}, X::Vector{T}, p) where T<:Number = arbitrage(s[1],s[2],x[1],S[1],S[2],X[1],p)\n",
        "\n",
        "# For transition, do not return the named tuple but a vector then\n",
        "transition(s::Vector{T}, x::Vector{T}, p) where T<:Number = [ transition(s[1],s[2],x[1],p)... ]\n",
        "\n",
        "# t = (3.0, 2.0, 1.0)\n",
        "# [ x for x in t] to convert tuple into vector or simpler : [t...]"
      ]
    },
    {
      "cell_type": "markdown",
      "id": "56aaf753",
      "metadata": {},
      "source": [
        "**Write a function `steady_state(p)::Tuple{Vector,Vector}` which\n",
        "computes the steady-state of the model computed by hand.** It returns\n",
        "two vectors, one for the states, one for the controls. Check that the\n",
        "steady-state satisfies the model equations."
      ]
    },
    {
      "cell_type": "markdown",
      "id": "bffbf0d1",
      "metadata": {},
      "source": [
        "$\\textrm{\\textbf{\\color{blue}\\underline{Steady-state} }}$ \n",
        "- $\\overline{c}, \\overline{k}, \\overline{z}, \\overline{i}, \\overline{y}$ such that:\n",
        "  - $z_{t+1}=z_t=\\overline{z}$\n",
        "  - $k_{t+1}=k_t=\\overline{k}$\n",
        "  - $i_{t+1}=i_t=\\overline{i}$\n",
        "  - $c_{t+1}=c_t=\\overline{c}$\n",
        "  - ...\n",
        "- ...satisfy the first order conditions i.e : \n",
        "\n",
        "$$\\begin{cases} \\begin{align*}\n",
        "1 & = & \\beta   \\left( 1-\\delta + \\alpha e^{\\overline{z}}{\\overline{k}}^{\\alpha -1} \\right)  \\\\\n",
        "\\overline{k} & = & (1-\\delta) \\overline{k} + \\overline{i} \\\\\n",
        "\\overline{z} & = & \\rho \\overline{z} \\\\\n",
        "\\overline{c} & = & e^{\\overline{z}}\\overline{k}^{\\alpha} - \\overline{i}\n",
        "\\end{align*}\\end{cases} $$\n",
        "- **Soit :**\n",
        "$$\\begin{cases} \\begin{align*}\n",
        "\\overline{k} & = & \\left( \\frac{\\frac{1}{\\beta}-(1-\\delta)}{\\alpha} \\right)^{\\frac{1}{\\alpha - 1}} \\\\\n",
        "\\overline{i} & = & \\delta \\overline{k} \\\\\\\n",
        "\\overline{z} & = & 0 \\\\\n",
        "\\overline{c} & = & \\overline{k}^{\\alpha} - \\overline{i}\n",
        "\\end{align*}\\end{cases} $$"
      ]
    },
    {
      "cell_type": "code",
      "execution_count": 5,
      "id": "c26aad3d",
      "metadata": {},
      "outputs": [
        {
          "data": {
            "text/plain": [
              "(s = [0.0, 2.920822149964071], x = [0.29208221499640713])"
            ]
          },
          "metadata": {},
          "output_type": "display_data"
        }
      ],
      "source": [
        "function steady_state(p)\n",
        "\n",
        "    (; α, β, γ, δ, ρ) = p\n",
        "\n",
        "    # Steady states\n",
        "    z = 0.0\n",
        "    k = ( (1/β - (1-δ))/α )^(1/(α-1))\n",
        "    i = δ*k\n",
        "\n",
        "    s = [z,k] # vector of states\n",
        "    x = [i]   # vector of controls\n",
        "    \n",
        "    return (;\n",
        "        s,\n",
        "        x)\n",
        "end\n",
        "\n",
        "steady_state(model)"
      ]
    },
    {
      "cell_type": "code",
      "execution_count": 6,
      "id": "a9238b99",
      "metadata": {},
      "outputs": [
        {
          "data": {
            "text/plain": [
              "0.0"
            ]
          },
          "metadata": {},
          "output_type": "display_data"
        }
      ],
      "source": [
        "#? Check that the steady state is correct using the functions representing the model : i.e transition keeps still\n",
        "\n",
        "ss = steady_state(model)\n",
        "# transition(ss.s, ss.x, model) - ss.s \n",
        "# returns zero good\n",
        "\n",
        "# Steady state values should satisfy Euler equation => residual = 0\n",
        "arbitrage(ss.s, ss.x, ss.s, ss.x, model)\n",
        "# returns zero good\n",
        "\n",
        "# @assert maximum(transition(ss.s, ss.x, model) - ss.s) == 0.0"
      ]
    },
    {
      "cell_type": "markdown",
      "id": "4baf3e9a",
      "metadata": {},
      "source": [
        "**Define a structure `PerturbedModel` to hold matrices A,B,C,D,E,F.**"
      ]
    },
    {
      "cell_type": "code",
      "execution_count": 7,
      "id": "8a272d00",
      "metadata": {},
      "outputs": [],
      "source": [
        "struct PerturbedModel\n",
        "    A::Matrix\n",
        "    B::Matrix\n",
        "    C::Matrix\n",
        "    D::Matrix\n",
        "    E::Matrix\n",
        "    F::Matrix\n",
        "end"
      ]
    },
    {
      "cell_type": "markdown",
      "id": "d3cee668",
      "metadata": {},
      "source": [
        "$\\textrm{\\textbf{{\\color{blue}\\underline{The first order system satisfies : linearized system around the steady state :}}}}$\n",
        "\n",
        "We have $s_t = (\\Delta z_t, \\Delta k_t)$ and $x_t = (\\Delta i_t)$\n",
        "\n",
        "$$ \n",
        "\\textrm{\\textbf{\\underline{Around the steady-state :}}}\\quad \n",
        "\\begin{cases} \\begin{align*} \n",
        "A \\begin{bmatrix} \\Delta z_t \\\\ \\Delta k_t \\end{bmatrix} + B \\begin{bmatrix} \\Delta i_t \\end{bmatrix} + C \\begin{bmatrix} \\Delta z_{t+1} \\\\ \\Delta k_{t+1} \\end{bmatrix} + D \\begin{bmatrix} \\Delta i_{t+1} \\end{bmatrix} \n",
        "& = 0 & \\qquad \\textrm{\\textit{forward looking}} \\\\\n",
        "\n",
        "\\begin{bmatrix} \\Delta z_{t+1} \\\\ \\Delta k_{t+1} \\end{bmatrix} & = E \\begin{bmatrix} \\Delta z_{t} \\\\ \\Delta k_{t} \\end{bmatrix} + F \\begin{bmatrix} \\Delta i_t \\end{bmatrix} & \\qquad \\textrm{\\textit{backward looking}} \n",
        "\\end{align*} \\end{cases}\n",
        "$$\n",
        "\n",
        "<br>\n",
        "\n",
        "$$ A = \\begin{bmatrix} a_z & a_k \\end{bmatrix} \\quad B = [b_i] \\quad C = \\begin{bmatrix} c_z & c_k \\end{bmatrix} \\quad D = [d_i] \\\\ \\; \\\\ E = \\begin{bmatrix} e_{zz} & e_{zk} \\\\ e_{kz} & e_{kk} \\end{bmatrix} \\quad F = \\begin{bmatrix} f_{zi} \\\\ f_{ki} \\end{bmatrix} $$\n",
        "\n",
        "<br>\n",
        "\n",
        "**Write a function\n",
        "`first_order_model(s::Vector, x::Vector, p)::PerturbedModel`, which\n",
        "returns the *first order model*, given the steady-state and the\n",
        "calibration. <br> Suggestion: use `ForwardDiff.jl` library.**"
      ]
    },
    {
      "cell_type": "markdown",
      "id": "b72f668e",
      "metadata": {},
      "source": [
        "$ \\textrm{\\underline{arbitrage} = Euler :} \n",
        "\\begin{bmatrix} s_t \\\\ {\\color{red}x_t} \\\\ s_{t+1} \\\\ {\\color{red}x_{t+1}} \\end{bmatrix}\n",
        "= \\begin{bmatrix} z_t \\\\ k_t \\\\ {\\color{red}i_t} \\\\ z_{t+1} \\\\ k_{t+1} \\\\ {\\color{red}i_{t+1}} \\end{bmatrix} \n",
        "\\mapsto \\beta \\left[ \\frac{ e^{z_{t+1}} k_{t+1}^{\\alpha} - i_{t+1} }{ e^{z_{t}} k_{t}^{\\alpha} - i_{t} } \\right]^{-\\gamma} - 1 \n",
        "\\quad \\longleftrightarrow \\quad\n",
        "\\textrm{\\textit{\\underline{Linearized / FO around the SS :}}} \\; \\; A s_t + B x_t + C s_{t+1} + D x_{t+1} = 0_{n_x=1} \\quad \\textrm{\\textit{(forward looking)}}\n",
        "$ \n",
        "\n",
        "**and**\n",
        "\n",
        "$ \\textrm{\\underline{transition} :} \n",
        "\\begin{bmatrix} s_t \\\\ {\\color{red}x_t} \\end{bmatrix}\n",
        "= \\begin{bmatrix} z_t \\\\ k_t \\\\ {\\color{red}i_t} \\end{bmatrix} \n",
        "\\mapsto \\begin{bmatrix} \\rho z_t \\\\ (1-\\delta)k_t + i_t \\end{bmatrix}\n",
        "= \\begin{bmatrix} z_{t+1} \\\\ k_{t+1} \\end{bmatrix}\n",
        "= \\begin{bmatrix} s_{t+1} \\end{bmatrix}\n",
        "\\quad \\longleftrightarrow \\quad\n",
        "\\textrm{\\textit{\\underline{Linearized / FO around the SS :}}} \\quad s_{t+1} = E s_t + F x_t \\qquad \\textrm{\\textit{(backward looking)}} \n",
        "$ \n",
        "\n",
        "With : \n",
        "\n",
        "$$ A = \\begin{bmatrix} a_z & a_k \\end{bmatrix} \\quad B = b_i \\quad C = \\begin{bmatrix} c_z & c_k \\end{bmatrix} \\quad D = d_i \\\\ \\; \\\\ E = \\begin{bmatrix} e_{zz} & e_{zk} \\\\ e_{kz} & e_{kk} \\end{bmatrix} \\quad F = \\begin{bmatrix} f_{zi} \\\\ f_{ki} \\end{bmatrix} $$"
      ]
    },
    {
      "cell_type": "markdown",
      "id": "2616359f",
      "metadata": {},
      "source": [
        "**Let** :\n",
        "\n",
        "- $\\mathcal{A_{rbi}} : (s_t,x_t,s_{t+1},x_{t+1}) \\mapsto arbitrage(s_t,x_t,s_{t+1},x_{t+1}) = \\beta \\left[ \\frac{ e^{z_{t+1}} k_{t+1}^{\\alpha} - i_{t+1} }{ e^{z_{t}} k_{t}^{\\alpha} - i_{t} } \\right]^{-\\gamma} - 1    \\\\ \\; \\\\$\n",
        "- $f : (s_t,x_t,s_{t+1},x_{t+1}) \\mapsto A s_t + B x_t + C s_{t+1} + D x_{t+1} \\qquad \\Rightarrow \\textrm{Linearization of } \\mathcal{A_{rbi}} \\textrm{ \\textit{'arbitrage'} \\textbf{\\underline{around the SS}}} \\\\ \\; \\\\$\n",
        "- $\\mathcal{T_{ransi}} : (s_t,x_t) \\mapsto transition(s_t,x_t) = \\begin{bmatrix} s_{t+1} \\end{bmatrix} \\\\ \\; \\\\$\n",
        "- $g : (s_t,x_t) \\mapsto E s_t + F x_t \\qquad \\Rightarrow \\textrm{Linearization of } \\mathcal{T_{ransi}} \\textrm{ \\textit{'transition'} \\textbf{\\underline{around the SS}}} \\\\$ \n",
        "\n",
        "<br>\n",
        "\n",
        "**In particular we have, by evaluating the derivates AT the steady-state :**\n",
        "\n",
        "$$\\begin{cases} \\begin{align*} \n",
        "\\frac{\\partial f}{\\partial {\\color{red}s_t} }& (s_t = \\overline{s},\\overline{x},\\overline{s},\\overline{x}) & = & {\\color{red}A} & = & \\frac{\\partial \\mathcal{A_{rbi}} }{\\partial {\\color{red}s_t} } (s_t = \\overline{s},\\overline{x},\\overline{s},\\overline{x})\\\\\n",
        "\n",
        "\\frac{\\partial f}{\\partial {\\color{red}x_t} }& (\\overline{s},x_t = \\overline{x},\\overline{s},\\overline{x}) & = & {\\color{red}B} & = & \\frac{\\partial \\mathcal{A_{rbi}} }{\\partial {\\color{red}x_t} } (s_t = \\overline{s},\\overline{x},\\overline{s},\\overline{x})\\\\\n",
        "\n",
        "\\frac{\\partial f}{\\partial {\\color{red}s_{t+1}} }& (\\overline{s},\\overline{x},s_{t+1} = \\overline{s},\\overline{x}) & = & {\\color{red}C} & = & \\frac{\\partial \\mathcal{A_{rbi}} }{\\partial {\\color{red}s_{t+1}} } (s_t = \\overline{s},\\overline{x},\\overline{s},\\overline{x})\\\\\n",
        "\n",
        "\\frac{\\partial f}{\\partial {\\color{red}x_{t+1}} }& (\\overline{s},\\overline{x},\\overline{s},x_{t+1} = \\overline{x}) & = & {\\color{red}D} & = & \\frac{\\partial \\mathcal{A_{rbi}} }{\\partial {\\color{red}x_{t+1}} } (s_t = \\overline{s},\\overline{x},\\overline{s},\\overline{x})\\\\\n",
        "\\end{align*} \\end{cases}\n",
        "\n",
        "\\qquad and \\qquad\n",
        "\n",
        "\\begin{cases} \\begin{align*} \n",
        "\\frac{\\partial g}{\\partial {\\color{red}s_t} }& (s_t = \\overline{s},\\overline{x}) & = & {\\color{red}E} \\\\\n",
        "\\frac{\\partial g}{\\partial {\\color{red}x_t} }& (\\overline{s},x_t = \\overline{x}) & = & {\\color{red}F} \\\\\n",
        "\\end{align*} \\end{cases}\n",
        "$$"
      ]
    },
    {
      "cell_type": "code",
      "execution_count": 8,
      "id": "4bf26212",
      "metadata": {},
      "outputs": [
        {
          "data": {
            "text/plain": [
              "transition (generic function with 3 methods)"
            ]
          },
          "metadata": {},
          "output_type": "display_data"
        }
      ],
      "source": [
        "# We need to loosen the constraint on the arbitrage arguments : \n",
        "\n",
        "# brutal \n",
        "arbitrage(s, x, S, X, p) = [ arbitrage(s[1],s[2],x[1],S[1],S[2],X[1],p) ]\n",
        "transition(s, x, p) = [ transition(s[1],s[2],x[1],p)... ]\n",
        "\n",
        "# More precise, allows for each parameter to be a different type of Number\n",
        "# arbitrage(s::Vector{<:Number}, x::Vector{<:Number}, S::Vector{<:Number}, X::Vector{<:Number}, p) = arbitrage(s[1],s[2],x[1],S[1],S[2],X[1],p)"
      ]
    },
    {
      "cell_type": "code",
      "execution_count": 9,
      "id": "c443a54d",
      "metadata": {},
      "outputs": [
        {
          "data": {
            "text/plain": [
              "PerturbedModel([5.074626865671642 0.5212190203776081], [-3.679193085018409;;], [-4.938626865671642 -0.5538125831185546], [3.679193085018409;;], [0.9 0.0; 0.0 0.9], [0.0; 1.0;;])"
            ]
          },
          "metadata": {},
          "output_type": "display_data"
        }
      ],
      "source": [
        "s = ss.s\n",
        "x = ss.x\n",
        "\n",
        "function first_order_model(s,x,parameters)\n",
        "\n",
        "    A = ForwardDiff.jacobian( u->arbitrage(u,x,s,x,parameters), s)\n",
        "    B = ForwardDiff.jacobian( u->arbitrage(s,u,s,x,parameters), x)\n",
        "    C = ForwardDiff.jacobian( u->arbitrage(s,x,u,x,parameters), s)\n",
        "    D = ForwardDiff.jacobian( u->arbitrage(s,x,s,u,parameters), x)\n",
        "    E = ForwardDiff.jacobian( u->transition(u,x,parameters), s)\n",
        "    F = ForwardDiff.jacobian( u->transition(s,u,parameters), x)\n",
        "\n",
        "    return PerturbedModel(A,B,C,D,E,F)\n",
        "end\n",
        "\n",
        "FO_model = first_order_model(s,x,model)"
      ]
    },
    {
      "cell_type": "markdown",
      "id": "1c87e8ca",
      "metadata": {},
      "source": [
        "> **We look for a linear solution ${ \\color{red} x_t = X s_t }$** <br> $\\;$ <br>\n",
        "> **In our case this amounts to** $\\begin{bmatrix} \\Delta c_t \\\\ \\Delta i_t \\end{bmatrix} = \\begin{bmatrix} x_{cz} & x_{ck} \\\\ x_{iz} & x_{ik} \\end{bmatrix} \\begin{bmatrix} \\Delta z_t \\\\ \\Delta k_t \\end{bmatrix}$ <br> $\\;$ <br>\n",
        "> **In thi code** $\\begin{bmatrix} \\Delta i_t \\end{bmatrix} = {\\color{red}\\begin{bmatrix} x_z & x_k \\end{bmatrix}} \\begin{bmatrix} \\Delta z_t \\\\ \\Delta k_t \\end{bmatrix}$ <br> $\\;$ <br>\n",
        "> $\\textrm{\\color{red} Equation satisfied by X ?}$ \n",
        "\n",
        "$$ \n",
        "\\begin{cases} \\begin{align*} \n",
        "A s_t + B x_t + C s_{t+1} + D x_{t+1} & = & 0_{n_x} \\qquad \\textrm{\\textit{forward looking}} \\\\\n",
        "s_{t+1} & = & E s_t + F x_t \\qquad \\textrm{\\textit{backward looking}} \n",
        "\\end{align*} \\end{cases}\n",
        "$$\n",
        "\n",
        "$s_{t+1} = E s_t + F x_t = (E + F.X) s_t$\n",
        "\n",
        "$A s_t + B {\\color{red}x_t} + C {\\color{blue}s_{t+1}} + D {\\color{green}x_{t+1}} \n",
        "= A s_t + B{\\color{red}Xs_t} + C{\\color{blue}(E+FX)s_t} + D{\\color{green}Xs_{t+1}}\n",
        "= A s_t + B{\\color{red}Xs_t} + C{\\color{blue}(E+FX)s_t} + D{\\color{green}X(E+FX)s_t}\n",
        "$\n",
        "\n",
        "$\\Rightarrow \\forall s_t \\quad \\left[ A + BX + C(E+FX) + DX(E+FX) \\right]s_t = 0 $"
      ]
    },
    {
      "cell_type": "markdown",
      "id": "c40a79d9",
      "metadata": {},
      "source": [
        "$$\\Rightarrow \\textrm{\\textbf{\\underline{X must satisfy :}}} \\quad {\\color{red} (A + B{\\color{black}X}) + (C+D{\\color{black}X})(E+F{\\color{black}X}) = 0 } $$"
      ]
    },
    {
      "cell_type": "markdown",
      "id": "e28bd254",
      "metadata": {},
      "source": [
        "**Write the matrix equation which `X` must satisfy** <br>\n",
        "**Write a function `residual(X::Array, M::PerturbedModel)` which computes the residual of this equation for a given `X`**"
      ]
    },
    {
      "cell_type": "code",
      "execution_count": 10,
      "id": "b3ba4542",
      "metadata": {},
      "outputs": [
        {
          "data": {
            "text/plain": [
              "residual (generic function with 1 method)"
            ]
          },
          "metadata": {},
          "output_type": "display_data"
        }
      ],
      "source": [
        "function residual(X::Matrix, M::PerturbedModel)\n",
        "    # X must satisfy (A+BX) + (C+DX)(E+FX) = 0\n",
        "    (; A,B,C,D,E,F) = M\n",
        "    residual = A + B*X + (C+D*X)*(E+F*X)\n",
        "    return residual\n",
        "end"
      ]
    },
    {
      "cell_type": "markdown",
      "id": "9b65a82d",
      "metadata": {},
      "source": [
        "$\\textrm{\\textbf{{\\color{red}\\underline{LINEAR TIME ITERATION ALGO}}}}$"
      ]
    },
    {
      "cell_type": "markdown",
      "id": "357bf061",
      "metadata": {},
      "source": [
        "Following *Pontus Rendahl (2017)*, our main equation of interest is : \n",
        "\n",
        "$\\begin{cases}\n",
        "A s_t + B x_t + C s_{t+1} + D x_{t+1} = 0 \\\\\n",
        "s_{t+1} = E s_t + F x_t\n",
        "\\end{cases}$\n",
        "\n",
        "**$\\longrightarrow$ Suppose we have a guess $X^{{\\color{red}(n)}}$ such that $\\color{red} x_{t+1} = X^{(n)} s_{t+1}$ :** \n",
        "\n",
        "$\\begin{cases}\n",
        "A s_t + B x_t + C s_{t+1} + D X^{{\\color{red}(n)}} s_{t+1} = 0 \\\\\n",
        "s_{t+1} = E s_t + F x_t\n",
        "\\end{cases} \\quad \\Longrightarrow \\quad\n",
        "\\begin{cases}\n",
        "A s_t + B x_t + (C + D X^{{\\color{red}(n)}}) (E s_t + F x_t) = 0 \\\\\n",
        "s_{t+1} = E s_t + F x_t\n",
        "\\end{cases} \\quad \\Longrightarrow \\quad\n",
        "\\begin{cases}\n",
        "\\left[ A + (C + D X^{{\\color{red}(n)}})E \\right] s_t + \\left[ B + (C + D X^{{\\color{red}(n)}})F \\right] x_t = 0 \\quad (*) \\\\\n",
        "\\longrightarrow \\left[ B + (C + D X^{{\\color{red}(n)}})F \\right] x_t = - \\left[ A + (C + D X^{{\\color{red}(n)}})E \\right] s_t \\\\\n",
        "\\longrightarrow  x_t = {\\color{blue}- \\left[ B + (C + D X^{(n)})F \\right]^{-1}.\\left[ A + (C + D X^{(n)})E \\right]} s_t \\\\\n",
        "\\longrightarrow  x_t = {\\color{blue}X^{(n+1)}} s_t \\qquad \\textrm{\\color{blue}\\underline{Updated guess}}\\\\\n",
        "\\end{cases}\n",
        "$"
      ]
    },
    {
      "cell_type": "markdown",
      "id": "d3f9d8e0",
      "metadata": {},
      "source": [
        "**Write a function `T(X, M::PerturbedModel)` which implements the `time iteration step`.**"
      ]
    },
    {
      "cell_type": "markdown",
      "id": "34da4847",
      "metadata": {},
      "source": [
        "$ (*) \\quad F(X,\\tilde{X}) = ( A + (C + D X)E ) + ( B + (C + D \\tilde{X})F ) X = 0\\\\$ \n",
        "$ \\; \\; \\; \\; \\, \\quad F(X,\\tilde{X}) = (A+B X) + (C + D\\tilde{X})(E + FX) = 0\\\\$ <br>\n",
        "$\\quad \\Rightarrow X_{n+1}$ such that $F(X_{n+1}, X_{n}) = 0 \\longrightarrow F(X_{n+1}:=T(X_n),X_n) = 0$\n",
        "\n"
      ]
    },
    {
      "cell_type": "markdown",
      "id": "ec346b9a",
      "metadata": {},
      "source": [
        "$$X_{n+1} := T(X_n) \\longrightarrow F(X_{n+1},X_n) = 0$$\n",
        "\n",
        "$$ F(X_{n+1}, X_n) = (A + B X_{n+1}) + ( C+ D X_n) ( E  + F X_{n+1} ) = 0 $$\n",
        "\n",
        "$$\\left[ B + (C+D X_{n})F \\right] X_{n+1} + A  + (C+D X_n )E=0$$\n",
        "\n",
        "$$ \\longrightarrow X_{n+1} = \\left[ B + (C + D X_n) F \\right]^{-1} (A + (C+DX_n)E)$$"
      ]
    },
    {
      "cell_type": "code",
      "execution_count": 21,
      "id": "1d9e710f",
      "metadata": {},
      "outputs": [
        {
          "data": {
            "text/plain": [
              "1×2 Matrix{Float64}:\n",
              " 2.25726  1.86966"
            ]
          },
          "metadata": {},
          "output_type": "display_data"
        }
      ],
      "source": [
        "function T(X, M::PerturbedModel)\n",
        "    (; A,B,C,D,E,F) = M\n",
        "    T = - inv(B + (C+D*X)*F) * (A+(C+D*X)*E)\n",
        "    return T\n",
        "end\n",
        "T(rand(1,2), FO_model)"
      ]
    },
    {
      "cell_type": "markdown",
      "id": "8b5b24ba",
      "metadata": {},
      "source": [
        "**Write function\n",
        "`linear_time_iteration(X_0::Matrix, M::PerturbedModel)::Matrix` which\n",
        "implements the time iteration algorithm. <br>\n",
        "Apply it to `X0 = rand(1,2)`\n",
        "and check that the result satisfies the first order model.**"
      ]
    },
    {
      "cell_type": "code",
      "execution_count": 22,
      "id": "7d98075b",
      "metadata": {},
      "outputs": [
        {
          "data": {
            "text/plain": [
              "linear_time_iteration (generic function with 1 method)"
            ]
          },
          "metadata": {},
          "output_type": "display_data"
        }
      ],
      "source": [
        "function linear_time_iteration(X_0::Matrix, M::PerturbedModel)\n",
        "    ϵ = 10^(-16)    # erreur\n",
        "    η = 10^(-14)    # tolerance convergence speed\n",
        "    c = 1\n",
        "    success_L = []\n",
        "    cvspeed_L = []\n",
        "\n",
        "    X = X_0\n",
        "    Y = T(X,M)\n",
        "    success = sum(residual(Y,M).^2)\n",
        "    cvspeed = sum(abs.(Y - X))\n",
        "\n",
        "    push!(cvspeed_L, cvspeed)\n",
        "    push!(success_L, success)\n",
        "\n",
        "    X = T(X_0,M)\n",
        "\n",
        "    println(\"----------------------------------------------------------------------------------------------------------------------------\")\n",
        "    while (success>ϵ)&(cvspeed>η)\n",
        "        if c>10000\n",
        "            return \"Iter > 10000\"\n",
        "        end\n",
        "        c+=1\n",
        "        Y = T(X,M)\n",
        "        success = sum(residual(Y,M).^2)\n",
        "        cvspeed = sum(abs.(Y - X))\n",
        "        @printf \"iter : %3.0f | Successive errors : %.14f | Success criterion : %9.6f \\n\" c cvspeed success\n",
        "        push!(cvspeed_L, cvspeed)\n",
        "        push!(success_L, success)\n",
        "        X = copy(Y)\n",
        "    end\n",
        "    println(\"----------------------------------------------------------------------------------------------------------------------------\")\n",
        "\n",
        "    #fig = plot(legend=:topright, title=\"Linear Time Iteration algo\", xaxis=\"Iterations\", yaxis=\"F(X,X)\")\n",
        "    #plot!(fig, success_L, c=:blue)\n",
        "\n",
        "    return Y\n",
        "end"
      ]
    },
    {
      "cell_type": "code",
      "execution_count": 20,
      "id": "eda3f323",
      "metadata": {},
      "outputs": [
        {
          "name": "stdout",
          "output_type": "stream",
          "text": [
            "----------------------------------------------------------------------------------------------------------------------------\n",
            "iter :   2 | Successive errors : 8.76318519764042 | Success criterion : 72.155945 \n",
            "iter :   3 | Successive errors : 1.34912419317484 | Success criterion :  3.076336 \n",
            "iter :   4 | Successive errors : 0.41741163485160 | Success criterion :  0.697699 \n",
            "iter :   5 | Successive errors : 0.22593322645118 | Success criterion :  0.287569 \n",
            "iter :   6 | Successive errors : 0.15151920576413 | Success criterion :  0.156780 \n",
            "iter :   7 | Successive errors : 0.11300205403421 | Success criterion :  0.098654 \n",
            "iter :   8 | Successive errors : 0.08935154863220 | Success criterion :  0.067089 \n",
            "iter :   9 | Successive errors : 0.07310636065883 | Success criterion :  0.047661 \n",
            "iter :  10 | Successive errors : 0.06106536043929 | Success criterion :  0.034720 \n",
            "iter :  11 | Successive errors : 0.05166312800231 | Success criterion :  0.025660 \n",
            "iter :  12 | Successive errors : 0.04405493696192 | Success criterion :  0.019115 \n",
            "iter :  13 | Successive errors : 0.03774725503788 | Success criterion :  0.014296 \n",
            "iter :  14 | Successive errors : 0.03243146993266 | Success criterion :  0.010706 \n",
            "iter :  15 | Successive errors : 0.02790259210624 | Success criterion :  0.008015 \n",
            "iter :  16 | Successive errors : 0.02401682652915 | Success criterion :  0.005991 \n",
            "iter :  17 | Successive errors : 0.02066824270010 | Success criterion :  0.004469 \n",
            "iter :  18 | Successive errors : 0.01777538824188 | Success criterion :  0.003325 \n",
            "iter :  19 | Successive errors : 0.01527332948089 | Success criterion :  0.002466 \n",
            "iter :  20 | Successive errors : 0.01310876949242 | Success criterion :  0.001824 \n",
            "iter :  21 | Successive errors : 0.01123696600373 | Success criterion :  0.001344 \n",
            "iter :  22 | Successive errors : 0.00961972835525 | Success criterion :  0.000988 \n",
            "iter :  23 | Successive errors : 0.00822407444214 | Success criterion :  0.000724 \n",
            "iter :  24 | Successive errors : 0.00702129810017 | Success criterion :  0.000528 \n",
            "iter :  25 | Successive errors : 0.00598629563995 | Success criterion :  0.000385 \n",
            "iter :  26 | Successive errors : 0.00509705861233 | Success criterion :  0.000279 \n",
            "iter :  27 | Successive errors : 0.00433427527201 | Success criterion :  0.000202 \n",
            "iter :  28 | Successive errors : 0.00368100496156 | Success criterion :  0.000146 \n",
            "iter :  29 | Successive errors : 0.00312240313200 | Success criterion :  0.000105 \n",
            "iter :  30 | Successive errors : 0.00264548311395 | Success criterion :  0.000075 \n",
            "iter :  31 | Successive errors : 0.00223890596843 | Success criterion :  0.000054 \n",
            "iter :  32 | Successive errors : 0.00189279295987 | Success criterion :  0.000039 \n",
            "iter :  33 | Successive errors : 0.00159855714709 | Success criterion :  0.000028 \n",
            "iter :  34 | Successive errors : 0.00134875175154 | Success criterion :  0.000020 \n",
            "iter :  35 | Successive errors : 0.00113693363648 | Success criterion :  0.000014 \n",
            "iter :  36 | Successive errors : 0.00095754060866 | Success criterion :  0.000010 \n",
            "iter :  37 | Successive errors : 0.00080578145715 | Success criterion :  0.000007 \n",
            "iter :  38 | Successive errors : 0.00067753774995 | Success criterion :  0.000005 \n",
            "iter :  39 | Successive errors : 0.00056927646385 | Success criterion :  0.000004 \n",
            "iter :  40 | Successive errors : 0.00047797255651 | Success criterion :  0.000002 \n",
            "iter :  41 | Successive errors : 0.00040104061622 | Success criterion :  0.000002 \n",
            "iter :  42 | Successive errors : 0.00033627475340 | Success criterion :  0.000001 \n",
            "iter :  43 | Successive errors : 0.00028179593207 | Success criterion :  0.000001 \n",
            "iter :  44 | Successive errors : 0.00023600597959 | Success criterion :  0.000001 \n",
            "iter :  45 | Successive errors : 0.00019754755840 | Success criterion :  0.000000 \n",
            "iter :  46 | Successive errors : 0.00016526943347 | Success criterion :  0.000000 \n",
            "iter :  47 | Successive errors : 0.00013819642075 | Success criterion :  0.000000 \n",
            "iter :  48 | Successive errors : 0.00011550345539 | Success criterion :  0.000000 \n",
            "iter :  49 | Successive errors : 0.00009649327044 | Success criterion :  0.000000 \n",
            "iter :  50 | Successive errors : 0.00008057722799 | Success criterion :  0.000000 \n",
            "iter :  51 | Successive errors : 0.00006725889308 | Success criterion :  0.000000 \n",
            "iter :  52 | Successive errors : 0.00005611998610 | Success criterion :  0.000000 \n",
            "iter :  53 | Successive errors : 0.00004680839201 | Success criterion :  0.000000 \n",
            "iter :  54 | Successive errors : 0.00003902794280 | Success criterion :  0.000000 \n",
            "iter :  55 | Successive errors : 0.00003252972540 | Success criterion :  0.000000 \n",
            "iter :  56 | Successive errors : 0.00002710469827 | Success criterion :  0.000000 \n",
            "iter :  57 | Successive errors : 0.00002257742873 | Success criterion :  0.000000 \n",
            "iter :  58 | Successive errors : 0.00001880078773 | Success criterion :  0.000000 \n",
            "iter :  59 | Successive errors : 0.00001565146150 | Success criterion :  0.000000 \n",
            "iter :  60 | Successive errors : 0.00001302615846 | Success criterion :  0.000000 \n",
            "iter :  61 | Successive errors : 0.00001083840732 | Success criterion :  0.000000 \n",
            "iter :  62 | Successive errors : 0.00000901585695 | Success criterion :  0.000000 \n",
            "iter :  63 | Successive errors : 0.00000749800149 | Success criterion :  0.000000 \n",
            "iter :  64 | Successive errors : 0.00000623426563 | Success criterion :  0.000000 \n",
            "iter :  65 | Successive errors : 0.00000518239412 | Success criterion :  0.000000 \n",
            "iter :  66 | Successive errors : 0.00000430709857 | Success criterion :  0.000000 \n",
            "iter :  67 | Successive errors : 0.00000357892099 | Success criterion :  0.000000 \n",
            "iter :  68 | Successive errors : 0.00000297328026 | Success criterion :  0.000000 \n",
            "iter :  69 | Successive errors : 0.00000246967248 | Success criterion :  0.000000 \n",
            "iter :  70 | Successive errors : 0.00000205100083 | Success criterion :  0.000000 \n",
            "iter :  71 | Successive errors : 0.00000170301430 | Success criterion :  0.000000 \n",
            "iter :  72 | Successive errors : 0.00000141383794 | Success criterion :  0.000000 \n",
            "iter :  73 | Successive errors : 0.00000117357972 | Success criterion :  0.000000 \n",
            "iter :  74 | Successive errors : 0.00000097400194 | Success criterion :  0.000000 \n",
            "iter :  75 | Successive errors : 0.00000080824646 | Success criterion :  0.000000 \n",
            "iter :  76 | Successive errors : 0.00000067060527 | Success criterion :  0.000000 \n",
            "iter :  77 | Successive errors : 0.00000055632883 | Success criterion :  0.000000 \n",
            "iter :  78 | Successive errors : 0.00000046146611 | Success criterion :  0.000000 \n",
            "iter :  79 | Successive errors : 0.00000038273113 | Success criterion :  0.000000 \n",
            "iter :  80 | Successive errors : 0.00000031739165 | Success criterion :  0.000000 \n",
            "iter :  81 | Successive errors : 0.00000026317635 | Success criterion :  0.000000 \n",
            "iter :  82 | Successive errors : 0.00000021819747 | Success criterion :  0.000000 \n",
            "iter :  83 | Successive errors : 0.00000018088636 | Success criterion :  0.000000 \n",
            "iter :  84 | Successive errors : 0.00000014993977 | Success criterion :  0.000000 \n",
            "iter :  85 | Successive errors : 0.00000012427519 | Success criterion :  0.000000 \n",
            "iter :  86 | Successive errors : 0.00000010299357 | Success criterion :  0.000000 \n",
            "iter :  87 | Successive errors : 0.00000008534840 | Success criterion :  0.000000 \n",
            "iter :  88 | Successive errors : 0.00000007071990 | Success criterion :  0.000000 \n",
            "iter :  89 | Successive errors : 0.00000005859361 | Success criterion :  0.000000 \n",
            "iter :  90 | Successive errors : 0.00000004854255 | Success criterion :  0.000000 \n",
            "iter :  91 | Successive errors : 0.00000004021239 | Success criterion :  0.000000 \n",
            "iter :  92 | Successive errors : 0.00000003330914 | Success criterion :  0.000000 \n",
            "iter :  93 | Successive errors : 0.00000002758889 | Success criterion :  0.000000 \n",
            "iter :  94 | Successive errors : 0.00000002284933 | Success criterion :  0.000000 \n",
            "iter :  95 | Successive errors : 0.00000001892266 | Success criterion :  0.000000 \n",
            "iter :  96 | Successive errors : 0.00000001566973 | Success criterion :  0.000000 \n",
            "iter :  97 | Successive errors : 0.00000001297516 | Success criterion :  0.000000 \n",
            "iter :  98 | Successive errors : 0.00000001074326 | Success criterion :  0.000000 \n",
            "iter :  99 | Successive errors : 0.00000000889473 | Success criterion :  0.000000 \n",
            "iter : 100 | Successive errors : 0.00000000736384 | Success criterion :  0.000000 \n",
            "iter : 101 | Successive errors : 0.00000000609608 | Success criterion :  0.000000 \n",
            "iter : 102 | Successive errors : 0.00000000504630 | Success criterion :  0.000000 \n",
            "iter : 103 | Successive errors : 0.00000000417708 | Success criterion :  0.000000 \n",
            "iter : 104 | Successive errors : 0.00000000345740 | Success criterion :  0.000000 \n",
            "iter : 105 | Successive errors : 0.00000000286157 | Success criterion :  0.000000 \n",
            "----------------------------------------------------------------------------------------------------------------------------\n"
          ]
        },
        {
          "data": {
            "text/plain": [
              "1×2 Matrix{Float64}:\n",
              " 0.768674  0.0278097"
            ]
          },
          "metadata": {},
          "output_type": "display_data"
        }
      ],
      "source": [
        "linear_time_iteration(rand(1,2), FO_model)"
      ]
    },
    {
      "cell_type": "markdown",
      "id": "f5512317",
      "metadata": {},
      "source": [
        "**Define two linear operators\n",
        "`L_S(U::Union{Vector, Matrix}, X_0::Matrix, m::PerturbedModel)::Matrix`\n",
        "and `L_T(U::Matrix, X_0::Matrix, m::PerturbedModel)::Matrix` which\n",
        "implement the derivatives of the simulation and the time-iteration\n",
        "operator respectively.**"
      ]
    },
    {
      "cell_type": "code",
      "execution_count": null,
      "id": "d9e77d6f",
      "metadata": {},
      "outputs": [],
      "source": []
    },
    {
      "cell_type": "markdown",
      "id": "05b23697",
      "metadata": {},
      "source": [
        "**Implement a function `spectral_radius(f::Function)::Float64` which\n",
        "implements the power iteration method to compute the biggest eigenvalues\n",
        "of the two previously defined operators. Check that Blanchard-Kahn\n",
        "conditions are met.**"
      ]
    },
    {
      "cell_type": "code",
      "execution_count": null,
      "id": "6ac92e8c",
      "metadata": {},
      "outputs": [],
      "source": []
    },
    {
      "cell_type": "markdown",
      "id": "3ddf218f",
      "metadata": {},
      "source": [
        "**Write a function\n",
        "`simulate(s0::Vector, X::Matrix, p, T::Int64)::Tuple{Matrix, Matrix}` to\n",
        "simulate the model over $T$ periods (by using the formula\n",
        "$\\Delta s_t = (E + F X) \\Delta s_{t-1}$. Return a matrix for the states\n",
        "(one line per date) and another matrix for the controls. Bonus: add a\n",
        "keyword option to compute variables levels or log-deviations. If\n",
        "possible, return a DataFrame object.**"
      ]
    },
    {
      "cell_type": "code",
      "execution_count": null,
      "id": "3f30e0e0",
      "metadata": {},
      "outputs": [],
      "source": []
    },
    {
      "cell_type": "markdown",
      "id": "fea34a91-1f50-4bac-80b3-ad15f6ffa3fc",
      "metadata": {},
      "source": [
        "**Make some nice plots.**"
      ]
    },
    {
      "cell_type": "markdown",
      "id": "73242859",
      "metadata": {},
      "source": [
        "------\n",
        "\n",
        "**Warm-up: install the `ForwardDiff` library. Use it to differentiate\n",
        "the function below. Check the jacobian function.**\n",
        "\n",
        "Note: the signature of function `f` needs to be fixed first to allow for\n",
        "dual numbers as arguments."
      ]
    },
    {
      "cell_type": "code",
      "execution_count": null,
      "id": "8de20f06",
      "metadata": {},
      "outputs": [],
      "source": [
        "test = eps(Float64)\n",
        "println((1+test)-1)\n",
        "println((1+test/2)-1)\n",
        "\n",
        "# test = smallest number : a number smaller than test will disappear in computations"
      ]
    },
    {
      "cell_type": "code",
      "execution_count": null,
      "id": "b988f496",
      "metadata": {},
      "outputs": [],
      "source": [
        "@variables a b x\n",
        "\n",
        "# Dual number :\n",
        "# Pour redéfinir opérations \n",
        "# import Base: *\n",
        "# import Base: /\n",
        "# import Base: +\n",
        "# import Base: -\n",
        "\n",
        "a + b*x\n",
        "Symbolics.derivative(sin(x^2), x)"
      ]
    },
    {
      "cell_type": "code",
      "execution_count": null,
      "id": "91862df9",
      "metadata": {},
      "outputs": [],
      "source": [
        "ForwardDiff.Dual(1.0,1.0)"
      ]
    },
    {
      "cell_type": "code",
      "execution_count": null,
      "id": "311fecf8",
      "metadata": {},
      "outputs": [],
      "source": [
        "#function f(x::Vector{T}) where T <: Number # Is equivalent to below definition\n",
        "function f(x::Vector{<:Number})\n",
        "    #works because 'Dual' (number) of ForwardDiff is a Number !\n",
        "    a = x[1]\n",
        "    b = x[2]\n",
        "    x1 = a+b\n",
        "    x2 = a*exp(b)\n",
        "    return [x1,x2]\n",
        "end"
      ]
    },
    {
      "cell_type": "code",
      "execution_count": null,
      "id": "4d772fcc",
      "metadata": {},
      "outputs": [],
      "source": [
        "# typeof(ForwardDiff.Dual(2.0,1.0,0.0))\n",
        "ForwardDiff.jacobian( u->f(u),[0.5,1.0] )"
      ]
    }
  ],
  "metadata": {
    "kernelspec": {
      "display_name": "Julia 1.10.1",
      "language": "julia",
      "name": "julia-1.10"
    },
    "language_info": {
      "file_extension": ".jl",
      "mimetype": "application/julia",
      "name": "julia",
      "version": "1.10.1"
    }
  },
  "nbformat": 4,
  "nbformat_minor": 5
}
