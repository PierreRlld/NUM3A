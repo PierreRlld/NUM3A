{
  "cells": [
    {
      "cell_type": "markdown",
      "id": "9a2b0c16-490a-41dc-a2fd-c87e7024529f",
      "metadata": {},
      "source": [
        "# Perturbation of Neoclassical Model\n",
        "\n",
        "Pablo Winant\n",
        "\n",
        "Our goal here is to compute a linear approximation of solution to the\n",
        "neoclassical model, close ot the steady-state.\n",
        "\n",
        "**Warm-up: install the `ForwardDiff` library. Use it to differentiate\n",
        "the function below. Check the jacobian function.**\n",
        "\n",
        "Note: the signature of function `f` needs to be fixed first to allow for\n",
        "dual numbers as arguments."
      ]
    },
    {
      "cell_type": "code",
      "execution_count": 2,
      "id": "710e309e",
      "metadata": {},
      "outputs": [
        {
          "name": "stderr",
          "output_type": "stream",
          "text": [
            "\u001b[32m\u001b[1m   Resolving\u001b[22m\u001b[39m package versions...\n"
          ]
        },
        {
          "name": "stderr",
          "output_type": "stream",
          "text": [
            "\u001b[32m\u001b[1m   Installed\u001b[22m\u001b[39m DiffRules ──────────── v1.15.1\n",
            "\u001b[32m\u001b[1m   Installed\u001b[22m\u001b[39m StaticArraysCore ───── v1.4.2\n",
            "\u001b[32m\u001b[1m   Installed\u001b[22m\u001b[39m DiffResults ────────── v1.1.0\n",
            "\u001b[32m\u001b[1m   Installed\u001b[22m\u001b[39m CommonSubexpressions ─ v0.3.0\n"
          ]
        },
        {
          "name": "stderr",
          "output_type": "stream",
          "text": [
            "\u001b[32m\u001b[1m   Installed\u001b[22m\u001b[39m ForwardDiff ────────── v0.10.36\n"
          ]
        },
        {
          "name": "stderr",
          "output_type": "stream",
          "text": [
            "\u001b[32m\u001b[1m    Updating\u001b[22m\u001b[39m `~/.julia/environments/v1.10/Project.toml`\n",
            "  \u001b[90m[f6369f11] \u001b[39m\u001b[92m+ ForwardDiff v0.10.36\u001b[39m\n",
            "\u001b[32m\u001b[1m    Updating\u001b[22m\u001b[39m `~/.julia/environments/v1.10/Manifest.toml`\n",
            "  \u001b[90m[bbf7d656] \u001b[39m\u001b[92m+ CommonSubexpressions v0.3.0\u001b[39m\n",
            "  \u001b[90m[163ba53b] \u001b[39m\u001b[92m+ DiffResults v1.1.0\u001b[39m\n",
            "  \u001b[90m[b552c78f] \u001b[39m\u001b[92m+ DiffRules v1.15.1\u001b[39m\n",
            "  \u001b[90m[f6369f11] \u001b[39m\u001b[92m+ ForwardDiff v0.10.36\u001b[39m\n",
            "  \u001b[90m[1e83bf80] \u001b[39m\u001b[92m+ StaticArraysCore v1.4.2\u001b[39m\n"
          ]
        },
        {
          "name": "stderr",
          "output_type": "stream",
          "text": [
            "\u001b[32m\u001b[1mPrecompiling\u001b[22m\u001b[39m project...\n"
          ]
        },
        {
          "name": "stderr",
          "output_type": "stream",
          "text": [
            "\u001b[32m  ✓ \u001b[39m\u001b[90mCommonSubexpressions\u001b[39m\n",
            "\u001b[32m  ✓ \u001b[39m\u001b[90mStaticArraysCore\u001b[39m\n",
            "\u001b[32m  ✓ \u001b[39m\u001b[90mDiffRules\u001b[39m\n"
          ]
        },
        {
          "name": "stderr",
          "output_type": "stream",
          "text": [
            "\u001b[32m  ✓ \u001b[39m\u001b[90mDiffResults\u001b[39m\n"
          ]
        },
        {
          "name": "stderr",
          "output_type": "stream",
          "text": [
            "\u001b[32m  ✓ \u001b[39mForwardDiff"
          ]
        },
        {
          "name": "stderr",
          "output_type": "stream",
          "text": [
            "\n",
            "  5 dependencies successfully precompiled in 4 seconds. 166 already precompiled.\n"
          ]
        }
      ],
      "source": [
        "import Pkg; Pkg.add(\"ForwardDiff\")"
      ]
    },
    {
      "cell_type": "code",
      "execution_count": 7,
      "id": "735f61a7",
      "metadata": {},
      "outputs": [
        {
          "name": "stdout",
          "output_type": "stream",
          "text": [
            "2.220446049250313e-16\n",
            "0.0\n"
          ]
        }
      ],
      "source": [
        "test = eps(Float64)\n",
        "println((1+test)-1)\n",
        "println((1+test/2)-1)\n",
        "\n",
        "# test = smallest number : a number smaller than test will disappear in computations"
      ]
    },
    {
      "cell_type": "code",
      "execution_count": 8,
      "id": "50767ccd",
      "metadata": {},
      "outputs": [],
      "source": [
        "using Symbolics"
      ]
    },
    {
      "cell_type": "code",
      "execution_count": 9,
      "id": "141f064d",
      "metadata": {},
      "outputs": [
        {
          "data": {
            "text/latex": [
              "$$ \\begin{equation}\n",
              "a + b x\n",
              "\\end{equation}\n",
              " $$"
            ],
            "text/plain": [
              "a + b*x"
            ]
          },
          "metadata": {},
          "output_type": "display_data"
        }
      ],
      "source": [
        "@variables a b x\n",
        "a + b*x"
      ]
    },
    {
      "cell_type": "code",
      "execution_count": 13,
      "id": "5e1d304d",
      "metadata": {},
      "outputs": [
        {
          "data": {
            "text/latex": [
              "$$ \\begin{equation}\n",
              "b^{x} \\log\\left( b \\right)\n",
              "\\end{equation}\n",
              " $$"
            ],
            "text/plain": [
              "(b^x)*log(b)"
            ]
          },
          "metadata": {},
          "output_type": "display_data"
        }
      ],
      "source": [
        "Symbolics.derivative(a+b^x, x)"
      ]
    },
    {
      "cell_type": "code",
      "execution_count": null,
      "id": "31955cac",
      "metadata": {},
      "outputs": [],
      "source": [
        "# Dual number :\n",
        "# Pour redéfinir opérations \n",
        "# import Base: *\n",
        "# import Base: /\n",
        "# import Base: +\n",
        "# import Base: -"
      ]
    },
    {
      "cell_type": "code",
      "execution_count": null,
      "id": "cell-2",
      "metadata": {},
      "outputs": [],
      "source": [
        "function f(x::Vector{Float64})::Vector{Float64}\n",
        "    a = x[1]\n",
        "    b = x[2]\n",
        "    x1 = a+b\n",
        "    x2 = a*exp(b)\n",
        "    return [x1,x2]\n",
        "end"
      ]
    },
    {
      "cell_type": "markdown",
      "id": "fea34a91-1f50-4bac-80b3-ad15f6ffa3fc",
      "metadata": {},
      "source": [
        "**Create a NamedTuple to hold the model parameters.**\n",
        "\n",
        "**Define two functions:** -\n",
        "`transition(z::Number, k::Number, i::Number, p)::Tuple{Number}` which\n",
        "returns productivity and capital at date `t+1` as a function of\n",
        "productivity, capital and investment at date `t` -\n",
        "`arbitrage(z::Number, k::Number, i::Number, Z::Number, K::Number, I::Number, p)::Number`\n",
        "which returns the residual of the euler equation (lower case variable\n",
        "for date t, upper case for date t+1)\n",
        "\n",
        "**Using multiple dispatch, define two variants of the same functions,\n",
        "that take vectors as input and output arguments:** -\n",
        "`arbitrage(s::Vector{T}, x::Vector{T}, S::Vector{T}, X::Vector{T}, p) where T<:Number` -\n",
        "`transition(s::Vector{T}, x::Vector{T}, p) where T<:Number`\n",
        "\n",
        "**Write a function `steady_state(p)::Tuple{Vector,Vector}` which\n",
        "computes the steady-state of the model computed by hand.** It returns\n",
        "two vectors, one for the states, one for the controls. Check that the\n",
        "steady-state satisfies the model equations.\n",
        "\n",
        "The first order system satisfies:\n",
        "$$\\begin{align}A s_t + B x_t + C s_{t+1} + D x_{t+1} & = & 0 \\\\\\\\ \n",
        "s_{t+1} & = & E s_t + F x_t\n",
        " \\end{align}$$\n",
        "\n",
        "**Define a structure `PerturbedModel` to hold matrices A,B,C,D,E,F.**\n",
        "\n",
        "**Write a function\n",
        "`first_order_model(s::Vector, x::Vector, p)::PerturbedModel`, which\n",
        "returns the first order model, given the steady-state and the\n",
        "calibration. Suggestion: use `ForwardDiff.jl` library.**\n",
        "\n",
        "**We look for a linear solution $x_t = X s_t$ . Write the matrix\n",
        "equation which `X` must satisfy. Write a function\n",
        "`residual(X::Array, M::PerturbedModel)` which computes the residual of\n",
        "this equation for a given `X`.**\n",
        "\n",
        "**Write a function `T(X, M::PerturbedModel)` which implements the time\n",
        "iteration step.**\n",
        "\n",
        "**Write function\n",
        "`linear_time_iteration(X_0::Matrix, m::PerturbedModel)::Matrix` which\n",
        "implements the time iteration algorithm. Apply it to `X0 = rand(1,2)`\n",
        "and check that the result satisfies the first order model.**\n",
        "\n",
        "**Define two linear operators\n",
        "`L_S(U::Union{Vector, Matrix}, X_0::Matrix, m::PerturbedModel)::Matrix`\n",
        "and `L_T(U::Matrix, X_0::Matrix, m::PerturbedModel)::Matrix` which\n",
        "implement the derivatives of the simulation and the time-iteration\n",
        "operator respectively.**\n",
        "\n",
        "**Implement a function `spectral_radius(f::Function)::Float64` which\n",
        "implements the power iteration method to compute the biggest eigenvalues\n",
        "of the two previously defined operators. Check that Blanchard-Kahn\n",
        "conditions are met.**\n",
        "\n",
        "**Write a function\n",
        "`simulate(s0::Vector, X::Matrix, p, T::Int64)::Tuple{Matrix, Matrix}` to\n",
        "simulate the model over $T$ periods (by using the formula\n",
        "$\\Delta s_t = (E + F X) \\Delta s_{t-1}$. Return a matrix for the states\n",
        "(one line per date) and another matrix for the controls. Bonus: add a\n",
        "keyword option to compute variables levels or log-deviations. If\n",
        "possible, return a DataFrame object.**\n",
        "\n",
        "**Make some nice plots.**"
      ]
    }
  ],
  "metadata": {
    "kernelspec": {
      "display_name": "Julia 1.10.1",
      "language": "julia",
      "name": "julia-1.10"
    },
    "language_info": {
      "file_extension": ".jl",
      "mimetype": "application/julia",
      "name": "julia",
      "version": "1.10.1"
    }
  },
  "nbformat": 4,
  "nbformat_minor": 5
}
