{
  "cells": [
    {
      "cell_type": "markdown",
      "id": "9a2b0c16-490a-41dc-a2fd-c87e7024529f",
      "metadata": {},
      "source": [
        "# Perturbation of Neoclassical Model with Deterministic Productivity shock\n",
        "\n",
        "From Pablo Winant's course\n",
        "\n",
        "Our goal here is to compute a $\\textrm{\\textbf{linear approximation of solution to the\n",
        "neoclassical model, close ot the steady-state}}$."
      ]
    },
    {
      "cell_type": "markdown",
      "id": "868991ba",
      "metadata": {},
      "source": [
        "- Definition:\n",
        "$$ y_t = f(k_t) = \\exp(z_t) k_t^\\alpha \\\\\n",
        "c_t = y_t - i_t $$\n",
        "\n",
        "- Transition Equation > Deterministic Productivity shock\n",
        "$$\n",
        "k_t = (1-\\delta) k_{t-1} + i_{t-1} \\\\\n",
        "z_t = \\rho z_{t-1}\n",
        "$$\n",
        "\n",
        "- Control $i_t\\in[0, y_t = \\exp(z_t)k_t^\\alpha[$\n",
        "  - or equivalently $c_t \\in ]0, \\exp(z_t) k_t^{\\alpha}]$\n",
        "  - 0 excluded because $U'(0) = \\infty $ with $U(x) = \\frac{x^{1-\\gamma}}{1-\\gamma}$"
      ]
    },
    {
      "cell_type": "markdown",
      "id": "47b7a3da",
      "metadata": {},
      "source": [
        "> $\\textrm{\\textbf{\\color{blue}Objective function}}$ <br>\n",
        "\n",
        "$$ \n",
        "V(k_0, z_0) :: \\max_{ \\color{red}{\\{ c_t, k_{t+1} \\}}_{t\\geq 0} } \\sum_{t} \\beta^t U(c_t) \\\\ \\; \\\\\n",
        "s.c \\; \\begin{cases} \\begin{align*} k_{t+1} & = (1-\\delta) k_{t} + \\exp(z_t) k_t^\\alpha - c_t \\\\ z_t & = \\rho z_{t-1} \\end{align*} \\\\ c_t > 0, \\; k_{t+1}\\geq 0 \\end{cases}\n",
        "$$\n",
        "\n",
        "soit\n",
        "\n",
        "$$ \n",
        "V(k_0, z_0) :: \\max_{ \\color{red}{\\{ c_t, i_t, k_{t+1} \\}}_{t\\geq 0} } \\sum_{t} \\beta^t U(c_t) \\\\ \\; \\\\\n",
        "s.c \\; \\begin{cases} \\begin{align*} c_t & = \\exp(z_t) k_t^\\alpha - i_t \\\\ k_{t+1} & = (1-\\delta) k_{t} + i_t \\\\ z_t & = \\rho z_{t-1} \\end{align*} \\\\ i_t \\geq 0, \\; k_{t+1}\\geq 0 \\end{cases}\n",
        "$$\n",
        "\n",
        "soit \n",
        "\n",
        "$$ \n",
        "V(k_0, z_0) :: \\max_{ \\color{red}{\\{ i_t, k_{t+1} \\}}_{t\\geq 0} } \\sum_{t} \\beta^t U[ \\exp(z_t) k_t^\\alpha - i_t ] \\\\ \\; \\\\\n",
        "s.c \\; \\begin{cases} \\begin{align*} k_{t+1} & = (1-\\delta) k_{t} + i_t \\\\ z_t & = \\rho z_{t-1} \\end{align*} \\\\ i_t \\geq 0, \\; k_{t+1}\\geq 0 \\end{cases}\n",
        "$$\n",
        "\n",
        "- $\\textrm{\\textbf{Pre-determined / State variables}}$\n",
        "    - $k_t$ and $z_t$ are pre-determined variables at date $t$ = **state variables**\n",
        "    - $c_t$ and $i_t$ are optimized upon at date $t$ = **control variables**\n",
        "    - Solve with Lagrangian or Bellman operator"
      ]
    },
    {
      "cell_type": "markdown",
      "id": "dbd06d20",
      "metadata": {},
      "source": [
        "> $\\textrm{\\color{blue}\\textbf{Lagrangian solution}}$\n",
        "\n",
        "$$ \n",
        "V(k_0, z_0) :: \\max_{ \\color{red}{\\{ c_t, k_{t+1} \\}}_{t\\geq 0} } \\sum_{t} \\beta^t U(c_t) \\\\ \\; \\\\\n",
        "\n",
        "s.c \\; \\begin{cases} \\begin{align*} \n",
        "\n",
        "k_{t+1} & = (1-\\delta) k_{t} + \\exp(z_t) k_t^\\alpha - c_t & \\Rightarrow & \\; {\\color{red}\\lambda_t}\\\\\n",
        "z_t & = \\rho z_{t-1} \\\\\n",
        "\n",
        "c_t & > 0 & \\Rightarrow & \\; {\\color{red}\\mu_t} \\; (\\geq 0)\\\\\n",
        "\n",
        "c_t & \\leq \\exp(z_t) k_t^\\alpha \\rightarrow \\exp(z_t) k_t^\\alpha - c_t \\geq 0 & \\Rightarrow & \\; {\\color{red}\\nu_t} \\; (\\geq 0)\\\\\n",
        "\n",
        "k_{t+1} & \\geq 0 & \\Rightarrow & \\; {\\color{red}q_t} \\; (\\geq 0)\\\\\n",
        "\\end{align*} \\end{cases}\n",
        "$$\n",
        "\n",
        "$$\\Rightarrow \\textrm{{6 variables}}$$ "
      ]
    },
    {
      "cell_type": "markdown",
      "id": "533ecc8d",
      "metadata": {},
      "source": [
        "$$\\forall t \\geq 0 \\qquad \n",
        "\\mathcal{L}_t = \\sum_{s \\geq 0} \\beta^{t+s}\\left\n",
        "\\{ \\; U(c_{t+s}) + {\\color{green} \\mu_s}  [c_{t+s}] + {\\color{green} \\nu_s} [\\exp(z_{t+s})k_{t+s}^{\\alpha} - c_{t+s}] + {\\color{green} q_s}  [k_{t+s+1}] + {\\color{green} \\lambda_s} [(1-\\delta) k_{t+s} + i_{t+s} - k_{t+s+1}] \\; \\right\\}\n",
        "$$\n",
        "\n",
        "$$\\textrm{\\textbf{2 FOCs : }} \\qquad \\forall s \\geq 0 \\quad \\begin{cases} \\begin{align*} \n",
        "\\frac{\\partial \\mathcal{L}_t}{\\partial c_{t+s}} & = & 0 \\\\ \n",
        "\\frac{\\partial \\mathcal{L}_t}{\\partial k_{t+s+1}} & = & 0 \\\\\n",
        "\\end{align*} \\end{cases}\n",
        "$$\n",
        "\n",
        "$$\\textrm{\\textbf{Karush-Kuhn-Tucker {\\color{blue}complementary slackness condition} (at optima) : }}$$ \n",
        "$$\n",
        "\\begin{cases} \\begin{align*}\n",
        "{\\color{blue}\\mu_t} & = 0 \\quad & \\textrm{or} \\quad & c_t = 0 & \\rightarrow & \\; \\textrm{Impossible otherwise $U'(0) = \\infty $ } \\\\\n",
        "\\nu_t & = 0 \\quad & \\textrm{or} \\quad & c_t = \\exp(z_t) k_t^\\alpha & \\rightarrow & \\; \\textrm{ ? } \\\\\n",
        "{\\color{blue}q_t} & = 0 \\quad & \\textrm{or} \\quad & k_{t+1} = 0 & \\rightarrow & \\; \\textrm{If $k_{t+1} = 0$ then so is $c_{t+1}$ which is impossible $U'(0) = \\infty$ } \\\\\n",
        "\\end{align*} \\end{cases}\n",
        "$$\n",
        "$$\n",
        "\\textrm{\\textbf{\\textit{and} }} \\qquad (1-\\delta) k_{t+s} + i_{t+s} - k_{t+s+1} = 0 \\rightarrow {\\color{blue}\\lambda_t}\n",
        "$$"
      ]
    },
    {
      "cell_type": "markdown",
      "id": "81bac2ba",
      "metadata": {},
      "source": [
        "- **Optimality Condition from FOCs** :\n",
        "  - Takes into account the fact that $c_t>0$.\n",
        "$$ \\textrm{\\textbf{Optimality condition - Euler equation : \\quad }} \n",
        "\\beta  \\left[ \\left( \\frac{c_{t+1}}{c_t} \\right) ^{-\\gamma} \\left( 1-\\delta + \\alpha e^{z_{t+1}} k_{t+1}^{\\alpha -1} \\right)\\right] = 1\n",
        "$$"
      ]
    },
    {
      "cell_type": "markdown",
      "id": "5fae9297",
      "metadata": {},
      "source": [
        "> $\\textrm{\\textbf{\\color{blue}Perturbation around the steady-state values}}$ \n",
        "\n",
        "- $z_{t}=\\overline{z} + \\Delta z_t \\\\$\n",
        "- $k_{t}=\\overline{k} + \\Delta k_t \\\\$\n",
        "- $i_{t}=\\overline{i} + \\Delta i_t \\\\$\n",
        "- $c_{t}=\\overline{c} + \\Delta c_t$\n",
        "\n",
        "Let \n",
        "\n",
        "$\\overline{\\Delta x_t} = \\frac{\\Delta x_t}{\\overline{x}}$\n",
        "\n",
        "- $\\textrm{\\textbf{\\color{red}Linearize the model around the steady-state :}}$"
      ]
    },
    {
      "cell_type": "markdown",
      "id": "71acfea8",
      "metadata": {},
      "source": [
        "$$\\begin{align*}\n",
        "\" \\beta  \\left[ \\left( \\frac{c_{t+1}}{c_t} \\right) ^{-\\gamma} \\left( 1-\\delta + \\alpha e^{z_{t+1}} k_{t+1}^{\\alpha -1} \\right)\\right] & = 1 \" \\tag{1} \\\\ \n",
        "\\rightarrow \\beta  \\left[ \n",
        "    \\frac{(\\overline{c}+ \\Delta c_{t+1})^{-\\gamma}}{( \\overline{c} + \\Delta c_t)^{-\\gamma}} ( 1-\\delta + \\alpha e^{\\overline{z} + \\Delta z_{t+1}} (\\overline{k} + \\Delta k_{t+1})^{\\alpha -1} )\n",
        "    \\right] \n",
        "    & = 1 \\\\ \n",
        "\\beta  \\left[\n",
        "    (\\overline{c}+ \\Delta c_{t})^{\\gamma} \\frac{1}{(\\overline{c} + \\Delta c_{t+1})^{\\gamma}} ( 1-\\delta + \\alpha e^{\\overline{z} + \\Delta z_{t+1}} (\\overline{k} + \\Delta k_{t+1})^{\\alpha -1})\n",
        "    \\right] \n",
        "    & = 1 \\nonumber \\\\ \\\\\n",
        "\\rightarrow \\beta  \\left[\n",
        "    (1 + \\gamma \\overline{\\Delta c_t}) (1 - \\gamma \\overline{\\Delta c_{t+1}}) (1-\\delta + \\alpha \\overline{k}^{\\alpha -1} e^{\\overline{z}} (1+\\Delta z_{t+1}) (1 + \\overline{\\Delta k_{t+1}})^{\\alpha -1} )\n",
        "    \\right] \n",
        "    & \\sim 1  \\\\\n",
        "\\beta  \\left[\n",
        "    1 + \\gamma (\\overline{\\Delta c_t} - \\overline{\\Delta c_{t+1}}) \\right] \\left[1-\\delta + \\alpha \\overline{k}^{\\alpha -1} e^{\\overline{z}} (1+\\Delta z_{t+1}) (1 + (\\alpha -1) \\overline{\\Delta k_{t+1}})\n",
        "    \\right] \n",
        "    & \\sim 1 \\\\\n",
        "\\beta  \\left[\n",
        "    1 + \\gamma (\\overline{\\Delta c_t} - \\overline{\\Delta c_{t+1}}) \\right] \\left[1-\\delta + \\alpha \\overline{k}^{\\alpha -1} e^{\\overline{z}} (1+\\Delta z_{t+1} + (\\alpha -1) \\overline{\\Delta k_{t+1}})\n",
        "    \\right] \n",
        "    & \\sim 1 \\nonumber \\\\ \\\\\n",
        "\\left[\n",
        "    1-\\delta + \\alpha \\overline{k}^{\\alpha -1} e^{\\overline{z}}\n",
        "    \\right] \\left[ 1 + \\frac{\\gamma}{\\overline{c}} (\\Delta c_t - \\Delta c_{t+1}) \\right] + \\alpha (\\alpha-1) \\overline{k}^{\\alpha -1} e^{\\overline{z}} \\left[ \\Delta z_{t+1} + \\frac{\\Delta k_{t+1}}{\\overline{k}} \\right]\n",
        "    & \\sim 1/\\beta \\\\\n",
        "\\rightarrow \\left[\n",
        "    1-\\delta + \\alpha \\overline{k}^{\\alpha -1} e^{\\overline{z}}\n",
        "    \\right] \\frac{\\gamma}{\\overline{c}} {\\color{blue}(\\Delta c_t - \\Delta c_{t+1})} + \\alpha (\\alpha-1) \\overline{k}^{\\alpha -1} e^{\\overline{z}} {\\color{blue} \\left[ \\Delta z_{t+1} + \\frac{\\Delta k_{t+1}}{\\overline{k}} \\right]}\n",
        "    & \\sim 1/\\beta - \\left[\n",
        "    1-\\delta + \\alpha \\overline{k}^{\\alpha -1} e^{\\overline{z}}\n",
        "    \\right] \\tag{1} \\\\\n",
        "\\end{align*}$$"
      ]
    },
    {
      "cell_type": "markdown",
      "id": "2d92e90c",
      "metadata": {},
      "source": [
        "$$ \\begin{align*}\n",
        "\" c_t & = y_t - i_t \"\\tag{2} \\\\\n",
        "\\rightarrow \\overline{c} + \\Delta c_t & = e^{\\overline{z}+ \\Delta z_t} (\\overline{k}+ \\Delta k_t)^\\alpha - \\overline{i} - \\Delta i_t \\\\\n",
        " & \\sim e^{\\overline{z}}(1+\\Delta z_t) \\overline{k}^{\\alpha}(1 + \\alpha\\overline{\\Delta k_t}) - \\overline{i} - \\Delta i_t \\nonumber \\\\ \\\\\n",
        "\\rightarrow \\overline{c} + {\\color{blue}\\Delta c_t} & \\sim \\overline{k}^{\\alpha}e^{\\overline{z}} \\left[ {\\color{blue}\\Delta z_t + \\frac{\\Delta k_t}{\\overline{k}}}\\right] - \\overline{i} - {\\color{blue} \\Delta i_t} \\tag{2}\n",
        "\\end{align*}$$"
      ]
    },
    {
      "cell_type": "markdown",
      "id": "04820e06",
      "metadata": {},
      "source": [
        "- Transition (1)\n",
        "$$\\begin{align*}\n",
        "\"k_{t} & = (1-\\delta) k_{t-1} + i_{t-1}\" \\tag{3} \\\\\n",
        "\\overline{k} + \\Delta k_t & = (1-\\delta) (\\overline{k}+ \\Delta k_{t-1}) + \\overline{i }+ \\Delta i_{t-1} \\\\\n",
        "\\rightarrow {\\color{blue}\\Delta k_t} & = (1-\\delta) {\\color{blue}\\Delta k_{t-1} + \\Delta i_{t-1}} -\\delta \\overline{k} + \\overline{i} \\tag{3} \\\\\n",
        "\\end{align*}$$"
      ]
    },
    {
      "cell_type": "markdown",
      "id": "0bd158a9",
      "metadata": {},
      "source": [
        "- Transition (2)\n",
        "$$\\begin{align*}\n",
        "\"z_{t} & = \\rho z_{t-1}\" \\tag{4} \\\\\n",
        "\\overline{z} + \\Delta z_t & = \\rho (\\overline{z} + \\Delta z_{t-1}) \\\\\n",
        "\\rightarrow {\\color{blue}\\Delta z_t} & = \\rho {\\color{blue}\\Delta z_{t-1}} + (\\rho-1) \\tag{4} \\\\\n",
        "\\end{align*}$$\n"
      ]
    },
    {
      "cell_type": "markdown",
      "id": "9054e7ce",
      "metadata": {},
      "source": [
        "> $\\textrm{\\textbf{\\color{blue}General formulation of a \\underline{Linearized model} / Formulation of the First Order System :}}$ \n",
        ">  - $s_t \\in \\mathbb{R}^{n_s}$ is a vector of ***states***\n",
        ">  - $x_t \\in \\mathbb{R}^{n_x}$ is a vector of ***controls***\n",
        "> $$ \n",
        "\\begin{cases} \\begin{align*} \n",
        "A s_t + B x_t + C s_{t+1} + D x_{t+1} & = & 0_{n_x} \\qquad \\textrm{\\textit{forward looking}} \\\\\n",
        "s_{t+1} & = & E s_t + F x_t \\qquad \\textrm{\\textit{backward looking}} \n",
        "\\end{align*} \\end{cases}\n",
        "$$ "
      ]
    },
    {
      "cell_type": "markdown",
      "id": "65e65a33",
      "metadata": {},
      "source": [
        "$\\textrm{\\textbf{\\underline{Linearization of the model around the Steady-State : }}}$ \n",
        "\n",
        "Let :\n",
        "- $s_t = \\begin{bmatrix} \\Delta z_t \\\\ \\Delta k_t \\end{bmatrix}\\quad$ : **state variables** > $k_t$ and $z_t$ are pre-determined variables at date $t$\n",
        "\n",
        "- $x_t = \\begin{bmatrix} \\Delta i_t \\\\ \\Delta c_t \\end{bmatrix}\\quad$ : **control variables** > $c_t$ and $i_t$ are optimized upon at date $t$\n",
        "\n",
        "<br>\n",
        "\n",
        "$\\textrm{\\textbf{The First Order System satisfies : }}$ \n",
        "$$ \n",
        "\\textrm{\\textbf{\\underline{Around the steady-state :}}}\\quad \n",
        "\\begin{cases} \\begin{align*} \n",
        "A \\begin{bmatrix} \\Delta z_t \\\\ \\Delta k_t \\end{bmatrix} + B \\begin{bmatrix} \\Delta i_t \\\\ \\Delta c_t \\end{bmatrix} + C \\begin{bmatrix} \\Delta z_{t+1} \\\\ \\Delta k_{t+1} \\end{bmatrix} + D \\begin{bmatrix} \\Delta i_{t+1} \\\\ \\Delta c_{t+1} \\end{bmatrix} \n",
        "& = 0 & \\qquad \\textrm{\\textit{forward looking}} \\\\\n",
        "\n",
        "\\begin{bmatrix} \\Delta z_{t+1} \\\\ \\Delta k_{t+1} \\end{bmatrix} & = E \\begin{bmatrix} \\Delta z_{t} \\\\ \\Delta k_{t} \\end{bmatrix} + F \\begin{bmatrix} \\Delta i_t \\\\ \\Delta c_t \\end{bmatrix} & \\qquad \\textrm{\\textit{backward looking}} \n",
        "\\end{align*} \\end{cases}\n",
        "$$"
      ]
    },
    {
      "cell_type": "markdown",
      "id": "b8aa3965",
      "metadata": {},
      "source": [
        "The linearized system is:\n",
        "$$\\begin{align*}\n",
        "A & = & ...\\\\\n",
        "B & = & ...\\\\\n",
        "C & = & ...\\\\\n",
        "D & = & ...\\\\\n",
        "E & = & ...\\\\\n",
        "F & = & ...\n",
        "\\end{align*}$$"
      ]
    },
    {
      "cell_type": "markdown",
      "id": "b87afaef",
      "metadata": {},
      "source": [
        "$\\textrm{\\textbf{\\underline{\\color{blue}Solution of the First Order System around the Steady-State ? }}}$ \n",
        "- At date $t$ *controls* must be chosen as a function of (predetermined) *states*\n",
        "- Mathematically speaking, the solution is a function $\\varphi$ such that:\n",
        "  $$\\forall t, x_t = \\varphi(s_t)$$\n",
        "- **Since the model is linear** we look for un *unknown matrix* $X \\in \\mathbb{R}^{n_x} \\times \\mathbb{R}^{n_s}$ such that:\n",
        "$${\\color{red}x_t = X s_t}$$\n",
        "- $\\textrm{\\textbf{\\underline{In our Linearized model this means : }}}$ \n",
        "$$ {\\color{red} \\begin{bmatrix} \\Delta i_t \\\\ \\Delta c_t \\end{bmatrix} = X \\begin{bmatrix} \\Delta z_t \\\\ \\Delta k_t \\end{bmatrix} } $$"
      ]
    },
    {
      "cell_type": "markdown",
      "id": "e9bbe7b7",
      "metadata": {},
      "source": [
        "----"
      ]
    },
    {
      "cell_type": "code",
      "execution_count": 1,
      "id": "41b4b955",
      "metadata": {},
      "outputs": [],
      "source": [
        "using Symbolics, ForwardDiff, Random, Printf, Plots, LinearAlgebra"
      ]
    },
    {
      "cell_type": "markdown",
      "id": "3471d795",
      "metadata": {},
      "source": [
        "**Create a NamedTuple to hold the model parameters.**"
      ]
    },
    {
      "cell_type": "code",
      "execution_count": 2,
      "id": "7515de3e",
      "metadata": {},
      "outputs": [
        {
          "data": {
            "text/plain": [
              "(α = 0.3, β = 0.96, γ = 4.0, δ = 0.1, ρ = 0.9)"
            ]
          },
          "metadata": {},
          "output_type": "display_data"
        }
      ],
      "source": [
        "model = (; α=0.3, β=0.96, γ=4.0, δ=0.1, ρ=0.9)"
      ]
    },
    {
      "cell_type": "markdown",
      "id": "52d36938",
      "metadata": {},
      "source": [
        "**Define two functions:** \n",
        "- `transition(z::Number, k::Number, i::Number, p)::Tuple{Number}` which\n",
        "returns productivity and capital at date `t+1` as a function of\n",
        "productivity, capital and investment at date `t` \n",
        "- `arbitrage(z::Number, k::Number, i::Number, Z::Number, K::Number, I::Number, p)::Number`\n",
        "which returns the residual of the euler equation (lower case variable\n",
        "for date t, upper case for date t+1)"
      ]
    },
    {
      "cell_type": "markdown",
      "id": "5c6552a3",
      "metadata": {},
      "source": [
        "$ \\textrm{\\underline{arbitrage} = Euler equation :} \n",
        "\\begin{bmatrix} s_t \\\\ {\\color{red}x_t} \\\\ s_{t+1} \\\\ {\\color{red}x_{t+1}} \\end{bmatrix}\n",
        "= \\begin{bmatrix} z_t \\\\ k_t \\\\ {\\color{red}i_t} \\\\ z_{t+1} \\\\ k_{t+1} \\\\ {\\color{red}i_{t+1}} \\end{bmatrix} \n",
        "\\mapsto \\beta \\left[ \\frac{ e^{z_{t+1}} k_{t+1}^{\\alpha} - i_{t+1} }{ e^{z_{t}} k_{t}^{\\alpha} - i_{t} } \\right]^{-\\gamma} - 1 \n",
        "$ \n",
        "\n",
        "**and**\n",
        "\n",
        "$ \\textrm{\\underline{transition} :} \n",
        "\\begin{bmatrix} s_t \\\\ {\\color{red}x_t} \\end{bmatrix}\n",
        "= \\begin{bmatrix} z_t \\\\ k_t \\\\ {\\color{red}i_t} \\end{bmatrix} \n",
        "\\mapsto \\begin{bmatrix} \\rho z_t \\\\ (1-\\delta)k_t + i_t \\end{bmatrix}\n",
        "= \\begin{bmatrix} z_{t+1} \\\\ k_{t+1} \\end{bmatrix}\n",
        "= \\begin{bmatrix} s_{t+1} \\end{bmatrix}\n",
        "$ "
      ]
    },
    {
      "cell_type": "code",
      "execution_count": 3,
      "id": "f1c67f56",
      "metadata": {},
      "outputs": [
        {
          "data": {
            "text/plain": [
              "arbitrage (generic function with 1 method)"
            ]
          },
          "metadata": {},
          "output_type": "display_data"
        }
      ],
      "source": [
        "function transition(z::Number, k::Number, i::Number, p)\n",
        "\n",
        "    (; α, β, γ, δ, ρ) = p\n",
        "    Z = ρ * z\n",
        "    K = (1-δ)*k + i\n",
        "\n",
        "    return (;Z,K)\n",
        "end\n",
        "\n",
        "\n",
        "function arbitrage(z::Number, k::Number, i::Number, Z::Number, K::Number, I::Number, p)\n",
        "    \n",
        "    # α, β, δ, γ = p works but is order sensitive !! Below formulation reads : α corresponds to p.α whatever the order\n",
        "    (; α, β, γ, δ, ρ) = p\n",
        "\n",
        "    # Auxiliary variables today\n",
        "    y = exp(z)*k^α\n",
        "    c = y-i\n",
        "\n",
        "    # Auxiliary variables tomorrow\n",
        "    Y = exp(Z)*K^α\n",
        "    C = Y-I\n",
        "\n",
        "    # Residual of Euler equation\n",
        "    residual = β*(C/c)^(-γ)*( 1-δ+α*exp(Z)*K^(α-1) ) - 1\n",
        "\n",
        "    return residual\n",
        "end"
      ]
    },
    {
      "cell_type": "markdown",
      "id": "da5f5570",
      "metadata": {},
      "source": [
        "**Using multiple dispatch, define two variants of the same functions,\n",
        "that take vectors as input and output arguments:** -\n",
        "`arbitrage(s::Vector{T}, x::Vector{T}, S::Vector{T}, X::Vector{T}, p) where T<:Number` -\n",
        "`transition(s::Vector{T}, x::Vector{T}, p) where T<:Number`"
      ]
    },
    {
      "cell_type": "code",
      "execution_count": 4,
      "id": "da05db49",
      "metadata": {},
      "outputs": [
        {
          "data": {
            "text/plain": [
              "transition (generic function with 2 methods)"
            ]
          },
          "metadata": {},
          "output_type": "display_data"
        }
      ],
      "source": [
        "#! /// To modify defined function to also accept different types than previously defined /// \n",
        "\n",
        "arbitrage(s::Vector{T}, x::Vector{T}, S::Vector{T}, X::Vector{T}, p) where T<:Number = arbitrage(s[1],s[2],x[1],S[1],S[2],X[1],p)\n",
        "\n",
        "# For transition, do not return the named tuple but a vector then\n",
        "transition(s::Vector{T}, x::Vector{T}, p) where T<:Number = [ transition(s[1],s[2],x[1],p)... ]\n",
        "\n",
        "# t = (3.0, 2.0, 1.0)\n",
        "# [ x for x in t] to convert tuple into vector or simpler : [t...]"
      ]
    },
    {
      "cell_type": "markdown",
      "id": "56aaf753",
      "metadata": {},
      "source": [
        "**Write a function `steady_state(p)::Tuple{Vector,Vector}` which\n",
        "computes the steady-state of the model computed by hand.** It returns\n",
        "two vectors, one for the states, one for the controls. Check that the\n",
        "steady-state satisfies the model equations."
      ]
    },
    {
      "cell_type": "markdown",
      "id": "bffbf0d1",
      "metadata": {},
      "source": [
        "$\\textrm{\\textbf{\\color{blue}\\underline{Steady-state} }}$ \n",
        "- $\\overline{c}, \\overline{k}, \\overline{z}, \\overline{i}, \\overline{y}$ such that:\n",
        "  - $z_{t+1}=z_t=\\overline{z}$\n",
        "  - $k_{t+1}=k_t=\\overline{k}$\n",
        "  - $i_{t+1}=i_t=\\overline{i}$\n",
        "  - $c_{t+1}=c_t=\\overline{c}$\n",
        "  - ...\n",
        "- ...satisfy the first order conditions i.e : \n",
        "\n",
        "$$\\begin{cases} \\begin{align*}\n",
        "1 & = & \\beta   \\left( 1-\\delta + \\alpha e^{\\overline{z}}{\\overline{k}}^{\\alpha -1} \\right)  \\\\\n",
        "\\overline{k} & = & (1-\\delta) \\overline{k} + \\overline{i} \\\\\n",
        "\\overline{z} & = & \\rho \\overline{z} \\\\\n",
        "\\overline{c} & = & e^{\\overline{z}}\\overline{k}^{\\alpha} - \\overline{i}\n",
        "\\end{align*}\\end{cases} $$\n",
        "- **Soit :**\n",
        "$$\\begin{cases} \\begin{align*}\n",
        "\\overline{k} & = & \\left( \\frac{\\frac{1}{\\beta}-(1-\\delta)}{\\alpha} \\right)^{\\frac{1}{\\alpha - 1}} \\\\\n",
        "\\overline{i} & = & \\delta \\overline{k} \\\\\\\n",
        "\\overline{z} & = & 0 \\\\\n",
        "\\overline{c} & = & \\overline{k}^{\\alpha} - \\overline{i}\n",
        "\\end{align*}\\end{cases} $$"
      ]
    },
    {
      "cell_type": "code",
      "execution_count": 5,
      "id": "c26aad3d",
      "metadata": {},
      "outputs": [
        {
          "data": {
            "text/plain": [
              "(s = [0.0, 2.920822149964071], x = [0.29208221499640713])"
            ]
          },
          "metadata": {},
          "output_type": "display_data"
        }
      ],
      "source": [
        "function steady_state(p)\n",
        "\n",
        "    (; α, β, γ, δ, ρ) = p\n",
        "\n",
        "    # Steady states\n",
        "    z = 0.0\n",
        "    k = ( (1/β - (1-δ))/α )^(1/(α-1))\n",
        "    i = δ*k\n",
        "\n",
        "    s = [z,k] # vector of states\n",
        "    x = [i]   # vector of controls\n",
        "    \n",
        "    return (;\n",
        "        s,\n",
        "        x)\n",
        "end\n",
        "\n",
        "steady_state(model)"
      ]
    },
    {
      "cell_type": "code",
      "execution_count": 6,
      "id": "a9238b99",
      "metadata": {},
      "outputs": [
        {
          "data": {
            "text/plain": [
              "0.0"
            ]
          },
          "metadata": {},
          "output_type": "display_data"
        }
      ],
      "source": [
        "#? Check that the steady state is correct using the functions representing the model : i.e transition keeps still\n",
        "\n",
        "ss = steady_state(model)\n",
        "# transition(ss.s, ss.x, model) - ss.s \n",
        "# returns zero good\n",
        "\n",
        "# Steady state values should satisfy Euler equation => residual = 0\n",
        "arbitrage(ss.s, ss.x, ss.s, ss.x, model)\n",
        "# returns zero good\n",
        "\n",
        "# @assert maximum(transition(ss.s, ss.x, model) - ss.s) == 0.0"
      ]
    },
    {
      "cell_type": "markdown",
      "id": "4baf3e9a",
      "metadata": {},
      "source": [
        "**Define a structure `PerturbedModel` to hold matrices A,B,C,D,E,F.**"
      ]
    },
    {
      "cell_type": "code",
      "execution_count": 7,
      "id": "8a272d00",
      "metadata": {},
      "outputs": [],
      "source": [
        "struct PerturbedModel\n",
        "    A::Matrix\n",
        "    B::Matrix\n",
        "    C::Matrix\n",
        "    D::Matrix\n",
        "    E::Matrix\n",
        "    F::Matrix\n",
        "end"
      ]
    },
    {
      "cell_type": "code",
      "execution_count": 8,
      "id": "f63fb9a0",
      "metadata": {},
      "outputs": [
        {
          "data": {
            "text/plain": [
              "transition (generic function with 3 methods)"
            ]
          },
          "metadata": {},
          "output_type": "display_data"
        }
      ],
      "source": [
        "# We need to loosen the constraint on the arbitrage arguments : \n",
        "\n",
        "# brutal \n",
        "arbitrage(s, x, S, X, p) = [ arbitrage(s[1],s[2],x[1],S[1],S[2],X[1],p) ]\n",
        "transition(s, x, p) = [ transition(s[1],s[2],x[1],p)... ]\n",
        "\n",
        "# More precise, allows for each parameter to be a different type of Number\n",
        "# arbitrage(s::Vector{<:Number}, x::Vector{<:Number}, S::Vector{<:Number}, X::Vector{<:Number}, p) = arbitrage(s[1],s[2],x[1],S[1],S[2],X[1],p)"
      ]
    },
    {
      "cell_type": "markdown",
      "id": "d3cee668",
      "metadata": {},
      "source": [
        "$\\textrm{\\textbf{{\\color{blue}\\underline{The first order system satisfies : linearized system around the steady state :}}}}$\n",
        "\n",
        "We have $s_t = (\\Delta z_t, \\Delta k_t)$ and $x_t = (\\Delta i_t)$\n",
        "\n",
        "$$ \n",
        "\\textrm{\\textbf{\\underline{Around the steady-state :}}}\\quad \n",
        "\\begin{cases} \\begin{align*} \n",
        "A \\begin{bmatrix} \\Delta z_t \\\\ \\Delta k_t \\end{bmatrix} + B \\begin{bmatrix} \\Delta i_t \\end{bmatrix} + C \\begin{bmatrix} \\Delta z_{t+1} \\\\ \\Delta k_{t+1} \\end{bmatrix} + D \\begin{bmatrix} \\Delta i_{t+1} \\end{bmatrix} \n",
        "& = 0 & \\qquad \\textrm{\\textit{forward looking}} \\\\\n",
        "\n",
        "\\begin{bmatrix} \\Delta z_{t+1} \\\\ \\Delta k_{t+1} \\end{bmatrix} & = E \\begin{bmatrix} \\Delta z_{t} \\\\ \\Delta k_{t} \\end{bmatrix} + F \\begin{bmatrix} \\Delta i_t \\end{bmatrix} & \\qquad \\textrm{\\textit{backward looking}} \n",
        "\\end{align*} \\end{cases}\n",
        "$$\n",
        "\n",
        "<br>\n",
        "\n",
        "$$ A = \\begin{bmatrix} a_z & a_k \\end{bmatrix} \\quad B = [b_i] \\quad C = \\begin{bmatrix} c_z & c_k \\end{bmatrix} \\quad D = [d_i] \\\\ \\; \\\\ E = \\begin{bmatrix} e_{zz} & e_{zk} \\\\ e_{kz} & e_{kk} \\end{bmatrix} \\quad F = \\begin{bmatrix} f_{zi} \\\\ f_{ki} \\end{bmatrix} $$\n",
        "\n",
        "<br>\n",
        "\n",
        "**Write a function\n",
        "`first_order_model(s::Vector, x::Vector, p)::PerturbedModel`, which\n",
        "returns the *first order model*, given the steady-state and the\n",
        "calibration. <br> Suggestion: use `ForwardDiff.jl` library.**"
      ]
    },
    {
      "cell_type": "markdown",
      "id": "b72f668e",
      "metadata": {},
      "source": [
        "$ \\textrm{\\underline{arbitrage} = Euler :} \n",
        "\\begin{bmatrix} s_t \\\\ {\\color{red}x_t} \\\\ s_{t+1} \\\\ {\\color{red}x_{t+1}} \\end{bmatrix}\n",
        "= \\begin{bmatrix} z_t \\\\ k_t \\\\ {\\color{red}i_t} \\\\ z_{t+1} \\\\ k_{t+1} \\\\ {\\color{red}i_{t+1}} \\end{bmatrix} \n",
        "\\mapsto \\beta \\left[ \\frac{ e^{z_{t+1}} k_{t+1}^{\\alpha} - i_{t+1} }{ e^{z_{t}} k_{t}^{\\alpha} - i_{t} } \\right]^{-\\gamma} - 1 \n",
        "\\quad \\longleftrightarrow \\quad\n",
        "\\textrm{\\textit{\\underline{Linearized / FO around the SS :}}} \\; \\; A s_t + B x_t + C s_{t+1} + D x_{t+1} = 0_{n_x=1} \\quad \\textrm{\\textit{(forward looking)}}\n",
        "$ \n",
        "\n",
        "**and**\n",
        "\n",
        "$ \\textrm{\\underline{transition} :} \n",
        "\\begin{bmatrix} s_t \\\\ {\\color{red}x_t} \\end{bmatrix}\n",
        "= \\begin{bmatrix} z_t \\\\ k_t \\\\ {\\color{red}i_t} \\end{bmatrix} \n",
        "\\mapsto \\begin{bmatrix} \\rho z_t \\\\ (1-\\delta)k_t + i_t \\end{bmatrix}\n",
        "= \\begin{bmatrix} z_{t+1} \\\\ k_{t+1} \\end{bmatrix}\n",
        "= \\begin{bmatrix} s_{t+1} \\end{bmatrix}\n",
        "\\quad \\longleftrightarrow \\quad\n",
        "\\textrm{\\textit{\\underline{Linearized / FO around the SS :}}} \\quad s_{t+1} = E s_t + F x_t \\qquad \\textrm{\\textit{(backward looking)}} \n",
        "$ \n",
        "\n",
        "With : \n",
        "\n",
        "$$ A = \\begin{bmatrix} a_z & a_k \\end{bmatrix} \\quad B = b_i \\quad C = \\begin{bmatrix} c_z & c_k \\end{bmatrix} \\quad D = d_i \\\\ \\; \\\\ E = \\begin{bmatrix} e_{zz} & e_{zk} \\\\ e_{kz} & e_{kk} \\end{bmatrix} \\quad F = \\begin{bmatrix} f_{zi} \\\\ f_{ki} \\end{bmatrix} $$"
      ]
    },
    {
      "cell_type": "markdown",
      "id": "2616359f",
      "metadata": {},
      "source": [
        "**Let** :\n",
        "\n",
        "- $\\mathcal{A_{rbi}} : (s_t,x_t,s_{t+1},x_{t+1}) \\mapsto arbitrage(s_t,x_t,s_{t+1},x_{t+1}) = \\beta \\left[ \\frac{ e^{z_{t+1}} k_{t+1}^{\\alpha} - i_{t+1} }{ e^{z_{t}} k_{t}^{\\alpha} - i_{t} } \\right]^{-\\gamma} - 1    \\\\ \\; \\\\$\n",
        "- $f : (s_t,x_t,s_{t+1},x_{t+1}) \\mapsto A s_t + B x_t + C s_{t+1} + D x_{t+1} \\qquad \\Rightarrow \\textrm{Linearization of } \\mathcal{A_{rbi}} \\textrm{ \\textit{'arbitrage'} \\textbf{\\underline{around the SS}}} \\\\ \\; \\\\$\n",
        "- $\\mathcal{T_{ransi}} : (s_t,x_t) \\mapsto transition(s_t,x_t) = \\begin{bmatrix} s_{t+1} \\end{bmatrix} \\\\ \\; \\\\$\n",
        "- $g : (s_t,x_t) \\mapsto E s_t + F x_t \\qquad \\Rightarrow \\textrm{Linearization of } \\mathcal{T_{ransi}} \\textrm{ \\textit{'transition'} \\textbf{\\underline{around the SS}}} \\\\$ \n",
        "\n",
        "<br>\n",
        "\n",
        "**In particular we have, by evaluating the derivates AT the steady-state :**\n",
        "\n",
        "$$\\begin{cases} \\begin{align*} \n",
        "\\frac{\\partial f}{\\partial {\\color{red}s_t} }& (s_t = \\overline{s},\\overline{x},\\overline{s},\\overline{x}) & = & {\\color{red}A} & = & \\frac{\\partial \\mathcal{A_{rbi}} }{\\partial {\\color{red}s_t} } (s_t = \\overline{s},\\overline{x},\\overline{s},\\overline{x})\\\\\n",
        "\n",
        "\\frac{\\partial f}{\\partial {\\color{red}x_t} }& (\\overline{s},x_t = \\overline{x},\\overline{s},\\overline{x}) & = & {\\color{red}B} & = & \\frac{\\partial \\mathcal{A_{rbi}} }{\\partial {\\color{red}x_t} } (s_t = \\overline{s},\\overline{x},\\overline{s},\\overline{x})\\\\\n",
        "\n",
        "\\frac{\\partial f}{\\partial {\\color{red}s_{t+1}} }& (\\overline{s},\\overline{x},s_{t+1} = \\overline{s},\\overline{x}) & = & {\\color{red}C} & = & \\frac{\\partial \\mathcal{A_{rbi}} }{\\partial {\\color{red}s_{t+1}} } (s_t = \\overline{s},\\overline{x},\\overline{s},\\overline{x})\\\\\n",
        "\n",
        "\\frac{\\partial f}{\\partial {\\color{red}x_{t+1}} }& (\\overline{s},\\overline{x},\\overline{s},x_{t+1} = \\overline{x}) & = & {\\color{red}D} & = & \\frac{\\partial \\mathcal{A_{rbi}} }{\\partial {\\color{red}x_{t+1}} } (s_t = \\overline{s},\\overline{x},\\overline{s},\\overline{x})\\\\\n",
        "\\end{align*} \\end{cases}\n",
        "\n",
        "\\qquad and \\qquad\n",
        "\n",
        "\\begin{cases} \\begin{align*} \n",
        "\\frac{\\partial g}{\\partial {\\color{red}s_t} }& (s_t = \\overline{s},\\overline{x}) & = & {\\color{red}E} \\\\\n",
        "\\frac{\\partial g}{\\partial {\\color{red}x_t} }& (\\overline{s},x_t = \\overline{x}) & = & {\\color{red}F} \\\\\n",
        "\\end{align*} \\end{cases}\n",
        "$$"
      ]
    },
    {
      "cell_type": "code",
      "execution_count": 9,
      "id": "c443a54d",
      "metadata": {},
      "outputs": [
        {
          "data": {
            "text/plain": [
              "PerturbedModel([5.074626865671642 0.5212190203776081], [-3.679193085018409;;], [-4.938626865671642 -0.5538125831185546], [3.679193085018409;;], [0.9 0.0; 0.0 0.9], [0.0; 1.0;;])"
            ]
          },
          "metadata": {},
          "output_type": "display_data"
        }
      ],
      "source": [
        "s = ss.s\n",
        "x = ss.x\n",
        "\n",
        "function first_order_model(s,x,parameters)\n",
        "\n",
        "    A = ForwardDiff.jacobian( u->arbitrage(u,x,s,x,parameters), s)\n",
        "    B = ForwardDiff.jacobian( u->arbitrage(s,u,s,x,parameters), x)\n",
        "    C = ForwardDiff.jacobian( u->arbitrage(s,x,u,x,parameters), s)\n",
        "    D = ForwardDiff.jacobian( u->arbitrage(s,x,s,u,parameters), x)\n",
        "    E = ForwardDiff.jacobian( u->transition(u,x,parameters), s)\n",
        "    F = ForwardDiff.jacobian( u->transition(s,u,parameters), x)\n",
        "\n",
        "    return PerturbedModel(A,B,C,D,E,F)\n",
        "end\n",
        "\n",
        "FO_model = first_order_model(s,x,model)"
      ]
    },
    {
      "cell_type": "markdown",
      "id": "1c87e8ca",
      "metadata": {},
      "source": [
        "> **We look for a linear solution ${ \\color{red} x_t = X s_t }$** <br> $\\;$ <br>\n",
        "> **In our case this amounts to** $\\begin{bmatrix} \\Delta c_t \\\\ \\Delta i_t \\end{bmatrix} = \\begin{bmatrix} x_{cz} & x_{ck} \\\\ x_{iz} & x_{ik} \\end{bmatrix} \\begin{bmatrix} \\Delta z_t \\\\ \\Delta k_t \\end{bmatrix}$ <br> $\\;$ <br>\n",
        "> **In this code solely** $\\begin{bmatrix} \\Delta i_t \\end{bmatrix} = {\\color{red}\\begin{bmatrix} x_z & x_k \\end{bmatrix}} \\begin{bmatrix} \\Delta z_t \\\\ \\Delta k_t \\end{bmatrix}$ <br> $\\;$ <br>\n",
        "> $\\textrm{\\color{red} Equation satisfied by X ?}$ \n",
        "\n",
        "$$ \n",
        "\\begin{cases} \\begin{align*} \n",
        "A s_t + B x_t + C s_{t+1} + D x_{t+1} & = & 0_{n_x} \\qquad \\textrm{\\textit{forward looking}} \\\\\n",
        "s_{t+1} & = & E s_t + F x_t \\qquad \\textrm{\\textit{backward looking}} \n",
        "\\end{align*} \\end{cases}\n",
        "$$\n",
        "\n",
        "$s_{t+1} = E s_t + F x_t = (E + F.X) s_t$\n",
        "\n",
        "$A s_t + B {\\color{red}x_t} + C {\\color{blue}s_{t+1}} + D {\\color{green}x_{t+1}} \n",
        "= A s_t + B{\\color{red}Xs_t} + C{\\color{blue}(E+FX)s_t} + D{\\color{green}Xs_{t+1}}\n",
        "= A s_t + B{\\color{red}Xs_t} + C{\\color{blue}(E+FX)s_t} + D{\\color{green}X(E+FX)s_t}\n",
        "$\n",
        "\n",
        "$\\Rightarrow \\forall s_t \\quad \\left[ A + BX + C(E+FX) + DX(E+FX) \\right]s_t = 0 $"
      ]
    },
    {
      "cell_type": "markdown",
      "id": "c40a79d9",
      "metadata": {},
      "source": [
        "$$\\Rightarrow \\textrm{\\textbf{\\underline{X must satisfy :}}} \\quad {\\color{red} (A + B{\\color{black}X}) + (C+D{\\color{black}X})(E+F{\\color{black}X}) = 0 } $$"
      ]
    },
    {
      "cell_type": "markdown",
      "id": "e28bd254",
      "metadata": {},
      "source": [
        "**Write the matrix equation which `X` must satisfy** <br>\n",
        "**Write a function `residual(X::Array, M::PerturbedModel)` which computes the residual of this equation for a given `X`**"
      ]
    },
    {
      "cell_type": "code",
      "execution_count": 10,
      "id": "b3ba4542",
      "metadata": {},
      "outputs": [
        {
          "data": {
            "text/plain": [
              "residual (generic function with 1 method)"
            ]
          },
          "metadata": {},
          "output_type": "display_data"
        }
      ],
      "source": [
        "function residual(X::Matrix, M::PerturbedModel)\n",
        "    # X must satisfy (A+BX) + (C+DX)(E+FX) = 0\n",
        "    (; A,B,C,D,E,F) = M\n",
        "    residual = A + B*X + (C+D*X)*(E+F*X)\n",
        "    return residual\n",
        "end"
      ]
    },
    {
      "cell_type": "markdown",
      "id": "9b65a82d",
      "metadata": {},
      "source": [
        "$\\textrm{\\textbf{{\\color{red}\\underline{LINEAR TIME ITERATION ALGO}}}}$"
      ]
    },
    {
      "cell_type": "markdown",
      "id": "357bf061",
      "metadata": {},
      "source": [
        "**Following *Pontus Rendahl (2017)*, our main equation of interest is :**\n",
        "\n",
        "$\n",
        "A s_t + B x_t + C s_{t+1} + D x_{t+1} = 0 \\qquad \\textrm{where:} \\quad s_{t+1} = E s_t + F x_t\n",
        "$\n",
        "\n",
        "**$\\longrightarrow$ Suppose we have a guess $X^{{\\color{red}(n)}}$ such that $\\color{red} x_{t+1} = X^{(n)} s_{t+1}$ $\\Rightarrow$ replace and find relationship $\\color{blue} x_{t+1} = X^{(n)} s_{t+1}$** \n",
        "\n",
        "$\\begin{cases}\n",
        "A s_t + B x_t + C s_{t+1} + D X^{{\\color{red}(n)}} s_{t+1} = 0 \\\\\n",
        "s_{t+1} = E s_t + F x_t\n",
        "\\end{cases} \\quad \\Longrightarrow \\quad\n",
        "\\begin{cases}\n",
        "A s_t + B x_t + (C + D X^{{\\color{red}(n)}}) (E s_t + F x_t) = 0 \\\\\n",
        "s_{t+1} = E s_t + F x_t\n",
        "\\end{cases} \\quad \\Longrightarrow \\quad\n",
        "\\begin{cases}\n",
        "\\left[ A + (C + D X^{{\\color{red}(n)}})E \\right] s_t + \\left[ B + (C + D X^{{\\color{red}(n)}})F \\right] x_t = 0 \\quad (*) \\\\\n",
        "\\longrightarrow \\left[ B + (C + D X^{{\\color{red}(n)}})F \\right] x_t = - \\left[ A + (C + D X^{{\\color{red}(n)}})E \\right] s_t \\\\\n",
        "\\longrightarrow  x_t = {\\color{blue}- \\left[ B + (C + D X^{(n)})F \\right]^{-1}.\\left[ A + (C + D X^{(n)})E \\right]} s_t \\\\\n",
        "\\longrightarrow  x_t = {\\color{blue}X^{(n+1)}} s_t \\qquad \\textrm{\\color{blue}\\underline{Updated guess}}\\\\\n",
        "\\end{cases}\n",
        "$"
      ]
    },
    {
      "cell_type": "markdown",
      "id": "d3f9d8e0",
      "metadata": {},
      "source": [
        "**Write a function `T(X, M::PerturbedModel)` which implements the `time iteration step`.**"
      ]
    },
    {
      "cell_type": "markdown",
      "id": "34da4847",
      "metadata": {},
      "source": [
        "$ (*) \\quad F(X,\\tilde{X}) = ( A + (C + D X)E ) + ( B + (C + D \\tilde{X})F ) X = 0\\\\$ \n",
        "$ \\; \\; \\; \\; \\, \\quad F(X,\\tilde{X}) = (A+B X) + (C + D\\tilde{X})(E + FX) = 0\\\\$ <br>\n",
        "$\\quad \\Rightarrow {\\color{blue} X_{n+1} \\; \\textrm{such that} \\; F(X_{n+1}, X_{n}) = 0 \\longrightarrow F(X_{n+1}:=T(X_n),X_n) = 0}$\n",
        "\n"
      ]
    },
    {
      "cell_type": "markdown",
      "id": "ec346b9a",
      "metadata": {},
      "source": [
        "$${\\color{blue} X_{n+1} := T(X_n)} \\longrightarrow F(X_{n+1},X_n) = 0$$\n",
        "\n",
        "$$ F(X_{n+1}, X_n) = (A + B X_{n+1}) + ( C+ D X_n) ( E  + F X_{n+1} ) = 0 $$\n",
        "\n",
        "$$\\left[ B + (C+D X_{n})F \\right] X_{n+1} + A  + (C+D X_n )E=0$$\n",
        "\n",
        "$$ \\color{blue} \\longrightarrow X_{n+1} = - \\left[ B + (C + D X_n) F \\right]^{-1} (A + (C+DX_n)E) = T(X_n)$$"
      ]
    },
    {
      "cell_type": "code",
      "execution_count": 11,
      "id": "1d9e710f",
      "metadata": {},
      "outputs": [
        {
          "data": {
            "text/plain": [
              "1×2 Matrix{Float64}:\n",
              " 4.26657  3.938"
            ]
          },
          "metadata": {},
          "output_type": "display_data"
        }
      ],
      "source": [
        "function T(X, M::PerturbedModel)\n",
        "    (; A,B,C,D,E,F) = M\n",
        "    C_DX = C+D*X    # pas efficace de calculer deux fois (C+DX)... autant stocker\n",
        "    # Never compute inv(...) > rather use : solve(A,B) <> solve Ax = B <-> x = A^{-1}.B\n",
        "\n",
        "    T = - (B+C_DX*F) \\ (A+C_DX*E) #! left divide \n",
        "    # T = - solve(B+C_DX*F, A+C_DX*E) #! or solve\n",
        "    # NOT OK : - inv(B + (C+D*X)*F) * (A+(C+D*X)*E) \n",
        "    \n",
        "    return T\n",
        "end\n",
        "T(rand(1,2), FO_model)"
      ]
    },
    {
      "cell_type": "code",
      "execution_count": 12,
      "id": "a7c28554",
      "metadata": {},
      "outputs": [
        {
          "data": {
            "text/plain": [
              "0.5"
            ]
          },
          "metadata": {},
          "output_type": "display_data"
        }
      ],
      "source": [
        "4 \\ 2"
      ]
    },
    {
      "cell_type": "markdown",
      "id": "8b5b24ba",
      "metadata": {},
      "source": [
        "**Write function\n",
        "`linear_time_iteration(X_0::Matrix, M::PerturbedModel)::Matrix` which\n",
        "implements the time iteration algorithm. <br>\n",
        "Apply it to `X0 = rand(1,2)`\n",
        "and check that the result satisfies the first order model.**"
      ]
    },
    {
      "cell_type": "code",
      "execution_count": 13,
      "id": "34611ff4",
      "metadata": {},
      "outputs": [
        {
          "name": "stdout",
          "output_type": "stream",
          "text": [
            "  0.141039 seconds (96.41 k allocations: 21.835 MiB, 72.61% gc time, 97.68% compilation time)\n"
          ]
        },
        {
          "data": {
            "text/plain": [
              "0.9995525240625762"
            ]
          },
          "metadata": {},
          "output_type": "display_data"
        }
      ],
      "source": [
        "@time maximum(abs(e1-e2) for (e1,e2) in zip(rand(1000,1000),rand(1000,1000)))"
      ]
    },
    {
      "cell_type": "code",
      "execution_count": 16,
      "id": "c5375581",
      "metadata": {},
      "outputs": [
        {
          "name": "stdout",
          "output_type": "stream",
          "text": [
            "iter :   1 | Success criterion : 247.40087488766278 | Successive errors : 2.32412220184240 | Success criterion : 2.32412220184240 \n",
            "iter :   2 | Success criterion : 1226.28664183431783 | Successive errors : 8.68600405906044 | Success criterion : 3.73732674304939 \n",
            "iter :   3 | Success criterion : 10.33409063652823 | Successive errors : 3.78870817608608 | Success criterion : 0.43618540243877 \n",
            "iter :   4 | Success criterion : 1.58369614403434 | Successive errors : 0.69647040429217 | Success criterion : 0.18382793604644 \n",
            "iter :   5 | Success criterion : 0.53379920834304 | Successive errors : 0.32234673342921 | Success criterion : 0.46282904692385 \n",
            "iter :   6 | Success criterion : 0.25624504469698 | Successive errors : 0.19874710674397 | Success criterion : 0.61656311708092 \n",
            "iter :   7 | Success criterion : 0.14787399894028 | Successive errors : 0.14058460734214 | Success criterion : 0.70735423345429 \n",
            "iter :   8 | Success criterion : 0.09460754469901 | Successive errors : 0.10725239068400 | Success criterion : 0.76290280075245 \n",
            "iter :   9 | Success criterion : 0.06430412704065 | Successive errors : 0.08556038735606 | Success criterion : 0.79774806706316 \n",
            "iter :  10 | Success criterion : 0.04533413110790 | Successive errors : 0.07016136525135 | Success criterion : 0.82002159433161 \n",
            "iter :  11 | Success criterion : 0.03268387521608 | Successive errors : 0.05854508639391 | Success criterion : 0.83443482298519 \n",
            "iter :  12 | Success criterion : 0.02388757532048 | Successive errors : 0.04940032031193 | Success criterion : 0.84379959710968 \n",
            "iter :  13 | Success criterion : 0.01760041680112 | Successive errors : 0.04198250117049 | Success criterion : 0.84984269141160 \n",
            "iter :  14 | Success criterion : 0.01302572849993 | Successive errors : 0.03583854407977 | Success criterion : 0.85365433408157 \n",
            "iter :  15 | Success criterion : 0.00965940050073 | Successive errors : 0.03067568559216 | Success criterion : 0.85594117673641 \n",
            "iter :  16 | Success criterion : 0.00716555391234 | Successive errors : 0.02629435425102 | Success criterion : 0.85717250465432 \n",
            "iter :  17 | Success criterion : 0.00531142999745 | Successive errors : 0.02255179687194 | Success criterion : 0.85766688379759 \n",
            "iter :  18 | Success criterion : 0.00393099209057 | Successive errors : 0.01934143147321 | Success criterion : 0.85764480688782 \n",
            "iter :  19 | Success criterion : 0.00290333973105 | Successive errors : 0.01658066396349 | Success criterion : 0.85726146932068 \n",
            "iter :  20 | Success criterion : 0.00213920196021 | Successive errors : 0.01420345534239 | Success criterion : 0.85662765819696 \n",
            "iter :  21 | Success criterion : 0.00157207283730 | Successive errors : 0.01215564896141 | Success criterion : 0.85582336610242 \n",
            "iter :  22 | Success criterion : 0.00115215063576 | Successive errors : 0.01039194760015 | Success criterion : 0.85490685303128 \n",
            "iter :  23 | Success criterion : 0.00084205304863 | Successive errors : 0.00887390020476 | Success criterion : 0.85392079966137 \n",
            "iter :  24 | Success criterion : 0.00061370858576 | Successive errors : 0.00756851899522 | Success criterion : 0.85289656414577 \n",
            "iter :  25 | Success criterion : 0.00044605838179 | Successive errors : 0.00644729723552 | Success criterion : 0.85185717834612 \n",
            "iter :  26 | Success criterion : 0.00032333523870 | Successive errors : 0.00548548615020 | Success criterion : 0.85081949068125 \n",
            "iter :  27 | Success criterion : 0.00023376466952 | Successive errors : 0.00466154265840 | Success criterion : 0.84979572106506 \n",
            "iter :  28 | Success criterion : 0.00016858037868 | Successive errors : 0.00395669225505 | Success criterion : 0.84879460406082 \n",
            "iter :  29 | Success criterion : 0.00012127704211 | Successive errors : 0.00335457168698 | Success criterion : 0.84782223906893 \n",
            "iter :  30 | Success criterion : 0.00008704354694 | Successive errors : 0.00284092882495 | Success criterion : 0.84688272901475 \n",
            "iter :  31 | Success criterion : 0.00006233397239 | Successive errors : 0.00240336517259 | Success criterion : 0.84597866426127 \n",
            "iter :  32 | Success criterion : 0.00004454378801 | Successive errors : 0.00203111152646 | Success criterion : 0.84511149184728 \n",
            "iter :  33 | Success criterion : 0.00003176632320 | Successive errors : 0.00171483049312 | Success criterion : 0.84428179879923 \n",
            "iter :  34 | Success criterion : 0.00002261031431 | Successive errors : 0.00144644156739 | Success criterion : 0.84348953041706 \n",
            "iter :  35 | Success criterion : 0.00001606376046 | Successive errors : 0.00121896571771 | Success criterion : 0.84273415891551 \n",
            "iter :  36 | Success criterion : 0.00001139274736 | Successive errors : 0.00102638719193 | Success criterion : 0.84201481388254 \n",
            "iter :  37 | Success criterion : 0.00000806656053 | Successive errors : 0.00086353072949 | Success criterion : 0.84133038318930 \n",
            "iter :  38 | Success criterion : 0.00000570247495 | Successive errors : 0.00072595266040 | Success criterion : 0.84067959090876 \n",
            "iter :  39 | Success criterion : 0.00000402520585 | Successive errors : 0.00060984455944 | Success criterion : 0.84006105728618 \n",
            "iter :  40 | Success criterion : 0.00000283723606 | Successive errors : 0.00051194825203 | Success criterion : 0.83947334465441 \n",
            "iter :  41 | Success criterion : 0.00000199717794 | Successive errors : 0.00042948106392 | Success criterion : 0.83891499231989 \n",
            "iter :  42 | Success criterion : 0.00000140404672 | Successive errors : 0.00036007028541 | Success criterion : 0.83838454279149 \n",
            "iter :  43 | Success criterion : 0.00000098586593 | Successive errors : 0.00030169589282 | Success criterion : 0.83788056122540 \n",
            "iter :  44 | Success criterion : 0.00000069143619 | Successive errors : 0.00025264063831 | Success criterion : 0.83740164954217 \n",
            "iter :  45 | Success criterion : 0.00000048440574 | Successive errors : 0.00021144668697 | Success criterion : 0.83694645638307 \n",
            "iter :  46 | Success criterion : 0.00000033901035 | Successive errors : 0.00017687804705 | Success criterion : 0.83651368383679 \n",
            "iter :  47 | Success criterion : 0.00000023702020 | Successive errors : 0.00014788810511 | Success criterion : 0.83610209164919 \n",
            "iter :  48 | Success criterion : 0.00000016555697 | Successive errors : 0.00012359164219 | Success criterion : 0.83571049952059 \n",
            "iter :  49 | Success criterion : 0.00000011553646 | Successive errors : 0.00010324076899 | Success criterion : 0.83533778791369 \n",
            "iter :  50 | Success criterion : 0.00000008055988 | Successive errors : 0.00008620427646 | Success criterion : 0.83498289777528 \n",
            "iter :  51 | Success criterion : 0.00000005612603 | Successive errors : 0.00007194995362 | Success criterion : 0.83464482942842 \n",
            "iter :  52 | Success criterion : 0.00000003907259 | Successive errors : 0.00006002947532 | Success criterion : 0.83432264090163 \n",
            "iter :  53 | Success criterion : 0.00000002718054 | Successive errors : 0.00005006550962 | Success criterion : 0.83401544577898 \n",
            "iter :  54 | Success criterion : 0.00000001889456 | Successive errors : 0.00004174073738 | Success criterion : 0.83372241085363 \n",
            "iter :  55 | Success criterion : 0.00000001312570 | Successive errors : 0.00003478851510 | Success criterion : 0.83344275358137 \n",
            "iter :  56 | Success criterion : 0.00000000911230 | Successive errors : 0.00002898494679 | Success criterion : 0.83317573941351 \n",
            "iter :  57 | Success criterion : 0.00000000632217 | Successive errors : 0.00002414216157 | Success criterion : 0.83292067916460 \n",
            "iter :  58 | Success criterion : 0.00000000438378 | Successive errors : 0.00002010262089 | Success criterion : 0.83267692636621 \n",
            "iter :  59 | Success criterion : 0.00000000303799 | Successive errors : 0.00001673430362 | Success criterion : 0.83244387470020 \n",
            "iter :  60 | Success criterion : 0.00000000210422 | Successive errors : 0.00001392663815 | Success criterion : 0.83222095548261 \n",
            "iter :  61 | Success criterion : 0.00000000145670 | Successive errors : 0.00001158706928 | Success criterion : 0.83200763530925 \n",
            "iter :  62 | Success criterion : 0.00000000100795 | Successive errors : 0.00000963816378 | Success criterion : 0.83180341375642 \n",
            "iter :  63 | Success criterion : 0.00000000069711 | Successive errors : 0.00000801517238 | Success criterion : 0.83160782121464 \n",
            "iter :  64 | Success criterion : 0.00000000048191 | Successive errors : 0.00000666397796 | Success criterion : 0.83142041675813 \n",
            "iter :  65 | Success criterion : 0.00000000033300 | Successive errors : 0.00000553937028 | Success criterion : 0.83124078644869 \n",
            "iter :  66 | Success criterion : 0.00000000023000 | Successive errors : 0.00000460359638 | Success criterion : 0.83106854129659 \n",
            "iter :  67 | Success criterion : 0.00000000015880 | Successive errors : 0.00000382514350 | Success criterion : 0.83090331569025 \n",
            "iter :  68 | Success criterion : 0.00000000010960 | Successive errors : 0.00000317771794 | Success criterion : 0.83074476580449 \n",
            "iter :  69 | Success criterion : 0.00000000007561 | Successive errors : 0.00000263938890 | Success criterion : 0.83059256812009 \n",
            "iter :  70 | Success criterion : 0.00000000005215 | Successive errors : 0.00000219187106 | Success criterion : 0.83044641796208 \n",
            "iter :  71 | Success criterion : 0.00000000003595 | Successive errors : 0.00000181992375 | Success criterion : 0.83030602847858 \n",
            "iter :  72 | Success criterion : 0.00000000002478 | Successive errors : 0.00000151084816 | Success criterion : 0.83017112912980 \n",
            "iter :  73 | Success criterion : 0.00000000001707 | Successive errors : 0.00000125406662 | Success criterion : 0.83004146500873 \n",
            "iter :  74 | Success criterion : 0.00000000001176 | Successive errors : 0.00000104077095 | Success criterion : 0.82991679533754 \n",
            "iter :  75 | Success criterion : 0.00000000000810 | Successive errors : 0.00000086362850 | Success criterion : 0.82979689260765 \n",
            "iter :  76 | Success criterion : 0.00000000000557 | Successive errors : 0.00000071653663 | Success criterion : 0.82968154208579 \n",
            "iter :  77 | Success criterion : 0.00000000000384 | Successive errors : 0.00000059441768 | Success criterion : 0.82957054134546 \n",
            "iter :  78 | Success criterion : 0.00000000000264 | Successive errors : 0.00000049304788 | Success criterion : 0.82946369739379 \n",
            "iter :  79 | Success criterion : 0.00000000000182 | Successive errors : 0.00000040891460 | Success criterion : 0.82936082812043 \n",
            "iter :  80 | Success criterion : 0.00000000000125 | Successive errors : 0.00000033909724 | Success criterion : 0.82926176289269 \n",
            "iter :  81 | Success criterion : 0.00000000000086 | Successive errors : 0.00000028116802 | Success criterion : 0.82916633705071 \n",
            "iter :  82 | Success criterion : 0.00000000000059 | Successive errors : 0.00000023310921 | Success criterion : 0.82907439663281 \n",
            "iter :  83 | Success criterion : 0.00000000000041 | Successive errors : 0.00000019324422 | Success criterion : 0.82898579374841 \n",
            "iter :  84 | Success criterion : 0.00000000000028 | Successive errors : 0.00000016018021 | Success criterion : 0.82890038948594 \n",
            "iter :  85 | Success criterion : 0.00000000000019 | Successive errors : 0.00000013276025 | Success criterion : 0.82881805238081 \n",
            "iter :  86 | Success criterion : 0.00000000000013 | Successive errors : 0.00000011002355 | Success criterion : 0.82873865462587 \n",
            "iter :  87 | Success criterion : 0.00000000000009 | Successive errors : 0.00000009117234 | Success criterion : 0.82866207607849 \n",
            "iter :  88 | Success criterion : 0.00000000000006 | Successive errors : 0.00000007554433 | Success criterion : 0.82858820802608 \n",
            "iter :  89 | Success criterion : 0.00000000000004 | Successive errors : 0.00000006258976 | Success criterion : 0.82851693477113 \n",
            "iter :  90 | Success criterion : 0.00000000000003 | Successive errors : 0.00000005185237 | Success criterion : 0.82844815644718 \n",
            "iter :  91 | Success criterion : 0.00000000000002 | Successive errors : 0.00000004295356 | Success criterion : 0.82838177502696 \n",
            "iter :  92 | Success criterion : 0.00000000000001 | Successive errors : 0.00000003557919 | Success criterion : 0.82831769812660 \n",
            "iter :  93 | Success criterion : 0.00000000000001 | Successive errors : 0.00000002946867 | Success criterion : 0.82825583053999 \n",
            "iter :  94 | Success criterion : 0.00000000000001 | Successive errors : 0.00000002440584 | Success criterion : 0.82819609681361 \n",
            "iter :  95 | Success criterion : 0.00000000000000 | Successive errors : 0.00000002021141 | Success criterion : 0.82813839161974 \n",
            "iter :  96 | Success criterion : 0.00000000000000 | Successive errors : 0.00000001673672 | Success criterion : 0.82808268567234 \n",
            "iter :  97 | Success criterion : 0.00000000000000 | Successive errors : 0.00000001385849 | Success criterion : 0.82802883994367 \n",
            "iter :  98 | Success criterion : 0.00000000000000 | Successive errors : 0.00000001147451 | Success criterion : 0.82797681555965 \n",
            "iter :  99 | Success criterion : 0.00000000000000 | Successive errors : 0.00000000950005 | Success criterion : 0.82792660396287 \n",
            "iter : 100 | Success criterion : 0.00000000000000 | Successive errors : 0.00000000786488 | Success criterion : 0.82787800325618 \n",
            "iter : 101 | Success criterion : 0.00000000000000 | Successive errors : 0.00000000651079 | Success criterion : 0.82783107837695 \n",
            "iter : 102 | Success criterion : 0.00000000000000 | Successive errors : 0.00000000538954 | Success criterion : 0.82778571115590 \n",
            "iter : 103 | Success criterion : 0.00000000000000 | Successive errors : 0.00000000446115 | Success criterion : 0.82774180347794 \n",
            "iter : 104 | Success criterion : 0.00000000000000 | Successive errors : 0.00000000369249 | Success criterion : 0.82769950059131 \n",
            "iter : 105 | Success criterion : 0.00000000000000 | Successive errors : 0.00000000305612 | Success criterion : 0.82765837377528 \n",
            "iter : 106 | Success criterion : 0.00000000000000 | Successive errors : 0.00000000252930 | Success criterion : 0.82761878702727 \n",
            "iter : 107 | Success criterion : 0.00000000000000 | Successive errors : 0.00000000209320 | Success criterion : 0.82758041680586 \n",
            "iter : 108 | Success criterion : 0.00000000000000 | Successive errors : 0.00000000173222 | Success criterion : 0.82754337284104 \n",
            "iter : 109 | Success criterion : 0.00000000000000 | Successive errors : 0.00000000143342 | Success criterion : 0.82750756981526 \n",
            "iter : 110 | Success criterion : 0.00000000000000 | Successive errors : 0.00000000118612 | Success criterion : 0.82747266111296 \n",
            "iter : 111 | Success criterion : 0.00000000000000 | Successive errors : 0.00000000098144 | Success criterion : 0.82743913263480 \n",
            "iter : 112 | Success criterion : 0.00000000000000 | Successive errors : 0.00000000081205 | Success criterion : 0.82740663953228 \n",
            "iter : 113 | Success criterion : 0.00000000000000 | Successive errors : 0.00000000067187 | Success criterion : 0.82737536482084 \n",
            "iter : 114 | Success criterion : 0.00000000000000 | Successive errors : 0.00000000055587 | Success criterion : 0.82734482580717 \n",
            "iter : 115 | Success criterion : 0.00000000000000 | Successive errors : 0.00000000045988 | Success criterion : 0.82731556860527 \n",
            "iter : 116 | Success criterion : 0.00000000000000 | Successive errors : 0.00000000038045 | Success criterion : 0.82728680125051 \n",
            "iter : 117 | Success criterion : 0.00000000000000 | Successive errors : 0.00000000031473 | Success criterion : 0.82725897073286 \n",
            "iter : 118 | Success criterion : 0.00000000000000 | Successive errors : 0.00000000026036 | Success criterion : 0.82723314486443 \n",
            "iter : 119 | Success criterion : 0.00000000000000 | Successive errors : 0.00000000021537 | Success criterion : 0.82720611726839 \n",
            "iter : 120 | Success criterion : 0.00000000000000 | Successive errors : 0.00000000017815 | Success criterion : 0.82718161935578 \n",
            "iter : 121 | Success criterion : 0.00000000000000 | Successive errors : 0.00000000014736 | Success criterion : 0.82715829098935 \n",
            "iter : 122 | Success criterion : 0.00000000000000 | Successive errors : 0.00000000012188 | Success criterion : 0.82713435715764 \n",
            "iter : 123 | Success criterion : 0.00000000000000 | Successive errors : 0.00000000010081 | Success criterion : 0.82710984459171 \n",
            "iter : 124 | Success criterion : 0.00000000000000 | Successive errors : 0.00000000008338 | Success criterion : 0.82709096847265 \n",
            "iter : 125 | Success criterion : 0.00000000000000 | Successive errors : 0.00000000006896 | Success criterion : 0.82706603074618 \n",
            "iter : 126 | Success criterion : 0.00000000000000 | Successive errors : 0.00000000005703 | Success criterion : 0.82704777168393 \n",
            "iter : 127 | Success criterion : 0.00000000000000 | Successive errors : 0.00000000004717 | Success criterion : 0.82702757647938 \n",
            "iter : 128 | Success criterion : 0.00000000000000 | Successive errors : 0.00000000003901 | Success criterion : 0.82700667368664 \n",
            "iter : 129 | Success criterion : 0.00000000000000 | Successive errors : 0.00000000003226 | Success criterion : 0.82699361305267 \n",
            "iter : 130 | Success criterion : 0.00000000000000 | Successive errors : 0.00000000002668 | Success criterion : 0.82696960503418 \n",
            "iter : 131 | Success criterion : 0.00000000000000 | Successive errors : 0.00000000002206 | Success criterion : 0.82695333815726 \n",
            "iter : 132 | Success criterion : 0.00000000000000 | Successive errors : 0.00000000001824 | Success criterion : 0.82694409558506 \n",
            "iter : 133 | Success criterion : 0.00000000000000 | Successive errors : 0.00000000001509 | Success criterion : 0.82691460328044 \n",
            "iter : 134 | Success criterion : 0.00000000000000 | Successive errors : 0.00000000001247 | Success criterion : 0.82689765990216 \n",
            "iter : 135 | Success criterion : 0.00000000000000 | Successive errors : 0.00000000001032 | Success criterion : 0.82688336433928 \n",
            "iter : 136 | Success criterion : 0.00000000000000 | Successive errors : 0.00000000000853 | Success criterion : 0.82687553521613 \n",
            "iter : 137 | Success criterion : 0.00000000000000 | Successive errors : 0.00000000000705 | Success criterion : 0.82688573216042 \n",
            "iter : 138 | Success criterion : 0.00000000000000 | Successive errors : 0.00000000000583 | Success criterion : 0.82682367826462 \n",
            "iter : 139 | Success criterion : 0.00000000000000 | Successive errors : 0.00000000000482 | Success criterion : 0.82680477020029 \n",
            "iter : 140 | Success criterion : 0.00000000000000 | Successive errors : 0.00000000000399 | Success criterion : 0.82686787554141 \n",
            "iter : 141 | Success criterion : 0.00000000000000 | Successive errors : 0.00000000000330 | Success criterion : 0.82680182512656 \n",
            "iter : 142 | Success criterion : 0.00000000000000 | Successive errors : 0.00000000000273 | Success criterion : 0.82677826734059 \n",
            "iter : 143 | Success criterion : 0.00000000000000 | Successive errors : 0.00000000000225 | Success criterion : 0.82680742064765 \n",
            "iter : 144 | Success criterion : 0.00000000000000 | Successive errors : 0.00000000000186 | Success criterion : 0.82676874372540 \n",
            "iter : 145 | Success criterion : 0.00000000000000 | Successive errors : 0.00000000000154 | Success criterion : 0.82673669311282 \n",
            "iter : 146 | Success criterion : 0.00000000000000 | Successive errors : 0.00000000000127 | Success criterion : 0.82668030312587 \n",
            "iter : 147 | Success criterion : 0.00000000000000 | Successive errors : 0.00000000000105 | Success criterion : 0.82678693081178 \n",
            "iter : 148 | Success criterion : 0.00000000000000 | Successive errors : 0.00000000000087 | Success criterion : 0.82669426445093 \n",
            "iter : 149 | Success criterion : 0.00000000000000 | Successive errors : 0.00000000000072 | Success criterion : 0.82686266067043 \n",
            "iter : 150 | Success criterion : 0.00000000000000 | Successive errors : 0.00000000000059 | Success criterion : 0.82674773502028 \n",
            "iter : 151 | Success criterion : 0.00000000000000 | Successive errors : 0.00000000000049 | Success criterion : 0.82647187472662 \n",
            "iter : 152 | Success criterion : 0.00000000000000 | Successive errors : 0.00000000000041 | Success criterion : 0.82676009625223 \n",
            "iter : 153 | Success criterion : 0.00000000000000 | Successive errors : 0.00000000000034 | Success criterion : 0.82615375423562 \n",
            "iter : 154 | Success criterion : 0.00000000000000 | Successive errors : 0.00000000000028 | Success criterion : 0.82726023576085 \n",
            "iter : 155 | Success criterion : 0.00000000000000 | Successive errors : 0.00000000000023 | Success criterion : 0.82643337954117 \n",
            "iter : 156 | Success criterion : 0.00000000000000 | Successive errors : 0.00000000000019 | Success criterion : 0.82709482432943 \n",
            "iter : 157 | Success criterion : 0.00000000000000 | Successive errors : 0.00000000000016 | Success criterion : 0.82659455904116 \n",
            "iter : 158 | Success criterion : 0.00000000000000 | Successive errors : 0.00000000000013 | Success criterion : 0.82622342071526 \n",
            "iter : 159 | Success criterion : 0.00000000000000 | Successive errors : 0.00000000000011 | Success criterion : 0.82605671482076 \n",
            "iter : 160 | Success criterion : 0.00000000000000 | Successive errors : 0.00000000000009 | Success criterion : 0.82709372368677 \n",
            "iter : 161 | Success criterion : 0.00000000000000 | Successive errors : 0.00000000000007 | Success criterion : 0.82740122949215 \n",
            "iter : 162 | Success criterion : 0.00000000000000 | Successive errors : 0.00000000000006 | Success criterion : 0.82722067105201 \n",
            "iter : 163 | Success criterion : 0.00000000000000 | Successive errors : 0.00000000000005 | Success criterion : 0.82717391304348 \n",
            "iter : 164 | Success criterion : 0.00000000000000 | Successive errors : 0.00000000000004 | Success criterion : 0.82377757797911 \n",
            "iter : 165 | Success criterion : 0.00000000000000 | Successive errors : 0.00000000000003 | Success criterion : 0.82973721769793 \n",
            "iter : 166 | Success criterion : 0.00000000000000 | Successive errors : 0.00000000000003 | Success criterion : 0.82242234139431 \n",
            "iter : 167 | Success criterion : 0.00000000000000 | Successive errors : 0.00000000000002 | Success criterion : 0.82418799212598 \n",
            "iter : 168 | Success criterion : 0.00000000000000 | Successive errors : 0.00000000000002 | Success criterion : 0.82683982683983 \n",
            "iter : 169 | Success criterion : 0.00000000000000 | Successive errors : 0.00000000000002 | Success criterion : 0.82614190287055 \n",
            "iter : 170 | Success criterion : 0.00000000000000 | Successive errors : 0.00000000000001 | Success criterion : 0.83369755244755 \n",
            "iter : 171 | Success criterion : 0.00000000000000 | Successive errors : 0.00000000000001 | Success criterion : 0.82621231979030 \n",
            "iter : 172 | Success criterion : 0.00000000000000 | Successive errors : 0.00000000000001 | Success criterion : 0.82138324873096 \n",
            "iter : 173 | Success criterion : 0.00000000000000 | Successive errors : 0.00000000000001 | Success criterion : 0.83236770954036 \n",
            "iter : 174 | Success criterion : 0.00000000000000 | Successive errors : 0.00000000000001 | Success criterion : 0.82969837587007 \n",
            "iter : 175 | Success criterion : 0.00000000000000 | Successive errors : 0.00000000000001 | Success criterion : 0.81655480984340 \n",
            "iter : 176 | Success criterion : 0.00000000000000 | Successive errors : 0.00000000000000 | Success criterion : 0.84109589041096 \n",
            "iter : 177 | Success criterion : 0.00000000000000 | Successive errors : 0.00000000000000 | Success criterion : 0.83794788273616 \n",
            "iter : 178 | Success criterion : 0.00000000000000 | Successive errors : 0.00000000000000 | Success criterion : 0.77648202137998 \n",
            "iter : 179 | Success criterion : 0.00000000000000 | Successive errors : 0.00000000000000 | Success criterion : 0.87234042553191 \n",
            "iter : 180 | Success criterion : 0.00000000000000 | Successive errors : 0.00000000000000 | Success criterion : 0.84791965566714 \n",
            "iter : 181 | Success criterion : 0.00000000000000 | Successive errors : 0.00000000000000 | Success criterion : 0.73096446700508 \n",
            "iter : 182 | Success criterion : 0.00000000000000 | Successive errors : 0.00000000000000 | Success criterion : 0.92361111111111 \n",
            "iter : 183 | Success criterion : 0.00000000000000 | Successive errors : 0.00000000000000 | Success criterion : 0.82706766917293 \n",
            "iter : 184 | Success criterion : 0.00000000000000 | Successive errors : 0.00000000000000 | Success criterion : 0.90606060606061 \n",
            "iter : 185 | Success criterion : 0.00000000000000 | Successive errors : 0.00000000000000 | Success criterion : 0.77591973244147 \n",
            "iter : 186 | Success criterion : 0.00000000000000 | Successive errors : 0.00000000000000 | Success criterion : 0.72413793103448 \n",
            "iter : 187 | Success criterion : 0.00000000000000 | Successive errors : 0.00000000000000 | Success criterion : 0.97619047619048 \n",
            "iter : 188 | Success criterion : 0.00000000000000 | Successive errors : 0.00000000000000 | Success criterion : 0.58536585365854 \n",
            "iter : 189 | Success criterion : 0.00000000000000 | Successive errors : 0.00000000000000 | Success criterion : 1.00000000000000 \n",
            "iter : 190 | Success criterion : 0.00000000000000 | Successive errors : 0.00000000000000 | Success criterion : 0.66666666666667 \n",
            "iter : 191 | Success criterion : 0.00000000000000 | Successive errors : 0.00000000000000 | Success criterion : 1.00000000000000 \n",
            "iter : 192 | Success criterion : 0.00000000000000 | Successive errors : 0.00000000000000 | Success criterion : 0.50000000000000 \n",
            "iter : 193 | Success criterion : 0.00000000000000 | Successive errors : 0.00000000000000 | Success criterion : 1.00000000000000 \n",
            "iter : 194 | Success criterion : 0.00000000000000 | Successive errors : 0.00000000000000 | Success criterion : 1.00000000000000 \n",
            "iter : 195 | Success criterion : 0.00000000000000 | Successive errors : 0.00000000000000 | Success criterion : 1.00000000000000 \n",
            "iter : 196 | Success criterion : 0.00000000000000 | Successive errors : 0.00000000000000 | Success criterion : 0.00000000000000 \n",
            "iter : 197 | Success criterion : 0.00000000000000 | Successive errors : 0.00000000000000 | Success criterion : NaN \n",
            "iter : 198 | Success criterion : 0.00000000000000 | Successive errors : 0.00000000000000 | Success criterion : NaN \n",
            "iter : 199 | Success criterion : 0.00000000000000 | Successive errors : 0.00000000000000 | Success criterion : NaN \n",
            "iter : 200 | Success criterion : 0.00000000000000 | Successive errors : 0.00000000000000 | Success criterion : NaN \n",
            "iter : 201 | Success criterion : 0.00000000000000 | Successive errors : 0.00000000000000 | Success criterion : NaN \n",
            "iter : 202 | Success criterion : 0.00000000000000 | Successive errors : 0.00000000000000 | Success criterion : NaN \n",
            "iter : 203 | Success criterion : 0.00000000000000 | Successive errors : 0.00000000000000 | Success criterion : NaN \n",
            "iter : 204 | Success criterion : 0.00000000000000 | Successive errors : 0.00000000000000 | Success criterion : NaN \n",
            "iter : 205 | Success criterion : 0.00000000000000 | Successive errors : 0.00000000000000 | Success criterion : NaN \n",
            "iter : 206 | Success criterion : 0.00000000000000 | Successive errors : 0.00000000000000 | Success criterion : NaN \n",
            "iter : 207 | Success criterion : 0.00000000000000 | Successive errors : 0.00000000000000 | Success criterion : NaN \n",
            "iter : 208 | Success criterion : 0.00000000000000 | Successive errors : 0.00000000000000 | Success criterion : NaN \n",
            "iter : 209 | Success criterion : 0.00000000000000 | Successive errors : 0.00000000000000 | Success criterion : NaN \n",
            "iter : 210 | Success criterion : 0.00000000000000 | Successive errors : 0.00000000000000 | Success criterion : NaN \n",
            "iter : 211 | Success criterion : 0.00000000000000 | Successive errors : 0.00000000000000 | Success criterion : NaN \n",
            "iter : 212 | Success criterion : 0.00000000000000 | Successive errors : 0.00000000000000 | Success criterion : NaN \n",
            "iter : 213 | Success criterion : 0.00000000000000 | Successive errors : 0.00000000000000 | Success criterion : NaN \n",
            "iter : 214 | Success criterion : 0.00000000000000 | Successive errors : 0.00000000000000 | Success criterion : NaN \n",
            "iter : 215 | Success criterion : 0.00000000000000 | Successive errors : 0.00000000000000 | Success criterion : NaN \n",
            "iter : 216 | Success criterion : 0.00000000000000 | Successive errors : 0.00000000000000 | Success criterion : NaN \n",
            "iter : 217 | Success criterion : 0.00000000000000 | Successive errors : 0.00000000000000 | Success criterion : NaN \n",
            "iter : 218 | Success criterion : 0.00000000000000 | Successive errors : 0.00000000000000 | Success criterion : NaN \n",
            "iter : 219 | Success criterion : 0.00000000000000 | Successive errors : 0.00000000000000 | Success criterion : NaN \n",
            "iter : 220 | Success criterion : 0.00000000000000 | Successive errors : 0.00000000000000 | Success criterion : NaN \n",
            "iter : 221 | Success criterion : 0.00000000000000 | Successive errors : 0.00000000000000 | Success criterion : NaN \n",
            "iter : 222 | Success criterion : 0.00000000000000 | Successive errors : 0.00000000000000 | Success criterion : NaN \n",
            "iter : 223 | Success criterion : 0.00000000000000 | Successive errors : 0.00000000000000 | Success criterion : NaN \n",
            "iter : 224 | Success criterion : 0.00000000000000 | Successive errors : 0.00000000000000 | Success criterion : NaN \n",
            "iter : 225 | Success criterion : 0.00000000000000 | Successive errors : 0.00000000000000 | Success criterion : NaN \n",
            "iter : 226 | Success criterion : 0.00000000000000 | Successive errors : 0.00000000000000 | Success criterion : NaN \n",
            "iter : 227 | Success criterion : 0.00000000000000 | Successive errors : 0.00000000000000 | Success criterion : NaN \n",
            "iter : 228 | Success criterion : 0.00000000000000 | Successive errors : 0.00000000000000 | Success criterion : NaN \n",
            "iter : 229 | Success criterion : 0.00000000000000 | Successive errors : 0.00000000000000 | Success criterion : NaN \n",
            "iter : 230 | Success criterion : 0.00000000000000 | Successive errors : 0.00000000000000 | Success criterion : NaN \n",
            "iter : 231 | Success criterion : 0.00000000000000 | Successive errors : 0.00000000000000 | Success criterion : NaN \n",
            "iter : 232 | Success criterion : 0.00000000000000 | Successive errors : 0.00000000000000 | Success criterion : NaN \n",
            "iter : 233 | Success criterion : 0.00000000000000 | Successive errors : 0.00000000000000 | Success criterion : NaN \n",
            "iter : 234 | Success criterion : 0.00000000000000 | Successive errors : 0.00000000000000 | Success criterion : NaN \n",
            "iter : 235 | Success criterion : 0.00000000000000 | Successive errors : 0.00000000000000 | Success criterion : NaN \n",
            "iter : 236 | Success criterion : 0.00000000000000 | Successive errors : 0.00000000000000 | Success criterion : NaN \n",
            "iter : 237 | Success criterion : 0.00000000000000 | Successive errors : 0.00000000000000 | Success criterion : NaN \n",
            "iter : 238 | Success criterion : 0.00000000000000 | Successive errors : 0.00000000000000 | Success criterion : NaN \n",
            "iter : 239 | Success criterion : 0.00000000000000 | Successive errors : 0.00000000000000 | Success criterion : NaN \n",
            "iter : 240 | Success criterion : 0.00000000000000 | Successive errors : 0.00000000000000 | Success criterion : NaN \n",
            "iter : 241 | Success criterion : 0.00000000000000 | Successive errors : 0.00000000000000 | Success criterion : NaN \n",
            "iter : 242 | Success criterion : 0.00000000000000 | Successive errors : 0.00000000000000 | Success criterion : NaN \n",
            "iter : 243 | Success criterion : 0.00000000000000 | Successive errors : 0.00000000000000 | Success criterion : NaN \n",
            "iter : 244 | Success criterion : 0.00000000000000 | Successive errors : 0.00000000000000 | Success criterion : NaN \n",
            "iter : 245 | Success criterion : 0.00000000000000 | Successive errors : 0.00000000000000 | Success criterion : NaN \n",
            "iter : 246 | Success criterion : 0.00000000000000 | Successive errors : 0.00000000000000 | Success criterion : NaN \n",
            "iter : 247 | Success criterion : 0.00000000000000 | Successive errors : 0.00000000000000 | Success criterion : NaN \n",
            "iter : 248 | Success criterion : 0.00000000000000 | Successive errors : 0.00000000000000 | Success criterion : NaN \n",
            "iter : 249 | Success criterion : 0.00000000000000 | Successive errors : 0.00000000000000 | Success criterion : NaN \n",
            "iter : 250 | Success criterion : 0.00000000000000 | Successive errors : 0.00000000000000 | Success criterion : NaN \n",
            "iter : 251 | Success criterion : 0.00000000000000 | Successive errors : 0.00000000000000 | Success criterion : NaN \n",
            "iter : 252 | Success criterion : 0.00000000000000 | Successive errors : 0.00000000000000 | Success criterion : NaN \n",
            "iter : 253 | Success criterion : 0.00000000000000 | Successive errors : 0.00000000000000 | Success criterion : NaN \n",
            "iter : 254 | Success criterion : 0.00000000000000 | Successive errors : 0.00000000000000 | Success criterion : NaN \n",
            "iter : 255 | Success criterion : 0.00000000000000 | Successive errors : 0.00000000000000 | Success criterion : NaN \n",
            "iter : 256 | Success criterion : 0.00000000000000 | Successive errors : 0.00000000000000 | Success criterion : NaN \n",
            "iter : 257 | Success criterion : 0.00000000000000 | Successive errors : 0.00000000000000 | Success criterion : NaN \n",
            "iter : 258 | Success criterion : 0.00000000000000 | Successive errors : 0.00000000000000 | Success criterion : NaN \n",
            "iter : 259 | Success criterion : 0.00000000000000 | Successive errors : 0.00000000000000 | Success criterion : NaN \n",
            "iter : 260 | Success criterion : 0.00000000000000 | Successive errors : 0.00000000000000 | Success criterion : NaN \n",
            "iter : 261 | Success criterion : 0.00000000000000 | Successive errors : 0.00000000000000 | Success criterion : NaN \n",
            "iter : 262 | Success criterion : 0.00000000000000 | Successive errors : 0.00000000000000 | Success criterion : NaN \n",
            "iter : 263 | Success criterion : 0.00000000000000 | Successive errors : 0.00000000000000 | Success criterion : NaN \n",
            "iter : 264 | Success criterion : 0.00000000000000 | Successive errors : 0.00000000000000 | Success criterion : NaN \n",
            "iter : 265 | Success criterion : 0.00000000000000 | Successive errors : 0.00000000000000 | Success criterion : NaN \n",
            "iter : 266 | Success criterion : 0.00000000000000 | Successive errors : 0.00000000000000 | Success criterion : NaN \n",
            "iter : 267 | Success criterion : 0.00000000000000 | Successive errors : 0.00000000000000 | Success criterion : NaN \n",
            "iter : 268 | Success criterion : 0.00000000000000 | Successive errors : 0.00000000000000 | Success criterion : NaN \n",
            "iter : 269 | Success criterion : 0.00000000000000 | Successive errors : 0.00000000000000 | Success criterion : NaN \n",
            "iter : 270 | Success criterion : 0.00000000000000 | Successive errors : 0.00000000000000 | Success criterion : NaN \n",
            "iter : 271 | Success criterion : 0.00000000000000 | Successive errors : 0.00000000000000 | Success criterion : NaN \n",
            "iter : 272 | Success criterion : 0.00000000000000 | Successive errors : 0.00000000000000 | Success criterion : NaN \n",
            "iter : 273 | Success criterion : 0.00000000000000 | Successive errors : 0.00000000000000 | Success criterion : NaN \n",
            "iter : 274 | Success criterion : 0.00000000000000 | Successive errors : 0.00000000000000 | Success criterion : NaN \n",
            "iter : 275 | Success criterion : 0.00000000000000 | Successive errors : 0.00000000000000 | Success criterion : NaN \n",
            "iter : 276 | Success criterion : 0.00000000000000 | Successive errors : 0.00000000000000 | Success criterion : NaN \n",
            "iter : 277 | Success criterion : 0.00000000000000 | Successive errors : 0.00000000000000 | Success criterion : NaN \n",
            "iter : 278 | Success criterion : 0.00000000000000 | Successive errors : 0.00000000000000 | Success criterion : NaN \n",
            "iter : 279 | Success criterion : 0.00000000000000 | Successive errors : 0.00000000000000 | Success criterion : NaN \n",
            "iter : 280 | Success criterion : 0.00000000000000 | Successive errors : 0.00000000000000 | Success criterion : NaN \n",
            "iter : 281 | Success criterion : 0.00000000000000 | Successive errors : 0.00000000000000 | Success criterion : NaN \n",
            "iter : 282 | Success criterion : 0.00000000000000 | Successive errors : 0.00000000000000 | Success criterion : NaN \n",
            "iter : 283 | Success criterion : 0.00000000000000 | Successive errors : 0.00000000000000 | Success criterion : NaN \n",
            "iter : 284 | Success criterion : 0.00000000000000 | Successive errors : 0.00000000000000 | Success criterion : NaN \n",
            "iter : 285 | Success criterion : 0.00000000000000 | Successive errors : 0.00000000000000 | Success criterion : NaN \n",
            "iter : 286 | Success criterion : 0.00000000000000 | Successive errors : 0.00000000000000 | Success criterion : NaN \n",
            "iter : 287 | Success criterion : 0.00000000000000 | Successive errors : 0.00000000000000 | Success criterion : NaN \n",
            "iter : 288 | Success criterion : 0.00000000000000 | Successive errors : 0.00000000000000 | Success criterion : NaN \n",
            "iter : 289 | Success criterion : 0.00000000000000 | Successive errors : 0.00000000000000 | Success criterion : NaN \n",
            "iter : 290 | Success criterion : 0.00000000000000 | Successive errors : 0.00000000000000 | Success criterion : NaN \n",
            "iter : 291 | Success criterion : 0.00000000000000 | Successive errors : 0.00000000000000 | Success criterion : NaN \n",
            "iter : 292 | Success criterion : 0.00000000000000 | Successive errors : 0.00000000000000 | Success criterion : NaN \n",
            "iter : 293 | Success criterion : 0.00000000000000 | Successive errors : 0.00000000000000 | Success criterion : NaN \n",
            "iter : 294 | Success criterion : 0.00000000000000 | Successive errors : 0.00000000000000 | Success criterion : NaN \n",
            "iter : 295 | Success criterion : 0.00000000000000 | Successive errors : 0.00000000000000 | Success criterion : NaN \n",
            "iter : 296 | Success criterion : 0.00000000000000 | Successive errors : 0.00000000000000 | Success criterion : NaN \n",
            "iter : 297 | Success criterion : 0.00000000000000 | Successive errors : 0.00000000000000 | Success criterion : NaN \n",
            "iter : 298 | Success criterion : 0.00000000000000 | Successive errors : 0.00000000000000 | Success criterion : NaN \n",
            "iter : 299 | Success criterion : 0.00000000000000 | Successive errors : 0.00000000000000 | Success criterion : NaN \n",
            "iter : 300 | Success criterion : 0.00000000000000 | Successive errors : 0.00000000000000 | Success criterion : NaN \n",
            "iter : 301 | Success criterion : 0.00000000000000 | Successive errors : 0.00000000000000 | Success criterion : NaN \n",
            "iter : 302 | Success criterion : 0.00000000000000 | Successive errors : 0.00000000000000 | Success criterion : NaN \n",
            "iter : 303 | Success criterion : 0.00000000000000 | Successive errors : 0.00000000000000 | Success criterion : NaN \n",
            "iter : 304 | Success criterion : 0.00000000000000 | Successive errors : 0.00000000000000 | Success criterion : NaN \n",
            "iter : 305 | Success criterion : 0.00000000000000 | Successive errors : 0.00000000000000 | Success criterion : NaN \n",
            "iter : 306 | Success criterion : 0.00000000000000 | Successive errors : 0.00000000000000 | Success criterion : NaN \n",
            "iter : 307 | Success criterion : 0.00000000000000 | Successive errors : 0.00000000000000 | Success criterion : NaN \n",
            "iter : 308 | Success criterion : 0.00000000000000 | Successive errors : 0.00000000000000 | Success criterion : NaN \n",
            "iter : 309 | Success criterion : 0.00000000000000 | Successive errors : 0.00000000000000 | Success criterion : NaN \n",
            "iter : 310 | Success criterion : 0.00000000000000 | Successive errors : 0.00000000000000 | Success criterion : NaN \n",
            "iter : 311 | Success criterion : 0.00000000000000 | Successive errors : 0.00000000000000 | Success criterion : NaN \n",
            "iter : 312 | Success criterion : 0.00000000000000 | Successive errors : 0.00000000000000 | Success criterion : NaN \n",
            "iter : 313 | Success criterion : 0.00000000000000 | Successive errors : 0.00000000000000 | Success criterion : NaN \n",
            "iter : 314 | Success criterion : 0.00000000000000 | Successive errors : 0.00000000000000 | Success criterion : NaN \n",
            "iter : 315 | Success criterion : 0.00000000000000 | Successive errors : 0.00000000000000 | Success criterion : NaN \n",
            "iter : 316 | Success criterion : 0.00000000000000 | Successive errors : 0.00000000000000 | Success criterion : NaN \n",
            "iter : 317 | Success criterion : 0.00000000000000 | Successive errors : 0.00000000000000 | Success criterion : NaN \n",
            "iter : 318 | Success criterion : 0.00000000000000 | Successive errors : 0.00000000000000 | Success criterion : NaN \n",
            "iter : 319 | Success criterion : 0.00000000000000 | Successive errors : 0.00000000000000 | Success criterion : NaN \n",
            "iter : 320 | Success criterion : 0.00000000000000 | Successive errors : 0.00000000000000 | Success criterion : NaN \n",
            "iter : 321 | Success criterion : 0.00000000000000 | Successive errors : 0.00000000000000 | Success criterion : NaN \n",
            "iter : 322 | Success criterion : 0.00000000000000 | Successive errors : 0.00000000000000 | Success criterion : NaN \n",
            "iter : 323 | Success criterion : 0.00000000000000 | Successive errors : 0.00000000000000 | Success criterion : NaN \n",
            "iter : 324 | Success criterion : 0.00000000000000 | Successive errors : 0.00000000000000 | Success criterion : NaN \n",
            "iter : 325 | Success criterion : 0.00000000000000 | Successive errors : 0.00000000000000 | Success criterion : NaN \n",
            "iter : 326 | Success criterion : 0.00000000000000 | Successive errors : 0.00000000000000 | Success criterion : NaN \n",
            "iter : 327 | Success criterion : 0.00000000000000 | Successive errors : 0.00000000000000 | Success criterion : NaN \n",
            "iter : 328 | Success criterion : 0.00000000000000 | Successive errors : 0.00000000000000 | Success criterion : NaN \n",
            "iter : 329 | Success criterion : 0.00000000000000 | Successive errors : 0.00000000000000 | Success criterion : NaN \n",
            "iter : 330 | Success criterion : 0.00000000000000 | Successive errors : 0.00000000000000 | Success criterion : NaN \n",
            "iter : 331 | Success criterion : 0.00000000000000 | Successive errors : 0.00000000000000 | Success criterion : NaN \n",
            "iter : 332 | Success criterion : 0.00000000000000 | Successive errors : 0.00000000000000 | Success criterion : NaN \n",
            "iter : 333 | Success criterion : 0.00000000000000 | Successive errors : 0.00000000000000 | Success criterion : NaN \n",
            "iter : 334 | Success criterion : 0.00000000000000 | Successive errors : 0.00000000000000 | Success criterion : NaN \n",
            "iter : 335 | Success criterion : 0.00000000000000 | Successive errors : 0.00000000000000 | Success criterion : NaN \n",
            "iter : 336 | Success criterion : 0.00000000000000 | Successive errors : 0.00000000000000 | Success criterion : NaN \n",
            "iter : 337 | Success criterion : 0.00000000000000 | Successive errors : 0.00000000000000 | Success criterion : NaN \n",
            "iter : 338 | Success criterion : 0.00000000000000 | Successive errors : 0.00000000000000 | Success criterion : NaN \n",
            "iter : 339 | Success criterion : 0.00000000000000 | Successive errors : 0.00000000000000 | Success criterion : NaN \n",
            "iter : 340 | Success criterion : 0.00000000000000 | Successive errors : 0.00000000000000 | Success criterion : NaN \n",
            "iter : 341 | Success criterion : 0.00000000000000 | Successive errors : 0.00000000000000 | Success criterion : NaN \n",
            "iter : 342 | Success criterion : 0.00000000000000 | Successive errors : 0.00000000000000 | Success criterion : NaN \n",
            "iter : 343 | Success criterion : 0.00000000000000 | Successive errors : 0.00000000000000 | Success criterion : NaN \n",
            "iter : 344 | Success criterion : 0.00000000000000 | Successive errors : 0.00000000000000 | Success criterion : NaN \n",
            "iter : 345 | Success criterion : 0.00000000000000 | Successive errors : 0.00000000000000 | Success criterion : NaN \n",
            "iter : 346 | Success criterion : 0.00000000000000 | Successive errors : 0.00000000000000 | Success criterion : NaN \n",
            "iter : 347 | Success criterion : 0.00000000000000 | Successive errors : 0.00000000000000 | Success criterion : NaN \n",
            "iter : 348 | Success criterion : 0.00000000000000 | Successive errors : 0.00000000000000 | Success criterion : NaN \n",
            "iter : 349 | Success criterion : 0.00000000000000 | Successive errors : 0.00000000000000 | Success criterion : NaN \n",
            "iter : 350 | Success criterion : 0.00000000000000 | Successive errors : 0.00000000000000 | Success criterion : NaN \n",
            "iter : 351 | Success criterion : 0.00000000000000 | Successive errors : 0.00000000000000 | Success criterion : NaN \n",
            "iter : 352 | Success criterion : 0.00000000000000 | Successive errors : 0.00000000000000 | Success criterion : NaN \n",
            "iter : 353 | Success criterion : 0.00000000000000 | Successive errors : 0.00000000000000 | Success criterion : NaN \n",
            "iter : 354 | Success criterion : 0.00000000000000 | Successive errors : 0.00000000000000 | Success criterion : NaN \n",
            "iter : 355 | Success criterion : 0.00000000000000 | Successive errors : 0.00000000000000 | Success criterion : NaN \n",
            "iter : 356 | Success criterion : 0.00000000000000 | Successive errors : 0.00000000000000 | Success criterion : NaN \n",
            "iter : 357 | Success criterion : 0.00000000000000 | Successive errors : 0.00000000000000 | Success criterion : NaN \n",
            "iter : 358 | Success criterion : 0.00000000000000 | Successive errors : 0.00000000000000 | Success criterion : NaN \n",
            "iter : 359 | Success criterion : 0.00000000000000 | Successive errors : 0.00000000000000 | Success criterion : NaN \n",
            "iter : 360 | Success criterion : 0.00000000000000 | Successive errors : 0.00000000000000 | Success criterion : NaN \n",
            "iter : 361 | Success criterion : 0.00000000000000 | Successive errors : 0.00000000000000 | Success criterion : NaN \n",
            "iter : 362 | Success criterion : 0.00000000000000 | Successive errors : 0.00000000000000 | Success criterion : NaN \n",
            "iter : 363 | Success criterion : 0.00000000000000 | Successive errors : 0.00000000000000 | Success criterion : NaN \n",
            "iter : 364 | Success criterion : 0.00000000000000 | Successive errors : 0.00000000000000 | Success criterion : NaN \n",
            "iter : 365 | Success criterion : 0.00000000000000 | Successive errors : 0.00000000000000 | Success criterion : NaN \n",
            "iter : 366 | Success criterion : 0.00000000000000 | Successive errors : 0.00000000000000 | Success criterion : NaN \n",
            "iter : 367 | Success criterion : 0.00000000000000 | Successive errors : 0.00000000000000 | Success criterion : NaN \n",
            "iter : 368 | Success criterion : 0.00000000000000 | Successive errors : 0.00000000000000 | Success criterion : NaN \n",
            "iter : 369 | Success criterion : 0.00000000000000 | Successive errors : 0.00000000000000 | Success criterion : NaN \n",
            "iter : 370 | Success criterion : 0.00000000000000 | Successive errors : 0.00000000000000 | Success criterion : NaN \n",
            "iter : 371 | Success criterion : 0.00000000000000 | Successive errors : 0.00000000000000 | Success criterion : NaN \n",
            "iter : 372 | Success criterion : 0.00000000000000 | Successive errors : 0.00000000000000 | Success criterion : NaN \n",
            "iter : 373 | Success criterion : 0.00000000000000 | Successive errors : 0.00000000000000 | Success criterion : NaN \n",
            "iter : 374 | Success criterion : 0.00000000000000 | Successive errors : 0.00000000000000 | Success criterion : NaN \n",
            "iter : 375 | Success criterion : 0.00000000000000 | Successive errors : 0.00000000000000 | Success criterion : NaN \n",
            "iter : 376 | Success criterion : 0.00000000000000 | Successive errors : 0.00000000000000 | Success criterion : NaN \n",
            "iter : 377 | Success criterion : 0.00000000000000 | Successive errors : 0.00000000000000 | Success criterion : NaN \n",
            "iter : 378 | Success criterion : 0.00000000000000 | Successive errors : 0.00000000000000 | Success criterion : NaN \n",
            "iter : 379 | Success criterion : 0.00000000000000 | Successive errors : 0.00000000000000 | Success criterion : NaN \n",
            "iter : 380 | Success criterion : 0.00000000000000 | Successive errors : 0.00000000000000 | Success criterion : NaN \n",
            "iter : 381 | Success criterion : 0.00000000000000 | Successive errors : 0.00000000000000 | Success criterion : NaN \n",
            "iter : 382 | Success criterion : 0.00000000000000 | Successive errors : 0.00000000000000 | Success criterion : NaN \n",
            "iter : 383 | Success criterion : 0.00000000000000 | Successive errors : 0.00000000000000 | Success criterion : NaN \n",
            "iter : 384 | Success criterion : 0.00000000000000 | Successive errors : 0.00000000000000 | Success criterion : NaN \n",
            "iter : 385 | Success criterion : 0.00000000000000 | Successive errors : 0.00000000000000 | Success criterion : NaN \n",
            "iter : 386 | Success criterion : 0.00000000000000 | Successive errors : 0.00000000000000 | Success criterion : NaN \n",
            "iter : 387 | Success criterion : 0.00000000000000 | Successive errors : 0.00000000000000 | Success criterion : NaN \n",
            "iter : 388 | Success criterion : 0.00000000000000 | Successive errors : 0.00000000000000 | Success criterion : NaN \n",
            "iter : 389 | Success criterion : 0.00000000000000 | Successive errors : 0.00000000000000 | Success criterion : NaN \n",
            "iter : 390 | Success criterion : 0.00000000000000 | Successive errors : 0.00000000000000 | Success criterion : NaN \n",
            "iter : 391 | Success criterion : 0.00000000000000 | Successive errors : 0.00000000000000 | Success criterion : NaN \n",
            "iter : 392 | Success criterion : 0.00000000000000 | Successive errors : 0.00000000000000 | Success criterion : NaN \n",
            "iter : 393 | Success criterion : 0.00000000000000 | Successive errors : 0.00000000000000 | Success criterion : NaN \n",
            "iter : 394 | Success criterion : 0.00000000000000 | Successive errors : 0.00000000000000 | Success criterion : NaN \n",
            "iter : 395 | Success criterion : 0.00000000000000 | Successive errors : 0.00000000000000 | Success criterion : NaN \n",
            "iter : 396 | Success criterion : 0.00000000000000 | Successive errors : 0.00000000000000 | Success criterion : NaN \n",
            "iter : 397 | Success criterion : 0.00000000000000 | Successive errors : 0.00000000000000 | Success criterion : NaN \n",
            "iter : 398 | Success criterion : 0.00000000000000 | Successive errors : 0.00000000000000 | Success criterion : NaN \n",
            "iter : 399 | Success criterion : 0.00000000000000 | Successive errors : 0.00000000000000 | Success criterion : NaN \n",
            "iter : 400 | Success criterion : 0.00000000000000 | Successive errors : 0.00000000000000 | Success criterion : NaN \n",
            "iter : 401 | Success criterion : 0.00000000000000 | Successive errors : 0.00000000000000 | Success criterion : NaN \n",
            "iter : 402 | Success criterion : 0.00000000000000 | Successive errors : 0.00000000000000 | Success criterion : NaN \n",
            "iter : 403 | Success criterion : 0.00000000000000 | Successive errors : 0.00000000000000 | Success criterion : NaN \n",
            "iter : 404 | Success criterion : 0.00000000000000 | Successive errors : 0.00000000000000 | Success criterion : NaN \n",
            "iter : 405 | Success criterion : 0.00000000000000 | Successive errors : 0.00000000000000 | Success criterion : NaN \n",
            "iter : 406 | Success criterion : 0.00000000000000 | Successive errors : 0.00000000000000 | Success criterion : NaN \n",
            "iter : 407 | Success criterion : 0.00000000000000 | Successive errors : 0.00000000000000 | Success criterion : NaN \n",
            "iter : 408 | Success criterion : 0.00000000000000 | Successive errors : 0.00000000000000 | Success criterion : NaN \n",
            "iter : 409 | Success criterion : 0.00000000000000 | Successive errors : 0.00000000000000 | Success criterion : NaN \n",
            "iter : 410 | Success criterion : 0.00000000000000 | Successive errors : 0.00000000000000 | Success criterion : NaN \n",
            "iter : 411 | Success criterion : 0.00000000000000 | Successive errors : 0.00000000000000 | Success criterion : NaN \n",
            "iter : 412 | Success criterion : 0.00000000000000 | Successive errors : 0.00000000000000 | Success criterion : NaN \n",
            "iter : 413 | Success criterion : 0.00000000000000 | Successive errors : 0.00000000000000 | Success criterion : NaN \n",
            "iter : 414 | Success criterion : 0.00000000000000 | Successive errors : 0.00000000000000 | Success criterion : NaN \n",
            "iter : 415 | Success criterion : 0.00000000000000 | Successive errors : 0.00000000000000 | Success criterion : NaN \n",
            "iter : 416 | Success criterion : 0.00000000000000 | Successive errors : 0.00000000000000 | Success criterion : NaN \n",
            "iter : 417 | Success criterion : 0.00000000000000 | Successive errors : 0.00000000000000 | Success criterion : NaN \n",
            "iter : 418 | Success criterion : 0.00000000000000 | Successive errors : 0.00000000000000 | Success criterion : NaN \n",
            "iter : 419 | Success criterion : 0.00000000000000 | Successive errors : 0.00000000000000 | Success criterion : NaN \n",
            "iter : 420 | Success criterion : 0.00000000000000 | Successive errors : 0.00000000000000 | Success criterion : NaN \n",
            "iter : 421 | Success criterion : 0.00000000000000 | Successive errors : 0.00000000000000 | Success criterion : NaN \n",
            "iter : 422 | Success criterion : 0.00000000000000 | Successive errors : 0.00000000000000 | Success criterion : NaN \n",
            "iter : 423 | Success criterion : 0.00000000000000 | Successive errors : 0.00000000000000 | Success criterion : NaN \n",
            "iter : 424 | Success criterion : 0.00000000000000 | Successive errors : 0.00000000000000 | Success criterion : NaN \n",
            "iter : 425 | Success criterion : 0.00000000000000 | Successive errors : 0.00000000000000 | Success criterion : NaN \n",
            "iter : 426 | Success criterion : 0.00000000000000 | Successive errors : 0.00000000000000 | Success criterion : NaN \n",
            "iter : 427 | Success criterion : 0.00000000000000 | Successive errors : 0.00000000000000 | Success criterion : NaN \n",
            "iter : 428 | Success criterion : 0.00000000000000 | Successive errors : 0.00000000000000 | Success criterion : NaN \n",
            "iter : 429 | Success criterion : 0.00000000000000 | Successive errors : 0.00000000000000 | Success criterion : NaN \n",
            "iter : 430 | Success criterion : 0.00000000000000 | Successive errors : 0.00000000000000 | Success criterion : NaN \n",
            "iter : 431 | Success criterion : 0.00000000000000 | Successive errors : 0.00000000000000 | Success criterion : NaN \n",
            "iter : 432 | Success criterion : 0.00000000000000 | Successive errors : 0.00000000000000 | Success criterion : NaN \n",
            "iter : 433 | Success criterion : 0.00000000000000 | Successive errors : 0.00000000000000 | Success criterion : NaN \n",
            "iter : 434 | Success criterion : 0.00000000000000 | Successive errors : 0.00000000000000 | Success criterion : NaN \n",
            "iter : 435 | Success criterion : 0.00000000000000 | Successive errors : 0.00000000000000 | Success criterion : NaN \n",
            "iter : 436 | Success criterion : 0.00000000000000 | Successive errors : 0.00000000000000 | Success criterion : NaN \n",
            "iter : 437 | Success criterion : 0.00000000000000 | Successive errors : 0.00000000000000 | Success criterion : NaN \n",
            "iter : 438 | Success criterion : 0.00000000000000 | Successive errors : 0.00000000000000 | Success criterion : NaN \n",
            "iter : 439 | Success criterion : 0.00000000000000 | Successive errors : 0.00000000000000 | Success criterion : NaN \n",
            "iter : 440 | Success criterion : 0.00000000000000 | Successive errors : 0.00000000000000 | Success criterion : NaN \n",
            "iter : 441 | Success criterion : 0.00000000000000 | Successive errors : 0.00000000000000 | Success criterion : NaN \n",
            "iter : 442 | Success criterion : 0.00000000000000 | Successive errors : 0.00000000000000 | Success criterion : NaN \n",
            "iter : 443 | Success criterion : 0.00000000000000 | Successive errors : 0.00000000000000 | Success criterion : NaN \n",
            "iter : 444 | Success criterion : 0.00000000000000 | Successive errors : 0.00000000000000 | Success criterion : NaN \n",
            "iter : 445 | Success criterion : 0.00000000000000 | Successive errors : 0.00000000000000 | Success criterion : NaN \n",
            "iter : 446 | Success criterion : 0.00000000000000 | Successive errors : 0.00000000000000 | Success criterion : NaN \n",
            "iter : 447 | Success criterion : 0.00000000000000 | Successive errors : 0.00000000000000 | Success criterion : NaN \n",
            "iter : 448 | Success criterion : 0.00000000000000 | Successive errors : 0.00000000000000 | Success criterion : NaN \n",
            "iter : 449 | Success criterion : 0.00000000000000 | Successive errors : 0.00000000000000 | Success criterion : NaN \n",
            "iter : 450 | Success criterion : 0.00000000000000 | Successive errors : 0.00000000000000 | Success criterion : NaN \n",
            "iter : 451 | Success criterion : 0.00000000000000 | Successive errors : 0.00000000000000 | Success criterion : NaN \n",
            "iter : 452 | Success criterion : 0.00000000000000 | Successive errors : 0.00000000000000 | Success criterion : NaN \n",
            "iter : 453 | Success criterion : 0.00000000000000 | Successive errors : 0.00000000000000 | Success criterion : NaN \n",
            "iter : 454 | Success criterion : 0.00000000000000 | Successive errors : 0.00000000000000 | Success criterion : NaN \n",
            "iter : 455 | Success criterion : 0.00000000000000 | Successive errors : 0.00000000000000 | Success criterion : NaN \n",
            "iter : 456 | Success criterion : 0.00000000000000 | Successive errors : 0.00000000000000 | Success criterion : NaN \n",
            "iter : 457 | Success criterion : 0.00000000000000 | Successive errors : 0.00000000000000 | Success criterion : NaN \n",
            "iter : 458 | Success criterion : 0.00000000000000 | Successive errors : 0.00000000000000 | Success criterion : NaN \n",
            "iter : 459 | Success criterion : 0.00000000000000 | Successive errors : 0.00000000000000 | Success criterion : NaN \n",
            "iter : 460 | Success criterion : 0.00000000000000 | Successive errors : 0.00000000000000 | Success criterion : NaN \n",
            "iter : 461 | Success criterion : 0.00000000000000 | Successive errors : 0.00000000000000 | Success criterion : NaN \n",
            "iter : 462 | Success criterion : 0.00000000000000 | Successive errors : 0.00000000000000 | Success criterion : NaN \n",
            "iter : 463 | Success criterion : 0.00000000000000 | Successive errors : 0.00000000000000 | Success criterion : NaN \n",
            "iter : 464 | Success criterion : 0.00000000000000 | Successive errors : 0.00000000000000 | Success criterion : NaN \n",
            "iter : 465 | Success criterion : 0.00000000000000 | Successive errors : 0.00000000000000 | Success criterion : NaN \n",
            "iter : 466 | Success criterion : 0.00000000000000 | Successive errors : 0.00000000000000 | Success criterion : NaN \n",
            "iter : 467 | Success criterion : 0.00000000000000 | Successive errors : 0.00000000000000 | Success criterion : NaN \n",
            "iter : 468 | Success criterion : 0.00000000000000 | Successive errors : 0.00000000000000 | Success criterion : NaN \n",
            "iter : 469 | Success criterion : 0.00000000000000 | Successive errors : 0.00000000000000 | Success criterion : NaN \n",
            "iter : 470 | Success criterion : 0.00000000000000 | Successive errors : 0.00000000000000 | Success criterion : NaN \n",
            "iter : 471 | Success criterion : 0.00000000000000 | Successive errors : 0.00000000000000 | Success criterion : NaN \n",
            "iter : 472 | Success criterion : 0.00000000000000 | Successive errors : 0.00000000000000 | Success criterion : NaN \n",
            "iter : 473 | Success criterion : 0.00000000000000 | Successive errors : 0.00000000000000 | Success criterion : NaN \n",
            "iter : 474 | Success criterion : 0.00000000000000 | Successive errors : 0.00000000000000 | Success criterion : NaN \n",
            "iter : 475 | Success criterion : 0.00000000000000 | Successive errors : 0.00000000000000 | Success criterion : NaN \n",
            "iter : 476 | Success criterion : 0.00000000000000 | Successive errors : 0.00000000000000 | Success criterion : NaN \n",
            "iter : 477 | Success criterion : 0.00000000000000 | Successive errors : 0.00000000000000 | Success criterion : NaN \n",
            "iter : 478 | Success criterion : 0.00000000000000 | Successive errors : 0.00000000000000 | Success criterion : NaN \n",
            "iter : 479 | Success criterion : 0.00000000000000 | Successive errors : 0.00000000000000 | Success criterion : NaN \n",
            "iter : 480 | Success criterion : 0.00000000000000 | Successive errors : 0.00000000000000 | Success criterion : NaN \n",
            "iter : 481 | Success criterion : 0.00000000000000 | Successive errors : 0.00000000000000 | Success criterion : NaN \n",
            "iter : 482 | Success criterion : 0.00000000000000 | Successive errors : 0.00000000000000 | Success criterion : NaN \n",
            "iter : 483 | Success criterion : 0.00000000000000 | Successive errors : 0.00000000000000 | Success criterion : NaN \n",
            "iter : 484 | Success criterion : 0.00000000000000 | Successive errors : 0.00000000000000 | Success criterion : NaN \n",
            "iter : 485 | Success criterion : 0.00000000000000 | Successive errors : 0.00000000000000 | Success criterion : NaN \n",
            "iter : 486 | Success criterion : 0.00000000000000 | Successive errors : 0.00000000000000 | Success criterion : NaN \n",
            "iter : 487 | Success criterion : 0.00000000000000 | Successive errors : 0.00000000000000 | Success criterion : NaN \n",
            "iter : 488 | Success criterion : 0.00000000000000 | Successive errors : 0.00000000000000 | Success criterion : NaN \n",
            "iter : 489 | Success criterion : 0.00000000000000 | Successive errors : 0.00000000000000 | Success criterion : NaN \n",
            "iter : 490 | Success criterion : 0.00000000000000 | Successive errors : 0.00000000000000 | Success criterion : NaN \n",
            "iter : 491 | Success criterion : 0.00000000000000 | Successive errors : 0.00000000000000 | Success criterion : NaN \n",
            "iter : 492 | Success criterion : 0.00000000000000 | Successive errors : 0.00000000000000 | Success criterion : NaN \n",
            "iter : 493 | Success criterion : 0.00000000000000 | Successive errors : 0.00000000000000 | Success criterion : NaN \n",
            "iter : 494 | Success criterion : 0.00000000000000 | Successive errors : 0.00000000000000 | Success criterion : NaN \n",
            "iter : 495 | Success criterion : 0.00000000000000 | Successive errors : 0.00000000000000 | Success criterion : NaN \n",
            "iter : 496 | Success criterion : 0.00000000000000 | Successive errors : 0.00000000000000 | Success criterion : NaN \n",
            "iter : 497 | Success criterion : 0.00000000000000 | Successive errors : 0.00000000000000 | Success criterion : NaN \n",
            "iter : 498 | Success criterion : 0.00000000000000 | Successive errors : 0.00000000000000 | Success criterion : NaN \n",
            "iter : 499 | Success criterion : 0.00000000000000 | Successive errors : 0.00000000000000 | Success criterion : NaN \n",
            "iter : 500 | Success criterion : 0.00000000000000 | Successive errors : 0.00000000000000 | Success criterion : NaN \n"
          ]
        },
        {
          "data": {
            "text/plain": [
              "(X = [0.7686740503533906 0.027809728415850145], X_L = Any[[0.5809668839464766 0.7712406625054623], [1.8299333434971394 1.8463964047972004], [-2.612749029585161 -2.396925281180938], [-0.6146042186470798 -0.6063619160329345], [-0.2174003321406525 -0.3070953982471948], [-0.01678380235786232 -0.1853651946007713], [0.11684372751659598 -0.1202456177312628], [0.21747049154052925 -0.08028777441305858], [0.2981112654354466 -0.05367615762397594], [0.3649687681117438 -0.034973272944208884]  …  [0.7686740503533906 0.027809728415850145], [0.7686740503533906 0.027809728415850145], [0.7686740503533906 0.027809728415850145], [0.7686740503533906 0.027809728415850145], [0.7686740503533906 0.027809728415850145], [0.7686740503533906 0.027809728415850145], [0.7686740503533906 0.027809728415850145], [0.7686740503533906 0.027809728415850145], [0.7686740503533906 0.027809728415850145], [0.7686740503533906 0.027809728415850145]], success_L = Any[247.40087488766278, 1226.2866418343178, 10.334090636528227, 1.583696144034338, 0.5337992083430383, 0.25624504469698434, 0.14787399894027622, 0.09460754469900776, 0.06430412704065219, 0.045334131107895234  …  2.0029671421627253e-31, 2.0029671421627253e-31, 2.0029671421627253e-31, 2.0029671421627253e-31, 2.0029671421627253e-31, 2.0029671421627253e-31, 2.0029671421627253e-31, 2.0029671421627253e-31, 2.0029671421627253e-31, 2.0029671421627253e-31], cvspeed_L = Any[2.3241222018424006, 8.686004059060439, 3.7887081760860846, 0.6964704042921671, 0.32234673342921366, 0.1987471067439668, 0.14058460734213749, 0.10725239068399997, 0.08556038735606425, 0.07016136525134953  …  0.0, 0.0, 0.0, 0.0, 0.0, 0.0, 0.0, 0.0, 0.0, 0.0])"
            ]
          },
          "metadata": {},
          "output_type": "display_data"
        }
      ],
      "source": [
        "#! ----------------------\n",
        "#! LINEAR TIME ITERATION\n",
        "#! ----------------------\n",
        "\n",
        "function linear_time_iteration(X_0::Matrix, M::PerturbedModel; deb=false, N=500, τ_ϵ = 10^(-16), τ_η=10^(-14) )\n",
        "    # τ_ϵ seuil erreur\n",
        "    # τ_η tolerance convergence speed\n",
        "    η_0 = 1.0\n",
        "    X_L = []\n",
        "    success_L = []\n",
        "    cvspeed_L = []\n",
        "\n",
        "    results = (;X_L,success_L,cvspeed_L)\n",
        "\n",
        "    local η, ϵ\n",
        "\n",
        "    for i in 1:N\n",
        "        push!(X_L,X_0)\n",
        "\n",
        "        X = T(X_0, M)\n",
        "        η = sum(abs.(X - X_0))      # convergence speed\n",
        "        ϵ = sum(residual(X,M).^2)   # success\n",
        "        ratio = η/η_0               # ratio of successive errors\n",
        "        push!(cvspeed_L, η)\n",
        "        push!(success_L, ϵ)\n",
        "\n",
        "        X_0 = X\n",
        "        η_0 = η\n",
        "        if deb\n",
        "            @printf \"iter : %3.0f | Success criterion : %3.14f | Successive errors : %.14f | Success criterion : %.14f \\n\" i ϵ η ratio\n",
        "        end\n",
        "    end\n",
        "    \n",
        "    if (ϵ<τ_ϵ)&(η<τ_η)\n",
        "        return (;X=X_0,results...)\n",
        "    else\n",
        "        return \"No convergence\"    \n",
        "    end\n",
        "end\n",
        "\n",
        "# Find X with Linear Time Iteration Algo\n",
        "linear_time_iteration(rand(1,2), FO_model, deb=true)"
      ]
    },
    {
      "cell_type": "code",
      "execution_count": 18,
      "id": "90c6162f",
      "metadata": {},
      "outputs": [
        {
          "data": {
            "image/png": "[encoded data removed]",
            "image/svg+xml": [
              "<?xml version=\"1.0\" encoding=\"utf-8\"?>\n",
              "<svg xmlns=\"http://www.w3.org/2000/svg\" xmlns:xlink=\"http://www.w3.org/1999/xlink\" width=\"600\" height=\"400\" viewBox=\"0 0 2400 1600\">\n",
              "<defs>\n",
              "  <clipPath id=\"clip990\">\n",
              "    <rect x=\"0\" y=\"0\" width=\"2400\" height=\"1600\"/>\n",
              "  </clipPath>\n",
              "</defs>\n",
              "<path clip-path=\"url(#clip990)\" d=\"M0 1600 L2400 1600 L2400 8.88178e-14 L0 8.88178e-14  Z\" fill=\"#ffffff\" fill-rule=\"evenodd\" fill-opacity=\"1\"/>\n",
              "<defs>\n",
              "  <clipPath id=\"clip991\">\n",
              "    <rect x=\"480\" y=\"0\" width=\"1681\" height=\"1600\"/>\n",
              "  </clipPath>\n",
              "</defs>\n",
              "<path clip-path=\"url(#clip990)\" d=\"M140.696 1486.45 L2352.76 1486.45 L2352.76 47.2441 L140.696 47.2441  Z\" fill=\"#ffffff\" fill-rule=\"evenodd\" fill-opacity=\"1\"/>\n",
              "<defs>\n",
              "  <clipPath id=\"clip992\">\n",
              "    <rect x=\"140\" y=\"47\" width=\"2213\" height=\"1440\"/>\n",
              "  </clipPath>\n",
              "</defs>\n",
              "<polyline clip-path=\"url(#clip992)\" style=\"stroke:#000000; stroke-linecap:round; stroke-linejoin:round; stroke-width:2; stroke-opacity:0.1; fill:none\" points=\"160.712,1486.45 160.712,47.2441 \"/>\n",
              "<polyline clip-path=\"url(#clip992)\" style=\"stroke:#000000; stroke-linecap:round; stroke-linejoin:round; stroke-width:2; stroke-opacity:0.1; fill:none\" points=\"586.6,1486.45 586.6,47.2441 \"/>\n",
              "<polyline clip-path=\"url(#clip992)\" style=\"stroke:#000000; stroke-linecap:round; stroke-linejoin:round; stroke-width:2; stroke-opacity:0.1; fill:none\" points=\"1012.49,1486.45 1012.49,47.2441 \"/>\n",
              "<polyline clip-path=\"url(#clip992)\" style=\"stroke:#000000; stroke-linecap:round; stroke-linejoin:round; stroke-width:2; stroke-opacity:0.1; fill:none\" points=\"1438.38,1486.45 1438.38,47.2441 \"/>\n",
              "<polyline clip-path=\"url(#clip992)\" style=\"stroke:#000000; stroke-linecap:round; stroke-linejoin:round; stroke-width:2; stroke-opacity:0.1; fill:none\" points=\"1864.26,1486.45 1864.26,47.2441 \"/>\n",
              "<polyline clip-path=\"url(#clip992)\" style=\"stroke:#000000; stroke-linecap:round; stroke-linejoin:round; stroke-width:2; stroke-opacity:0.1; fill:none\" points=\"2290.15,1486.45 2290.15,47.2441 \"/>\n",
              "<polyline clip-path=\"url(#clip990)\" style=\"stroke:#000000; stroke-linecap:round; stroke-linejoin:round; stroke-width:4; stroke-opacity:1; fill:none\" points=\"140.696,1486.45 2352.76,1486.45 \"/>\n",
              "<polyline clip-path=\"url(#clip990)\" style=\"stroke:#000000; stroke-linecap:round; stroke-linejoin:round; stroke-width:4; stroke-opacity:1; fill:none\" points=\"160.712,1486.45 160.712,1467.55 \"/>\n",
              "<polyline clip-path=\"url(#clip990)\" style=\"stroke:#000000; stroke-linecap:round; stroke-linejoin:round; stroke-width:4; stroke-opacity:1; fill:none\" points=\"586.6,1486.45 586.6,1467.55 \"/>\n",
              "<polyline clip-path=\"url(#clip990)\" style=\"stroke:#000000; stroke-linecap:round; stroke-linejoin:round; stroke-width:4; stroke-opacity:1; fill:none\" points=\"1012.49,1486.45 1012.49,1467.55 \"/>\n",
              "<polyline clip-path=\"url(#clip990)\" style=\"stroke:#000000; stroke-linecap:round; stroke-linejoin:round; stroke-width:4; stroke-opacity:1; fill:none\" points=\"1438.38,1486.45 1438.38,1467.55 \"/>\n",
              "<polyline clip-path=\"url(#clip990)\" style=\"stroke:#000000; stroke-linecap:round; stroke-linejoin:round; stroke-width:4; stroke-opacity:1; fill:none\" points=\"1864.26,1486.45 1864.26,1467.55 \"/>\n",
              "<polyline clip-path=\"url(#clip990)\" style=\"stroke:#000000; stroke-linecap:round; stroke-linejoin:round; stroke-width:4; stroke-opacity:1; fill:none\" points=\"2290.15,1486.45 2290.15,1467.55 \"/>\n",
              "<path clip-path=\"url(#clip990)\" d=\"M160.712 1517.37 Q157.101 1517.37 155.272 1520.93 Q153.467 1524.47 153.467 1531.6 Q153.467 1538.71 155.272 1542.27 Q157.101 1545.82 160.712 1545.82 Q164.347 1545.82 166.152 1542.27 Q167.981 1538.71 167.981 1531.6 Q167.981 1524.47 166.152 1520.93 Q164.347 1517.37 160.712 1517.37 M160.712 1513.66 Q166.522 1513.66 169.578 1518.27 Q172.657 1522.85 172.657 1531.6 Q172.657 1540.33 169.578 1544.94 Q166.522 1549.52 160.712 1549.52 Q154.902 1549.52 151.823 1544.94 Q148.768 1540.33 148.768 1531.6 Q148.768 1522.85 151.823 1518.27 Q154.902 1513.66 160.712 1513.66 Z\" fill=\"#000000\" fill-rule=\"nonzero\" fill-opacity=\"1\" /><path clip-path=\"url(#clip990)\" d=\"M561.288 1544.91 L568.926 1544.91 L568.926 1518.55 L560.616 1520.21 L560.616 1515.95 L568.88 1514.29 L573.556 1514.29 L573.556 1544.91 L581.195 1544.91 L581.195 1548.85 L561.288 1548.85 L561.288 1544.91 Z\" fill=\"#000000\" fill-rule=\"nonzero\" fill-opacity=\"1\" /><path clip-path=\"url(#clip990)\" d=\"M600.639 1517.37 Q597.028 1517.37 595.199 1520.93 Q593.394 1524.47 593.394 1531.6 Q593.394 1538.71 595.199 1542.27 Q597.028 1545.82 600.639 1545.82 Q604.273 1545.82 606.079 1542.27 Q607.908 1538.71 607.908 1531.6 Q607.908 1524.47 606.079 1520.93 Q604.273 1517.37 600.639 1517.37 M600.639 1513.66 Q606.449 1513.66 609.505 1518.27 Q612.584 1522.85 612.584 1531.6 Q612.584 1540.33 609.505 1544.94 Q606.449 1549.52 600.639 1549.52 Q594.829 1549.52 591.75 1544.94 Q588.695 1540.33 588.695 1531.6 Q588.695 1522.85 591.75 1518.27 Q594.829 1513.66 600.639 1513.66 Z\" fill=\"#000000\" fill-rule=\"nonzero\" fill-opacity=\"1\" /><path clip-path=\"url(#clip990)\" d=\"M991.261 1544.91 L1007.58 1544.91 L1007.58 1548.85 L985.636 1548.85 L985.636 1544.91 Q988.298 1542.16 992.881 1537.53 Q997.488 1532.88 998.668 1531.53 Q1000.91 1529.01 1001.79 1527.27 Q1002.7 1525.51 1002.7 1523.82 Q1002.7 1521.07 1000.75 1519.33 Q998.83 1517.6 995.728 1517.6 Q993.529 1517.6 991.076 1518.36 Q988.645 1519.13 985.867 1520.68 L985.867 1515.95 Q988.691 1514.82 991.145 1514.24 Q993.599 1513.66 995.636 1513.66 Q1001.01 1513.66 1004.2 1516.35 Q1007.39 1519.03 1007.39 1523.52 Q1007.39 1525.65 1006.58 1527.57 Q1005.8 1529.47 1003.69 1532.07 Q1003.11 1532.74 1000.01 1535.95 Q996.909 1539.15 991.261 1544.91 Z\" fill=\"#000000\" fill-rule=\"nonzero\" fill-opacity=\"1\" /><path clip-path=\"url(#clip990)\" d=\"M1027.39 1517.37 Q1023.78 1517.37 1021.96 1520.93 Q1020.15 1524.47 1020.15 1531.6 Q1020.15 1538.71 1021.96 1542.27 Q1023.78 1545.82 1027.39 1545.82 Q1031.03 1545.82 1032.83 1542.27 Q1034.66 1538.71 1034.66 1531.6 Q1034.66 1524.47 1032.83 1520.93 Q1031.03 1517.37 1027.39 1517.37 M1027.39 1513.66 Q1033.21 1513.66 1036.26 1518.27 Q1039.34 1522.85 1039.34 1531.6 Q1039.34 1540.33 1036.26 1544.94 Q1033.21 1549.52 1027.39 1549.52 Q1021.58 1549.52 1018.51 1544.94 Q1015.45 1540.33 1015.45 1531.6 Q1015.45 1522.85 1018.51 1518.27 Q1021.58 1513.66 1027.39 1513.66 Z\" fill=\"#000000\" fill-rule=\"nonzero\" fill-opacity=\"1\" /><path clip-path=\"url(#clip990)\" d=\"M1427.22 1530.21 Q1430.57 1530.93 1432.45 1533.2 Q1434.35 1535.47 1434.35 1538.8 Q1434.35 1543.92 1430.83 1546.72 Q1427.31 1549.52 1420.83 1549.52 Q1418.65 1549.52 1416.34 1549.08 Q1414.05 1548.66 1411.59 1547.81 L1411.59 1543.29 Q1413.54 1544.43 1415.85 1545.01 Q1418.17 1545.58 1420.69 1545.58 Q1425.09 1545.58 1427.38 1543.85 Q1429.69 1542.11 1429.69 1538.8 Q1429.69 1535.75 1427.54 1534.03 Q1425.41 1532.3 1421.59 1532.3 L1417.57 1532.3 L1417.57 1528.45 L1421.78 1528.45 Q1425.23 1528.45 1427.06 1527.09 Q1428.88 1525.7 1428.88 1523.11 Q1428.88 1520.45 1426.99 1519.03 Q1425.11 1517.6 1421.59 1517.6 Q1419.67 1517.6 1417.47 1518.01 Q1415.27 1518.43 1412.63 1519.31 L1412.63 1515.14 Q1415.3 1514.4 1417.61 1514.03 Q1419.95 1513.66 1422.01 1513.66 Q1427.33 1513.66 1430.44 1516.09 Q1433.54 1518.5 1433.54 1522.62 Q1433.54 1525.49 1431.89 1527.48 Q1430.25 1529.45 1427.22 1530.21 Z\" fill=\"#000000\" fill-rule=\"nonzero\" fill-opacity=\"1\" /><path clip-path=\"url(#clip990)\" d=\"M1453.21 1517.37 Q1449.6 1517.37 1447.77 1520.93 Q1445.97 1524.47 1445.97 1531.6 Q1445.97 1538.71 1447.77 1542.27 Q1449.6 1545.82 1453.21 1545.82 Q1456.85 1545.82 1458.65 1542.27 Q1460.48 1538.71 1460.48 1531.6 Q1460.48 1524.47 1458.65 1520.93 Q1456.85 1517.37 1453.21 1517.37 M1453.21 1513.66 Q1459.02 1513.66 1462.08 1518.27 Q1465.16 1522.85 1465.16 1531.6 Q1465.16 1540.33 1462.08 1544.94 Q1459.02 1549.52 1453.21 1549.52 Q1447.4 1549.52 1444.32 1544.94 Q1441.27 1540.33 1441.27 1531.6 Q1441.27 1522.85 1444.32 1518.27 Q1447.4 1513.66 1453.21 1513.66 Z\" fill=\"#000000\" fill-rule=\"nonzero\" fill-opacity=\"1\" /><path clip-path=\"url(#clip990)\" d=\"M1852.43 1518.36 L1840.63 1536.81 L1852.43 1536.81 L1852.43 1518.36 M1851.21 1514.29 L1857.09 1514.29 L1857.09 1536.81 L1862.02 1536.81 L1862.02 1540.7 L1857.09 1540.7 L1857.09 1548.85 L1852.43 1548.85 L1852.43 1540.7 L1836.83 1540.7 L1836.83 1536.19 L1851.21 1514.29 Z\" fill=\"#000000\" fill-rule=\"nonzero\" fill-opacity=\"1\" /><path clip-path=\"url(#clip990)\" d=\"M1879.75 1517.37 Q1876.14 1517.37 1874.31 1520.93 Q1872.5 1524.47 1872.5 1531.6 Q1872.5 1538.71 1874.31 1542.27 Q1876.14 1545.82 1879.75 1545.82 Q1883.38 1545.82 1885.19 1542.27 Q1887.02 1538.71 1887.02 1531.6 Q1887.02 1524.47 1885.19 1520.93 Q1883.38 1517.37 1879.75 1517.37 M1879.75 1513.66 Q1885.56 1513.66 1888.61 1518.27 Q1891.69 1522.85 1891.69 1531.6 Q1891.69 1540.33 1888.61 1544.94 Q1885.56 1549.52 1879.75 1549.52 Q1873.94 1549.52 1870.86 1544.94 Q1867.8 1540.33 1867.8 1531.6 Q1867.8 1522.85 1870.86 1518.27 Q1873.94 1513.66 1879.75 1513.66 Z\" fill=\"#000000\" fill-rule=\"nonzero\" fill-opacity=\"1\" /><path clip-path=\"url(#clip990)\" d=\"M2264.85 1514.29 L2283.21 1514.29 L2283.21 1518.22 L2269.13 1518.22 L2269.13 1526.7 Q2270.15 1526.35 2271.17 1526.19 Q2272.19 1526 2273.21 1526 Q2278.99 1526 2282.37 1529.17 Q2285.75 1532.34 2285.75 1537.76 Q2285.75 1543.34 2282.28 1546.44 Q2278.81 1549.52 2272.49 1549.52 Q2270.31 1549.52 2268.04 1549.15 Q2265.8 1548.78 2263.39 1548.04 L2263.39 1543.34 Q2265.47 1544.47 2267.7 1545.03 Q2269.92 1545.58 2272.4 1545.58 Q2276.4 1545.58 2278.74 1543.48 Q2281.08 1541.37 2281.08 1537.76 Q2281.08 1534.15 2278.74 1532.04 Q2276.4 1529.94 2272.4 1529.94 Q2270.52 1529.94 2268.65 1530.35 Q2266.79 1530.77 2264.85 1531.65 L2264.85 1514.29 Z\" fill=\"#000000\" fill-rule=\"nonzero\" fill-opacity=\"1\" /><path clip-path=\"url(#clip990)\" d=\"M2304.97 1517.37 Q2301.35 1517.37 2299.53 1520.93 Q2297.72 1524.47 2297.72 1531.6 Q2297.72 1538.71 2299.53 1542.27 Q2301.35 1545.82 2304.97 1545.82 Q2308.6 1545.82 2310.4 1542.27 Q2312.23 1538.71 2312.23 1531.6 Q2312.23 1524.47 2310.4 1520.93 Q2308.6 1517.37 2304.97 1517.37 M2304.97 1513.66 Q2310.78 1513.66 2313.83 1518.27 Q2316.91 1522.85 2316.91 1531.6 Q2316.91 1540.33 2313.83 1544.94 Q2310.78 1549.52 2304.97 1549.52 Q2299.16 1549.52 2296.08 1544.94 Q2293.02 1540.33 2293.02 1531.6 Q2293.02 1522.85 2296.08 1518.27 Q2299.16 1513.66 2304.97 1513.66 Z\" fill=\"#000000\" fill-rule=\"nonzero\" fill-opacity=\"1\" /><polyline clip-path=\"url(#clip992)\" style=\"stroke:#000000; stroke-linecap:round; stroke-linejoin:round; stroke-width:2; stroke-opacity:0.1; fill:none\" points=\"140.696,1308.2 2352.76,1308.2 \"/>\n",
              "<polyline clip-path=\"url(#clip992)\" style=\"stroke:#000000; stroke-linecap:round; stroke-linejoin:round; stroke-width:2; stroke-opacity:0.1; fill:none\" points=\"140.696,1094.65 2352.76,1094.65 \"/>\n",
              "<polyline clip-path=\"url(#clip992)\" style=\"stroke:#000000; stroke-linecap:round; stroke-linejoin:round; stroke-width:2; stroke-opacity:0.1; fill:none\" points=\"140.696,881.102 2352.76,881.102 \"/>\n",
              "<polyline clip-path=\"url(#clip992)\" style=\"stroke:#000000; stroke-linecap:round; stroke-linejoin:round; stroke-width:2; stroke-opacity:0.1; fill:none\" points=\"140.696,667.552 2352.76,667.552 \"/>\n",
              "<polyline clip-path=\"url(#clip992)\" style=\"stroke:#000000; stroke-linecap:round; stroke-linejoin:round; stroke-width:2; stroke-opacity:0.1; fill:none\" points=\"140.696,454.001 2352.76,454.001 \"/>\n",
              "<polyline clip-path=\"url(#clip992)\" style=\"stroke:#000000; stroke-linecap:round; stroke-linejoin:round; stroke-width:2; stroke-opacity:0.1; fill:none\" points=\"140.696,240.451 2352.76,240.451 \"/>\n",
              "<polyline clip-path=\"url(#clip990)\" style=\"stroke:#000000; stroke-linecap:round; stroke-linejoin:round; stroke-width:4; stroke-opacity:1; fill:none\" points=\"140.696,1486.45 140.696,47.2441 \"/>\n",
              "<polyline clip-path=\"url(#clip990)\" style=\"stroke:#000000; stroke-linecap:round; stroke-linejoin:round; stroke-width:4; stroke-opacity:1; fill:none\" points=\"140.696,1308.2 159.593,1308.2 \"/>\n",
              "<polyline clip-path=\"url(#clip990)\" style=\"stroke:#000000; stroke-linecap:round; stroke-linejoin:round; stroke-width:4; stroke-opacity:1; fill:none\" points=\"140.696,1094.65 159.593,1094.65 \"/>\n",
              "<polyline clip-path=\"url(#clip990)\" style=\"stroke:#000000; stroke-linecap:round; stroke-linejoin:round; stroke-width:4; stroke-opacity:1; fill:none\" points=\"140.696,881.102 159.593,881.102 \"/>\n",
              "<polyline clip-path=\"url(#clip990)\" style=\"stroke:#000000; stroke-linecap:round; stroke-linejoin:round; stroke-width:4; stroke-opacity:1; fill:none\" points=\"140.696,667.552 159.593,667.552 \"/>\n",
              "<polyline clip-path=\"url(#clip990)\" style=\"stroke:#000000; stroke-linecap:round; stroke-linejoin:round; stroke-width:4; stroke-opacity:1; fill:none\" points=\"140.696,454.001 159.593,454.001 \"/>\n",
              "<polyline clip-path=\"url(#clip990)\" style=\"stroke:#000000; stroke-linecap:round; stroke-linejoin:round; stroke-width:4; stroke-opacity:1; fill:none\" points=\"140.696,240.451 159.593,240.451 \"/>\n",
              "<path clip-path=\"url(#clip990)\" d=\"M92.7512 1294 Q89.1401 1294 87.3114 1297.57 Q85.5058 1301.11 85.5058 1308.24 Q85.5058 1315.34 87.3114 1318.91 Q89.1401 1322.45 92.7512 1322.45 Q96.3854 1322.45 98.1909 1318.91 Q100.02 1315.34 100.02 1308.24 Q100.02 1301.11 98.1909 1297.57 Q96.3854 1294 92.7512 1294 M92.7512 1290.3 Q98.5613 1290.3 101.617 1294.9 Q104.696 1299.49 104.696 1308.24 Q104.696 1316.96 101.617 1321.57 Q98.5613 1326.15 92.7512 1326.15 Q86.941 1326.15 83.8623 1321.57 Q80.8068 1316.96 80.8068 1308.24 Q80.8068 1299.49 83.8623 1294.9 Q86.941 1290.3 92.7512 1290.3 Z\" fill=\"#000000\" fill-rule=\"nonzero\" fill-opacity=\"1\" /><path clip-path=\"url(#clip990)\" d=\"M83.7929 1077.37 L102.149 1077.37 L102.149 1081.31 L88.0753 1081.31 L88.0753 1089.78 Q89.0938 1089.43 90.1123 1089.27 Q91.1308 1089.09 92.1493 1089.09 Q97.9363 1089.09 101.316 1092.26 Q104.696 1095.43 104.696 1100.84 Q104.696 1106.42 101.223 1109.52 Q97.7511 1112.6 91.4317 1112.6 Q89.2558 1112.6 86.9873 1112.23 Q84.7419 1111.86 82.3346 1111.12 L82.3346 1106.42 Q84.4179 1107.56 86.6401 1108.11 Q88.8623 1108.67 91.3391 1108.67 Q95.3437 1108.67 97.6817 1106.56 Q100.02 1104.46 100.02 1100.84 Q100.02 1097.23 97.6817 1095.13 Q95.3437 1093.02 91.3391 1093.02 Q89.4641 1093.02 87.5892 1093.44 Q85.7373 1093.85 83.7929 1094.73 L83.7929 1077.37 Z\" fill=\"#000000\" fill-rule=\"nonzero\" fill-opacity=\"1\" /><path clip-path=\"url(#clip990)\" d=\"M53.3995 894.447 L61.0384 894.447 L61.0384 868.081 L52.7282 869.748 L52.7282 865.489 L60.9921 863.822 L65.668 863.822 L65.668 894.447 L73.3068 894.447 L73.3068 898.382 L53.3995 898.382 L53.3995 894.447 Z\" fill=\"#000000\" fill-rule=\"nonzero\" fill-opacity=\"1\" /><path clip-path=\"url(#clip990)\" d=\"M92.7512 866.901 Q89.1401 866.901 87.3114 870.465 Q85.5058 874.007 85.5058 881.137 Q85.5058 888.243 87.3114 891.808 Q89.1401 895.35 92.7512 895.35 Q96.3854 895.35 98.1909 891.808 Q100.02 888.243 100.02 881.137 Q100.02 874.007 98.1909 870.465 Q96.3854 866.901 92.7512 866.901 M92.7512 863.197 Q98.5613 863.197 101.617 867.803 Q104.696 872.387 104.696 881.137 Q104.696 889.863 101.617 894.47 Q98.5613 899.053 92.7512 899.053 Q86.941 899.053 83.8623 894.47 Q80.8068 889.863 80.8068 881.137 Q80.8068 872.387 83.8623 867.803 Q86.941 863.197 92.7512 863.197 Z\" fill=\"#000000\" fill-rule=\"nonzero\" fill-opacity=\"1\" /><path clip-path=\"url(#clip990)\" d=\"M54.3949 680.896 L62.0337 680.896 L62.0337 654.531 L53.7236 656.197 L53.7236 651.938 L61.9874 650.272 L66.6633 650.272 L66.6633 680.896 L74.3022 680.896 L74.3022 684.832 L54.3949 684.832 L54.3949 680.896 Z\" fill=\"#000000\" fill-rule=\"nonzero\" fill-opacity=\"1\" /><path clip-path=\"url(#clip990)\" d=\"M83.7929 650.272 L102.149 650.272 L102.149 654.207 L88.0753 654.207 L88.0753 662.679 Q89.0938 662.332 90.1123 662.17 Q91.1308 661.984 92.1493 661.984 Q97.9363 661.984 101.316 665.156 Q104.696 668.327 104.696 673.744 Q104.696 679.322 101.223 682.424 Q97.7511 685.503 91.4317 685.503 Q89.2558 685.503 86.9873 685.132 Q84.7419 684.762 82.3346 684.021 L82.3346 679.322 Q84.4179 680.457 86.6401 681.012 Q88.8623 681.568 91.3391 681.568 Q95.3437 681.568 97.6817 679.461 Q100.02 677.355 100.02 673.744 Q100.02 670.133 97.6817 668.026 Q95.3437 665.92 91.3391 665.92 Q89.4641 665.92 87.5892 666.336 Q85.7373 666.753 83.7929 667.633 L83.7929 650.272 Z\" fill=\"#000000\" fill-rule=\"nonzero\" fill-opacity=\"1\" /><path clip-path=\"url(#clip990)\" d=\"M56.6171 467.346 L72.9365 467.346 L72.9365 471.281 L50.9921 471.281 L50.9921 467.346 Q53.6541 464.591 58.2375 459.962 Q62.8439 455.309 64.0245 453.966 Q66.2698 451.443 67.1494 449.707 Q68.0522 447.948 68.0522 446.258 Q68.0522 443.503 66.1078 441.767 Q64.1865 440.031 61.0847 440.031 Q58.8856 440.031 56.4319 440.795 Q54.0014 441.559 51.2236 443.11 L51.2236 438.388 Q54.0477 437.253 56.5014 436.675 Q58.955 436.096 60.9921 436.096 Q66.3624 436.096 69.5568 438.781 Q72.7513 441.466 72.7513 445.957 Q72.7513 448.087 71.9411 450.008 Q71.1541 451.906 69.0476 454.499 Q68.4689 455.17 65.367 458.388 Q62.2652 461.582 56.6171 467.346 Z\" fill=\"#000000\" fill-rule=\"nonzero\" fill-opacity=\"1\" /><path clip-path=\"url(#clip990)\" d=\"M92.7512 439.8 Q89.1401 439.8 87.3114 443.365 Q85.5058 446.906 85.5058 454.036 Q85.5058 461.142 87.3114 464.707 Q89.1401 468.249 92.7512 468.249 Q96.3854 468.249 98.1909 464.707 Q100.02 461.142 100.02 454.036 Q100.02 446.906 98.1909 443.365 Q96.3854 439.8 92.7512 439.8 M92.7512 436.096 Q98.5613 436.096 101.617 440.703 Q104.696 445.286 104.696 454.036 Q104.696 462.763 101.617 467.369 Q98.5613 471.952 92.7512 471.952 Q86.941 471.952 83.8623 467.369 Q80.8068 462.763 80.8068 454.036 Q80.8068 445.286 83.8623 440.703 Q86.941 436.096 92.7512 436.096 Z\" fill=\"#000000\" fill-rule=\"nonzero\" fill-opacity=\"1\" /><path clip-path=\"url(#clip990)\" d=\"M57.6125 253.796 L73.9318 253.796 L73.9318 257.731 L51.9875 257.731 L51.9875 253.796 Q54.6495 251.041 59.2328 246.411 Q63.8393 241.759 65.0198 240.416 Q67.2652 237.893 68.1448 236.157 Q69.0476 234.397 69.0476 232.708 Q69.0476 229.953 67.1032 228.217 Q65.1819 226.481 62.08 226.481 Q59.881 226.481 57.4273 227.245 Q54.9967 228.009 52.219 229.56 L52.219 224.837 Q55.043 223.703 57.4967 223.124 Q59.9504 222.546 61.9874 222.546 Q67.3578 222.546 70.5522 225.231 Q73.7466 227.916 73.7466 232.407 Q73.7466 234.536 72.9365 236.458 Q72.1494 238.356 70.0429 240.948 Q69.4642 241.62 66.3624 244.837 Q63.2606 248.032 57.6125 253.796 Z\" fill=\"#000000\" fill-rule=\"nonzero\" fill-opacity=\"1\" /><path clip-path=\"url(#clip990)\" d=\"M83.7929 223.171 L102.149 223.171 L102.149 227.106 L88.0753 227.106 L88.0753 235.578 Q89.0938 235.231 90.1123 235.069 Q91.1308 234.884 92.1493 234.884 Q97.9363 234.884 101.316 238.055 Q104.696 241.226 104.696 246.643 Q104.696 252.221 101.223 255.323 Q97.7511 258.402 91.4317 258.402 Q89.2558 258.402 86.9873 258.032 Q84.7419 257.661 82.3346 256.92 L82.3346 252.221 Q84.4179 253.356 86.6401 253.911 Q88.8623 254.467 91.3391 254.467 Q95.3437 254.467 97.6817 252.36 Q100.02 250.254 100.02 246.643 Q100.02 243.032 97.6817 240.925 Q95.3437 238.819 91.3391 238.819 Q89.4641 238.819 87.5892 239.235 Q85.7373 239.652 83.7929 240.532 L83.7929 223.171 Z\" fill=\"#000000\" fill-rule=\"nonzero\" fill-opacity=\"1\" /><polyline clip-path=\"url(#clip992)\" style=\"stroke:#009af9; stroke-linecap:round; stroke-linejoin:round; stroke-width:4; stroke-opacity:1; fill:none\" points=\"203.301,1288.87 245.89,1277.68 288.479,1262.69 331.067,1237.96 373.656,1176.36 416.245,87.9763 458.834,1445.72 501.422,1361.62 544.011,1334.12 586.6,1319.74 629.189,1310.56 671.777,1304.05 714.366,1299.12 756.955,1295.24 799.544,1292.1 842.132,1289.51 884.721,1287.35 927.31,1285.54 969.899,1284.01 1012.49,1282.71 1055.08,1281.61 1097.67,1280.67 1140.25,1279.87 1182.84,1279.18 1225.43,1278.6 1268.02,1278.11 1310.61,1277.69 1353.2,1277.33 1395.79,1277.03 1438.38,1276.77 1480.96,1276.55 1523.55,1276.37 1566.14,1276.21 1608.73,1276.08 1651.32,1275.96 1693.91,1275.87 1736.5,1275.79 1779.09,1275.72 1821.67,1275.67 1864.26,1275.62 1906.85,1275.58 1949.44,1275.55 1992.03,1275.52 2034.62,1275.49 2077.21,1275.47 2119.8,1275.46 2162.38,1275.44 2204.97,1275.43 2247.56,1275.42 2290.15,1275.41 \"/>\n",
              "<polyline clip-path=\"url(#clip992)\" style=\"stroke:#e26f46; stroke-linecap:round; stroke-linejoin:round; stroke-width:4; stroke-opacity:1; fill:none\" points=\"203.301,1288.46 245.89,1282 288.479,1263.79 331.067,944.772 373.656,1352.69 416.245,1326.35 458.834,1318.4 501.422,1314.62 544.011,1312.44 586.6,1311.04 629.189,1310.08 671.777,1309.4 714.366,1308.89 756.955,1308.51 799.544,1308.21 842.132,1307.98 884.721,1307.8 927.31,1307.65 969.899,1307.53 1012.49,1307.44 1055.08,1307.36 1097.67,1307.3 1140.25,1307.25 1182.84,1307.21 1225.43,1307.17 1268.02,1307.15 1310.61,1307.12 1353.2,1307.1 1395.79,1307.09 1438.38,1307.08 1480.96,1307.06 1523.55,1307.06 1566.14,1307.05 1608.73,1307.04 1651.32,1307.04 1693.91,1307.03 1736.5,1307.03 1779.09,1307.03 1821.67,1307.03 1864.26,1307.02 1906.85,1307.02 1949.44,1307.02 1992.03,1307.02 2034.62,1307.02 2077.21,1307.02 2119.8,1307.02 2162.38,1307.02 2204.97,1307.02 2247.56,1307.02 2290.15,1307.02 \"/>\n",
              "<path clip-path=\"url(#clip990)\" d=\"M2005.38 250.738 L2279.02 250.738 L2279.02 95.2176 L2005.38 95.2176  Z\" fill=\"#ffffff\" fill-rule=\"evenodd\" fill-opacity=\"1\"/>\n",
              "<polyline clip-path=\"url(#clip990)\" style=\"stroke:#000000; stroke-linecap:round; stroke-linejoin:round; stroke-width:4; stroke-opacity:1; fill:none\" points=\"2005.38,250.738 2279.02,250.738 2279.02,95.2176 2005.38,95.2176 2005.38,250.738 \"/>\n",
              "<polyline clip-path=\"url(#clip990)\" style=\"stroke:#009af9; stroke-linecap:round; stroke-linejoin:round; stroke-width:4; stroke-opacity:1; fill:none\" points=\"2029.96,147.058 2177.43,147.058 \"/>\n",
              "<path clip-path=\"url(#clip990)\" d=\"M2215.85 166.745 Q2214.05 171.375 2212.34 172.787 Q2210.62 174.199 2207.75 174.199 L2204.35 174.199 L2204.35 170.634 L2206.85 170.634 Q2208.61 170.634 2209.58 169.8 Q2210.55 168.967 2211.73 165.865 L2212.5 163.921 L2202.01 138.412 L2206.53 138.412 L2214.63 158.689 L2222.73 138.412 L2227.24 138.412 L2215.85 166.745 Z\" fill=\"#000000\" fill-rule=\"nonzero\" fill-opacity=\"1\" /><path clip-path=\"url(#clip990)\" d=\"M2234.53 160.402 L2242.17 160.402 L2242.17 134.037 L2233.86 135.703 L2233.86 131.444 L2242.13 129.778 L2246.8 129.778 L2246.8 160.402 L2254.44 160.402 L2254.44 164.338 L2234.53 164.338 L2234.53 160.402 Z\" fill=\"#000000\" fill-rule=\"nonzero\" fill-opacity=\"1\" /><polyline clip-path=\"url(#clip990)\" style=\"stroke:#e26f46; stroke-linecap:round; stroke-linejoin:round; stroke-width:4; stroke-opacity:1; fill:none\" points=\"2029.96,198.898 2177.43,198.898 \"/>\n",
              "<path clip-path=\"url(#clip990)\" d=\"M2215.85 218.585 Q2214.05 223.215 2212.34 224.627 Q2210.62 226.039 2207.75 226.039 L2204.35 226.039 L2204.35 222.474 L2206.85 222.474 Q2208.61 222.474 2209.58 221.64 Q2210.55 220.807 2211.73 217.705 L2212.5 215.761 L2202.01 190.252 L2206.53 190.252 L2214.63 210.529 L2222.73 190.252 L2227.24 190.252 L2215.85 218.585 Z\" fill=\"#000000\" fill-rule=\"nonzero\" fill-opacity=\"1\" /><path clip-path=\"url(#clip990)\" d=\"M2237.75 212.242 L2254.07 212.242 L2254.07 216.178 L2232.13 216.178 L2232.13 212.242 Q2234.79 209.488 2239.37 204.858 Q2243.98 200.205 2245.16 198.863 Q2247.41 196.34 2248.28 194.604 Q2249.19 192.844 2249.19 191.155 Q2249.19 188.4 2247.24 186.664 Q2245.32 184.928 2242.22 184.928 Q2240.02 184.928 2237.57 185.692 Q2235.14 186.455 2232.36 188.006 L2232.36 183.284 Q2235.18 182.15 2237.64 181.571 Q2240.09 180.993 2242.13 180.993 Q2247.5 180.993 2250.69 183.678 Q2253.89 186.363 2253.89 190.854 Q2253.89 192.983 2253.08 194.905 Q2252.29 196.803 2250.18 199.395 Q2249.6 200.067 2246.5 203.284 Q2243.4 206.479 2237.75 212.242 Z\" fill=\"#000000\" fill-rule=\"nonzero\" fill-opacity=\"1\" /></svg>\n"
            ],
            "text/html": [
              "<?xml version=\"1.0\" encoding=\"utf-8\"?>\n",
              "<svg xmlns=\"http://www.w3.org/2000/svg\" xmlns:xlink=\"http://www.w3.org/1999/xlink\" width=\"600\" height=\"400\" viewBox=\"0 0 2400 1600\">\n",
              "<defs>\n",
              "  <clipPath id=\"clip040\">\n",
              "    <rect x=\"0\" y=\"0\" width=\"2400\" height=\"1600\"/>\n",
              "  </clipPath>\n",
              "</defs>\n",
              "<path clip-path=\"url(#clip040)\" d=\"M0 1600 L2400 1600 L2400 8.88178e-14 L0 8.88178e-14  Z\" fill=\"#ffffff\" fill-rule=\"evenodd\" fill-opacity=\"1\"/>\n",
              "<defs>\n",
              "  <clipPath id=\"clip041\">\n",
              "    <rect x=\"480\" y=\"0\" width=\"1681\" height=\"1600\"/>\n",
              "  </clipPath>\n",
              "</defs>\n",
              "<path clip-path=\"url(#clip040)\" d=\"M140.696 1486.45 L2352.76 1486.45 L2352.76 47.2441 L140.696 47.2441  Z\" fill=\"#ffffff\" fill-rule=\"evenodd\" fill-opacity=\"1\"/>\n",
              "<defs>\n",
              "  <clipPath id=\"clip042\">\n",
              "    <rect x=\"140\" y=\"47\" width=\"2213\" height=\"1440\"/>\n",
              "  </clipPath>\n",
              "</defs>\n",
              "<polyline clip-path=\"url(#clip042)\" style=\"stroke:#000000; stroke-linecap:round; stroke-linejoin:round; stroke-width:2; stroke-opacity:0.1; fill:none\" points=\"160.712,1486.45 160.712,47.2441 \"/>\n",
              "<polyline clip-path=\"url(#clip042)\" style=\"stroke:#000000; stroke-linecap:round; stroke-linejoin:round; stroke-width:2; stroke-opacity:0.1; fill:none\" points=\"586.6,1486.45 586.6,47.2441 \"/>\n",
              "<polyline clip-path=\"url(#clip042)\" style=\"stroke:#000000; stroke-linecap:round; stroke-linejoin:round; stroke-width:2; stroke-opacity:0.1; fill:none\" points=\"1012.49,1486.45 1012.49,47.2441 \"/>\n",
              "<polyline clip-path=\"url(#clip042)\" style=\"stroke:#000000; stroke-linecap:round; stroke-linejoin:round; stroke-width:2; stroke-opacity:0.1; fill:none\" points=\"1438.38,1486.45 1438.38,47.2441 \"/>\n",
              "<polyline clip-path=\"url(#clip042)\" style=\"stroke:#000000; stroke-linecap:round; stroke-linejoin:round; stroke-width:2; stroke-opacity:0.1; fill:none\" points=\"1864.26,1486.45 1864.26,47.2441 \"/>\n",
              "<polyline clip-path=\"url(#clip042)\" style=\"stroke:#000000; stroke-linecap:round; stroke-linejoin:round; stroke-width:2; stroke-opacity:0.1; fill:none\" points=\"2290.15,1486.45 2290.15,47.2441 \"/>\n",
              "<polyline clip-path=\"url(#clip040)\" style=\"stroke:#000000; stroke-linecap:round; stroke-linejoin:round; stroke-width:4; stroke-opacity:1; fill:none\" points=\"140.696,1486.45 2352.76,1486.45 \"/>\n",
              "<polyline clip-path=\"url(#clip040)\" style=\"stroke:#000000; stroke-linecap:round; stroke-linejoin:round; stroke-width:4; stroke-opacity:1; fill:none\" points=\"160.712,1486.45 160.712,1467.55 \"/>\n",
              "<polyline clip-path=\"url(#clip040)\" style=\"stroke:#000000; stroke-linecap:round; stroke-linejoin:round; stroke-width:4; stroke-opacity:1; fill:none\" points=\"586.6,1486.45 586.6,1467.55 \"/>\n",
              "<polyline clip-path=\"url(#clip040)\" style=\"stroke:#000000; stroke-linecap:round; stroke-linejoin:round; stroke-width:4; stroke-opacity:1; fill:none\" points=\"1012.49,1486.45 1012.49,1467.55 \"/>\n",
              "<polyline clip-path=\"url(#clip040)\" style=\"stroke:#000000; stroke-linecap:round; stroke-linejoin:round; stroke-width:4; stroke-opacity:1; fill:none\" points=\"1438.38,1486.45 1438.38,1467.55 \"/>\n",
              "<polyline clip-path=\"url(#clip040)\" style=\"stroke:#000000; stroke-linecap:round; stroke-linejoin:round; stroke-width:4; stroke-opacity:1; fill:none\" points=\"1864.26,1486.45 1864.26,1467.55 \"/>\n",
              "<polyline clip-path=\"url(#clip040)\" style=\"stroke:#000000; stroke-linecap:round; stroke-linejoin:round; stroke-width:4; stroke-opacity:1; fill:none\" points=\"2290.15,1486.45 2290.15,1467.55 \"/>\n",
              "<path clip-path=\"url(#clip040)\" d=\"M160.712 1517.37 Q157.101 1517.37 155.272 1520.93 Q153.467 1524.47 153.467 1531.6 Q153.467 1538.71 155.272 1542.27 Q157.101 1545.82 160.712 1545.82 Q164.347 1545.82 166.152 1542.27 Q167.981 1538.71 167.981 1531.6 Q167.981 1524.47 166.152 1520.93 Q164.347 1517.37 160.712 1517.37 M160.712 1513.66 Q166.522 1513.66 169.578 1518.27 Q172.657 1522.85 172.657 1531.6 Q172.657 1540.33 169.578 1544.94 Q166.522 1549.52 160.712 1549.52 Q154.902 1549.52 151.823 1544.94 Q148.768 1540.33 148.768 1531.6 Q148.768 1522.85 151.823 1518.27 Q154.902 1513.66 160.712 1513.66 Z\" fill=\"#000000\" fill-rule=\"nonzero\" fill-opacity=\"1\" /><path clip-path=\"url(#clip040)\" d=\"M561.288 1544.91 L568.926 1544.91 L568.926 1518.55 L560.616 1520.21 L560.616 1515.95 L568.88 1514.29 L573.556 1514.29 L573.556 1544.91 L581.195 1544.91 L581.195 1548.85 L561.288 1548.85 L561.288 1544.91 Z\" fill=\"#000000\" fill-rule=\"nonzero\" fill-opacity=\"1\" /><path clip-path=\"url(#clip040)\" d=\"M600.639 1517.37 Q597.028 1517.37 595.199 1520.93 Q593.394 1524.47 593.394 1531.6 Q593.394 1538.71 595.199 1542.27 Q597.028 1545.82 600.639 1545.82 Q604.273 1545.82 606.079 1542.27 Q607.908 1538.71 607.908 1531.6 Q607.908 1524.47 606.079 1520.93 Q604.273 1517.37 600.639 1517.37 M600.639 1513.66 Q606.449 1513.66 609.505 1518.27 Q612.584 1522.85 612.584 1531.6 Q612.584 1540.33 609.505 1544.94 Q606.449 1549.52 600.639 1549.52 Q594.829 1549.52 591.75 1544.94 Q588.695 1540.33 588.695 1531.6 Q588.695 1522.85 591.75 1518.27 Q594.829 1513.66 600.639 1513.66 Z\" fill=\"#000000\" fill-rule=\"nonzero\" fill-opacity=\"1\" /><path clip-path=\"url(#clip040)\" d=\"M991.261 1544.91 L1007.58 1544.91 L1007.58 1548.85 L985.636 1548.85 L985.636 1544.91 Q988.298 1542.16 992.881 1537.53 Q997.488 1532.88 998.668 1531.53 Q1000.91 1529.01 1001.79 1527.27 Q1002.7 1525.51 1002.7 1523.82 Q1002.7 1521.07 1000.75 1519.33 Q998.83 1517.6 995.728 1517.6 Q993.529 1517.6 991.076 1518.36 Q988.645 1519.13 985.867 1520.68 L985.867 1515.95 Q988.691 1514.82 991.145 1514.24 Q993.599 1513.66 995.636 1513.66 Q1001.01 1513.66 1004.2 1516.35 Q1007.39 1519.03 1007.39 1523.52 Q1007.39 1525.65 1006.58 1527.57 Q1005.8 1529.47 1003.69 1532.07 Q1003.11 1532.74 1000.01 1535.95 Q996.909 1539.15 991.261 1544.91 Z\" fill=\"#000000\" fill-rule=\"nonzero\" fill-opacity=\"1\" /><path clip-path=\"url(#clip040)\" d=\"M1027.39 1517.37 Q1023.78 1517.37 1021.96 1520.93 Q1020.15 1524.47 1020.15 1531.6 Q1020.15 1538.71 1021.96 1542.27 Q1023.78 1545.82 1027.39 1545.82 Q1031.03 1545.82 1032.83 1542.27 Q1034.66 1538.71 1034.66 1531.6 Q1034.66 1524.47 1032.83 1520.93 Q1031.03 1517.37 1027.39 1517.37 M1027.39 1513.66 Q1033.21 1513.66 1036.26 1518.27 Q1039.34 1522.85 1039.34 1531.6 Q1039.34 1540.33 1036.26 1544.94 Q1033.21 1549.52 1027.39 1549.52 Q1021.58 1549.52 1018.51 1544.94 Q1015.45 1540.33 1015.45 1531.6 Q1015.45 1522.85 1018.51 1518.27 Q1021.58 1513.66 1027.39 1513.66 Z\" fill=\"#000000\" fill-rule=\"nonzero\" fill-opacity=\"1\" /><path clip-path=\"url(#clip040)\" d=\"M1427.22 1530.21 Q1430.57 1530.93 1432.45 1533.2 Q1434.35 1535.47 1434.35 1538.8 Q1434.35 1543.92 1430.83 1546.72 Q1427.31 1549.52 1420.83 1549.52 Q1418.65 1549.52 1416.34 1549.08 Q1414.05 1548.66 1411.59 1547.81 L1411.59 1543.29 Q1413.54 1544.43 1415.85 1545.01 Q1418.17 1545.58 1420.69 1545.58 Q1425.09 1545.58 1427.38 1543.85 Q1429.69 1542.11 1429.69 1538.8 Q1429.69 1535.75 1427.54 1534.03 Q1425.41 1532.3 1421.59 1532.3 L1417.57 1532.3 L1417.57 1528.45 L1421.78 1528.45 Q1425.23 1528.45 1427.06 1527.09 Q1428.88 1525.7 1428.88 1523.11 Q1428.88 1520.45 1426.99 1519.03 Q1425.11 1517.6 1421.59 1517.6 Q1419.67 1517.6 1417.47 1518.01 Q1415.27 1518.43 1412.63 1519.31 L1412.63 1515.14 Q1415.3 1514.4 1417.61 1514.03 Q1419.95 1513.66 1422.01 1513.66 Q1427.33 1513.66 1430.44 1516.09 Q1433.54 1518.5 1433.54 1522.62 Q1433.54 1525.49 1431.89 1527.48 Q1430.25 1529.45 1427.22 1530.21 Z\" fill=\"#000000\" fill-rule=\"nonzero\" fill-opacity=\"1\" /><path clip-path=\"url(#clip040)\" d=\"M1453.21 1517.37 Q1449.6 1517.37 1447.77 1520.93 Q1445.97 1524.47 1445.97 1531.6 Q1445.97 1538.71 1447.77 1542.27 Q1449.6 1545.82 1453.21 1545.82 Q1456.85 1545.82 1458.65 1542.27 Q1460.48 1538.71 1460.48 1531.6 Q1460.48 1524.47 1458.65 1520.93 Q1456.85 1517.37 1453.21 1517.37 M1453.21 1513.66 Q1459.02 1513.66 1462.08 1518.27 Q1465.16 1522.85 1465.16 1531.6 Q1465.16 1540.33 1462.08 1544.94 Q1459.02 1549.52 1453.21 1549.52 Q1447.4 1549.52 1444.32 1544.94 Q1441.27 1540.33 1441.27 1531.6 Q1441.27 1522.85 1444.32 1518.27 Q1447.4 1513.66 1453.21 1513.66 Z\" fill=\"#000000\" fill-rule=\"nonzero\" fill-opacity=\"1\" /><path clip-path=\"url(#clip040)\" d=\"M1852.43 1518.36 L1840.63 1536.81 L1852.43 1536.81 L1852.43 1518.36 M1851.21 1514.29 L1857.09 1514.29 L1857.09 1536.81 L1862.02 1536.81 L1862.02 1540.7 L1857.09 1540.7 L1857.09 1548.85 L1852.43 1548.85 L1852.43 1540.7 L1836.83 1540.7 L1836.83 1536.19 L1851.21 1514.29 Z\" fill=\"#000000\" fill-rule=\"nonzero\" fill-opacity=\"1\" /><path clip-path=\"url(#clip040)\" d=\"M1879.75 1517.37 Q1876.14 1517.37 1874.31 1520.93 Q1872.5 1524.47 1872.5 1531.6 Q1872.5 1538.71 1874.31 1542.27 Q1876.14 1545.82 1879.75 1545.82 Q1883.38 1545.82 1885.19 1542.27 Q1887.02 1538.71 1887.02 1531.6 Q1887.02 1524.47 1885.19 1520.93 Q1883.38 1517.37 1879.75 1517.37 M1879.75 1513.66 Q1885.56 1513.66 1888.61 1518.27 Q1891.69 1522.85 1891.69 1531.6 Q1891.69 1540.33 1888.61 1544.94 Q1885.56 1549.52 1879.75 1549.52 Q1873.94 1549.52 1870.86 1544.94 Q1867.8 1540.33 1867.8 1531.6 Q1867.8 1522.85 1870.86 1518.27 Q1873.94 1513.66 1879.75 1513.66 Z\" fill=\"#000000\" fill-rule=\"nonzero\" fill-opacity=\"1\" /><path clip-path=\"url(#clip040)\" d=\"M2264.85 1514.29 L2283.21 1514.29 L2283.21 1518.22 L2269.13 1518.22 L2269.13 1526.7 Q2270.15 1526.35 2271.17 1526.19 Q2272.19 1526 2273.21 1526 Q2278.99 1526 2282.37 1529.17 Q2285.75 1532.34 2285.75 1537.76 Q2285.75 1543.34 2282.28 1546.44 Q2278.81 1549.52 2272.49 1549.52 Q2270.31 1549.52 2268.04 1549.15 Q2265.8 1548.78 2263.39 1548.04 L2263.39 1543.34 Q2265.47 1544.47 2267.7 1545.03 Q2269.92 1545.58 2272.4 1545.58 Q2276.4 1545.58 2278.74 1543.48 Q2281.08 1541.37 2281.08 1537.76 Q2281.08 1534.15 2278.74 1532.04 Q2276.4 1529.94 2272.4 1529.94 Q2270.52 1529.94 2268.65 1530.35 Q2266.79 1530.77 2264.85 1531.65 L2264.85 1514.29 Z\" fill=\"#000000\" fill-rule=\"nonzero\" fill-opacity=\"1\" /><path clip-path=\"url(#clip040)\" d=\"M2304.97 1517.37 Q2301.35 1517.37 2299.53 1520.93 Q2297.72 1524.47 2297.72 1531.6 Q2297.72 1538.71 2299.53 1542.27 Q2301.35 1545.82 2304.97 1545.82 Q2308.6 1545.82 2310.4 1542.27 Q2312.23 1538.71 2312.23 1531.6 Q2312.23 1524.47 2310.4 1520.93 Q2308.6 1517.37 2304.97 1517.37 M2304.97 1513.66 Q2310.78 1513.66 2313.83 1518.27 Q2316.91 1522.85 2316.91 1531.6 Q2316.91 1540.33 2313.83 1544.94 Q2310.78 1549.52 2304.97 1549.52 Q2299.16 1549.52 2296.08 1544.94 Q2293.02 1540.33 2293.02 1531.6 Q2293.02 1522.85 2296.08 1518.27 Q2299.16 1513.66 2304.97 1513.66 Z\" fill=\"#000000\" fill-rule=\"nonzero\" fill-opacity=\"1\" /><polyline clip-path=\"url(#clip042)\" style=\"stroke:#000000; stroke-linecap:round; stroke-linejoin:round; stroke-width:2; stroke-opacity:0.1; fill:none\" points=\"140.696,1308.2 2352.76,1308.2 \"/>\n",
              "<polyline clip-path=\"url(#clip042)\" style=\"stroke:#000000; stroke-linecap:round; stroke-linejoin:round; stroke-width:2; stroke-opacity:0.1; fill:none\" points=\"140.696,1094.65 2352.76,1094.65 \"/>\n",
              "<polyline clip-path=\"url(#clip042)\" style=\"stroke:#000000; stroke-linecap:round; stroke-linejoin:round; stroke-width:2; stroke-opacity:0.1; fill:none\" points=\"140.696,881.102 2352.76,881.102 \"/>\n",
              "<polyline clip-path=\"url(#clip042)\" style=\"stroke:#000000; stroke-linecap:round; stroke-linejoin:round; stroke-width:2; stroke-opacity:0.1; fill:none\" points=\"140.696,667.552 2352.76,667.552 \"/>\n",
              "<polyline clip-path=\"url(#clip042)\" style=\"stroke:#000000; stroke-linecap:round; stroke-linejoin:round; stroke-width:2; stroke-opacity:0.1; fill:none\" points=\"140.696,454.001 2352.76,454.001 \"/>\n",
              "<polyline clip-path=\"url(#clip042)\" style=\"stroke:#000000; stroke-linecap:round; stroke-linejoin:round; stroke-width:2; stroke-opacity:0.1; fill:none\" points=\"140.696,240.451 2352.76,240.451 \"/>\n",
              "<polyline clip-path=\"url(#clip040)\" style=\"stroke:#000000; stroke-linecap:round; stroke-linejoin:round; stroke-width:4; stroke-opacity:1; fill:none\" points=\"140.696,1486.45 140.696,47.2441 \"/>\n",
              "<polyline clip-path=\"url(#clip040)\" style=\"stroke:#000000; stroke-linecap:round; stroke-linejoin:round; stroke-width:4; stroke-opacity:1; fill:none\" points=\"140.696,1308.2 159.593,1308.2 \"/>\n",
              "<polyline clip-path=\"url(#clip040)\" style=\"stroke:#000000; stroke-linecap:round; stroke-linejoin:round; stroke-width:4; stroke-opacity:1; fill:none\" points=\"140.696,1094.65 159.593,1094.65 \"/>\n",
              "<polyline clip-path=\"url(#clip040)\" style=\"stroke:#000000; stroke-linecap:round; stroke-linejoin:round; stroke-width:4; stroke-opacity:1; fill:none\" points=\"140.696,881.102 159.593,881.102 \"/>\n",
              "<polyline clip-path=\"url(#clip040)\" style=\"stroke:#000000; stroke-linecap:round; stroke-linejoin:round; stroke-width:4; stroke-opacity:1; fill:none\" points=\"140.696,667.552 159.593,667.552 \"/>\n",
              "<polyline clip-path=\"url(#clip040)\" style=\"stroke:#000000; stroke-linecap:round; stroke-linejoin:round; stroke-width:4; stroke-opacity:1; fill:none\" points=\"140.696,454.001 159.593,454.001 \"/>\n",
              "<polyline clip-path=\"url(#clip040)\" style=\"stroke:#000000; stroke-linecap:round; stroke-linejoin:round; stroke-width:4; stroke-opacity:1; fill:none\" points=\"140.696,240.451 159.593,240.451 \"/>\n",
              "<path clip-path=\"url(#clip040)\" d=\"M92.7512 1294 Q89.1401 1294 87.3114 1297.57 Q85.5058 1301.11 85.5058 1308.24 Q85.5058 1315.34 87.3114 1318.91 Q89.1401 1322.45 92.7512 1322.45 Q96.3854 1322.45 98.1909 1318.91 Q100.02 1315.34 100.02 1308.24 Q100.02 1301.11 98.1909 1297.57 Q96.3854 1294 92.7512 1294 M92.7512 1290.3 Q98.5613 1290.3 101.617 1294.9 Q104.696 1299.49 104.696 1308.24 Q104.696 1316.96 101.617 1321.57 Q98.5613 1326.15 92.7512 1326.15 Q86.941 1326.15 83.8623 1321.57 Q80.8068 1316.96 80.8068 1308.24 Q80.8068 1299.49 83.8623 1294.9 Q86.941 1290.3 92.7512 1290.3 Z\" fill=\"#000000\" fill-rule=\"nonzero\" fill-opacity=\"1\" /><path clip-path=\"url(#clip040)\" d=\"M83.7929 1077.37 L102.149 1077.37 L102.149 1081.31 L88.0753 1081.31 L88.0753 1089.78 Q89.0938 1089.43 90.1123 1089.27 Q91.1308 1089.09 92.1493 1089.09 Q97.9363 1089.09 101.316 1092.26 Q104.696 1095.43 104.696 1100.84 Q104.696 1106.42 101.223 1109.52 Q97.7511 1112.6 91.4317 1112.6 Q89.2558 1112.6 86.9873 1112.23 Q84.7419 1111.86 82.3346 1111.12 L82.3346 1106.42 Q84.4179 1107.56 86.6401 1108.11 Q88.8623 1108.67 91.3391 1108.67 Q95.3437 1108.67 97.6817 1106.56 Q100.02 1104.46 100.02 1100.84 Q100.02 1097.23 97.6817 1095.13 Q95.3437 1093.02 91.3391 1093.02 Q89.4641 1093.02 87.5892 1093.44 Q85.7373 1093.85 83.7929 1094.73 L83.7929 1077.37 Z\" fill=\"#000000\" fill-rule=\"nonzero\" fill-opacity=\"1\" /><path clip-path=\"url(#clip040)\" d=\"M53.3995 894.447 L61.0384 894.447 L61.0384 868.081 L52.7282 869.748 L52.7282 865.489 L60.9921 863.822 L65.668 863.822 L65.668 894.447 L73.3068 894.447 L73.3068 898.382 L53.3995 898.382 L53.3995 894.447 Z\" fill=\"#000000\" fill-rule=\"nonzero\" fill-opacity=\"1\" /><path clip-path=\"url(#clip040)\" d=\"M92.7512 866.901 Q89.1401 866.901 87.3114 870.465 Q85.5058 874.007 85.5058 881.137 Q85.5058 888.243 87.3114 891.808 Q89.1401 895.35 92.7512 895.35 Q96.3854 895.35 98.1909 891.808 Q100.02 888.243 100.02 881.137 Q100.02 874.007 98.1909 870.465 Q96.3854 866.901 92.7512 866.901 M92.7512 863.197 Q98.5613 863.197 101.617 867.803 Q104.696 872.387 104.696 881.137 Q104.696 889.863 101.617 894.47 Q98.5613 899.053 92.7512 899.053 Q86.941 899.053 83.8623 894.47 Q80.8068 889.863 80.8068 881.137 Q80.8068 872.387 83.8623 867.803 Q86.941 863.197 92.7512 863.197 Z\" fill=\"#000000\" fill-rule=\"nonzero\" fill-opacity=\"1\" /><path clip-path=\"url(#clip040)\" d=\"M54.3949 680.896 L62.0337 680.896 L62.0337 654.531 L53.7236 656.197 L53.7236 651.938 L61.9874 650.272 L66.6633 650.272 L66.6633 680.896 L74.3022 680.896 L74.3022 684.832 L54.3949 684.832 L54.3949 680.896 Z\" fill=\"#000000\" fill-rule=\"nonzero\" fill-opacity=\"1\" /><path clip-path=\"url(#clip040)\" d=\"M83.7929 650.272 L102.149 650.272 L102.149 654.207 L88.0753 654.207 L88.0753 662.679 Q89.0938 662.332 90.1123 662.17 Q91.1308 661.984 92.1493 661.984 Q97.9363 661.984 101.316 665.156 Q104.696 668.327 104.696 673.744 Q104.696 679.322 101.223 682.424 Q97.7511 685.503 91.4317 685.503 Q89.2558 685.503 86.9873 685.132 Q84.7419 684.762 82.3346 684.021 L82.3346 679.322 Q84.4179 680.457 86.6401 681.012 Q88.8623 681.568 91.3391 681.568 Q95.3437 681.568 97.6817 679.461 Q100.02 677.355 100.02 673.744 Q100.02 670.133 97.6817 668.026 Q95.3437 665.92 91.3391 665.92 Q89.4641 665.92 87.5892 666.336 Q85.7373 666.753 83.7929 667.633 L83.7929 650.272 Z\" fill=\"#000000\" fill-rule=\"nonzero\" fill-opacity=\"1\" /><path clip-path=\"url(#clip040)\" d=\"M56.6171 467.346 L72.9365 467.346 L72.9365 471.281 L50.9921 471.281 L50.9921 467.346 Q53.6541 464.591 58.2375 459.962 Q62.8439 455.309 64.0245 453.966 Q66.2698 451.443 67.1494 449.707 Q68.0522 447.948 68.0522 446.258 Q68.0522 443.503 66.1078 441.767 Q64.1865 440.031 61.0847 440.031 Q58.8856 440.031 56.4319 440.795 Q54.0014 441.559 51.2236 443.11 L51.2236 438.388 Q54.0477 437.253 56.5014 436.675 Q58.955 436.096 60.9921 436.096 Q66.3624 436.096 69.5568 438.781 Q72.7513 441.466 72.7513 445.957 Q72.7513 448.087 71.9411 450.008 Q71.1541 451.906 69.0476 454.499 Q68.4689 455.17 65.367 458.388 Q62.2652 461.582 56.6171 467.346 Z\" fill=\"#000000\" fill-rule=\"nonzero\" fill-opacity=\"1\" /><path clip-path=\"url(#clip040)\" d=\"M92.7512 439.8 Q89.1401 439.8 87.3114 443.365 Q85.5058 446.906 85.5058 454.036 Q85.5058 461.142 87.3114 464.707 Q89.1401 468.249 92.7512 468.249 Q96.3854 468.249 98.1909 464.707 Q100.02 461.142 100.02 454.036 Q100.02 446.906 98.1909 443.365 Q96.3854 439.8 92.7512 439.8 M92.7512 436.096 Q98.5613 436.096 101.617 440.703 Q104.696 445.286 104.696 454.036 Q104.696 462.763 101.617 467.369 Q98.5613 471.952 92.7512 471.952 Q86.941 471.952 83.8623 467.369 Q80.8068 462.763 80.8068 454.036 Q80.8068 445.286 83.8623 440.703 Q86.941 436.096 92.7512 436.096 Z\" fill=\"#000000\" fill-rule=\"nonzero\" fill-opacity=\"1\" /><path clip-path=\"url(#clip040)\" d=\"M57.6125 253.796 L73.9318 253.796 L73.9318 257.731 L51.9875 257.731 L51.9875 253.796 Q54.6495 251.041 59.2328 246.411 Q63.8393 241.759 65.0198 240.416 Q67.2652 237.893 68.1448 236.157 Q69.0476 234.397 69.0476 232.708 Q69.0476 229.953 67.1032 228.217 Q65.1819 226.481 62.08 226.481 Q59.881 226.481 57.4273 227.245 Q54.9967 228.009 52.219 229.56 L52.219 224.837 Q55.043 223.703 57.4967 223.124 Q59.9504 222.546 61.9874 222.546 Q67.3578 222.546 70.5522 225.231 Q73.7466 227.916 73.7466 232.407 Q73.7466 234.536 72.9365 236.458 Q72.1494 238.356 70.0429 240.948 Q69.4642 241.62 66.3624 244.837 Q63.2606 248.032 57.6125 253.796 Z\" fill=\"#000000\" fill-rule=\"nonzero\" fill-opacity=\"1\" /><path clip-path=\"url(#clip040)\" d=\"M83.7929 223.171 L102.149 223.171 L102.149 227.106 L88.0753 227.106 L88.0753 235.578 Q89.0938 235.231 90.1123 235.069 Q91.1308 234.884 92.1493 234.884 Q97.9363 234.884 101.316 238.055 Q104.696 241.226 104.696 246.643 Q104.696 252.221 101.223 255.323 Q97.7511 258.402 91.4317 258.402 Q89.2558 258.402 86.9873 258.032 Q84.7419 257.661 82.3346 256.92 L82.3346 252.221 Q84.4179 253.356 86.6401 253.911 Q88.8623 254.467 91.3391 254.467 Q95.3437 254.467 97.6817 252.36 Q100.02 250.254 100.02 246.643 Q100.02 243.032 97.6817 240.925 Q95.3437 238.819 91.3391 238.819 Q89.4641 238.819 87.5892 239.235 Q85.7373 239.652 83.7929 240.532 L83.7929 223.171 Z\" fill=\"#000000\" fill-rule=\"nonzero\" fill-opacity=\"1\" /><polyline clip-path=\"url(#clip042)\" style=\"stroke:#009af9; stroke-linecap:round; stroke-linejoin:round; stroke-width:4; stroke-opacity:1; fill:none\" points=\"203.301,1288.87 245.89,1277.68 288.479,1262.69 331.067,1237.96 373.656,1176.36 416.245,87.9763 458.834,1445.72 501.422,1361.62 544.011,1334.12 586.6,1319.74 629.189,1310.56 671.777,1304.05 714.366,1299.12 756.955,1295.24 799.544,1292.1 842.132,1289.51 884.721,1287.35 927.31,1285.54 969.899,1284.01 1012.49,1282.71 1055.08,1281.61 1097.67,1280.67 1140.25,1279.87 1182.84,1279.18 1225.43,1278.6 1268.02,1278.11 1310.61,1277.69 1353.2,1277.33 1395.79,1277.03 1438.38,1276.77 1480.96,1276.55 1523.55,1276.37 1566.14,1276.21 1608.73,1276.08 1651.32,1275.96 1693.91,1275.87 1736.5,1275.79 1779.09,1275.72 1821.67,1275.67 1864.26,1275.62 1906.85,1275.58 1949.44,1275.55 1992.03,1275.52 2034.62,1275.49 2077.21,1275.47 2119.8,1275.46 2162.38,1275.44 2204.97,1275.43 2247.56,1275.42 2290.15,1275.41 \"/>\n",
              "<polyline clip-path=\"url(#clip042)\" style=\"stroke:#e26f46; stroke-linecap:round; stroke-linejoin:round; stroke-width:4; stroke-opacity:1; fill:none\" points=\"203.301,1288.46 245.89,1282 288.479,1263.79 331.067,944.772 373.656,1352.69 416.245,1326.35 458.834,1318.4 501.422,1314.62 544.011,1312.44 586.6,1311.04 629.189,1310.08 671.777,1309.4 714.366,1308.89 756.955,1308.51 799.544,1308.21 842.132,1307.98 884.721,1307.8 927.31,1307.65 969.899,1307.53 1012.49,1307.44 1055.08,1307.36 1097.67,1307.3 1140.25,1307.25 1182.84,1307.21 1225.43,1307.17 1268.02,1307.15 1310.61,1307.12 1353.2,1307.1 1395.79,1307.09 1438.38,1307.08 1480.96,1307.06 1523.55,1307.06 1566.14,1307.05 1608.73,1307.04 1651.32,1307.04 1693.91,1307.03 1736.5,1307.03 1779.09,1307.03 1821.67,1307.03 1864.26,1307.02 1906.85,1307.02 1949.44,1307.02 1992.03,1307.02 2034.62,1307.02 2077.21,1307.02 2119.8,1307.02 2162.38,1307.02 2204.97,1307.02 2247.56,1307.02 2290.15,1307.02 \"/>\n",
              "<path clip-path=\"url(#clip040)\" d=\"M2005.38 250.738 L2279.02 250.738 L2279.02 95.2176 L2005.38 95.2176  Z\" fill=\"#ffffff\" fill-rule=\"evenodd\" fill-opacity=\"1\"/>\n",
              "<polyline clip-path=\"url(#clip040)\" style=\"stroke:#000000; stroke-linecap:round; stroke-linejoin:round; stroke-width:4; stroke-opacity:1; fill:none\" points=\"2005.38,250.738 2279.02,250.738 2279.02,95.2176 2005.38,95.2176 2005.38,250.738 \"/>\n",
              "<polyline clip-path=\"url(#clip040)\" style=\"stroke:#009af9; stroke-linecap:round; stroke-linejoin:round; stroke-width:4; stroke-opacity:1; fill:none\" points=\"2029.96,147.058 2177.43,147.058 \"/>\n",
              "<path clip-path=\"url(#clip040)\" d=\"M2215.85 166.745 Q2214.05 171.375 2212.34 172.787 Q2210.62 174.199 2207.75 174.199 L2204.35 174.199 L2204.35 170.634 L2206.85 170.634 Q2208.61 170.634 2209.58 169.8 Q2210.55 168.967 2211.73 165.865 L2212.5 163.921 L2202.01 138.412 L2206.53 138.412 L2214.63 158.689 L2222.73 138.412 L2227.24 138.412 L2215.85 166.745 Z\" fill=\"#000000\" fill-rule=\"nonzero\" fill-opacity=\"1\" /><path clip-path=\"url(#clip040)\" d=\"M2234.53 160.402 L2242.17 160.402 L2242.17 134.037 L2233.86 135.703 L2233.86 131.444 L2242.13 129.778 L2246.8 129.778 L2246.8 160.402 L2254.44 160.402 L2254.44 164.338 L2234.53 164.338 L2234.53 160.402 Z\" fill=\"#000000\" fill-rule=\"nonzero\" fill-opacity=\"1\" /><polyline clip-path=\"url(#clip040)\" style=\"stroke:#e26f46; stroke-linecap:round; stroke-linejoin:round; stroke-width:4; stroke-opacity:1; fill:none\" points=\"2029.96,198.898 2177.43,198.898 \"/>\n",
              "<path clip-path=\"url(#clip040)\" d=\"M2215.85 218.585 Q2214.05 223.215 2212.34 224.627 Q2210.62 226.039 2207.75 226.039 L2204.35 226.039 L2204.35 222.474 L2206.85 222.474 Q2208.61 222.474 2209.58 221.64 Q2210.55 220.807 2211.73 217.705 L2212.5 215.761 L2202.01 190.252 L2206.53 190.252 L2214.63 210.529 L2222.73 190.252 L2227.24 190.252 L2215.85 218.585 Z\" fill=\"#000000\" fill-rule=\"nonzero\" fill-opacity=\"1\" /><path clip-path=\"url(#clip040)\" d=\"M2237.75 212.242 L2254.07 212.242 L2254.07 216.178 L2232.13 216.178 L2232.13 212.242 Q2234.79 209.488 2239.37 204.858 Q2243.98 200.205 2245.16 198.863 Q2247.41 196.34 2248.28 194.604 Q2249.19 192.844 2249.19 191.155 Q2249.19 188.4 2247.24 186.664 Q2245.32 184.928 2242.22 184.928 Q2240.02 184.928 2237.57 185.692 Q2235.14 186.455 2232.36 188.006 L2232.36 183.284 Q2235.18 182.15 2237.64 181.571 Q2240.09 180.993 2242.13 180.993 Q2247.5 180.993 2250.69 183.678 Q2253.89 186.363 2253.89 190.854 Q2253.89 192.983 2253.08 194.905 Q2252.29 196.803 2250.18 199.395 Q2249.6 200.067 2246.5 203.284 Q2243.4 206.479 2237.75 212.242 Z\" fill=\"#000000\" fill-rule=\"nonzero\" fill-opacity=\"1\" /></svg>\n"
            ]
          },
          "metadata": {},
          "output_type": "display_data"
        }
      ],
      "source": [
        "# Convergence des différents coeff de X\n",
        "plot([x[1] for x in linear_time_iteration(rand(1,2), FO_model, deb=false).X_L][1:50])\n",
        "plot!([x[2] for x in linear_time_iteration(rand(1,2), FO_model, deb=false).X_L][1:50])"
      ]
    },
    {
      "cell_type": "code",
      "execution_count": 19,
      "id": "089779c7",
      "metadata": {},
      "outputs": [
        {
          "data": {
            "text/plain": [
              "1×2 Matrix{Float64}:\n",
              " 4.44089e-16  5.55112e-17"
            ]
          },
          "metadata": {},
          "output_type": "display_data"
        }
      ],
      "source": [
        "# X = Lim(X_n) Satisfies First Order Model ? i.e X satisfies the equation (A + BX) + (C+DX})(E+FX) = 0 ?\n",
        "residual(linear_time_iteration(rand(1,2), FO_model).X,FO_model)\n",
        "# Résidus << 1^{-16)"
      ]
    },
    {
      "cell_type": "markdown",
      "id": "f5512317",
      "metadata": {},
      "source": [
        "**Define two linear operators\n",
        "`L_S(U::Union{Vector, Matrix}, X_0::Matrix, m::PerturbedModel)::Matrix`\n",
        "and `L_T(U::Matrix, X_0::Matrix, m::PerturbedModel)::Matrix` which\n",
        "implement the derivatives of the simulation and the time-iteration\n",
        "operator respectively.**"
      ]
    },
    {
      "cell_type": "markdown",
      "id": "41d24930",
      "metadata": {},
      "source": [
        "$$\\textrm{{\\color{red} \\underline{T does Forward iteration} (Time iteration operator)}}$$\n",
        "\n",
        "$$\\begin{align*} T:  \\mathbb{R}^{n_x} \\times \\mathbb{R}^{n_s}  & \\rightarrow  \\mathbb{R}^{n_x} \\times \\mathbb{R}^{n_s}  \\\\ {\\color{red} X_{t+1}} & \\mapsto {\\color{red} X_t}  \\\\ & \\text{s.t.} \\; F(X_t,X_{t+1})=0\\end{align*}$$\n",
        "\n",
        "$${\\color{blue} X_{n+1} := T(X_n) \\longrightarrow F(X_{n+1},X_n) = 0}$$\n",
        "\n",
        "$$\\begin{align*} T:  \\mathbb{R}^{n_x} \\times \\mathbb{R}^{n_s}  & \\rightarrow  \\mathbb{R}^{n_x} \\times \\mathbb{R}^{n_s}  \\\\ {\\color{red} X_{n}} & \\mapsto {\\color{red} X_{n+1}} \\\\ & \\text{s.t.} \\; F(X_{n+1},X_{n})=0\\end{align*}$$\n",
        "\n",
        "$$\\textrm{{\\color{red} \\underline{P does Backward iteration} (Simulation operator)}}$$\n",
        "\n",
        "$$\\begin{align*} P:  \\mathbb{R}^{n_s}  & \\rightarrow  \\mathbb{R}^{n_s}  \\\\ {\\color{red} \\Delta s_t} & \\mapsto {\\color{red} \\Delta s_{t+1} = (E+FX)\\Delta s_t} \\end{align*}$$"
      ]
    },
    {
      "cell_type": "code",
      "execution_count": 20,
      "id": "d9e77d6f",
      "metadata": {},
      "outputs": [
        {
          "data": {
            "text/plain": [
              "2-element Vector{Float64}:\n",
              " 0.45\n",
              " 0.8482418893846204"
            ]
          },
          "metadata": {},
          "output_type": "display_data"
        }
      ],
      "source": [
        "function P(X::Matrix, s::Union{Vector,Matrix}, M::PerturbedModel) # s : state vector at date t > P(s_t) -> s_t+1\n",
        "    (; A,B,C,D,E,F) = M\n",
        "    P = (E+F*X)*s\n",
        "    return P\n",
        "end\n",
        "\n",
        "P(linear_time_iteration(rand(1,2), FO_model).X, [0.5 ; 0.5], FO_model)"
      ]
    },
    {
      "cell_type": "code",
      "execution_count": 21,
      "id": "da0a203a",
      "metadata": {},
      "outputs": [
        {
          "data": {
            "text/plain": [
              "P (generic function with 2 methods)"
            ]
          },
          "metadata": {},
          "output_type": "display_data"
        }
      ],
      "source": [
        "# brutal \n",
        "T(X, M) = T(X, M)\n",
        "P(X, s, M) = P(X, s, M)"
      ]
    },
    {
      "cell_type": "code",
      "execution_count": 22,
      "id": "f6e2f954",
      "metadata": {},
      "outputs": [
        {
          "data": {
            "text/plain": [
              "2×2 Matrix{Float64}:\n",
              " 0.869315  0.247665\n",
              " 0.0       0.971848"
            ]
          },
          "metadata": {},
          "output_type": "display_data"
        }
      ],
      "source": [
        "function L_T(U::Matrix, M::PerturbedModel)\n",
        "    res = ForwardDiff.jacobian( u->T(u,M), U)\n",
        "    return res\n",
        "end\n",
        "\n",
        "L_T(rand(1,2), FO_model)"
      ]
    },
    {
      "cell_type": "code",
      "execution_count": 23,
      "id": "e6917389",
      "metadata": {},
      "outputs": [
        {
          "data": {
            "text/plain": [
              "2×2 Matrix{Float64}:\n",
              " 0.9       0.0\n",
              " 0.768674  0.92781"
            ]
          },
          "metadata": {},
          "output_type": "display_data"
        }
      ],
      "source": [
        "function L_P(U::Union{Vector,Matrix}, X::Union{Vector,Matrix}, M::PerturbedModel)\n",
        "    res = ForwardDiff.jacobian( u->P(X,u,M), U)\n",
        "    return res\n",
        "end\n",
        "\n",
        "L_P(rand(2,1), linear_time_iteration(rand(1,2), FO_model).X, FO_model)"
      ]
    },
    {
      "cell_type": "markdown",
      "id": "623dbd24",
      "metadata": {},
      "source": [
        "$\\color{blue} \\Rightarrow \\textrm{Interested in the \\underline{\\textbf{Stability} of the Forward and Backward operators}}$"
      ]
    },
    {
      "cell_type": "markdown",
      "id": "05b23697",
      "metadata": {},
      "source": [
        "**Implement a function `spectral_radius(f::Function)::Float64` which\n",
        "implements the power iteration method to compute the biggest eigenvalues\n",
        "of the two previously defined operators.** \n",
        "\n",
        "**Check that Blanchard-Kahn\n",
        "conditions are met.**"
      ]
    },
    {
      "cell_type": "code",
      "execution_count": null,
      "id": "6c6d1741",
      "metadata": {},
      "outputs": [],
      "source": [
        "function Blanchard_Kahn(X,M)\n",
        "    (; A,B,C,D,E,F) = M\n",
        "    P = (E+F*X)\n",
        "    \n",
        "end"
      ]
    },
    {
      "cell_type": "markdown",
      "id": "57fdfc77",
      "metadata": {},
      "source": [
        "$\\textrm{\\textbf{{\\color{blue} \\underline{ We compute the spectral radius of two operators to ensure the model is well defined and that the solution is the right one}}}}$"
      ]
    },
    {
      "cell_type": "code",
      "execution_count": null,
      "id": "6ac92e8c",
      "metadata": {},
      "outputs": [],
      "source": [
        "#! ----------------------\n",
        "#! POWER ITERATION METHOD\n",
        "#! ----------------------\n",
        "\n",
        "function spectral_radius(f::Function)\n",
        "end"
      ]
    },
    {
      "cell_type": "markdown",
      "id": "3ddf218f",
      "metadata": {},
      "source": [
        "**Write a function\n",
        "`simulate(s0::Vector, X::Matrix, p, T::Int64)::Tuple{Matrix, Matrix}` to\n",
        "simulate the model over $T$ periods (by using the formula\n",
        "$\\Delta s_t = (E + F X) \\Delta s_{t-1}$.**\n",
        "\n",
        "**Return a matrix for the states\n",
        "(one line per date) and another matrix for the controls. Bonus: add a\n",
        "keyword option to compute variables levels or log-deviations. If\n",
        "possible, return a DataFrame object.**"
      ]
    },
    {
      "cell_type": "code",
      "execution_count": null,
      "id": "3f30e0e0",
      "metadata": {},
      "outputs": [],
      "source": []
    },
    {
      "cell_type": "markdown",
      "id": "fea34a91-1f50-4bac-80b3-ad15f6ffa3fc",
      "metadata": {},
      "source": [
        "**Make some nice plots.**"
      ]
    },
    {
      "cell_type": "markdown",
      "id": "73242859",
      "metadata": {},
      "source": [
        "------\n",
        "\n",
        "**Warm-up: install the `ForwardDiff` library. Use it to differentiate\n",
        "the function below. Check the jacobian function.**\n",
        "\n",
        "Note: the signature of function `f` needs to be fixed first to allow for\n",
        "dual numbers as arguments."
      ]
    },
    {
      "cell_type": "code",
      "execution_count": null,
      "id": "8de20f06",
      "metadata": {},
      "outputs": [],
      "source": [
        "test = eps(Float64)\n",
        "println((1+test)-1)\n",
        "println((1+test/2)-1)\n",
        "\n",
        "# test = smallest number : a number smaller than test will disappear in computations"
      ]
    },
    {
      "cell_type": "code",
      "execution_count": null,
      "id": "b988f496",
      "metadata": {},
      "outputs": [],
      "source": [
        "@variables a b x\n",
        "\n",
        "# Dual number :\n",
        "# Pour redéfinir opérations \n",
        "# import Base: *\n",
        "# import Base: /\n",
        "# import Base: +\n",
        "# import Base: -\n",
        "\n",
        "a + b*x\n",
        "Symbolics.derivative(sin(x^2), x)"
      ]
    },
    {
      "cell_type": "code",
      "execution_count": null,
      "id": "91862df9",
      "metadata": {},
      "outputs": [],
      "source": [
        "ForwardDiff.Dual(1.0,1.0)"
      ]
    },
    {
      "cell_type": "code",
      "execution_count": null,
      "id": "311fecf8",
      "metadata": {},
      "outputs": [],
      "source": [
        "#function f(x::Vector{T}) where T <: Number # Is equivalent to below definition\n",
        "function f(x::Vector{<:Number})\n",
        "    #works because 'Dual' (number) of ForwardDiff is a Number !\n",
        "    a = x[1]\n",
        "    b = x[2]\n",
        "    x1 = a+b\n",
        "    x2 = a*exp(b)\n",
        "    return [x1,x2]\n",
        "end"
      ]
    },
    {
      "cell_type": "code",
      "execution_count": null,
      "id": "4d772fcc",
      "metadata": {},
      "outputs": [],
      "source": [
        "# typeof(ForwardDiff.Dual(2.0,1.0,0.0))\n",
        "ForwardDiff.jacobian( u->f(u),[0.5,1.0] )"
      ]
    }
  ],
  "metadata": {
    "kernelspec": {
      "display_name": "Julia 1.10.1",
      "language": "julia",
      "name": "julia-1.10"
    },
    "language_info": {
      "file_extension": ".jl",
      "mimetype": "application/julia",
      "name": "julia",
      "version": "1.10.1"
    }
  },
  "nbformat": 4,
  "nbformat_minor": 5
}
