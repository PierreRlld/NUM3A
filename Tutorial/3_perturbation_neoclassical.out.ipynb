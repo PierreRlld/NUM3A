{
  "cells": [
    {
      "cell_type": "markdown",
      "id": "9a2b0c16-490a-41dc-a2fd-c87e7024529f",
      "metadata": {},
      "source": [
        "# Perturbation of Neoclassical Model with Deterministic Productivity shock\n",
        "\n",
        "From Pablo Winant's course\n",
        "\n",
        "Our goal here is to compute a $\\textrm{\\textbf{linear approximation of solution to the\n",
        "neoclassical model, close ot the steady-state}}$."
      ]
    },
    {
      "cell_type": "markdown",
      "id": "868991ba",
      "metadata": {},
      "source": [
        "- Definition:\n",
        "$$ y_t = f(k_t) = \\exp(z_t) k_t^\\alpha \\\\\n",
        "c_t = y_t - i_t $$\n",
        "\n",
        "- Transition Equation > Deterministic Productivity shock\n",
        "$$\n",
        "k_t = (1-\\delta) k_{t-1} + i_{t-1} \\\\\n",
        "z_t = \\rho z_{t-1}\n",
        "$$\n",
        "\n",
        "- Control $i_t\\in[0, y_t = \\exp(z_t)k_t^\\alpha[$\n",
        "  - or equivalently $c_t \\in ]0, \\exp(z_t) k_t^{\\alpha}]$\n",
        "  - 0 excluded because $U'(0) = \\infty $ with $U(x) = \\frac{x^{1-\\gamma}}{1-\\gamma}$"
      ]
    },
    {
      "cell_type": "markdown",
      "id": "47b7a3da",
      "metadata": {},
      "source": [
        "> $\\textrm{\\textbf{\\color{blue}Objective function}}$ <br>\n",
        "\n",
        "$$ \n",
        "V(k_0, z_0) :: \\max_{ \\color{red}{\\{ c_t, k_{t+1} \\}}_{t\\geq 0} } \\sum_{t} \\beta^t U(c_t) \\\\ \\; \\\\\n",
        "s.c \\; \\begin{cases} \\begin{align*} k_{t+1} & = (1-\\delta) k_{t} + \\exp(z_t) k_t^\\alpha - c_t \\\\ z_t & = \\rho z_{t-1} \\end{align*} \\\\ c_t > 0, \\; k_{t+1}\\geq 0 \\end{cases}\n",
        "$$\n",
        "\n",
        "soit\n",
        "\n",
        "$$ \n",
        "V(k_0, z_0) :: \\max_{ \\color{red}{\\{ c_t, i_t, k_{t+1} \\}}_{t\\geq 0} } \\sum_{t} \\beta^t U(c_t) \\\\ \\; \\\\\n",
        "s.c \\; \\begin{cases} \\begin{align*} c_t & = \\exp(z_t) k_t^\\alpha - i_t \\\\ k_{t+1} & = (1-\\delta) k_{t} + i_t \\\\ z_t & = \\rho z_{t-1} \\end{align*} \\\\ i_t \\geq 0, \\; k_{t+1}\\geq 0 \\end{cases}\n",
        "$$\n",
        "\n",
        "soit \n",
        "\n",
        "$$ \n",
        "V(k_0, z_0) :: \\max_{ \\color{red}{\\{ i_t, k_{t+1} \\}}_{t\\geq 0} } \\sum_{t} \\beta^t U[ \\exp(z_t) k_t^\\alpha - i_t ] \\\\ \\; \\\\\n",
        "s.c \\; \\begin{cases} \\begin{align*} k_{t+1} & = (1-\\delta) k_{t} + i_t \\\\ z_t & = \\rho z_{t-1} \\end{align*} \\\\ i_t \\geq 0, \\; k_{t+1}\\geq 0 \\end{cases}\n",
        "$$\n",
        "\n",
        "- $\\textrm{\\textbf{Pre-determined / State variables}}$\n",
        "    - $k_t$ and $z_t$ are pre-determined variables at date $t$ = **state variables**\n",
        "    - $c_t$ and $i_t$ are optimized upon at date $t$ = **control variables**\n",
        "    - Solve with Lagrangian or Bellman operator"
      ]
    },
    {
      "cell_type": "markdown",
      "id": "dbd06d20",
      "metadata": {},
      "source": [
        "> $\\textrm{\\color{blue}\\textbf{Lagrangian solution}}$\n",
        "\n",
        "$$ \n",
        "V(k_0, z_0) :: \\max_{ \\color{red}{\\{ c_t, k_{t+1} \\}}_{t\\geq 0} } \\sum_{t} \\beta^t U(c_t) \\\\ \\; \\\\\n",
        "\n",
        "s.c \\; \\begin{cases} \\begin{align*} \n",
        "\n",
        "k_{t+1} & = (1-\\delta) k_{t} + \\exp(z_t) k_t^\\alpha - c_t & \\Rightarrow & \\; {\\color{red}\\lambda_t}\\\\\n",
        "z_t & = \\rho z_{t-1} \\\\\n",
        "\n",
        "c_t & > 0 & \\Rightarrow & \\; {\\color{red}\\mu_t} \\; (\\geq 0)\\\\\n",
        "\n",
        "c_t & \\leq \\exp(z_t) k_t^\\alpha \\rightarrow \\exp(z_t) k_t^\\alpha - c_t \\geq 0 & \\Rightarrow & \\; {\\color{red}\\nu_t} \\; (\\geq 0)\\\\\n",
        "\n",
        "k_{t+1} & \\geq 0 & \\Rightarrow & \\; {\\color{red}q_t} \\; (\\geq 0)\\\\\n",
        "\\end{align*} \\end{cases}\n",
        "$$\n",
        "\n",
        "$$\\Rightarrow \\textrm{{6 variables}}$$ "
      ]
    },
    {
      "cell_type": "markdown",
      "id": "533ecc8d",
      "metadata": {},
      "source": [
        "$$\\forall t \\geq 0 \\qquad \n",
        "\\mathcal{L}_t = \\sum_{s \\geq 0} \\beta^{t+s}\\left\n",
        "\\{ \\; U(c_{t+s}) + {\\color{green} \\mu_s}  [c_{t+s}] + {\\color{green} \\nu_s} [\\exp(z_{t+s})k_{t+s}^{\\alpha} - c_{t+s}] + {\\color{green} q_s}  [k_{t+1+s}] + {\\color{green} \\lambda_s} [(1-\\delta) k_{t+s} + i_{t+s} - k_{t+1+s}] \\; \\right\\}\n",
        "$$\n",
        "\n",
        "$$\\textrm{\\textbf{2 FOCs : }} \\qquad \\forall s \\geq 0 \\quad \\begin{cases} \\begin{align*} \n",
        "\\frac{\\partial \\mathcal{L}_t}{\\partial c_{t+s}} & = & 0 \\\\ \n",
        "\\frac{\\partial \\mathcal{L}_t}{\\partial k_{t+1+s}} & = & 0 \\\\\n",
        "\\end{align*} \\end{cases}\n",
        "$$\n",
        "\n",
        "$$\\textrm{\\textbf{Karush-Kuhn-Tucker {\\color{blue}complementary slackness condition} (at optima) : }}$$ \n",
        "$$\n",
        "\\begin{cases} \\begin{align*}\n",
        "{\\color{blue}\\mu_t} & = 0 \\quad & \\textrm{or} \\quad & c_t = 0 & \\rightarrow & \\; \\textrm{Impossible otherwise $U'(0) = \\infty $ } \\\\\n",
        "\\nu_t & = 0 \\quad & \\textrm{or} \\quad & c_t = \\exp(z_t) k_t^\\alpha & \\rightarrow & \\; \\textrm{ ? } \\\\\n",
        "{\\color{blue}q_t} & = 0 \\quad & \\textrm{or} \\quad & k_{t+1} = 0 & \\rightarrow & \\; \\textrm{If $k_{t+1} = 0$ then so is $c_{t+1}$ which is impossible $U'(0) = \\infty$ } \\\\\n",
        "\\end{align*} \\end{cases}\n",
        "$$\n",
        "$$\n",
        "\\textrm{\\textbf{\\textit{and} }} \\qquad (1-\\delta) k_{t} + i_{t} - k_{t+1} = 0 \\rightarrow {\\color{blue}\\lambda_t}\n",
        "$$"
      ]
    },
    {
      "cell_type": "markdown",
      "id": "81bac2ba",
      "metadata": {},
      "source": [
        "- **Optimality Condition from FOCs** :\n",
        "  - Takes into account the fact that $c_t>0$.\n",
        "$$ \\textrm{\\textbf{Optimality condition - Euler equation : \\quad }} \n",
        "\\beta  \\left[ \\left( \\frac{c_{t+1}}{c_t} \\right) ^{-\\gamma} \\left( 1-\\delta + \\alpha e^{z_{t+1}} k_{t+1}^{\\alpha -1} \\right)\\right] = 1\n",
        "$$"
      ]
    },
    {
      "cell_type": "markdown",
      "id": "5fae9297",
      "metadata": {},
      "source": [
        "> $\\textrm{\\textbf{\\color{blue}PERTURBATION AROUND THE STEADY-STATE}}$ \n",
        "\n",
        "- $z_{t}=\\overline{z} + \\Delta z_t \\\\$\n",
        "- $k_{t}=\\overline{k} + \\Delta k_t \\\\$\n",
        "- $i_{t}=\\overline{i} + \\Delta i_t \\\\$\n",
        "- $c_{t}=\\overline{c} + \\Delta c_t$\n",
        "\n",
        "**Let** $\\overline{\\Delta x_t} = \\frac{\\Delta x_t}{\\overline{x}}$\n",
        "\n",
        "- $\\textrm{\\textbf{\\color{red}Linearize the model around the steady-state :}}$"
      ]
    },
    {
      "cell_type": "markdown",
      "id": "71acfea8",
      "metadata": {},
      "source": [
        "$$\\begin{align*}\n",
        "\" \\beta  \\left[ \\left( \\frac{c_{t+1}}{c_t} \\right) ^{-\\gamma} \\left( 1-\\delta + \\alpha e^{z_{t+1}} k_{t+1}^{\\alpha -1} \\right)\\right] & = 1 \" \\tag{1} \\\\ \n",
        "\\rightarrow \\beta  \\left[ \n",
        "    \\frac{(\\overline{c}+ \\Delta c_{t+1})^{-\\gamma}}{( \\overline{c} + \\Delta c_t)^{-\\gamma}} ( 1-\\delta + \\alpha e^{\\overline{z} + \\Delta z_{t+1}} (\\overline{k} + \\Delta k_{t+1})^{\\alpha -1} )\n",
        "    \\right] \n",
        "    & = 1 \\\\ \n",
        "\\beta  \\left[\n",
        "    (\\overline{c}+ \\Delta c_{t})^{\\gamma} \\frac{1}{(\\overline{c} + \\Delta c_{t+1})^{\\gamma}} ( 1-\\delta + \\alpha e^{\\overline{z} + \\Delta z_{t+1}} (\\overline{k} + \\Delta k_{t+1})^{\\alpha -1})\n",
        "    \\right] \n",
        "    & = 1 \\nonumber \\\\ \\\\\n",
        "\\rightarrow \\beta  \\left[\n",
        "    (1 + \\gamma \\overline{\\Delta c_t}) (1 - \\gamma \\overline{\\Delta c_{t+1}}) (1-\\delta + \\alpha \\overline{k}^{\\alpha -1} e^{\\overline{z}} (1+\\Delta z_{t+1}) (1 + \\overline{\\Delta k_{t+1}})^{\\alpha -1} )\n",
        "    \\right] \n",
        "    & \\sim 1  \\\\\n",
        "\\beta  \\left[\n",
        "    1 + \\gamma (\\overline{\\Delta c_t} - \\overline{\\Delta c_{t+1}}) \\right] \\left[1-\\delta + \\alpha \\overline{k}^{\\alpha -1} e^{\\overline{z}} (1+\\Delta z_{t+1}) (1 + (\\alpha -1) \\overline{\\Delta k_{t+1}})\n",
        "    \\right] \n",
        "    & \\sim 1 \\\\\n",
        "\\beta  \\left[\n",
        "    1 + \\gamma (\\overline{\\Delta c_t} - \\overline{\\Delta c_{t+1}}) \\right] \\left[1-\\delta + \\alpha \\overline{k}^{\\alpha -1} e^{\\overline{z}} (1+\\Delta z_{t+1} + (\\alpha -1) \\overline{\\Delta k_{t+1}})\n",
        "    \\right] \n",
        "    & \\sim 1 \\nonumber \\\\ \\\\\n",
        "\\left[\n",
        "    1-\\delta + \\alpha \\overline{k}^{\\alpha -1} e^{\\overline{z}}\n",
        "    \\right] \\left[ 1 + \\frac{\\gamma}{\\overline{c}} (\\Delta c_t - \\Delta c_{t+1}) \\right] + \\alpha (\\alpha-1) \\overline{k}^{\\alpha -1} e^{\\overline{z}} \\left[ \\Delta z_{t+1} + \\frac{\\Delta k_{t+1}}{\\overline{k}} \\right]\n",
        "    & \\sim 1/\\beta \\\\\n",
        "\\rightarrow \\left[\n",
        "    1-\\delta + \\alpha \\overline{k}^{\\alpha -1} e^{\\overline{z}}\n",
        "    \\right] \\frac{\\gamma}{\\overline{c}} {\\color{blue}(\\Delta c_t - \\Delta c_{t+1})} + \\alpha (\\alpha-1) \\overline{k}^{\\alpha -1} e^{\\overline{z}} {\\color{blue} \\left[ \\Delta z_{t+1} + \\frac{\\Delta k_{t+1}}{\\overline{k}} \\right]}\n",
        "    & \\sim 1/\\beta - \\left[\n",
        "    1-\\delta + \\alpha \\overline{k}^{\\alpha -1} e^{\\overline{z}}\n",
        "    \\right] \\tag{1} \\\\\n",
        "\\end{align*}$$"
      ]
    },
    {
      "cell_type": "markdown",
      "id": "2d92e90c",
      "metadata": {},
      "source": [
        "$$ \\begin{align*}\n",
        "\" c_t & = y_t - i_t \"\\tag{2} \\\\\n",
        "\\rightarrow \\overline{c} + \\Delta c_t & = e^{\\overline{z}+ \\Delta z_t} (\\overline{k}+ \\Delta k_t)^\\alpha - \\overline{i} - \\Delta i_t \\\\\n",
        " & \\sim e^{\\overline{z}}(1+\\Delta z_t) \\overline{k}^{\\alpha}(1 + \\alpha\\overline{\\Delta k_t}) - \\overline{i} - \\Delta i_t \\nonumber \\\\ \\\\\n",
        "\\rightarrow \\overline{c} + {\\color{blue}\\Delta c_t} & \\sim \\overline{k}^{\\alpha}e^{\\overline{z}} \\left[ {\\color{blue}\\Delta z_t + \\frac{\\Delta k_t}{\\overline{k}}}\\right] - \\overline{i} - {\\color{blue} \\Delta i_t} \\tag{2}\n",
        "\\end{align*}$$"
      ]
    },
    {
      "cell_type": "markdown",
      "id": "04820e06",
      "metadata": {},
      "source": [
        "- Transition (1)\n",
        "$$\\begin{align*}\n",
        "\"k_{t} & = (1-\\delta) k_{t-1} + i_{t-1}\" \\tag{3} \\\\\n",
        "\\overline{k} + \\Delta k_t & = (1-\\delta) (\\overline{k}+ \\Delta k_{t-1}) + \\overline{i }+ \\Delta i_{t-1} \\\\\n",
        "\\rightarrow {\\color{blue}\\Delta k_t} & = (1-\\delta) {\\color{blue}\\Delta k_{t-1} + \\Delta i_{t-1}} -\\delta \\overline{k} + \\overline{i} \\tag{3} \\\\\n",
        "\\end{align*}$$"
      ]
    },
    {
      "cell_type": "markdown",
      "id": "0bd158a9",
      "metadata": {},
      "source": [
        "- Transition (2)\n",
        "$$\\begin{align*}\n",
        "\"z_{t} & = \\rho z_{t-1}\" \\tag{4} \\\\\n",
        "\\overline{z} + \\Delta z_t & = \\rho (\\overline{z} + \\Delta z_{t-1}) \\\\\n",
        "\\rightarrow {\\color{blue}\\Delta z_t} & = \\rho {\\color{blue}\\Delta z_{t-1}} + (\\rho-1) \\tag{4} \\\\\n",
        "\\end{align*}$$\n"
      ]
    },
    {
      "cell_type": "markdown",
      "id": "9054e7ce",
      "metadata": {},
      "source": [
        "> $\\textrm{\\textbf{\\color{blue}General formulation of a \\underline{Linearized model} / Formulation of the First Order System :}}$ \n",
        ">  - $s_t \\in \\mathbb{R}^{n_s}$ is a vector of ***states***\n",
        ">  - $x_t \\in \\mathbb{R}^{n_x}$ is a vector of ***controls***\n",
        "> $$ \n",
        "\\begin{cases} \\begin{align*} \n",
        "A s_t + B x_t + C s_{t+1} + D x_{t+1} & = & 0_{n_x} \\qquad \\textrm{\\textit{forward looking}} \\\\\n",
        "s_{t+1} & = & E s_t + F x_t \\qquad \\textrm{\\textit{backward looking}} \n",
        "\\end{align*} \\end{cases}\n",
        "$$ "
      ]
    },
    {
      "cell_type": "markdown",
      "id": "65e65a33",
      "metadata": {},
      "source": [
        "$\\textrm{\\textbf{\\underline{Linearization of the model around the Steady-State : }}}$ \n",
        "\n",
        "Let :\n",
        "- $s_t = \\begin{bmatrix} \\Delta z_t \\\\ \\Delta k_t \\end{bmatrix}\\quad$ : **state variables** > $k_t$ and $z_t$ are pre-determined variables at date $t$\n",
        "\n",
        "- $x_t = \\begin{bmatrix} \\Delta i_t \\\\ \\Delta c_t \\end{bmatrix}\\quad$ : **control variables** > $c_t$ and $i_t$ are optimized upon at date $t$\n",
        "\n",
        "<br>\n",
        "\n",
        "$\\textrm{\\textbf{The First Order System satisfies : }}$ \n",
        "$$ \n",
        "\\textrm{\\textbf{\\underline{Around the steady-state :}}}\\quad \n",
        "\\begin{cases} \\begin{align*} \n",
        "A \\begin{bmatrix} \\Delta z_t \\\\ \\Delta k_t \\end{bmatrix} + B \\begin{bmatrix} \\Delta i_t \\\\ \\Delta c_t \\end{bmatrix} + C \\begin{bmatrix} \\Delta z_{t+1} \\\\ \\Delta k_{t+1} \\end{bmatrix} + D \\begin{bmatrix} \\Delta i_{t+1} \\\\ \\Delta c_{t+1} \\end{bmatrix} \n",
        "& = 0 & \\qquad \\textrm{\\textit{forward looking}} \\\\\n",
        "\n",
        "\\begin{bmatrix} \\Delta z_{t+1} \\\\ \\Delta k_{t+1} \\end{bmatrix} & = E \\begin{bmatrix} \\Delta z_{t} \\\\ \\Delta k_{t} \\end{bmatrix} + F \\begin{bmatrix} \\Delta i_t \\\\ \\Delta c_t \\end{bmatrix} & \\qquad \\textrm{\\textit{backward looking}} \n",
        "\\end{align*} \\end{cases}\n",
        "$$"
      ]
    },
    {
      "cell_type": "markdown",
      "id": "b8aa3965",
      "metadata": {},
      "source": [
        "The linearized system is:\n",
        "$$\\begin{align*}\n",
        "A & = & ...\\\\\n",
        "B & = & ...\\\\\n",
        "C & = & ...\\\\\n",
        "D & = & ...\\\\\n",
        "E & = & ...\\\\\n",
        "F & = & ...\n",
        "\\end{align*}$$"
      ]
    },
    {
      "cell_type": "markdown",
      "id": "b87afaef",
      "metadata": {},
      "source": [
        "$\\textrm{\\textbf{\\underline{\\color{blue}Solution of the First Order System around the Steady-State ? }}}$ \n",
        "- At date $t$ *controls* must be chosen as a function of (predetermined) *states*\n",
        "- Mathematically speaking, the solution is a function $\\varphi$ such that:\n",
        "  $$\\forall t, x_t = \\varphi(s_t)$$\n",
        "- **Since the model is linear** we look for un *unknown matrix* $X \\in \\mathbb{R}^{n_x} \\times \\mathbb{R}^{n_s}$ such that:\n",
        "$${\\color{red}x_t = X s_t}$$\n",
        "- $\\textrm{\\textbf{\\underline{In our Linearized model this means : }}}$ \n",
        "$$ {\\color{red} \\begin{bmatrix} \\Delta i_t \\\\ \\Delta c_t \\end{bmatrix} = X \\begin{bmatrix} \\Delta z_t \\\\ \\Delta k_t \\end{bmatrix} } $$"
      ]
    },
    {
      "cell_type": "markdown",
      "id": "e9bbe7b7",
      "metadata": {},
      "source": [
        "----"
      ]
    },
    {
      "cell_type": "code",
      "execution_count": 1,
      "id": "41b4b955",
      "metadata": {},
      "outputs": [
        {
          "data": {
            "text/plain": [
              "(α = 0.3, β = 0.96, γ = 4.0, δ = 0.1, ρ = 0.9)"
            ]
          },
          "metadata": {},
          "output_type": "display_data"
        }
      ],
      "source": [
        "using Symbolics, ForwardDiff, Random, Printf, Plots, LinearAlgebra\n",
        "\n",
        "# Create a NamedTuple to hold the model parameters\n",
        "model = (; α=0.3, β=0.96, γ=4.0, δ=0.1, ρ=0.9)"
      ]
    },
    {
      "cell_type": "markdown",
      "id": "52d36938",
      "metadata": {},
      "source": [
        "**Define two functions:** \n",
        "- `transition(z::Number, k::Number, i::Number, p)::Tuple{Number}` which\n",
        "returns productivity and capital at date `t+1` as a function of\n",
        "productivity, capital and investment at date `t` \n",
        "- `arbitrage(z::Number, k::Number, i::Number, Z::Number, K::Number, I::Number, p)::Number`\n",
        "which returns the residual of the euler equation (lower case variable\n",
        "for date t, upper case for date t+1)"
      ]
    },
    {
      "cell_type": "markdown",
      "id": "5c6552a3",
      "metadata": {},
      "source": [
        "$ \\textrm{\\underline{arbitrage} = Euler equation :} \n",
        "\\begin{bmatrix} s_t \\\\ {\\color{red}x_t} \\\\ s_{t+1} \\\\ {\\color{red}x_{t+1}} \\end{bmatrix}\n",
        "= \\begin{bmatrix} z_t \\\\ k_t \\\\ {\\color{red}i_t} \\\\ z_{t+1} \\\\ k_{t+1} \\\\ {\\color{red}i_{t+1}} \\end{bmatrix} \n",
        "\\mapsto \\beta \\left[ \\frac{ e^{z_{t+1}} k_{t+1}^{\\alpha} - i_{t+1} }{ e^{z_{t}} k_{t}^{\\alpha} - i_{t} } \\right]^{-\\gamma} - 1 \n",
        "$ \n",
        "\n",
        "**and**\n",
        "\n",
        "$ \\textrm{\\underline{transition} :} \n",
        "\\begin{bmatrix} s_t \\\\ {\\color{red}x_t} \\end{bmatrix}\n",
        "= \\begin{bmatrix} z_t \\\\ k_t \\\\ {\\color{red}i_t} \\end{bmatrix} \n",
        "\\mapsto \\begin{bmatrix} \\rho z_t \\\\ (1-\\delta)k_t + i_t \\end{bmatrix}\n",
        "= \\begin{bmatrix} z_{t+1} \\\\ k_{t+1} \\end{bmatrix}\n",
        "= \\begin{bmatrix} s_{t+1} \\end{bmatrix}\n",
        "$ "
      ]
    },
    {
      "cell_type": "code",
      "execution_count": 3,
      "id": "f1c67f56",
      "metadata": {},
      "outputs": [
        {
          "data": {
            "text/plain": [
              "arbitrage (generic function with 1 method)"
            ]
          },
          "metadata": {},
          "output_type": "display_data"
        }
      ],
      "source": [
        "function transition(z::Number, k::Number, i::Number, p)\n",
        "\n",
        "    (; α, β, γ, δ, ρ) = p\n",
        "    Z = ρ * z\n",
        "    K = (1-δ)*k + i\n",
        "\n",
        "    return (;Z,K)\n",
        "end\n",
        "\n",
        "\n",
        "function arbitrage(z::Number, k::Number, i::Number, Z::Number, K::Number, I::Number, p)\n",
        "    \n",
        "    # α, β, δ, γ = p works but is order sensitive !! Below formulation reads : α corresponds to p.α whatever the order\n",
        "    (; α, β, γ, δ, ρ) = p\n",
        "\n",
        "    # Auxiliary variables today\n",
        "    y = exp(z)*k^α\n",
        "    c = y-i\n",
        "\n",
        "    # Auxiliary variables tomorrow\n",
        "    Y = exp(Z)*K^α\n",
        "    C = Y-I\n",
        "\n",
        "    # Residual of Euler equation\n",
        "    residual = β*(C/c)^(-γ)*( 1-δ+α*exp(Z)*K^(α-1) ) - 1\n",
        "\n",
        "    return residual\n",
        "end"
      ]
    },
    {
      "cell_type": "markdown",
      "id": "da5f5570",
      "metadata": {},
      "source": [
        "**Using multiple dispatch, define two variants of the same functions,\n",
        "that take vectors as input and output arguments:** -\n",
        "`arbitrage(s::Vector{T}, x::Vector{T}, S::Vector{T}, X::Vector{T}, p) where T<:Number` -\n",
        "`transition(s::Vector{T}, x::Vector{T}, p) where T<:Number`"
      ]
    },
    {
      "cell_type": "code",
      "execution_count": 4,
      "id": "da05db49",
      "metadata": {},
      "outputs": [
        {
          "data": {
            "text/plain": [
              "transition (generic function with 2 methods)"
            ]
          },
          "metadata": {},
          "output_type": "display_data"
        }
      ],
      "source": [
        "#! /// To modify defined function to also accept different types than previously defined /// \n",
        "\n",
        "arbitrage(s::Vector{T}, x::Vector{T}, S::Vector{T}, X::Vector{T}, p) where T<:Number = arbitrage(s[1],s[2],x[1],S[1],S[2],X[1],p)\n",
        "\n",
        "# For transition, do not return the named tuple but a vector then\n",
        "transition(s::Vector{T}, x::Vector{T}, p) where T<:Number = [ transition(s[1],s[2],x[1],p)... ]\n",
        "\n",
        "# t = (3.0, 2.0, 1.0)\n",
        "# [ x for x in t] to convert tuple into vector or simpler : [t...]"
      ]
    },
    {
      "cell_type": "markdown",
      "id": "56aaf753",
      "metadata": {},
      "source": [
        "**Write a function `steady_state(p)::Tuple{Vector,Vector}` which\n",
        "computes the steady-state of the model computed by hand.** It returns\n",
        "two vectors, one for the states, one for the controls. Check that the\n",
        "steady-state satisfies the model equations."
      ]
    },
    {
      "cell_type": "markdown",
      "id": "bffbf0d1",
      "metadata": {},
      "source": [
        "$\\textrm{\\textbf{\\color{blue}\\underline{Steady-state} }}$ \n",
        "- $\\overline{c}, \\overline{k}, \\overline{z}, \\overline{i}, \\overline{y}$ such that:\n",
        "  - $z_{t+1}=z_t=\\overline{z}$\n",
        "  - $k_{t+1}=k_t=\\overline{k}$\n",
        "  - $i_{t+1}=i_t=\\overline{i}$\n",
        "  - $c_{t+1}=c_t=\\overline{c}$\n",
        "  - ...\n",
        "- ...satisfy the first order conditions i.e : \n",
        "\n",
        "$$\\begin{cases} \\begin{align*}\n",
        "1 & = & \\beta   \\left( 1-\\delta + \\alpha e^{\\overline{z}}{\\overline{k}}^{\\alpha -1} \\right)  \\\\\n",
        "\\overline{k} & = & (1-\\delta) \\overline{k} + \\overline{i} \\\\\n",
        "\\overline{z} & = & \\rho \\overline{z} \\\\\n",
        "\\overline{c} & = & e^{\\overline{z}}\\overline{k}^{\\alpha} - \\overline{i}\n",
        "\\end{align*}\\end{cases} $$\n",
        "- **Soit :**\n",
        "$$\\begin{cases} \\begin{align*}\n",
        "\\overline{k} & = & \\left( \\frac{\\frac{1}{\\beta}-(1-\\delta)}{\\alpha} \\right)^{\\frac{1}{\\alpha - 1}} \\\\\n",
        "\\overline{i} & = & \\delta \\overline{k} \\\\\\\n",
        "\\overline{z} & = & 0 \\\\\n",
        "\\overline{c} & = & \\overline{k}^{\\alpha} - \\overline{i}\n",
        "\\end{align*}\\end{cases} $$"
      ]
    },
    {
      "cell_type": "code",
      "execution_count": 5,
      "id": "c26aad3d",
      "metadata": {},
      "outputs": [
        {
          "data": {
            "text/plain": [
              "(s = [0.0, 2.920822149964071], x = [0.29208221499640713])"
            ]
          },
          "metadata": {},
          "output_type": "display_data"
        }
      ],
      "source": [
        "function steady_state(p)\n",
        "\n",
        "    (; α, β, γ, δ, ρ) = p\n",
        "\n",
        "    # Steady states\n",
        "    z = 0.0\n",
        "    k = ( (1/β - (1-δ))/α )^(1/(α-1))\n",
        "    i = δ*k\n",
        "\n",
        "    s = [z,k] # vector of states\n",
        "    x = [i]   # vector of controls\n",
        "    \n",
        "    return (;\n",
        "        s,\n",
        "        x)\n",
        "end\n",
        "\n",
        "steady_state(model)"
      ]
    },
    {
      "cell_type": "code",
      "execution_count": 6,
      "id": "a9238b99",
      "metadata": {},
      "outputs": [
        {
          "data": {
            "text/plain": [
              "0.0"
            ]
          },
          "metadata": {},
          "output_type": "display_data"
        }
      ],
      "source": [
        "#? Check that the steady state is correct using the functions representing the model : i.e transition keeps still\n",
        "\n",
        "ss = steady_state(model)\n",
        "# transition(ss.s, ss.x, model) - ss.s \n",
        "# returns zero good\n",
        "\n",
        "# Steady state values should satisfy Euler equation => residual = 0\n",
        "arbitrage(ss.s, ss.x, ss.s, ss.x, model)\n",
        "# returns zero good\n",
        "\n",
        "# @assert maximum(transition(ss.s, ss.x, model) - ss.s) == 0.0"
      ]
    },
    {
      "cell_type": "markdown",
      "id": "4baf3e9a",
      "metadata": {},
      "source": [
        "**Define a structure `PerturbedModel` to hold matrices A,B,C,D,E,F.**"
      ]
    },
    {
      "cell_type": "code",
      "execution_count": 7,
      "id": "8a272d00",
      "metadata": {},
      "outputs": [],
      "source": [
        "struct PerturbedModel\n",
        "    A::Matrix\n",
        "    B::Matrix\n",
        "    C::Matrix\n",
        "    D::Matrix\n",
        "    E::Matrix\n",
        "    F::Matrix\n",
        "end"
      ]
    },
    {
      "cell_type": "code",
      "execution_count": 8,
      "id": "f63fb9a0",
      "metadata": {},
      "outputs": [
        {
          "data": {
            "text/plain": [
              "transition (generic function with 3 methods)"
            ]
          },
          "metadata": {},
          "output_type": "display_data"
        }
      ],
      "source": [
        "# We need to loosen the constraint on the arbitrage arguments : \n",
        "\n",
        "# brutal \n",
        "arbitrage(s, x, S, X, p) = [ arbitrage(s[1],s[2],x[1],S[1],S[2],X[1],p) ]\n",
        "transition(s, x, p) = [ transition(s[1],s[2],x[1],p)... ]\n",
        "\n",
        "# More precise, allows for each parameter to be a different type of Number\n",
        "# arbitrage(s::Vector{<:Number}, x::Vector{<:Number}, S::Vector{<:Number}, X::Vector{<:Number}, p) = arbitrage(s[1],s[2],x[1],S[1],S[2],X[1],p)"
      ]
    },
    {
      "cell_type": "markdown",
      "id": "d3cee668",
      "metadata": {},
      "source": [
        "$\\textrm{\\textbf{{\\color{blue}\\underline{The first order system satisfies - linearized system around the steady state :}}}}$\n",
        "\n",
        "We have $s_t = (\\Delta z_t, \\Delta k_t)$ and $x_t = (\\Delta i_t)$\n",
        "\n",
        "$$ \n",
        "\\textrm{\\textbf{\\underline{Around the steady-state :}}}\\quad \n",
        "\\begin{cases} \\begin{align*} \n",
        "A \\begin{bmatrix} \\Delta z_t \\\\ \\Delta k_t \\end{bmatrix} + B \\begin{bmatrix} \\Delta i_t \\end{bmatrix} + C \\begin{bmatrix} \\Delta z_{t+1} \\\\ \\Delta k_{t+1} \\end{bmatrix} + D \\begin{bmatrix} \\Delta i_{t+1} \\end{bmatrix} \n",
        "& = 0 & \\qquad \\textrm{\\textit{forward looking}} \\\\\n",
        "\n",
        "\\begin{bmatrix} \\Delta z_{t+1} \\\\ \\Delta k_{t+1} \\end{bmatrix} & = E \\begin{bmatrix} \\Delta z_{t} \\\\ \\Delta k_{t} \\end{bmatrix} + F \\begin{bmatrix} \\Delta i_t \\end{bmatrix} & \\qquad \\textrm{\\textit{backward looking}} \n",
        "\\end{align*} \\end{cases}\n",
        "$$\n",
        "\n",
        "<br>\n",
        "\n",
        "$$ A = \\begin{bmatrix} a_z & a_k \\end{bmatrix} \\quad B = [b_i] \\quad C = \\begin{bmatrix} c_z & c_k \\end{bmatrix} \\quad D = [d_i] \\\\ \\; \\\\ E = \\begin{bmatrix} e_{zz} & e_{zk} \\\\ e_{kz} & e_{kk} \\end{bmatrix} \\quad F = \\begin{bmatrix} f_{zi} \\\\ f_{ki} \\end{bmatrix} $$\n",
        "\n",
        "<br>\n",
        "\n",
        "**Write a function\n",
        "`first_order_model(s::Vector, x::Vector, p)::PerturbedModel`, which\n",
        "returns the *first order model*, given the steady-state and the\n",
        "calibration. <br> Suggestion: use `ForwardDiff.jl` library.**"
      ]
    },
    {
      "cell_type": "markdown",
      "id": "b72f668e",
      "metadata": {},
      "source": [
        "$ \\textrm{\\underline{arbitrage} = Euler :} \n",
        "\\begin{bmatrix} s_t \\\\ {\\color{red}x_t} \\\\ s_{t+1} \\\\ {\\color{red}x_{t+1}} \\end{bmatrix}\n",
        "= \\begin{bmatrix} z_t \\\\ k_t \\\\ {\\color{red}i_t} \\\\ z_{t+1} \\\\ k_{t+1} \\\\ {\\color{red}i_{t+1}} \\end{bmatrix} \n",
        "\\mapsto \\beta \\left[ \\frac{ e^{z_{t+1}} k_{t+1}^{\\alpha} - i_{t+1} }{ e^{z_{t}} k_{t}^{\\alpha} - i_{t} } \\right]^{-\\gamma} - 1 \n",
        "\\quad \\longleftrightarrow \\quad\n",
        "\\textrm{\\textit{\\underline{Linearized / FO around the SS :}}} \\; \\; A s_t + B x_t + C s_{t+1} + D x_{t+1} = 0_{n_x=1} \\quad \\textrm{\\textit{(forward looking)}}\n",
        "$ \n",
        "\n",
        "**and**\n",
        "\n",
        "$ \\textrm{\\underline{transition} :} \n",
        "\\begin{bmatrix} s_t \\\\ {\\color{red}x_t} \\end{bmatrix}\n",
        "= \\begin{bmatrix} z_t \\\\ k_t \\\\ {\\color{red}i_t} \\end{bmatrix} \n",
        "\\mapsto \\begin{bmatrix} \\rho z_t \\\\ (1-\\delta)k_t + i_t \\end{bmatrix}\n",
        "= \\begin{bmatrix} z_{t+1} \\\\ k_{t+1} \\end{bmatrix}\n",
        "= \\begin{bmatrix} s_{t+1} \\end{bmatrix}\n",
        "\\quad \\longleftrightarrow \\quad\n",
        "\\textrm{\\textit{\\underline{Linearized / FO around the SS :}}} \\quad s_{t+1} = E s_t + F x_t \\qquad \\textrm{\\textit{(backward looking)}} \n",
        "$ \n",
        "\n",
        "With : \n",
        "\n",
        "$$ A = \\begin{bmatrix} a_z & a_k \\end{bmatrix} \\quad B = b_i \\quad C = \\begin{bmatrix} c_z & c_k \\end{bmatrix} \\quad D = d_i \\\\ \\; \\\\ E = \\begin{bmatrix} e_{zz} & e_{zk} \\\\ e_{kz} & e_{kk} \\end{bmatrix} \\quad F = \\begin{bmatrix} f_{zi} \\\\ f_{ki} \\end{bmatrix} $$"
      ]
    },
    {
      "cell_type": "markdown",
      "id": "2616359f",
      "metadata": {},
      "source": [
        "**Let** :\n",
        "\n",
        "- $\\mathcal{A_{rbi}} : (s_t,x_t,s_{t+1},x_{t+1}) \\mapsto arbitrage(s_t,x_t,s_{t+1},x_{t+1}) = \\beta \\left[ \\frac{ e^{z_{t+1}} k_{t+1}^{\\alpha} - i_{t+1} }{ e^{z_{t}} k_{t}^{\\alpha} - i_{t} } \\right]^{-\\gamma} - 1    \\\\ \\; \\\\$\n",
        "- $f : (s_t,x_t,s_{t+1},x_{t+1}) \\mapsto A s_t + B x_t + C s_{t+1} + D x_{t+1} \\qquad \\Rightarrow \\textrm{\\textbf{Linearization} of } \\mathcal{A_{rbi}} \\textrm{ \\textit{'arbitrage'} \\textbf{\\underline{around the SS}}} \\\\ \\; \\\\$\n",
        "- $\\mathcal{T_{ransi}} : (s_t,x_t) \\mapsto transition(s_t,x_t) = \\begin{bmatrix} s_{t+1} \\end{bmatrix} \\\\ \\; \\\\$\n",
        "- $g : (s_t,x_t) \\mapsto E s_t + F x_t \\qquad \\Rightarrow \\textrm{\\textbf{Linearization} of } \\mathcal{T_{ransi}} \\textrm{ \\textit{'transition'} \\textbf{\\underline{around the SS}}} \\\\$ \n",
        "\n",
        "<br>\n",
        "\n",
        "$\\textrm{\\textbf{In particular we have, by \\underline{evaluating the derivates EXACTLY at the steady-state} :}}$\n",
        "\n",
        "$$\\begin{cases} \\begin{align*} \n",
        "\\frac{\\partial f}{\\partial {\\color{red}s_t} }& (s_t = \\overline{s},\\overline{x},\\overline{s},\\overline{x}) & = & {\\color{red}A} & = & \\frac{\\partial \\mathcal{A_{rbi}} }{\\partial {\\color{red}s_t} } (s_t = \\overline{s},\\overline{x},\\overline{s},\\overline{x})\\\\\n",
        "\n",
        "\\frac{\\partial f}{\\partial {\\color{red}x_t} }& (\\overline{s},x_t = \\overline{x},\\overline{s},\\overline{x}) & = & {\\color{red}B} & = & \\frac{\\partial \\mathcal{A_{rbi}} }{\\partial {\\color{red}x_t} } (s_t = \\overline{s},\\overline{x},\\overline{s},\\overline{x})\\\\\n",
        "\n",
        "\\frac{\\partial f}{\\partial {\\color{red}s_{t+1}} }& (\\overline{s},\\overline{x},s_{t+1} = \\overline{s},\\overline{x}) & = & {\\color{red}C} & = & \\frac{\\partial \\mathcal{A_{rbi}} }{\\partial {\\color{red}s_{t+1}} } (s_t = \\overline{s},\\overline{x},\\overline{s},\\overline{x})\\\\\n",
        "\n",
        "\\frac{\\partial f}{\\partial {\\color{red}x_{t+1}} }& (\\overline{s},\\overline{x},\\overline{s},x_{t+1} = \\overline{x}) & = & {\\color{red}D} & = & \\frac{\\partial \\mathcal{A_{rbi}} }{\\partial {\\color{red}x_{t+1}} } (s_t = \\overline{s},\\overline{x},\\overline{s},\\overline{x})\\\\\n",
        "\\end{align*} \\end{cases}\n",
        "\n",
        "\\qquad and \\qquad\n",
        "\n",
        "\\begin{cases} \\begin{align*} \n",
        "\\frac{\\partial g}{\\partial {\\color{red}s_t} }& (s_t = \\overline{s},\\overline{x}) & = & {\\color{red}E} = \\frac{\\partial \\mathcal{T_{ransi}} }{\\partial {\\color{red}s_t} } (s_t = \\overline{s},\\overline{x})\\\\\n",
        "\\frac{\\partial g}{\\partial {\\color{red}x_t} }& (\\overline{s},x_t = \\overline{x}) & = & {\\color{red}F} = \\frac{\\partial \\mathcal{T_{ransi}} }{\\partial {\\color{red}x_t} } (\\overline{s}, x_t = \\overline{x})\\\\\n",
        "\\end{align*} \\end{cases}\n",
        "$$"
      ]
    },
    {
      "cell_type": "code",
      "execution_count": 9,
      "id": "c443a54d",
      "metadata": {},
      "outputs": [
        {
          "data": {
            "text/plain": [
              "PerturbedModel([5.074626865671642 0.5212190203776081], [-3.679193085018409;;], [-4.938626865671642 -0.5538125831185546], [3.679193085018409;;], [0.9 0.0; 0.0 0.9], [0.0; 1.0;;])"
            ]
          },
          "metadata": {},
          "output_type": "display_data"
        }
      ],
      "source": [
        "s = ss.s\n",
        "x = ss.x\n",
        "\n",
        "function first_order_model(s,x,parameters)\n",
        "    # s = steady-state values\n",
        "    \n",
        "    A = ForwardDiff.jacobian( u->arbitrage(u,x,s,x,parameters), s)\n",
        "    B = ForwardDiff.jacobian( u->arbitrage(s,u,s,x,parameters), x)\n",
        "    C = ForwardDiff.jacobian( u->arbitrage(s,x,u,x,parameters), s)\n",
        "    D = ForwardDiff.jacobian( u->arbitrage(s,x,s,u,parameters), x)\n",
        "    E = ForwardDiff.jacobian( u->transition(u,x,parameters), s)\n",
        "    F = ForwardDiff.jacobian( u->transition(s,u,parameters), x)\n",
        "\n",
        "    return PerturbedModel(A,B,C,D,E,F)\n",
        "end\n",
        "\n",
        "FO_model = first_order_model(s,x,model)"
      ]
    },
    {
      "cell_type": "markdown",
      "id": "1c87e8ca",
      "metadata": {},
      "source": [
        "> **We look for a linear solution ${ \\color{red} x_t = X s_t }$** <br> $\\;$ <br>\n",
        "> **In our case this amounts to** $\\begin{bmatrix} \\Delta c_t \\\\ \\Delta i_t \\end{bmatrix} = \\begin{bmatrix} x_{cz} & x_{ck} \\\\ x_{iz} & x_{ik} \\end{bmatrix} \\begin{bmatrix} \\Delta z_t \\\\ \\Delta k_t \\end{bmatrix}$ <br> $\\;$ <br>\n",
        "> **In this code solely** $\\begin{bmatrix} \\Delta i_t \\end{bmatrix} = {\\color{red}\\begin{bmatrix} x_z & x_k \\end{bmatrix}} \\begin{bmatrix} \\Delta z_t \\\\ \\Delta k_t \\end{bmatrix}$ <br> $\\;$ <br>\n",
        "> $\\textrm{\\color{red} Equation satisfied by X ?}$ \n",
        "\n",
        "$$ \n",
        "\\begin{cases} \\begin{align*} \n",
        "A s_t + B x_t + C s_{t+1} + D x_{t+1} & = & 0_{n_x} \\qquad \\textrm{\\textit{forward looking}} \\\\\n",
        "s_{t+1} & = & E s_t + F x_t \\qquad \\textrm{\\textit{backward looking}} \n",
        "\\end{align*} \\end{cases}\n",
        "$$\n",
        "\n",
        "$s_{t+1} = E s_t + F x_t = (E + F.X) s_t$\n",
        "\n",
        "$A s_t + B {\\color{red}x_t} + C {\\color{blue}s_{t+1}} + D {\\color{green}x_{t+1}} \n",
        "= A s_t + B{\\color{red}Xs_t} + C{\\color{blue}(E+FX)s_t} + D{\\color{green}Xs_{t+1}}\n",
        "= A s_t + B{\\color{red}Xs_t} + C{\\color{blue}(E+FX)s_t} + D{\\color{green}X(E+FX)s_t}\n",
        "$\n",
        "\n",
        "$\\Rightarrow \\forall s_t \\quad \\left[ A + BX + C(E+FX) + DX(E+FX) \\right]s_t = 0 $"
      ]
    },
    {
      "cell_type": "markdown",
      "id": "c40a79d9",
      "metadata": {},
      "source": [
        "$$\\Rightarrow \\textrm{\\textbf{\\underline{X must satisfy :}}} \\quad {\\color{red} (A + B{\\color{black}X}) + (C+D{\\color{black}X})(E+F{\\color{black}X}) = 0 } $$"
      ]
    },
    {
      "cell_type": "markdown",
      "id": "e28bd254",
      "metadata": {},
      "source": [
        "**Write the matrix equation which `X` must satisfy** <br>\n",
        "**Write a function `residual(X::Array, M::PerturbedModel)` which computes the residual of this equation for a given `X`**"
      ]
    },
    {
      "cell_type": "code",
      "execution_count": 10,
      "id": "b3ba4542",
      "metadata": {},
      "outputs": [
        {
          "data": {
            "text/plain": [
              "residual (generic function with 1 method)"
            ]
          },
          "metadata": {},
          "output_type": "display_data"
        }
      ],
      "source": [
        "function residual(X::Matrix, M::PerturbedModel)\n",
        "    # X must satisfy (A+BX) + (C+DX)(E+FX) = 0\n",
        "    (; A,B,C,D,E,F) = M\n",
        "    residual = A + B*X + (C+D*X)*(E+F*X)\n",
        "    return residual\n",
        "end"
      ]
    },
    {
      "cell_type": "markdown",
      "id": "9b65a82d",
      "metadata": {},
      "source": [
        "$\\textrm{\\textbf{{\\color{red}\\underline{LINEAR TIME ITERATION ALGO}}}}$"
      ]
    },
    {
      "cell_type": "markdown",
      "id": "357bf061",
      "metadata": {},
      "source": [
        "**Following *Pontus Rendahl (2017)*, our main equation of interest is :**\n",
        "\n",
        "$\n",
        "(*) \\; A s_t + B x_t + C s_{t+1} + D x_{t+1} = 0 \\qquad \\textrm{where:} \\quad s_{t+1} = E s_t + F x_t\n",
        "$\n",
        "\n",
        "**$\\longrightarrow$ Suppose we have a guess $X^{{\\color{red}(n)}}$ such that $\\color{red} x_{t+1} = X^{(n)} s_{t+1}$**\n",
        "\n",
        "**$\\Rightarrow$ replace in (*) and find relationship $\\color{blue} x_{t} = X^{(n+1)} s_{t}$** \n",
        "\n",
        "$\\begin{cases}\n",
        "A s_t + B x_t + C s_{t+1} + D X^{{\\color{red}(n)}} s_{t+1} = 0 \\\\\n",
        "s_{t+1} = E s_t + F x_t\n",
        "\\end{cases} \\quad \\Longrightarrow \\quad\n",
        "\\begin{cases}\n",
        "A s_t + B x_t + (C + D X^{{\\color{red}(n)}}) (E s_t + F x_t) = 0 \\\\\n",
        "s_{t+1} = E s_t + F x_t\n",
        "\\end{cases} \\quad \\Longrightarrow \\quad\n",
        "\\begin{cases}\n",
        "\\left[ A + (C + D X^{{\\color{red}(n)}})E \\right] s_t + \\left[ B + (C + D X^{{\\color{red}(n)}})F \\right] x_t = 0 \\quad (*) \\\\\n",
        "\\longrightarrow \\left[ B + (C + D X^{{\\color{red}(n)}})F \\right] x_t = - \\left[ A + (C + D X^{{\\color{red}(n)}})E \\right] s_t \\\\\n",
        "\\longrightarrow  x_t = {\\color{blue}- \\left[ B + (C + D X^{(n)})F \\right]^{-1}.\\left[ A + (C + D X^{(n)})E \\right]} s_t \\\\\n",
        "\\longrightarrow  x_t = {\\color{blue}X^{(n+1)}} s_t \\qquad \\textrm{\\color{blue}\\underline{Updated guess}}\\\\\n",
        "\\end{cases}\n",
        "$"
      ]
    },
    {
      "cell_type": "markdown",
      "id": "d3f9d8e0",
      "metadata": {},
      "source": [
        "**Write a function `T(X, M::PerturbedModel)` which implements the `time iteration step`.**"
      ]
    },
    {
      "cell_type": "markdown",
      "id": "34da4847",
      "metadata": {},
      "source": [
        "$ (*) \\quad F(X,\\tilde{X}) = ( A + (C + D X)E ) + ( B + (C + D \\tilde{X})F ) X = 0\\\\$ \n",
        "$ \\; \\; \\; \\; \\, \\quad F(X,\\tilde{X}) = (A+B X) + (C + D\\tilde{X})(E + FX) = 0\\\\$ <br>\n",
        "$\\quad \\Rightarrow {\\color{blue} X_{n+1} \\; \\textrm{such that} \\; F(X_{n+1}, X_{n}) = 0 \\longrightarrow F(X_{n+1}:=T(X_n),X_n) = 0}$\n",
        "\n"
      ]
    },
    {
      "cell_type": "markdown",
      "id": "ec346b9a",
      "metadata": {},
      "source": [
        "$${\\color{red} X_{n+1} := T(X_n) \\longrightarrow F(X_{n+1},X_n) = 0}$$\n",
        "\n",
        "$$ F(X_{n+1}, X_n) = (A + B X_{n+1}) + ( C+ D X_n) ( E  + F X_{n+1} ) = 0 $$\n",
        "\n",
        "$$\\left[ B + (C+D X_{n})F \\right] X_{n+1} + A  + (C+D X_n )E=0$$\n",
        "\n",
        "$$ \\color{red} \\longrightarrow T(X_n) := X_{n+1} = - \\left[ B + (C + D X_n) F \\right]^{-1} (A + (C+DX_n)E) = T(X_n)$$"
      ]
    },
    {
      "cell_type": "code",
      "execution_count": 11,
      "id": "1d9e710f",
      "metadata": {},
      "outputs": [
        {
          "data": {
            "text/plain": [
              "1×2 Matrix{Float64}:\n",
              " 6.07077  5.74017"
            ]
          },
          "metadata": {},
          "output_type": "display_data"
        }
      ],
      "source": [
        "function T(X, M::PerturbedModel)\n",
        "    (; A,B,C,D,E,F) = M\n",
        "    C_DX = C+D*X    # pas efficace de calculer deux fois (C+DX)... autant stocker\n",
        "    # Never compute inv(...) > rather use : solve(A,B) <> solve Ax = B <-> x = A^{-1}.B = solve(A,B)\n",
        "\n",
        "    T = - (B+C_DX*F) \\ (A+C_DX*E) #! left divide \n",
        "    # T = - solve(B+C_DX*F, A+C_DX*E) \n",
        "    # NOT OK : - inv(B + (C+D*X)*F) * (A+(C+D*X)*E) \n",
        "    \n",
        "    return T\n",
        "end\n",
        "T(rand(1,2), FO_model)"
      ]
    },
    {
      "cell_type": "markdown",
      "id": "8b5b24ba",
      "metadata": {},
      "source": [
        "**Write function\n",
        "`linear_time_iteration(X_0::Matrix, M::PerturbedModel)::Matrix` which\n",
        "implements the time iteration algorithm. <br>\n",
        "Apply it to `X0 = rand(1,2)`\n",
        "and check that the result satisfies the first order model.**"
      ]
    },
    {
      "cell_type": "code",
      "execution_count": 13,
      "id": "34611ff4",
      "metadata": {},
      "outputs": [
        {
          "name": "stdout",
          "output_type": "stream",
          "text": [
            "  0.041336 seconds (96.41 k allocations: 21.835 MiB, 17.97% gc time, 92.62% compilation time)\n"
          ]
        },
        {
          "data": {
            "text/plain": [
              "0.9983252354195882"
            ]
          },
          "metadata": {},
          "output_type": "display_data"
        }
      ],
      "source": [
        "@time maximum(abs(e1-e2) for (e1,e2) in zip(rand(1000,1000),rand(1000,1000)))"
      ]
    },
    {
      "cell_type": "code",
      "execution_count": 14,
      "id": "c5375581",
      "metadata": {},
      "outputs": [
        {
          "name": "stdout",
          "output_type": "stream",
          "text": [
            "iter :   1 | Success criterion ϵ : 0.1015104795 | Successive errors η : 0.1122159722 | λ : 0.1122159722 \n",
            "iter :   2 | Success criterion ϵ : 0.0652833442 | Successive errors η : 0.0943140289 | λ : 0.8404688483 \n",
            "iter :   3 | Success criterion ϵ : 0.0380424552 | Successive errors η : 0.0766810889 | λ : 0.8130401146 \n",
            "iter :   4 | Success criterion ϵ : 0.0193927485 | Successive errors η : 0.0598355872 | λ : 0.7803173911 \n",
            "iter :   5 | Success criterion ϵ : 0.0081335907 | Successive errors η : 0.0442540544 | λ : 0.7395942191 \n",
            "iter :   6 | Success criterion ϵ : 0.0025672282 | Successive errors η : 0.0303215909 | λ : 0.6851709147 \n",
            "iter :   7 | Success criterion ϵ : 0.0008631613 | Successive errors η : 0.0182978641 | λ : 0.6034598947 \n",
            "iter :   8 | Success criterion ϵ : 0.0013705782 | Successive errors η : 0.0083036805 | λ : 0.4538059993 \n",
            "iter :   9 | Success criterion ϵ : 0.0028110035 | Successive errors η : 0.0132673266 | λ : 1.5977645832 \n",
            "iter :  10 | Success criterion ϵ : 0.0043383469 | Successive errors η : 0.0179898471 | λ : 1.3559511786 \n",
            "iter :  11 | Success criterion ϵ : 0.0054963572 | Successive errors η : 0.0210171822 | λ : 1.1682801997 \n",
            "iter :  12 | Success criterion ϵ : 0.0061212642 | Successive errors η : 0.0226357157 | λ : 1.0770100151 \n",
            "iter :  13 | Success criterion ϵ : 0.0062330108 | Successive errors η : 0.0231360359 | λ : 1.0221031309 \n",
            "iter :  14 | Success criterion ϵ : 0.0059428373 | Successive errors η : 0.0227907039 | λ : 0.9850738459 \n",
            "iter :  15 | Success criterion ϵ : 0.0053884566 | Successive errors η : 0.0218403778 | λ : 0.9583020287 \n",
            "iter :  16 | Success criterion ϵ : 0.0046963681 | Successive errors η : 0.0204871967 | λ : 0.9380422305 \n",
            "iter :  17 | Success criterion ϵ : 0.0039650882 | Successive errors η : 0.0188936538 | λ : 0.9222176205 \n",
            "iter :  18 | Success criterion ϵ : 0.0032618098 | Successive errors η : 0.0171851015 | λ : 0.9095700462 \n",
            "iter :  19 | Success criterion ϵ : 0.0026261563 | Successive errors η : 0.0154542897 | λ : 0.8992841665 \n",
            "iter :  20 | Success criterion ϵ : 0.0020766511 | Successive errors η : 0.0137667315 | λ : 0.8908032511 \n",
            "iter :  21 | Success criterion ϵ : 0.0016173521 | Successive errors η : 0.0121660916 | λ : 0.8837313029 \n",
            "iter :  22 | Success criterion ϵ : 0.0012434473 | Successive errors η : 0.0106791212 | λ : 0.8777774789 \n",
            "iter :  23 | Success criterion ϵ : 0.0009454424 | Successive errors η : 0.0093199116 | λ : 0.8727227085 \n",
            "iter :  24 | Success criterion ϵ : 0.0007120150 | Successive errors η : 0.0080933986 | λ : 0.8683986511 \n",
            "iter :  25 | Success criterion ϵ : 0.0005317875 | Successive errors η : 0.0069981503 | λ : 0.8646738692 \n",
            "iter :  26 | Success criterion ϵ : 0.0003943120 | Successive errors η : 0.0060285174 | λ : 0.8614444072 \n",
            "iter :  27 | Success criterion ϵ : 0.0002905221 | Successive errors η : 0.0051762489 | λ : 0.8586271727 \n",
            "iter :  28 | Success criterion ϵ : 0.0002128534 | Successive errors η : 0.0044316722 | λ : 0.8561551613 \n",
            "iter :  29 | Success criterion ϵ : 0.0001551741 | Successive errors η : 0.0037845326 | λ : 0.8539739360 \n",
            "iter :  30 | Success criterion ϵ : 0.0001126238 | Successive errors η : 0.0032245693 | λ : 0.8520389810 \n",
            "iter :  31 | Success criterion ϵ : 0.0000814169 | Successive errors η : 0.0027418954 | λ : 0.8503136836 \n",
            "iter :  32 | Success criterion ϵ : 0.0000586470 | Successive errors η : 0.0023272324 | λ : 0.8487677734 \n",
            "iter :  33 | Success criterion ϵ : 0.0000421088 | Successive errors η : 0.0019720411 | λ : 0.8473761034 \n",
            "iter :  34 | Success criterion ϵ : 0.0000301457 | Successive errors η : 0.0016685789 | λ : 0.8461176880 \n",
            "iter :  35 | Success criterion ϵ : 0.0000215237 | Successive errors η : 0.0014099073 | λ : 0.8449749395 \n",
            "iter :  36 | Success criterion ϵ : 0.0000153302 | Successive errors η : 0.0011898674 | λ : 0.8439330564 \n",
            "iter :  37 | Success criterion ϵ : 0.0000108945 | Successive errors η : 0.0010030339 | λ : 0.8429795320 \n",
            "iter :  38 | Success criterion ϵ : 0.0000077262 | Successive errors η : 0.0008446586 | λ : 0.8421037563 \n",
            "iter :  39 | Success criterion ϵ : 0.0000054689 | Successive errors η : 0.0007106085 | λ : 0.8412966933 \n",
            "iter :  40 | Success criterion ϵ : 0.0000038642 | Successive errors η : 0.0005973024 | λ : 0.8405506175 \n",
            "iter :  41 | Success criterion ϵ : 0.0000027259 | Successive errors η : 0.0005016497 | λ : 0.8398588982 \n",
            "iter :  42 | Success criterion ϵ : 0.0000019200 | Successive errors η : 0.0004209924 | λ : 0.8392158220 \n",
            "iter :  43 | Success criterion ϵ : 0.0000013504 | Successive errors η : 0.0003530511 | λ : 0.8386164475 \n",
            "iter :  44 | Success criterion ϵ : 0.0000009485 | Successive errors η : 0.0002958768 | λ : 0.8380564843 \n",
            "iter :  45 | Success criterion ϵ : 0.0000006654 | Successive errors η : 0.0002478063 | λ : 0.8375321926 \n",
            "iter :  46 | Success criterion ϵ : 0.0000004663 | Successive errors η : 0.0002074239 | λ : 0.8370403008 \n",
            "iter :  47 | Success criterion ϵ : 0.0000003264 | Successive errors η : 0.0001735263 | λ : 0.8365779354 \n",
            "iter :  48 | Success criterion ϵ : 0.0000002282 | Successive errors η : 0.0001450927 | λ : 0.8361425638 \n",
            "iter :  49 | Success criterion ϵ : 0.0000001594 | Successive errors η : 0.0001212586 | λ : 0.8357319450 \n",
            "iter :  50 | Success criterion ϵ : 0.0000001112 | Successive errors η : 0.0001012927 | λ : 0.8353440894 \n",
            "iter :  51 | Success criterion ϵ : 0.0000000776 | Successive errors η : 0.0000845771 | λ : 0.8349772237 \n",
            "iter :  52 | Success criterion ϵ : 0.0000000540 | Successive errors η : 0.0000705905 | λ : 0.8346297628 \n",
            "iter :  53 | Success criterion ϵ : 0.0000000376 | Successive errors η : 0.0000588937 | λ : 0.8343002840 \n",
            "iter :  54 | Success criterion ϵ : 0.0000000262 | Successive errors η : 0.0000491166 | λ : 0.8339875072 \n",
            "iter :  55 | Success criterion ϵ : 0.0000000182 | Successive errors η : 0.0000409480 | λ : 0.8336902761 \n",
            "iter :  56 | Success criterion ϵ : 0.0000000126 | Successive errors η : 0.0000341264 | λ : 0.8334075437 \n",
            "iter :  57 | Success criterion ϵ : 0.0000000088 | Successive errors η : 0.0000284320 | λ : 0.8331383587 \n",
            "iter :  58 | Success criterion ϵ : 0.0000000061 | Successive errors η : 0.0000236805 | λ : 0.8328818546 \n",
            "iter :  59 | Success criterion ϵ : 0.0000000042 | Successive errors η : 0.0000197173 | λ : 0.8326372401 \n",
            "iter :  60 | Success criterion ϵ : 0.0000000029 | Successive errors η : 0.0000164127 | λ : 0.8324037904 \n",
            "iter :  61 | Success criterion ϵ : 0.0000000020 | Successive errors η : 0.0000136584 | λ : 0.8321808401 \n",
            "iter :  62 | Success criterion ϵ : 0.0000000014 | Successive errors η : 0.0000113633 | λ : 0.8319677771 \n",
            "iter :  63 | Success criterion ϵ : 0.0000000010 | Successive errors η : 0.0000094516 | λ : 0.8317640369 \n",
            "iter :  64 | Success criterion ϵ : 0.0000000007 | Successive errors η : 0.0000078597 | λ : 0.8315690978 \n",
            "iter :  65 | Success criterion ϵ : 0.0000000005 | Successive errors η : 0.0000065344 | λ : 0.8313824767 \n",
            "iter :  66 | Success criterion ϵ : 0.0000000003 | Successive errors η : 0.0000054314 | λ : 0.8312037256 \n",
            "iter :  67 | Success criterion ϵ : 0.0000000002 | Successive errors η : 0.0000045137 | λ : 0.8310324280 \n",
            "iter :  68 | Success criterion ϵ : 0.0000000002 | Successive errors η : 0.0000037503 | λ : 0.8308681963 \n",
            "iter :  69 | Success criterion ϵ : 0.0000000001 | Successive errors η : 0.0000031154 | λ : 0.8307106687 \n",
            "iter :  70 | Success criterion ϵ : 0.0000000001 | Successive errors η : 0.0000025875 | λ : 0.8305595081 \n",
            "iter :  71 | Success criterion ϵ : 0.0000000001 | Successive errors η : 0.0000021487 | λ : 0.8304143983 \n",
            "iter :  72 | Success criterion ϵ : 0.0000000000 | Successive errors η : 0.0000017840 | λ : 0.8302750443 \n",
            "iter :  73 | Success criterion ϵ : 0.0000000000 | Successive errors η : 0.0000014810 | λ : 0.8301411681 \n",
            "iter :  74 | Success criterion ϵ : 0.0000000000 | Successive errors η : 0.0000012292 | λ : 0.8300125103 \n",
            "iter :  75 | Success criterion ϵ : 0.0000000000 | Successive errors η : 0.0000010201 | λ : 0.8298888257 \n",
            "iter :  76 | Success criterion ϵ : 0.0000000000 | Successive errors η : 0.0000008465 | λ : 0.8297698841 \n",
            "iter :  77 | Success criterion ϵ : 0.0000000000 | Successive errors η : 0.0000007023 | λ : 0.8296554693 \n",
            "iter :  78 | Success criterion ϵ : 0.0000000000 | Successive errors η : 0.0000005826 | λ : 0.8295453761 \n",
            "iter :  79 | Success criterion ϵ : 0.0000000000 | Successive errors η : 0.0000004832 | λ : 0.8294394127 \n",
            "iter :  80 | Success criterion ϵ : 0.0000000000 | Successive errors η : 0.0000004007 | λ : 0.8293373948 \n",
            "iter :  81 | Success criterion ϵ : 0.0000000000 | Successive errors η : 0.0000003323 | λ : 0.8292391521 \n",
            "iter :  82 | Success criterion ϵ : 0.0000000000 | Successive errors η : 0.0000002755 | λ : 0.8291445210 \n",
            "iter :  83 | Success criterion ϵ : 0.0000000000 | Successive errors η : 0.0000002284 | λ : 0.8290533474 \n",
            "iter :  84 | Success criterion ϵ : 0.0000000000 | Successive errors η : 0.0000001894 | λ : 0.8289654810 \n",
            "iter :  85 | Success criterion ϵ : 0.0000000000 | Successive errors η : 0.0000001570 | λ : 0.8288807911 \n",
            "iter :  86 | Success criterion ϵ : 0.0000000000 | Successive errors η : 0.0000001301 | λ : 0.8287991395 \n",
            "iter :  87 | Success criterion ϵ : 0.0000000000 | Successive errors η : 0.0000001078 | λ : 0.8287204010 \n",
            "iter :  88 | Success criterion ϵ : 0.0000000000 | Successive errors η : 0.0000000893 | λ : 0.8286444613 \n",
            "iter :  89 | Success criterion ϵ : 0.0000000000 | Successive errors η : 0.0000000740 | λ : 0.8285711999 \n",
            "iter :  90 | Success criterion ϵ : 0.0000000000 | Successive errors η : 0.0000000613 | λ : 0.8285005205 \n",
            "iter :  91 | Success criterion ϵ : 0.0000000000 | Successive errors η : 0.0000000508 | λ : 0.8284323032 \n",
            "iter :  92 | Success criterion ϵ : 0.0000000000 | Successive errors η : 0.0000000421 | λ : 0.8283664760 \n",
            "iter :  93 | Success criterion ϵ : 0.0000000000 | Successive errors η : 0.0000000349 | λ : 0.8283029186 \n",
            "iter :  94 | Success criterion ϵ : 0.0000000000 | Successive errors η : 0.0000000289 | λ : 0.8282415591 \n",
            "iter :  95 | Success criterion ϵ : 0.0000000000 | Successive errors η : 0.0000000239 | λ : 0.8281823042 \n",
            "iter :  96 | Success criterion ϵ : 0.0000000000 | Successive errors η : 0.0000000198 | λ : 0.8281250758 \n",
            "iter :  97 | Success criterion ϵ : 0.0000000000 | Successive errors η : 0.0000000164 | λ : 0.8280698196 \n",
            "iter :  98 | Success criterion ϵ : 0.0000000000 | Successive errors η : 0.0000000136 | λ : 0.8280164075 \n",
            "iter :  99 | Success criterion ϵ : 0.0000000000 | Successive errors η : 0.0000000112 | λ : 0.8279648236 \n",
            "iter : 100 | Success criterion ϵ : 0.0000000000 | Successive errors η : 0.0000000093 | λ : 0.8279149846 \n",
            "iter : 101 | Success criterion ϵ : 0.0000000000 | Successive errors η : 0.0000000077 | λ : 0.8278667731 \n",
            "iter : 102 | Success criterion ϵ : 0.0000000000 | Successive errors η : 0.0000000064 | λ : 0.8278202517 \n",
            "iter : 103 | Success criterion ϵ : 0.0000000000 | Successive errors η : 0.0000000053 | λ : 0.8277752115 \n",
            "iter : 104 | Success criterion ϵ : 0.0000000000 | Successive errors η : 0.0000000044 | λ : 0.8277317050 \n",
            "iter : 105 | Success criterion ϵ : 0.0000000000 | Successive errors η : 0.0000000036 | λ : 0.8276895831 \n",
            "iter : 106 | Success criterion ϵ : 0.0000000000 | Successive errors η : 0.0000000030 | λ : 0.8276489840 \n",
            "iter : 107 | Success criterion ϵ : 0.0000000000 | Successive errors η : 0.0000000025 | λ : 0.8276096088 \n",
            "iter : 108 | Success criterion ϵ : 0.0000000000 | Successive errors η : 0.0000000021 | λ : 0.8275716073 \n",
            "iter : 109 | Success criterion ϵ : 0.0000000000 | Successive errors η : 0.0000000017 | λ : 0.8275347149 \n",
            "iter : 110 | Success criterion ϵ : 0.0000000000 | Successive errors η : 0.0000000014 | λ : 0.8274990665 \n",
            "iter : 111 | Success criterion ϵ : 0.0000000000 | Successive errors η : 0.0000000012 | λ : 0.8274647280 \n",
            "iter : 112 | Success criterion ϵ : 0.0000000000 | Successive errors η : 0.0000000010 | λ : 0.8274315793 \n",
            "iter : 113 | Success criterion ϵ : 0.0000000000 | Successive errors η : 0.0000000008 | λ : 0.8273991068 \n",
            "iter : 114 | Success criterion ϵ : 0.0000000000 | Successive errors η : 0.0000000007 | λ : 0.8273679699 \n",
            "iter : 115 | Success criterion ϵ : 0.0000000000 | Successive errors η : 0.0000000005 | λ : 0.8273377369 \n",
            "iter : 116 | Success criterion ϵ : 0.0000000000 | Successive errors η : 0.0000000005 | λ : 0.8273085535 \n",
            "iter : 117 | Success criterion ϵ : 0.0000000000 | Successive errors η : 0.0000000004 | λ : 0.8272803612 \n",
            "iter : 118 | Success criterion ϵ : 0.0000000000 | Successive errors η : 0.0000000003 | λ : 0.8272533323 \n",
            "iter : 119 | Success criterion ϵ : 0.0000000000 | Successive errors η : 0.0000000003 | λ : 0.8272260609 \n",
            "iter : 120 | Success criterion ϵ : 0.0000000000 | Successive errors η : 0.0000000002 | λ : 0.8272003885 \n",
            "iter : 121 | Success criterion ϵ : 0.0000000000 | Successive errors η : 0.0000000002 | λ : 0.8271764486 \n",
            "iter : 122 | Success criterion ϵ : 0.0000000000 | Successive errors η : 0.0000000001 | λ : 0.8271515610 \n",
            "iter : 123 | Success criterion ϵ : 0.0000000000 | Successive errors η : 0.0000000001 | λ : 0.8271290731 \n",
            "iter : 124 | Success criterion ϵ : 0.0000000000 | Successive errors η : 0.0000000001 | λ : 0.8271066813 \n",
            "iter : 125 | Success criterion ϵ : 0.0000000000 | Successive errors η : 0.0000000001 | λ : 0.8270826721 \n",
            "iter : 126 | Success criterion ϵ : 0.0000000000 | Successive errors η : 0.0000000001 | λ : 0.8270628463 \n",
            "iter : 127 | Success criterion ϵ : 0.0000000000 | Successive errors η : 0.0000000001 | λ : 0.8270423885 \n",
            "iter : 128 | Success criterion ϵ : 0.0000000000 | Successive errors η : 0.0000000000 | λ : 0.8270271479 \n",
            "iter : 129 | Success criterion ϵ : 0.0000000000 | Successive errors η : 0.0000000000 | λ : 0.8269995089 \n",
            "iter : 130 | Success criterion ϵ : 0.0000000000 | Successive errors η : 0.0000000000 | λ : 0.8269881038 \n",
            "iter : 131 | Success criterion ϵ : 0.0000000000 | Successive errors η : 0.0000000000 | λ : 0.8269630861 \n",
            "iter : 132 | Success criterion ϵ : 0.0000000000 | Successive errors η : 0.0000000000 | λ : 0.8269540064 \n",
            "iter : 133 | Success criterion ϵ : 0.0000000000 | Successive errors η : 0.0000000000 | λ : 0.8269274001 \n",
            "iter : 134 | Success criterion ϵ : 0.0000000000 | Successive errors η : 0.0000000000 | λ : 0.8269193090 \n",
            "iter : 135 | Success criterion ϵ : 0.0000000000 | Successive errors η : 0.0000000000 | λ : 0.8269050630 \n",
            "iter : 136 | Success criterion ϵ : 0.0000000000 | Successive errors η : 0.0000000000 | λ : 0.8268828496 \n",
            "iter : 137 | Success criterion ϵ : 0.0000000000 | Successive errors η : 0.0000000000 | λ : 0.8268512852 \n",
            "iter : 138 | Success criterion ϵ : 0.0000000000 | Successive errors η : 0.0000000000 | λ : 0.8268728108 \n",
            "iter : 139 | Success criterion ϵ : 0.0000000000 | Successive errors η : 0.0000000000 | λ : 0.8268501147 \n",
            "iter : 140 | Success criterion ϵ : 0.0000000000 | Successive errors η : 0.0000000000 | λ : 0.8268175566 \n",
            "iter : 141 | Success criterion ϵ : 0.0000000000 | Successive errors η : 0.0000000000 | λ : 0.8268551964 \n",
            "iter : 142 | Success criterion ϵ : 0.0000000000 | Successive errors η : 0.0000000000 | λ : 0.8267208133 \n",
            "iter : 143 | Success criterion ϵ : 0.0000000000 | Successive errors η : 0.0000000000 | λ : 0.8268518459 \n",
            "iter : 144 | Success criterion ϵ : 0.0000000000 | Successive errors η : 0.0000000000 | λ : 0.8267440576 \n",
            "iter : 145 | Success criterion ϵ : 0.0000000000 | Successive errors η : 0.0000000000 | λ : 0.8268475118 \n",
            "iter : 146 | Success criterion ϵ : 0.0000000000 | Successive errors η : 0.0000000000 | λ : 0.8266901966 \n",
            "iter : 147 | Success criterion ϵ : 0.0000000000 | Successive errors η : 0.0000000000 | λ : 0.8266792418 \n",
            "iter : 148 | Success criterion ϵ : 0.0000000000 | Successive errors η : 0.0000000000 | λ : 0.8266346480 \n",
            "iter : 149 | Success criterion ϵ : 0.0000000000 | Successive errors η : 0.0000000000 | λ : 0.8268898681 \n",
            "iter : 150 | Success criterion ϵ : 0.0000000000 | Successive errors η : 0.0000000000 | λ : 0.8267337011 \n",
            "iter : 151 | Success criterion ϵ : 0.0000000000 | Successive errors η : 0.0000000000 | λ : 0.8266669293 \n",
            "iter : 152 | Success criterion ϵ : 0.0000000000 | Successive errors η : 0.0000000000 | λ : 0.8267175754 \n",
            "iter : 153 | Success criterion ϵ : 0.0000000000 | Successive errors η : 0.0000000000 | λ : 0.8269556383 \n",
            "iter : 154 | Success criterion ϵ : 0.0000000000 | Successive errors η : 0.0000000000 | λ : 0.8263021242 \n",
            "iter : 155 | Success criterion ϵ : 0.0000000000 | Successive errors η : 0.0000000000 | λ : 0.8264935996 \n",
            "iter : 156 | Success criterion ϵ : 0.0000000000 | Successive errors η : 0.0000000000 | λ : 0.8268629677 \n",
            "iter : 157 | Success criterion ϵ : 0.0000000000 | Successive errors η : 0.0000000000 | λ : 0.8270227736 \n",
            "iter : 158 | Success criterion ϵ : 0.0000000000 | Successive errors η : 0.0000000000 | λ : 0.8267383071 \n",
            "iter : 159 | Success criterion ϵ : 0.0000000000 | Successive errors η : 0.0000000000 | λ : 0.8270523988 \n",
            "iter : 160 | Success criterion ϵ : 0.0000000000 | Successive errors η : 0.0000000000 | λ : 0.8253751705 \n",
            "iter : 161 | Success criterion ϵ : 0.0000000000 | Successive errors η : 0.0000000000 | λ : 0.8256859504 \n",
            "iter : 162 | Success criterion ϵ : 0.0000000000 | Successive errors η : 0.0000000000 | λ : 0.8287624615 \n",
            "iter : 163 | Success criterion ϵ : 0.0000000000 | Successive errors η : 0.0000000000 | λ : 0.8283574879 \n",
            "iter : 164 | Success criterion ϵ : 0.0000000000 | Successive errors η : 0.0000000000 | λ : 0.8220096810 \n",
            "iter : 165 | Success criterion ϵ : 0.0000000000 | Successive errors η : 0.0000000000 | λ : 0.8283079106 \n",
            "iter : 166 | Success criterion ϵ : 0.0000000000 | Successive errors η : 0.0000000000 | λ : 0.8238972163 \n",
            "iter : 167 | Success criterion ϵ : 0.0000000000 | Successive errors η : 0.0000000000 | λ : 0.8275288492 \n",
            "iter : 168 | Success criterion ϵ : 0.0000000000 | Successive errors η : 0.0000000000 | λ : 0.8331658291 \n",
            "iter : 169 | Success criterion ϵ : 0.0000000000 | Successive errors η : 0.0000000000 | λ : 0.8152895054 \n",
            "iter : 170 | Success criterion ϵ : 0.0000000000 | Successive errors η : 0.0000000000 | λ : 0.8337340485 \n",
            "iter : 171 | Success criterion ϵ : 0.0000000000 | Successive errors η : 0.0000000000 | λ : 0.8316326531 \n",
            "iter : 172 | Success criterion ϵ : 0.0000000000 | Successive errors η : 0.0000000000 | λ : 0.8220858896 \n",
            "iter : 173 | Success criterion ϵ : 0.0000000000 | Successive errors η : 0.0000000000 | λ : 0.8283582090 \n",
            "iter : 174 | Success criterion ϵ : 0.0000000000 | Successive errors η : 0.0000000000 | λ : 0.8190364277 \n",
            "iter : 175 | Success criterion ϵ : 0.0000000000 | Successive errors η : 0.0000000000 | λ : 0.8244858919 \n",
            "iter : 176 | Success criterion ϵ : 0.0000000000 | Successive errors η : 0.0000000000 | λ : 0.8468677494 \n",
            "iter : 177 | Success criterion ϵ : 0.0000000000 | Successive errors η : 0.0000000000 | λ : 0.8191780822 \n",
            "iter : 178 | Success criterion ϵ : 0.0000000000 | Successive errors η : 0.0000000000 | λ : 0.8336120401 \n",
            "iter : 179 | Success criterion ϵ : 0.0000000000 | Successive errors η : 0.0000000000 | λ : 0.8294884654 \n",
            "iter : 180 | Success criterion ϵ : 0.0000000000 | Successive errors η : 0.0000000000 | λ : 0.8016928658 \n",
            "iter : 181 | Success criterion ϵ : 0.0000000000 | Successive errors η : 0.0000000000 | λ : 0.8521870287 \n",
            "iter : 182 | Success criterion ϵ : 0.0000000000 | Successive errors η : 0.0000000000 | λ : 0.8212389381 \n",
            "iter : 183 | Success criterion ϵ : 0.0000000000 | Successive errors η : 0.0000000000 | λ : 0.7844827586 \n",
            "iter : 184 | Success criterion ϵ : 0.0000000000 | Successive errors η : 0.0000000000 | λ : 0.9148351648 \n",
            "iter : 185 | Success criterion ϵ : 0.0000000000 | Successive errors η : 0.0000000000 | λ : 0.7927927928 \n",
            "iter : 186 | Success criterion ϵ : 0.0000000000 | Successive errors η : 0.0000000000 | λ : 0.8750000000 \n",
            "iter : 187 | Success criterion ϵ : 0.0000000000 | Successive errors η : 0.0000000000 | λ : 0.8484848485 \n",
            "iter : 188 | Success criterion ϵ : 0.0000000000 | Successive errors η : 0.0000000000 | λ : 0.6938775510 \n",
            "iter : 189 | Success criterion ϵ : 0.0000000000 | Successive errors η : 0.0000000000 | λ : 0.7352941176 \n",
            "iter : 190 | Success criterion ϵ : 0.0000000000 | Successive errors η : 0.0000000000 | λ : 0.6800000000 \n",
            "iter : 191 | Success criterion ϵ : 0.0000000000 | Successive errors η : 0.0000000000 | λ : 0.9411764706 \n",
            "iter : 192 | Success criterion ϵ : 0.0000000000 | Successive errors η : 0.0000000000 | λ : 0.5000000000 \n",
            "iter : 193 | Success criterion ϵ : 0.0000000000 | Successive errors η : 0.0000000000 | λ : 1.0000000000 \n",
            "iter : 194 | Success criterion ϵ : 0.0000000000 | Successive errors η : 0.0000000000 | λ : 1.0000000000 \n",
            "iter : 195 | Success criterion ϵ : 0.0000000000 | Successive errors η : 0.0000000000 | λ : 1.0000000000 \n",
            "iter : 196 | Success criterion ϵ : 0.0000000000 | Successive errors η : 0.0000000000 | λ : 1.0000000000 \n",
            "iter : 197 | Success criterion ϵ : 0.0000000000 | Successive errors η : 0.0000000000 | λ : 1.0000000000 \n",
            "iter : 198 | Success criterion ϵ : 0.0000000000 | Successive errors η : 0.0000000000 | λ : 0.0000000000 \n",
            "iter : 199 | Success criterion ϵ : 0.0000000000 | Successive errors η : 0.0000000000 | λ : NaN \n",
            "iter : 200 | Success criterion ϵ : 0.0000000000 | Successive errors η : 0.0000000000 | λ : NaN \n",
            "iter : 201 | Success criterion ϵ : 0.0000000000 | Successive errors η : 0.0000000000 | λ : NaN \n",
            "iter : 202 | Success criterion ϵ : 0.0000000000 | Successive errors η : 0.0000000000 | λ : NaN \n",
            "iter : 203 | Success criterion ϵ : 0.0000000000 | Successive errors η : 0.0000000000 | λ : NaN \n",
            "iter : 204 | Success criterion ϵ : 0.0000000000 | Successive errors η : 0.0000000000 | λ : NaN \n",
            "iter : 205 | Success criterion ϵ : 0.0000000000 | Successive errors η : 0.0000000000 | λ : NaN \n",
            "iter : 206 | Success criterion ϵ : 0.0000000000 | Successive errors η : 0.0000000000 | λ : NaN \n",
            "iter : 207 | Success criterion ϵ : 0.0000000000 | Successive errors η : 0.0000000000 | λ : NaN \n",
            "iter : 208 | Success criterion ϵ : 0.0000000000 | Successive errors η : 0.0000000000 | λ : NaN \n",
            "iter : 209 | Success criterion ϵ : 0.0000000000 | Successive errors η : 0.0000000000 | λ : NaN \n",
            "iter : 210 | Success criterion ϵ : 0.0000000000 | Successive errors η : 0.0000000000 | λ : NaN \n",
            "iter : 211 | Success criterion ϵ : 0.0000000000 | Successive errors η : 0.0000000000 | λ : NaN \n",
            "iter : 212 | Success criterion ϵ : 0.0000000000 | Successive errors η : 0.0000000000 | λ : NaN \n",
            "iter : 213 | Success criterion ϵ : 0.0000000000 | Successive errors η : 0.0000000000 | λ : NaN \n",
            "iter : 214 | Success criterion ϵ : 0.0000000000 | Successive errors η : 0.0000000000 | λ : NaN \n",
            "iter : 215 | Success criterion ϵ : 0.0000000000 | Successive errors η : 0.0000000000 | λ : NaN \n",
            "iter : 216 | Success criterion ϵ : 0.0000000000 | Successive errors η : 0.0000000000 | λ : NaN \n",
            "iter : 217 | Success criterion ϵ : 0.0000000000 | Successive errors η : 0.0000000000 | λ : NaN \n",
            "iter : 218 | Success criterion ϵ : 0.0000000000 | Successive errors η : 0.0000000000 | λ : NaN \n",
            "iter : 219 | Success criterion ϵ : 0.0000000000 | Successive errors η : 0.0000000000 | λ : NaN \n",
            "iter : 220 | Success criterion ϵ : 0.0000000000 | Successive errors η : 0.0000000000 | λ : NaN \n",
            "iter : 221 | Success criterion ϵ : 0.0000000000 | Successive errors η : 0.0000000000 | λ : NaN \n",
            "iter : 222 | Success criterion ϵ : 0.0000000000 | Successive errors η : 0.0000000000 | λ : NaN \n",
            "iter : 223 | Success criterion ϵ : 0.0000000000 | Successive errors η : 0.0000000000 | λ : NaN \n",
            "iter : 224 | Success criterion ϵ : 0.0000000000 | Successive errors η : 0.0000000000 | λ : NaN \n",
            "iter : 225 | Success criterion ϵ : 0.0000000000 | Successive errors η : 0.0000000000 | λ : NaN \n",
            "iter : 226 | Success criterion ϵ : 0.0000000000 | Successive errors η : 0.0000000000 | λ : NaN \n",
            "iter : 227 | Success criterion ϵ : 0.0000000000 | Successive errors η : 0.0000000000 | λ : NaN \n",
            "iter : 228 | Success criterion ϵ : 0.0000000000 | Successive errors η : 0.0000000000 | λ : NaN \n",
            "iter : 229 | Success criterion ϵ : 0.0000000000 | Successive errors η : 0.0000000000 | λ : NaN \n",
            "iter : 230 | Success criterion ϵ : 0.0000000000 | Successive errors η : 0.0000000000 | λ : NaN \n",
            "iter : 231 | Success criterion ϵ : 0.0000000000 | Successive errors η : 0.0000000000 | λ : NaN \n",
            "iter : 232 | Success criterion ϵ : 0.0000000000 | Successive errors η : 0.0000000000 | λ : NaN \n",
            "iter : 233 | Success criterion ϵ : 0.0000000000 | Successive errors η : 0.0000000000 | λ : NaN \n",
            "iter : 234 | Success criterion ϵ : 0.0000000000 | Successive errors η : 0.0000000000 | λ : NaN \n",
            "iter : 235 | Success criterion ϵ : 0.0000000000 | Successive errors η : 0.0000000000 | λ : NaN \n",
            "iter : 236 | Success criterion ϵ : 0.0000000000 | Successive errors η : 0.0000000000 | λ : NaN \n",
            "iter : 237 | Success criterion ϵ : 0.0000000000 | Successive errors η : 0.0000000000 | λ : NaN \n",
            "iter : 238 | Success criterion ϵ : 0.0000000000 | Successive errors η : 0.0000000000 | λ : NaN \n",
            "iter : 239 | Success criterion ϵ : 0.0000000000 | Successive errors η : 0.0000000000 | λ : NaN \n",
            "iter : 240 | Success criterion ϵ : 0.0000000000 | Successive errors η : 0.0000000000 | λ : NaN \n",
            "iter : 241 | Success criterion ϵ : 0.0000000000 | Successive errors η : 0.0000000000 | λ : NaN \n",
            "iter : 242 | Success criterion ϵ : 0.0000000000 | Successive errors η : 0.0000000000 | λ : NaN \n",
            "iter : 243 | Success criterion ϵ : 0.0000000000 | Successive errors η : 0.0000000000 | λ : NaN \n",
            "iter : 244 | Success criterion ϵ : 0.0000000000 | Successive errors η : 0.0000000000 | λ : NaN \n",
            "iter : 245 | Success criterion ϵ : 0.0000000000 | Successive errors η : 0.0000000000 | λ : NaN \n",
            "iter : 246 | Success criterion ϵ : 0.0000000000 | Successive errors η : 0.0000000000 | λ : NaN \n",
            "iter : 247 | Success criterion ϵ : 0.0000000000 | Successive errors η : 0.0000000000 | λ : NaN \n",
            "iter : 248 | Success criterion ϵ : 0.0000000000 | Successive errors η : 0.0000000000 | λ : NaN \n",
            "iter : 249 | Success criterion ϵ : 0.0000000000 | Successive errors η : 0.0000000000 | λ : NaN \n",
            "iter : 250 | Success criterion ϵ : 0.0000000000 | Successive errors η : 0.0000000000 | λ : NaN \n",
            "iter : 251 | Success criterion ϵ : 0.0000000000 | Successive errors η : 0.0000000000 | λ : NaN \n",
            "iter : 252 | Success criterion ϵ : 0.0000000000 | Successive errors η : 0.0000000000 | λ : NaN \n",
            "iter : 253 | Success criterion ϵ : 0.0000000000 | Successive errors η : 0.0000000000 | λ : NaN \n",
            "iter : 254 | Success criterion ϵ : 0.0000000000 | Successive errors η : 0.0000000000 | λ : NaN \n",
            "iter : 255 | Success criterion ϵ : 0.0000000000 | Successive errors η : 0.0000000000 | λ : NaN \n",
            "iter : 256 | Success criterion ϵ : 0.0000000000 | Successive errors η : 0.0000000000 | λ : NaN \n",
            "iter : 257 | Success criterion ϵ : 0.0000000000 | Successive errors η : 0.0000000000 | λ : NaN \n",
            "iter : 258 | Success criterion ϵ : 0.0000000000 | Successive errors η : 0.0000000000 | λ : NaN \n",
            "iter : 259 | Success criterion ϵ : 0.0000000000 | Successive errors η : 0.0000000000 | λ : NaN \n",
            "iter : 260 | Success criterion ϵ : 0.0000000000 | Successive errors η : 0.0000000000 | λ : NaN \n",
            "iter : 261 | Success criterion ϵ : 0.0000000000 | Successive errors η : 0.0000000000 | λ : NaN \n",
            "iter : 262 | Success criterion ϵ : 0.0000000000 | Successive errors η : 0.0000000000 | λ : NaN \n",
            "iter : 263 | Success criterion ϵ : 0.0000000000 | Successive errors η : 0.0000000000 | λ : NaN \n",
            "iter : 264 | Success criterion ϵ : 0.0000000000 | Successive errors η : 0.0000000000 | λ : NaN \n",
            "iter : 265 | Success criterion ϵ : 0.0000000000 | Successive errors η : 0.0000000000 | λ : NaN \n",
            "iter : 266 | Success criterion ϵ : 0.0000000000 | Successive errors η : 0.0000000000 | λ : NaN \n",
            "iter : 267 | Success criterion ϵ : 0.0000000000 | Successive errors η : 0.0000000000 | λ : NaN \n",
            "iter : 268 | Success criterion ϵ : 0.0000000000 | Successive errors η : 0.0000000000 | λ : NaN \n",
            "iter : 269 | Success criterion ϵ : 0.0000000000 | Successive errors η : 0.0000000000 | λ : NaN \n",
            "iter : 270 | Success criterion ϵ : 0.0000000000 | Successive errors η : 0.0000000000 | λ : NaN \n",
            "iter : 271 | Success criterion ϵ : 0.0000000000 | Successive errors η : 0.0000000000 | λ : NaN \n",
            "iter : 272 | Success criterion ϵ : 0.0000000000 | Successive errors η : 0.0000000000 | λ : NaN \n",
            "iter : 273 | Success criterion ϵ : 0.0000000000 | Successive errors η : 0.0000000000 | λ : NaN \n",
            "iter : 274 | Success criterion ϵ : 0.0000000000 | Successive errors η : 0.0000000000 | λ : NaN \n",
            "iter : 275 | Success criterion ϵ : 0.0000000000 | Successive errors η : 0.0000000000 | λ : NaN \n",
            "iter : 276 | Success criterion ϵ : 0.0000000000 | Successive errors η : 0.0000000000 | λ : NaN \n",
            "iter : 277 | Success criterion ϵ : 0.0000000000 | Successive errors η : 0.0000000000 | λ : NaN \n",
            "iter : 278 | Success criterion ϵ : 0.0000000000 | Successive errors η : 0.0000000000 | λ : NaN \n",
            "iter : 279 | Success criterion ϵ : 0.0000000000 | Successive errors η : 0.0000000000 | λ : NaN \n",
            "iter : 280 | Success criterion ϵ : 0.0000000000 | Successive errors η : 0.0000000000 | λ : NaN \n",
            "iter : 281 | Success criterion ϵ : 0.0000000000 | Successive errors η : 0.0000000000 | λ : NaN \n",
            "iter : 282 | Success criterion ϵ : 0.0000000000 | Successive errors η : 0.0000000000 | λ : NaN \n",
            "iter : 283 | Success criterion ϵ : 0.0000000000 | Successive errors η : 0.0000000000 | λ : NaN \n",
            "iter : 284 | Success criterion ϵ : 0.0000000000 | Successive errors η : 0.0000000000 | λ : NaN \n",
            "iter : 285 | Success criterion ϵ : 0.0000000000 | Successive errors η : 0.0000000000 | λ : NaN \n",
            "iter : 286 | Success criterion ϵ : 0.0000000000 | Successive errors η : 0.0000000000 | λ : NaN \n",
            "iter : 287 | Success criterion ϵ : 0.0000000000 | Successive errors η : 0.0000000000 | λ : NaN \n",
            "iter : 288 | Success criterion ϵ : 0.0000000000 | Successive errors η : 0.0000000000 | λ : NaN \n",
            "iter : 289 | Success criterion ϵ : 0.0000000000 | Successive errors η : 0.0000000000 | λ : NaN \n",
            "iter : 290 | Success criterion ϵ : 0.0000000000 | Successive errors η : 0.0000000000 | λ : NaN \n",
            "iter : 291 | Success criterion ϵ : 0.0000000000 | Successive errors η : 0.0000000000 | λ : NaN \n",
            "iter : 292 | Success criterion ϵ : 0.0000000000 | Successive errors η : 0.0000000000 | λ : NaN \n",
            "iter : 293 | Success criterion ϵ : 0.0000000000 | Successive errors η : 0.0000000000 | λ : NaN \n",
            "iter : 294 | Success criterion ϵ : 0.0000000000 | Successive errors η : 0.0000000000 | λ : NaN \n",
            "iter : 295 | Success criterion ϵ : 0.0000000000 | Successive errors η : 0.0000000000 | λ : NaN \n",
            "iter : 296 | Success criterion ϵ : 0.0000000000 | Successive errors η : 0.0000000000 | λ : NaN \n",
            "iter : 297 | Success criterion ϵ : 0.0000000000 | Successive errors η : 0.0000000000 | λ : NaN \n",
            "iter : 298 | Success criterion ϵ : 0.0000000000 | Successive errors η : 0.0000000000 | λ : NaN \n",
            "iter : 299 | Success criterion ϵ : 0.0000000000 | Successive errors η : 0.0000000000 | λ : NaN \n",
            "iter : 300 | Success criterion ϵ : 0.0000000000 | Successive errors η : 0.0000000000 | λ : NaN \n",
            "iter : 301 | Success criterion ϵ : 0.0000000000 | Successive errors η : 0.0000000000 | λ : NaN \n",
            "iter : 302 | Success criterion ϵ : 0.0000000000 | Successive errors η : 0.0000000000 | λ : NaN \n",
            "iter : 303 | Success criterion ϵ : 0.0000000000 | Successive errors η : 0.0000000000 | λ : NaN \n",
            "iter : 304 | Success criterion ϵ : 0.0000000000 | Successive errors η : 0.0000000000 | λ : NaN \n",
            "iter : 305 | Success criterion ϵ : 0.0000000000 | Successive errors η : 0.0000000000 | λ : NaN \n",
            "iter : 306 | Success criterion ϵ : 0.0000000000 | Successive errors η : 0.0000000000 | λ : NaN \n",
            "iter : 307 | Success criterion ϵ : 0.0000000000 | Successive errors η : 0.0000000000 | λ : NaN \n",
            "iter : 308 | Success criterion ϵ : 0.0000000000 | Successive errors η : 0.0000000000 | λ : NaN \n",
            "iter : 309 | Success criterion ϵ : 0.0000000000 | Successive errors η : 0.0000000000 | λ : NaN \n",
            "iter : 310 | Success criterion ϵ : 0.0000000000 | Successive errors η : 0.0000000000 | λ : NaN \n",
            "iter : 311 | Success criterion ϵ : 0.0000000000 | Successive errors η : 0.0000000000 | λ : NaN \n",
            "iter : 312 | Success criterion ϵ : 0.0000000000 | Successive errors η : 0.0000000000 | λ : NaN \n",
            "iter : 313 | Success criterion ϵ : 0.0000000000 | Successive errors η : 0.0000000000 | λ : NaN \n",
            "iter : 314 | Success criterion ϵ : 0.0000000000 | Successive errors η : 0.0000000000 | λ : NaN \n",
            "iter : 315 | Success criterion ϵ : 0.0000000000 | Successive errors η : 0.0000000000 | λ : NaN \n",
            "iter : 316 | Success criterion ϵ : 0.0000000000 | Successive errors η : 0.0000000000 | λ : NaN \n",
            "iter : 317 | Success criterion ϵ : 0.0000000000 | Successive errors η : 0.0000000000 | λ : NaN \n",
            "iter : 318 | Success criterion ϵ : 0.0000000000 | Successive errors η : 0.0000000000 | λ : NaN \n",
            "iter : 319 | Success criterion ϵ : 0.0000000000 | Successive errors η : 0.0000000000 | λ : NaN \n",
            "iter : 320 | Success criterion ϵ : 0.0000000000 | Successive errors η : 0.0000000000 | λ : NaN \n",
            "iter : 321 | Success criterion ϵ : 0.0000000000 | Successive errors η : 0.0000000000 | λ : NaN \n",
            "iter : 322 | Success criterion ϵ : 0.0000000000 | Successive errors η : 0.0000000000 | λ : NaN \n",
            "iter : 323 | Success criterion ϵ : 0.0000000000 | Successive errors η : 0.0000000000 | λ : NaN \n",
            "iter : 324 | Success criterion ϵ : 0.0000000000 | Successive errors η : 0.0000000000 | λ : NaN \n",
            "iter : 325 | Success criterion ϵ : 0.0000000000 | Successive errors η : 0.0000000000 | λ : NaN \n",
            "iter : 326 | Success criterion ϵ : 0.0000000000 | Successive errors η : 0.0000000000 | λ : NaN \n",
            "iter : 327 | Success criterion ϵ : 0.0000000000 | Successive errors η : 0.0000000000 | λ : NaN \n",
            "iter : 328 | Success criterion ϵ : 0.0000000000 | Successive errors η : 0.0000000000 | λ : NaN \n",
            "iter : 329 | Success criterion ϵ : 0.0000000000 | Successive errors η : 0.0000000000 | λ : NaN \n",
            "iter : 330 | Success criterion ϵ : 0.0000000000 | Successive errors η : 0.0000000000 | λ : NaN \n",
            "iter : 331 | Success criterion ϵ : 0.0000000000 | Successive errors η : 0.0000000000 | λ : NaN \n",
            "iter : 332 | Success criterion ϵ : 0.0000000000 | Successive errors η : 0.0000000000 | λ : NaN \n",
            "iter : 333 | Success criterion ϵ : 0.0000000000 | Successive errors η : 0.0000000000 | λ : NaN \n",
            "iter : 334 | Success criterion ϵ : 0.0000000000 | Successive errors η : 0.0000000000 | λ : NaN \n",
            "iter : 335 | Success criterion ϵ : 0.0000000000 | Successive errors η : 0.0000000000 | λ : NaN \n",
            "iter : 336 | Success criterion ϵ : 0.0000000000 | Successive errors η : 0.0000000000 | λ : NaN \n",
            "iter : 337 | Success criterion ϵ : 0.0000000000 | Successive errors η : 0.0000000000 | λ : NaN \n",
            "iter : 338 | Success criterion ϵ : 0.0000000000 | Successive errors η : 0.0000000000 | λ : NaN \n",
            "iter : 339 | Success criterion ϵ : 0.0000000000 | Successive errors η : 0.0000000000 | λ : NaN \n",
            "iter : 340 | Success criterion ϵ : 0.0000000000 | Successive errors η : 0.0000000000 | λ : NaN \n",
            "iter : 341 | Success criterion ϵ : 0.0000000000 | Successive errors η : 0.0000000000 | λ : NaN \n",
            "iter : 342 | Success criterion ϵ : 0.0000000000 | Successive errors η : 0.0000000000 | λ : NaN \n",
            "iter : 343 | Success criterion ϵ : 0.0000000000 | Successive errors η : 0.0000000000 | λ : NaN \n",
            "iter : 344 | Success criterion ϵ : 0.0000000000 | Successive errors η : 0.0000000000 | λ : NaN \n",
            "iter : 345 | Success criterion ϵ : 0.0000000000 | Successive errors η : 0.0000000000 | λ : NaN \n",
            "iter : 346 | Success criterion ϵ : 0.0000000000 | Successive errors η : 0.0000000000 | λ : NaN \n",
            "iter : 347 | Success criterion ϵ : 0.0000000000 | Successive errors η : 0.0000000000 | λ : NaN \n",
            "iter : 348 | Success criterion ϵ : 0.0000000000 | Successive errors η : 0.0000000000 | λ : NaN \n",
            "iter : 349 | Success criterion ϵ : 0.0000000000 | Successive errors η : 0.0000000000 | λ : NaN \n",
            "iter : 350 | Success criterion ϵ : 0.0000000000 | Successive errors η : 0.0000000000 | λ : NaN \n",
            "iter : 351 | Success criterion ϵ : 0.0000000000 | Successive errors η : 0.0000000000 | λ : NaN \n",
            "iter : 352 | Success criterion ϵ : 0.0000000000 | Successive errors η : 0.0000000000 | λ : NaN \n",
            "iter : 353 | Success criterion ϵ : 0.0000000000 | Successive errors η : 0.0000000000 | λ : NaN \n",
            "iter : 354 | Success criterion ϵ : 0.0000000000 | Successive errors η : 0.0000000000 | λ : NaN \n",
            "iter : 355 | Success criterion ϵ : 0.0000000000 | Successive errors η : 0.0000000000 | λ : NaN \n",
            "iter : 356 | Success criterion ϵ : 0.0000000000 | Successive errors η : 0.0000000000 | λ : NaN \n",
            "iter : 357 | Success criterion ϵ : 0.0000000000 | Successive errors η : 0.0000000000 | λ : NaN \n",
            "iter : 358 | Success criterion ϵ : 0.0000000000 | Successive errors η : 0.0000000000 | λ : NaN \n",
            "iter : 359 | Success criterion ϵ : 0.0000000000 | Successive errors η : 0.0000000000 | λ : NaN \n",
            "iter : 360 | Success criterion ϵ : 0.0000000000 | Successive errors η : 0.0000000000 | λ : NaN \n",
            "iter : 361 | Success criterion ϵ : 0.0000000000 | Successive errors η : 0.0000000000 | λ : NaN \n",
            "iter : 362 | Success criterion ϵ : 0.0000000000 | Successive errors η : 0.0000000000 | λ : NaN \n",
            "iter : 363 | Success criterion ϵ : 0.0000000000 | Successive errors η : 0.0000000000 | λ : NaN \n",
            "iter : 364 | Success criterion ϵ : 0.0000000000 | Successive errors η : 0.0000000000 | λ : NaN \n",
            "iter : 365 | Success criterion ϵ : 0.0000000000 | Successive errors η : 0.0000000000 | λ : NaN \n",
            "iter : 366 | Success criterion ϵ : 0.0000000000 | Successive errors η : 0.0000000000 | λ : NaN \n",
            "iter : 367 | Success criterion ϵ : 0.0000000000 | Successive errors η : 0.0000000000 | λ : NaN \n",
            "iter : 368 | Success criterion ϵ : 0.0000000000 | Successive errors η : 0.0000000000 | λ : NaN \n",
            "iter : 369 | Success criterion ϵ : 0.0000000000 | Successive errors η : 0.0000000000 | λ : NaN \n",
            "iter : 370 | Success criterion ϵ : 0.0000000000 | Successive errors η : 0.0000000000 | λ : NaN \n",
            "iter : 371 | Success criterion ϵ : 0.0000000000 | Successive errors η : 0.0000000000 | λ : NaN \n",
            "iter : 372 | Success criterion ϵ : 0.0000000000 | Successive errors η : 0.0000000000 | λ : NaN \n",
            "iter : 373 | Success criterion ϵ : 0.0000000000 | Successive errors η : 0.0000000000 | λ : NaN \n",
            "iter : 374 | Success criterion ϵ : 0.0000000000 | Successive errors η : 0.0000000000 | λ : NaN \n",
            "iter : 375 | Success criterion ϵ : 0.0000000000 | Successive errors η : 0.0000000000 | λ : NaN \n",
            "iter : 376 | Success criterion ϵ : 0.0000000000 | Successive errors η : 0.0000000000 | λ : NaN \n",
            "iter : 377 | Success criterion ϵ : 0.0000000000 | Successive errors η : 0.0000000000 | λ : NaN \n",
            "iter : 378 | Success criterion ϵ : 0.0000000000 | Successive errors η : 0.0000000000 | λ : NaN \n",
            "iter : 379 | Success criterion ϵ : 0.0000000000 | Successive errors η : 0.0000000000 | λ : NaN \n",
            "iter : 380 | Success criterion ϵ : 0.0000000000 | Successive errors η : 0.0000000000 | λ : NaN \n",
            "iter : 381 | Success criterion ϵ : 0.0000000000 | Successive errors η : 0.0000000000 | λ : NaN \n",
            "iter : 382 | Success criterion ϵ : 0.0000000000 | Successive errors η : 0.0000000000 | λ : NaN \n",
            "iter : 383 | Success criterion ϵ : 0.0000000000 | Successive errors η : 0.0000000000 | λ : NaN \n",
            "iter : 384 | Success criterion ϵ : 0.0000000000 | Successive errors η : 0.0000000000 | λ : NaN \n",
            "iter : 385 | Success criterion ϵ : 0.0000000000 | Successive errors η : 0.0000000000 | λ : NaN \n",
            "iter : 386 | Success criterion ϵ : 0.0000000000 | Successive errors η : 0.0000000000 | λ : NaN \n",
            "iter : 387 | Success criterion ϵ : 0.0000000000 | Successive errors η : 0.0000000000 | λ : NaN \n",
            "iter : 388 | Success criterion ϵ : 0.0000000000 | Successive errors η : 0.0000000000 | λ : NaN \n",
            "iter : 389 | Success criterion ϵ : 0.0000000000 | Successive errors η : 0.0000000000 | λ : NaN \n",
            "iter : 390 | Success criterion ϵ : 0.0000000000 | Successive errors η : 0.0000000000 | λ : NaN \n",
            "iter : 391 | Success criterion ϵ : 0.0000000000 | Successive errors η : 0.0000000000 | λ : NaN \n",
            "iter : 392 | Success criterion ϵ : 0.0000000000 | Successive errors η : 0.0000000000 | λ : NaN \n",
            "iter : 393 | Success criterion ϵ : 0.0000000000 | Successive errors η : 0.0000000000 | λ : NaN \n",
            "iter : 394 | Success criterion ϵ : 0.0000000000 | Successive errors η : 0.0000000000 | λ : NaN \n",
            "iter : 395 | Success criterion ϵ : 0.0000000000 | Successive errors η : 0.0000000000 | λ : NaN \n",
            "iter : 396 | Success criterion ϵ : 0.0000000000 | Successive errors η : 0.0000000000 | λ : NaN \n",
            "iter : 397 | Success criterion ϵ : 0.0000000000 | Successive errors η : 0.0000000000 | λ : NaN \n",
            "iter : 398 | Success criterion ϵ : 0.0000000000 | Successive errors η : 0.0000000000 | λ : NaN \n",
            "iter : 399 | Success criterion ϵ : 0.0000000000 | Successive errors η : 0.0000000000 | λ : NaN \n",
            "iter : 400 | Success criterion ϵ : 0.0000000000 | Successive errors η : 0.0000000000 | λ : NaN \n",
            "iter : 401 | Success criterion ϵ : 0.0000000000 | Successive errors η : 0.0000000000 | λ : NaN \n",
            "iter : 402 | Success criterion ϵ : 0.0000000000 | Successive errors η : 0.0000000000 | λ : NaN \n",
            "iter : 403 | Success criterion ϵ : 0.0000000000 | Successive errors η : 0.0000000000 | λ : NaN \n",
            "iter : 404 | Success criterion ϵ : 0.0000000000 | Successive errors η : 0.0000000000 | λ : NaN \n",
            "iter : 405 | Success criterion ϵ : 0.0000000000 | Successive errors η : 0.0000000000 | λ : NaN \n",
            "iter : 406 | Success criterion ϵ : 0.0000000000 | Successive errors η : 0.0000000000 | λ : NaN \n",
            "iter : 407 | Success criterion ϵ : 0.0000000000 | Successive errors η : 0.0000000000 | λ : NaN \n",
            "iter : 408 | Success criterion ϵ : 0.0000000000 | Successive errors η : 0.0000000000 | λ : NaN \n",
            "iter : 409 | Success criterion ϵ : 0.0000000000 | Successive errors η : 0.0000000000 | λ : NaN \n",
            "iter : 410 | Success criterion ϵ : 0.0000000000 | Successive errors η : 0.0000000000 | λ : NaN \n",
            "iter : 411 | Success criterion ϵ : 0.0000000000 | Successive errors η : 0.0000000000 | λ : NaN \n",
            "iter : 412 | Success criterion ϵ : 0.0000000000 | Successive errors η : 0.0000000000 | λ : NaN \n",
            "iter : 413 | Success criterion ϵ : 0.0000000000 | Successive errors η : 0.0000000000 | λ : NaN \n",
            "iter : 414 | Success criterion ϵ : 0.0000000000 | Successive errors η : 0.0000000000 | λ : NaN \n",
            "iter : 415 | Success criterion ϵ : 0.0000000000 | Successive errors η : 0.0000000000 | λ : NaN \n",
            "iter : 416 | Success criterion ϵ : 0.0000000000 | Successive errors η : 0.0000000000 | λ : NaN \n",
            "iter : 417 | Success criterion ϵ : 0.0000000000 | Successive errors η : 0.0000000000 | λ : NaN \n",
            "iter : 418 | Success criterion ϵ : 0.0000000000 | Successive errors η : 0.0000000000 | λ : NaN \n",
            "iter : 419 | Success criterion ϵ : 0.0000000000 | Successive errors η : 0.0000000000 | λ : NaN \n",
            "iter : 420 | Success criterion ϵ : 0.0000000000 | Successive errors η : 0.0000000000 | λ : NaN \n",
            "iter : 421 | Success criterion ϵ : 0.0000000000 | Successive errors η : 0.0000000000 | λ : NaN \n",
            "iter : 422 | Success criterion ϵ : 0.0000000000 | Successive errors η : 0.0000000000 | λ : NaN \n",
            "iter : 423 | Success criterion ϵ : 0.0000000000 | Successive errors η : 0.0000000000 | λ : NaN \n",
            "iter : 424 | Success criterion ϵ : 0.0000000000 | Successive errors η : 0.0000000000 | λ : NaN \n",
            "iter : 425 | Success criterion ϵ : 0.0000000000 | Successive errors η : 0.0000000000 | λ : NaN \n",
            "iter : 426 | Success criterion ϵ : 0.0000000000 | Successive errors η : 0.0000000000 | λ : NaN \n",
            "iter : 427 | Success criterion ϵ : 0.0000000000 | Successive errors η : 0.0000000000 | λ : NaN \n",
            "iter : 428 | Success criterion ϵ : 0.0000000000 | Successive errors η : 0.0000000000 | λ : NaN \n",
            "iter : 429 | Success criterion ϵ : 0.0000000000 | Successive errors η : 0.0000000000 | λ : NaN \n",
            "iter : 430 | Success criterion ϵ : 0.0000000000 | Successive errors η : 0.0000000000 | λ : NaN \n",
            "iter : 431 | Success criterion ϵ : 0.0000000000 | Successive errors η : 0.0000000000 | λ : NaN \n",
            "iter : 432 | Success criterion ϵ : 0.0000000000 | Successive errors η : 0.0000000000 | λ : NaN \n",
            "iter : 433 | Success criterion ϵ : 0.0000000000 | Successive errors η : 0.0000000000 | λ : NaN \n",
            "iter : 434 | Success criterion ϵ : 0.0000000000 | Successive errors η : 0.0000000000 | λ : NaN \n",
            "iter : 435 | Success criterion ϵ : 0.0000000000 | Successive errors η : 0.0000000000 | λ : NaN \n",
            "iter : 436 | Success criterion ϵ : 0.0000000000 | Successive errors η : 0.0000000000 | λ : NaN \n",
            "iter : 437 | Success criterion ϵ : 0.0000000000 | Successive errors η : 0.0000000000 | λ : NaN \n",
            "iter : 438 | Success criterion ϵ : 0.0000000000 | Successive errors η : 0.0000000000 | λ : NaN \n",
            "iter : 439 | Success criterion ϵ : 0.0000000000 | Successive errors η : 0.0000000000 | λ : NaN \n",
            "iter : 440 | Success criterion ϵ : 0.0000000000 | Successive errors η : 0.0000000000 | λ : NaN \n",
            "iter : 441 | Success criterion ϵ : 0.0000000000 | Successive errors η : 0.0000000000 | λ : NaN \n",
            "iter : 442 | Success criterion ϵ : 0.0000000000 | Successive errors η : 0.0000000000 | λ : NaN \n",
            "iter : 443 | Success criterion ϵ : 0.0000000000 | Successive errors η : 0.0000000000 | λ : NaN \n",
            "iter : 444 | Success criterion ϵ : 0.0000000000 | Successive errors η : 0.0000000000 | λ : NaN \n",
            "iter : 445 | Success criterion ϵ : 0.0000000000 | Successive errors η : 0.0000000000 | λ : NaN \n",
            "iter : 446 | Success criterion ϵ : 0.0000000000 | Successive errors η : 0.0000000000 | λ : NaN \n",
            "iter : 447 | Success criterion ϵ : 0.0000000000 | Successive errors η : 0.0000000000 | λ : NaN \n",
            "iter : 448 | Success criterion ϵ : 0.0000000000 | Successive errors η : 0.0000000000 | λ : NaN \n",
            "iter : 449 | Success criterion ϵ : 0.0000000000 | Successive errors η : 0.0000000000 | λ : NaN \n",
            "iter : 450 | Success criterion ϵ : 0.0000000000 | Successive errors η : 0.0000000000 | λ : NaN \n",
            "iter : 451 | Success criterion ϵ : 0.0000000000 | Successive errors η : 0.0000000000 | λ : NaN \n",
            "iter : 452 | Success criterion ϵ : 0.0000000000 | Successive errors η : 0.0000000000 | λ : NaN \n",
            "iter : 453 | Success criterion ϵ : 0.0000000000 | Successive errors η : 0.0000000000 | λ : NaN \n",
            "iter : 454 | Success criterion ϵ : 0.0000000000 | Successive errors η : 0.0000000000 | λ : NaN \n",
            "iter : 455 | Success criterion ϵ : 0.0000000000 | Successive errors η : 0.0000000000 | λ : NaN \n",
            "iter : 456 | Success criterion ϵ : 0.0000000000 | Successive errors η : 0.0000000000 | λ : NaN \n",
            "iter : 457 | Success criterion ϵ : 0.0000000000 | Successive errors η : 0.0000000000 | λ : NaN \n",
            "iter : 458 | Success criterion ϵ : 0.0000000000 | Successive errors η : 0.0000000000 | λ : NaN \n",
            "iter : 459 | Success criterion ϵ : 0.0000000000 | Successive errors η : 0.0000000000 | λ : NaN \n",
            "iter : 460 | Success criterion ϵ : 0.0000000000 | Successive errors η : 0.0000000000 | λ : NaN \n",
            "iter : 461 | Success criterion ϵ : 0.0000000000 | Successive errors η : 0.0000000000 | λ : NaN \n",
            "iter : 462 | Success criterion ϵ : 0.0000000000 | Successive errors η : 0.0000000000 | λ : NaN \n",
            "iter : 463 | Success criterion ϵ : 0.0000000000 | Successive errors η : 0.0000000000 | λ : NaN \n",
            "iter : 464 | Success criterion ϵ : 0.0000000000 | Successive errors η : 0.0000000000 | λ : NaN \n",
            "iter : 465 | Success criterion ϵ : 0.0000000000 | Successive errors η : 0.0000000000 | λ : NaN \n",
            "iter : 466 | Success criterion ϵ : 0.0000000000 | Successive errors η : 0.0000000000 | λ : NaN \n",
            "iter : 467 | Success criterion ϵ : 0.0000000000 | Successive errors η : 0.0000000000 | λ : NaN \n",
            "iter : 468 | Success criterion ϵ : 0.0000000000 | Successive errors η : 0.0000000000 | λ : NaN \n",
            "iter : 469 | Success criterion ϵ : 0.0000000000 | Successive errors η : 0.0000000000 | λ : NaN \n",
            "iter : 470 | Success criterion ϵ : 0.0000000000 | Successive errors η : 0.0000000000 | λ : NaN \n",
            "iter : 471 | Success criterion ϵ : 0.0000000000 | Successive errors η : 0.0000000000 | λ : NaN \n",
            "iter : 472 | Success criterion ϵ : 0.0000000000 | Successive errors η : 0.0000000000 | λ : NaN \n",
            "iter : 473 | Success criterion ϵ : 0.0000000000 | Successive errors η : 0.0000000000 | λ : NaN \n",
            "iter : 474 | Success criterion ϵ : 0.0000000000 | Successive errors η : 0.0000000000 | λ : NaN \n",
            "iter : 475 | Success criterion ϵ : 0.0000000000 | Successive errors η : 0.0000000000 | λ : NaN \n",
            "iter : 476 | Success criterion ϵ : 0.0000000000 | Successive errors η : 0.0000000000 | λ : NaN \n",
            "iter : 477 | Success criterion ϵ : 0.0000000000 | Successive errors η : 0.0000000000 | λ : NaN \n",
            "iter : 478 | Success criterion ϵ : 0.0000000000 | Successive errors η : 0.0000000000 | λ : NaN \n",
            "iter : 479 | Success criterion ϵ : 0.0000000000 | Successive errors η : 0.0000000000 | λ : NaN \n",
            "iter : 480 | Success criterion ϵ : 0.0000000000 | Successive errors η : 0.0000000000 | λ : NaN \n",
            "iter : 481 | Success criterion ϵ : 0.0000000000 | Successive errors η : 0.0000000000 | λ : NaN \n",
            "iter : 482 | Success criterion ϵ : 0.0000000000 | Successive errors η : 0.0000000000 | λ : NaN \n",
            "iter : 483 | Success criterion ϵ : 0.0000000000 | Successive errors η : 0.0000000000 | λ : NaN \n",
            "iter : 484 | Success criterion ϵ : 0.0000000000 | Successive errors η : 0.0000000000 | λ : NaN \n",
            "iter : 485 | Success criterion ϵ : 0.0000000000 | Successive errors η : 0.0000000000 | λ : NaN \n",
            "iter : 486 | Success criterion ϵ : 0.0000000000 | Successive errors η : 0.0000000000 | λ : NaN \n",
            "iter : 487 | Success criterion ϵ : 0.0000000000 | Successive errors η : 0.0000000000 | λ : NaN \n",
            "iter : 488 | Success criterion ϵ : 0.0000000000 | Successive errors η : 0.0000000000 | λ : NaN \n",
            "iter : 489 | Success criterion ϵ : 0.0000000000 | Successive errors η : 0.0000000000 | λ : NaN \n",
            "iter : 490 | Success criterion ϵ : 0.0000000000 | Successive errors η : 0.0000000000 | λ : NaN \n",
            "iter : 491 | Success criterion ϵ : 0.0000000000 | Successive errors η : 0.0000000000 | λ : NaN \n",
            "iter : 492 | Success criterion ϵ : 0.0000000000 | Successive errors η : 0.0000000000 | λ : NaN \n",
            "iter : 493 | Success criterion ϵ : 0.0000000000 | Successive errors η : 0.0000000000 | λ : NaN \n",
            "iter : 494 | Success criterion ϵ : 0.0000000000 | Successive errors η : 0.0000000000 | λ : NaN \n",
            "iter : 495 | Success criterion ϵ : 0.0000000000 | Successive errors η : 0.0000000000 | λ : NaN \n",
            "iter : 496 | Success criterion ϵ : 0.0000000000 | Successive errors η : 0.0000000000 | λ : NaN \n",
            "iter : 497 | Success criterion ϵ : 0.0000000000 | Successive errors η : 0.0000000000 | λ : NaN \n",
            "iter : 498 | Success criterion ϵ : 0.0000000000 | Successive errors η : 0.0000000000 | λ : NaN \n",
            "iter : 499 | Success criterion ϵ : 0.0000000000 | Successive errors η : 0.0000000000 | λ : NaN \n",
            "iter : 500 | Success criterion ϵ : 0.0000000000 | Successive errors η : 0.0000000000 | λ : NaN \n"
          ]
        },
        {
          "data": {
            "text/plain": [
              "(X = [0.7686740503533921 0.02780972841585027], X_L = Any[[0.6595498909935251 0.14792305055583865], [0.7628055735006084 0.13896276088693874], [0.8479166074478016 0.12975976593515554], [0.9153136136897353 0.1204756833142294], [0.9659514127029915 0.11127789511789662], [1.001255223340861 0.102327651358858], [1.0230182426798982 0.0937690797664433], [1.0332676641719438 0.08572063718731641], [1.0341206691339013 0.0782699616592392], [1.027650949473475 0.07147235472235032]  …  [0.7686740503533921 0.02780972841585027], [0.7686740503533921 0.02780972841585027], [0.7686740503533921 0.02780972841585027], [0.7686740503533921 0.02780972841585027], [0.7686740503533921 0.02780972841585027], [0.7686740503533921 0.02780972841585027], [0.7686740503533921 0.02780972841585027], [0.7686740503533921 0.02780972841585027], [0.7686740503533921 0.02780972841585027], [0.7686740503533921 0.02780972841585027]], success_L = Any[0.10151047954432643, 0.06528334417353629, 0.03804245517454159, 0.019392748463354533, 0.00813359068722278, 0.002567228158147518, 0.0008631613488632506, 0.0013705782081366333, 0.002811003521789813, 0.0043383469167482674  …  2.0029671421627253e-31, 2.0029671421627253e-31, 2.0029671421627253e-31, 2.0029671421627253e-31, 2.0029671421627253e-31, 2.0029671421627253e-31, 2.0029671421627253e-31, 2.0029671421627253e-31, 2.0029671421627253e-31, 2.0029671421627253e-31], cvspeed_L = Any[0.1122159721759832, 0.09431402889897642, 0.0766810888628598, 0.05983558720958894, 0.04425405439690809, 0.03032159093145194, 0.01829786407117255, 0.008303680490034715, 0.013267326597315304, 0.017989847136074724  …  0.0, 0.0, 0.0, 0.0, 0.0, 0.0, 0.0, 0.0, 0.0, 0.0])"
            ]
          },
          "metadata": {},
          "output_type": "display_data"
        }
      ],
      "source": [
        "#! ----------------------\n",
        "#! LINEAR TIME ITERATION\n",
        "#! ----------------------\n",
        "\n",
        "function linear_time_iteration(X_0::Matrix, M::PerturbedModel; deb=false, N=500, τ_ϵ = 10^(-16), τ_η=10^(-14) )\n",
        "    # τ_ϵ seuil erreur\n",
        "    # τ_η tolerance convergence speed\n",
        "    η_0 = 1.0\n",
        "    X_L = []\n",
        "    success_L = []\n",
        "    cvspeed_L = []\n",
        "\n",
        "    results = (;X_L,success_L,cvspeed_L)\n",
        "\n",
        "    local η, ϵ\n",
        "\n",
        "    for i in 1:N\n",
        "        push!(X_L,X_0)\n",
        "\n",
        "        X = T(X_0, M)               #! X_{n+1} = T(X_n)\n",
        "        η = sum(abs.(X - X_0))      #! convergence speed\n",
        "        ϵ = sum(residual(X,M).^2)   #! success\n",
        "        ratio = η/η_0               #! ratio of successive errors\n",
        "        push!(cvspeed_L, η)\n",
        "        push!(success_L, ϵ)\n",
        "\n",
        "        X_0 = X\n",
        "        η_0 = η\n",
        "        if deb\n",
        "            @printf \"iter : %3.0f | Success criterion ϵ : %10.10f | Successive errors η : %2.10f | λ : %.10f \\n\" i ϵ η ratio\n",
        "        end\n",
        "    end\n",
        "    \n",
        "    if (ϵ<τ_ϵ)&(η<τ_η)\n",
        "        return (;X=X_0,results...)\n",
        "    else\n",
        "        return \"No convergence\"    \n",
        "    end\n",
        "end\n",
        "\n",
        "# Find X with Linear Time Iteration Algo\n",
        "linear_time_iteration(rand(1,2), FO_model, deb=true)"
      ]
    },
    {
      "cell_type": "code",
      "execution_count": 15,
      "id": "90c6162f",
      "metadata": {},
      "outputs": [
        {
          "data": {
            "image/png": "[encoded data removed]",
            "image/svg+xml": [
              "<?xml version=\"1.0\" encoding=\"utf-8\"?>\n",
              "<svg xmlns=\"http://www.w3.org/2000/svg\" xmlns:xlink=\"http://www.w3.org/1999/xlink\" width=\"600\" height=\"400\" viewBox=\"0 0 2400 1600\">\n",
              "<defs>\n",
              "  <clipPath id=\"clip940\">\n",
              "    <rect x=\"0\" y=\"0\" width=\"2400\" height=\"1600\"/>\n",
              "  </clipPath>\n",
              "</defs>\n",
              "<path clip-path=\"url(#clip940)\" d=\"M0 1600 L2400 1600 L2400 8.88178e-14 L0 8.88178e-14  Z\" fill=\"#ffffff\" fill-rule=\"evenodd\" fill-opacity=\"1\"/>\n",
              "<defs>\n",
              "  <clipPath id=\"clip941\">\n",
              "    <rect x=\"480\" y=\"0\" width=\"1681\" height=\"1600\"/>\n",
              "  </clipPath>\n",
              "</defs>\n",
              "<path clip-path=\"url(#clip940)\" d=\"M224.098 1486.45 L2352.76 1486.45 L2352.76 47.2441 L224.098 47.2441  Z\" fill=\"#ffffff\" fill-rule=\"evenodd\" fill-opacity=\"1\"/>\n",
              "<defs>\n",
              "  <clipPath id=\"clip942\">\n",
              "    <rect x=\"224\" y=\"47\" width=\"2130\" height=\"1440\"/>\n",
              "  </clipPath>\n",
              "</defs>\n",
              "<polyline clip-path=\"url(#clip942)\" style=\"stroke:#000000; stroke-linecap:round; stroke-linejoin:round; stroke-width:2; stroke-opacity:0.1; fill:none\" points=\"243.36,1486.45 243.36,47.2441 \"/>\n",
              "<polyline clip-path=\"url(#clip942)\" style=\"stroke:#000000; stroke-linecap:round; stroke-linejoin:round; stroke-width:2; stroke-opacity:0.1; fill:none\" points=\"653.19,1486.45 653.19,47.2441 \"/>\n",
              "<polyline clip-path=\"url(#clip942)\" style=\"stroke:#000000; stroke-linecap:round; stroke-linejoin:round; stroke-width:2; stroke-opacity:0.1; fill:none\" points=\"1063.02,1486.45 1063.02,47.2441 \"/>\n",
              "<polyline clip-path=\"url(#clip942)\" style=\"stroke:#000000; stroke-linecap:round; stroke-linejoin:round; stroke-width:2; stroke-opacity:0.1; fill:none\" points=\"1472.85,1486.45 1472.85,47.2441 \"/>\n",
              "<polyline clip-path=\"url(#clip942)\" style=\"stroke:#000000; stroke-linecap:round; stroke-linejoin:round; stroke-width:2; stroke-opacity:0.1; fill:none\" points=\"1882.68,1486.45 1882.68,47.2441 \"/>\n",
              "<polyline clip-path=\"url(#clip942)\" style=\"stroke:#000000; stroke-linecap:round; stroke-linejoin:round; stroke-width:2; stroke-opacity:0.1; fill:none\" points=\"2292.51,1486.45 2292.51,47.2441 \"/>\n",
              "<polyline clip-path=\"url(#clip940)\" style=\"stroke:#000000; stroke-linecap:round; stroke-linejoin:round; stroke-width:4; stroke-opacity:1; fill:none\" points=\"224.098,1486.45 2352.76,1486.45 \"/>\n",
              "<polyline clip-path=\"url(#clip940)\" style=\"stroke:#000000; stroke-linecap:round; stroke-linejoin:round; stroke-width:4; stroke-opacity:1; fill:none\" points=\"243.36,1486.45 243.36,1467.55 \"/>\n",
              "<polyline clip-path=\"url(#clip940)\" style=\"stroke:#000000; stroke-linecap:round; stroke-linejoin:round; stroke-width:4; stroke-opacity:1; fill:none\" points=\"653.19,1486.45 653.19,1467.55 \"/>\n",
              "<polyline clip-path=\"url(#clip940)\" style=\"stroke:#000000; stroke-linecap:round; stroke-linejoin:round; stroke-width:4; stroke-opacity:1; fill:none\" points=\"1063.02,1486.45 1063.02,1467.55 \"/>\n",
              "<polyline clip-path=\"url(#clip940)\" style=\"stroke:#000000; stroke-linecap:round; stroke-linejoin:round; stroke-width:4; stroke-opacity:1; fill:none\" points=\"1472.85,1486.45 1472.85,1467.55 \"/>\n",
              "<polyline clip-path=\"url(#clip940)\" style=\"stroke:#000000; stroke-linecap:round; stroke-linejoin:round; stroke-width:4; stroke-opacity:1; fill:none\" points=\"1882.68,1486.45 1882.68,1467.55 \"/>\n",
              "<polyline clip-path=\"url(#clip940)\" style=\"stroke:#000000; stroke-linecap:round; stroke-linejoin:round; stroke-width:4; stroke-opacity:1; fill:none\" points=\"2292.51,1486.45 2292.51,1467.55 \"/>\n",
              "<path clip-path=\"url(#clip940)\" d=\"M243.36 1517.37 Q239.749 1517.37 237.92 1520.93 Q236.115 1524.47 236.115 1531.6 Q236.115 1538.71 237.92 1542.27 Q239.749 1545.82 243.36 1545.82 Q246.994 1545.82 248.8 1542.27 Q250.628 1538.71 250.628 1531.6 Q250.628 1524.47 248.8 1520.93 Q246.994 1517.37 243.36 1517.37 M243.36 1513.66 Q249.17 1513.66 252.226 1518.27 Q255.304 1522.85 255.304 1531.6 Q255.304 1540.33 252.226 1544.94 Q249.17 1549.52 243.36 1549.52 Q237.55 1549.52 234.471 1544.94 Q231.416 1540.33 231.416 1531.6 Q231.416 1522.85 234.471 1518.27 Q237.55 1513.66 243.36 1513.66 Z\" fill=\"#000000\" fill-rule=\"nonzero\" fill-opacity=\"1\" /><path clip-path=\"url(#clip940)\" d=\"M627.878 1544.91 L635.517 1544.91 L635.517 1518.55 L627.206 1520.21 L627.206 1515.95 L635.47 1514.29 L640.146 1514.29 L640.146 1544.91 L647.785 1544.91 L647.785 1548.85 L627.878 1548.85 L627.878 1544.91 Z\" fill=\"#000000\" fill-rule=\"nonzero\" fill-opacity=\"1\" /><path clip-path=\"url(#clip940)\" d=\"M667.229 1517.37 Q663.618 1517.37 661.79 1520.93 Q659.984 1524.47 659.984 1531.6 Q659.984 1538.71 661.79 1542.27 Q663.618 1545.82 667.229 1545.82 Q670.864 1545.82 672.669 1542.27 Q674.498 1538.71 674.498 1531.6 Q674.498 1524.47 672.669 1520.93 Q670.864 1517.37 667.229 1517.37 M667.229 1513.66 Q673.04 1513.66 676.095 1518.27 Q679.174 1522.85 679.174 1531.6 Q679.174 1540.33 676.095 1544.94 Q673.04 1549.52 667.229 1549.52 Q661.419 1549.52 658.341 1544.94 Q655.285 1540.33 655.285 1531.6 Q655.285 1522.85 658.341 1518.27 Q661.419 1513.66 667.229 1513.66 Z\" fill=\"#000000\" fill-rule=\"nonzero\" fill-opacity=\"1\" /><path clip-path=\"url(#clip940)\" d=\"M1041.79 1544.91 L1058.11 1544.91 L1058.11 1548.85 L1036.17 1548.85 L1036.17 1544.91 Q1038.83 1542.16 1043.41 1537.53 Q1048.02 1532.88 1049.2 1531.53 Q1051.45 1529.01 1052.33 1527.27 Q1053.23 1525.51 1053.23 1523.82 Q1053.23 1521.07 1051.28 1519.33 Q1049.36 1517.6 1046.26 1517.6 Q1044.06 1517.6 1041.61 1518.36 Q1039.18 1519.13 1036.4 1520.68 L1036.4 1515.95 Q1039.22 1514.82 1041.68 1514.24 Q1044.13 1513.66 1046.17 1513.66 Q1051.54 1513.66 1054.73 1516.35 Q1057.93 1519.03 1057.93 1523.52 Q1057.93 1525.65 1057.12 1527.57 Q1056.33 1529.47 1054.22 1532.07 Q1053.65 1532.74 1050.54 1535.95 Q1047.44 1539.15 1041.79 1544.91 Z\" fill=\"#000000\" fill-rule=\"nonzero\" fill-opacity=\"1\" /><path clip-path=\"url(#clip940)\" d=\"M1077.93 1517.37 Q1074.32 1517.37 1072.49 1520.93 Q1070.68 1524.47 1070.68 1531.6 Q1070.68 1538.71 1072.49 1542.27 Q1074.32 1545.82 1077.93 1545.82 Q1081.56 1545.82 1083.37 1542.27 Q1085.2 1538.71 1085.2 1531.6 Q1085.2 1524.47 1083.37 1520.93 Q1081.56 1517.37 1077.93 1517.37 M1077.93 1513.66 Q1083.74 1513.66 1086.79 1518.27 Q1089.87 1522.85 1089.87 1531.6 Q1089.87 1540.33 1086.79 1544.94 Q1083.74 1549.52 1077.93 1549.52 Q1072.12 1549.52 1069.04 1544.94 Q1065.98 1540.33 1065.98 1531.6 Q1065.98 1522.85 1069.04 1518.27 Q1072.12 1513.66 1077.93 1513.66 Z\" fill=\"#000000\" fill-rule=\"nonzero\" fill-opacity=\"1\" /><path clip-path=\"url(#clip940)\" d=\"M1461.69 1530.21 Q1465.05 1530.93 1466.92 1533.2 Q1468.82 1535.47 1468.82 1538.8 Q1468.82 1543.92 1465.3 1546.72 Q1461.79 1549.52 1455.3 1549.52 Q1453.13 1549.52 1450.81 1549.08 Q1448.52 1548.66 1446.07 1547.81 L1446.07 1543.29 Q1448.01 1544.43 1450.33 1545.01 Q1452.64 1545.58 1455.17 1545.58 Q1459.56 1545.58 1461.86 1543.85 Q1464.17 1542.11 1464.17 1538.8 Q1464.17 1535.75 1462.02 1534.03 Q1459.89 1532.3 1456.07 1532.3 L1452.04 1532.3 L1452.04 1528.45 L1456.25 1528.45 Q1459.7 1528.45 1461.53 1527.09 Q1463.36 1525.7 1463.36 1523.11 Q1463.36 1520.45 1461.46 1519.03 Q1459.59 1517.6 1456.07 1517.6 Q1454.15 1517.6 1451.95 1518.01 Q1449.75 1518.43 1447.11 1519.31 L1447.11 1515.14 Q1449.77 1514.4 1452.09 1514.03 Q1454.42 1513.66 1456.48 1513.66 Q1461.81 1513.66 1464.91 1516.09 Q1468.01 1518.5 1468.01 1522.62 Q1468.01 1525.49 1466.37 1527.48 Q1464.73 1529.45 1461.69 1530.21 Z\" fill=\"#000000\" fill-rule=\"nonzero\" fill-opacity=\"1\" /><path clip-path=\"url(#clip940)\" d=\"M1487.69 1517.37 Q1484.08 1517.37 1482.25 1520.93 Q1480.44 1524.47 1480.44 1531.6 Q1480.44 1538.71 1482.25 1542.27 Q1484.08 1545.82 1487.69 1545.82 Q1491.32 1545.82 1493.13 1542.27 Q1494.96 1538.71 1494.96 1531.6 Q1494.96 1524.47 1493.13 1520.93 Q1491.32 1517.37 1487.69 1517.37 M1487.69 1513.66 Q1493.5 1513.66 1496.55 1518.27 Q1499.63 1522.85 1499.63 1531.6 Q1499.63 1540.33 1496.55 1544.94 Q1493.5 1549.52 1487.69 1549.52 Q1481.88 1549.52 1478.8 1544.94 Q1475.74 1540.33 1475.74 1531.6 Q1475.74 1522.85 1478.8 1518.27 Q1481.88 1513.66 1487.69 1513.66 Z\" fill=\"#000000\" fill-rule=\"nonzero\" fill-opacity=\"1\" /><path clip-path=\"url(#clip940)\" d=\"M1870.85 1518.36 L1859.05 1536.81 L1870.85 1536.81 L1870.85 1518.36 M1869.63 1514.29 L1875.5 1514.29 L1875.5 1536.81 L1880.44 1536.81 L1880.44 1540.7 L1875.5 1540.7 L1875.5 1548.85 L1870.85 1548.85 L1870.85 1540.7 L1855.25 1540.7 L1855.25 1536.19 L1869.63 1514.29 Z\" fill=\"#000000\" fill-rule=\"nonzero\" fill-opacity=\"1\" /><path clip-path=\"url(#clip940)\" d=\"M1898.17 1517.37 Q1894.56 1517.37 1892.73 1520.93 Q1890.92 1524.47 1890.92 1531.6 Q1890.92 1538.71 1892.73 1542.27 Q1894.56 1545.82 1898.17 1545.82 Q1901.8 1545.82 1903.61 1542.27 Q1905.44 1538.71 1905.44 1531.6 Q1905.44 1524.47 1903.61 1520.93 Q1901.8 1517.37 1898.17 1517.37 M1898.17 1513.66 Q1903.98 1513.66 1907.03 1518.27 Q1910.11 1522.85 1910.11 1531.6 Q1910.11 1540.33 1907.03 1544.94 Q1903.98 1549.52 1898.17 1549.52 Q1892.36 1549.52 1889.28 1544.94 Q1886.22 1540.33 1886.22 1531.6 Q1886.22 1522.85 1889.28 1518.27 Q1892.36 1513.66 1898.17 1513.66 Z\" fill=\"#000000\" fill-rule=\"nonzero\" fill-opacity=\"1\" /><path clip-path=\"url(#clip940)\" d=\"M2267.21 1514.29 L2285.57 1514.29 L2285.57 1518.22 L2271.49 1518.22 L2271.49 1526.7 Q2272.51 1526.35 2273.53 1526.19 Q2274.55 1526 2275.57 1526 Q2281.35 1526 2284.73 1529.17 Q2288.11 1532.34 2288.11 1537.76 Q2288.11 1543.34 2284.64 1546.44 Q2281.17 1549.52 2274.85 1549.52 Q2272.67 1549.52 2270.4 1549.15 Q2268.16 1548.78 2265.75 1548.04 L2265.75 1543.34 Q2267.84 1544.47 2270.06 1545.03 Q2272.28 1545.58 2274.76 1545.58 Q2278.76 1545.58 2281.1 1543.48 Q2283.44 1541.37 2283.44 1537.76 Q2283.44 1534.15 2281.1 1532.04 Q2278.76 1529.94 2274.76 1529.94 Q2272.88 1529.94 2271.01 1530.35 Q2269.15 1530.77 2267.21 1531.65 L2267.21 1514.29 Z\" fill=\"#000000\" fill-rule=\"nonzero\" fill-opacity=\"1\" /><path clip-path=\"url(#clip940)\" d=\"M2307.33 1517.37 Q2303.71 1517.37 2301.89 1520.93 Q2300.08 1524.47 2300.08 1531.6 Q2300.08 1538.71 2301.89 1542.27 Q2303.71 1545.82 2307.33 1545.82 Q2310.96 1545.82 2312.77 1542.27 Q2314.59 1538.71 2314.59 1531.6 Q2314.59 1524.47 2312.77 1520.93 Q2310.96 1517.37 2307.33 1517.37 M2307.33 1513.66 Q2313.14 1513.66 2316.19 1518.27 Q2319.27 1522.85 2319.27 1531.6 Q2319.27 1540.33 2316.19 1544.94 Q2313.14 1549.52 2307.33 1549.52 Q2301.52 1549.52 2298.44 1544.94 Q2295.38 1540.33 2295.38 1531.6 Q2295.38 1522.85 2298.44 1518.27 Q2301.52 1513.66 2307.33 1513.66 Z\" fill=\"#000000\" fill-rule=\"nonzero\" fill-opacity=\"1\" /><polyline clip-path=\"url(#clip942)\" style=\"stroke:#000000; stroke-linecap:round; stroke-linejoin:round; stroke-width:2; stroke-opacity:0.1; fill:none\" points=\"224.098,1440.03 2352.76,1440.03 \"/>\n",
              "<polyline clip-path=\"url(#clip942)\" style=\"stroke:#000000; stroke-linecap:round; stroke-linejoin:round; stroke-width:2; stroke-opacity:0.1; fill:none\" points=\"224.098,1230.26 2352.76,1230.26 \"/>\n",
              "<polyline clip-path=\"url(#clip942)\" style=\"stroke:#000000; stroke-linecap:round; stroke-linejoin:round; stroke-width:2; stroke-opacity:0.1; fill:none\" points=\"224.098,1020.5 2352.76,1020.5 \"/>\n",
              "<polyline clip-path=\"url(#clip942)\" style=\"stroke:#000000; stroke-linecap:round; stroke-linejoin:round; stroke-width:2; stroke-opacity:0.1; fill:none\" points=\"224.098,810.73 2352.76,810.73 \"/>\n",
              "<polyline clip-path=\"url(#clip942)\" style=\"stroke:#000000; stroke-linecap:round; stroke-linejoin:round; stroke-width:2; stroke-opacity:0.1; fill:none\" points=\"224.098,600.963 2352.76,600.963 \"/>\n",
              "<polyline clip-path=\"url(#clip942)\" style=\"stroke:#000000; stroke-linecap:round; stroke-linejoin:round; stroke-width:2; stroke-opacity:0.1; fill:none\" points=\"224.098,391.197 2352.76,391.197 \"/>\n",
              "<polyline clip-path=\"url(#clip942)\" style=\"stroke:#000000; stroke-linecap:round; stroke-linejoin:round; stroke-width:2; stroke-opacity:0.1; fill:none\" points=\"224.098,181.43 2352.76,181.43 \"/>\n",
              "<polyline clip-path=\"url(#clip940)\" style=\"stroke:#000000; stroke-linecap:round; stroke-linejoin:round; stroke-width:4; stroke-opacity:1; fill:none\" points=\"224.098,1486.45 224.098,47.2441 \"/>\n",
              "<polyline clip-path=\"url(#clip940)\" style=\"stroke:#000000; stroke-linecap:round; stroke-linejoin:round; stroke-width:4; stroke-opacity:1; fill:none\" points=\"224.098,1440.03 242.996,1440.03 \"/>\n",
              "<polyline clip-path=\"url(#clip940)\" style=\"stroke:#000000; stroke-linecap:round; stroke-linejoin:round; stroke-width:4; stroke-opacity:1; fill:none\" points=\"224.098,1230.26 242.996,1230.26 \"/>\n",
              "<polyline clip-path=\"url(#clip940)\" style=\"stroke:#000000; stroke-linecap:round; stroke-linejoin:round; stroke-width:4; stroke-opacity:1; fill:none\" points=\"224.098,1020.5 242.996,1020.5 \"/>\n",
              "<polyline clip-path=\"url(#clip940)\" style=\"stroke:#000000; stroke-linecap:round; stroke-linejoin:round; stroke-width:4; stroke-opacity:1; fill:none\" points=\"224.098,810.73 242.996,810.73 \"/>\n",
              "<polyline clip-path=\"url(#clip940)\" style=\"stroke:#000000; stroke-linecap:round; stroke-linejoin:round; stroke-width:4; stroke-opacity:1; fill:none\" points=\"224.098,600.963 242.996,600.963 \"/>\n",
              "<polyline clip-path=\"url(#clip940)\" style=\"stroke:#000000; stroke-linecap:round; stroke-linejoin:round; stroke-width:4; stroke-opacity:1; fill:none\" points=\"224.098,391.197 242.996,391.197 \"/>\n",
              "<polyline clip-path=\"url(#clip940)\" style=\"stroke:#000000; stroke-linecap:round; stroke-linejoin:round; stroke-width:4; stroke-opacity:1; fill:none\" points=\"224.098,181.43 242.996,181.43 \"/>\n",
              "<path clip-path=\"url(#clip940)\" d=\"M51.9875 1440.48 L81.6633 1440.48 L81.6633 1444.42 L51.9875 1444.42 L51.9875 1440.48 Z\" fill=\"#000000\" fill-rule=\"nonzero\" fill-opacity=\"1\" /><path clip-path=\"url(#clip940)\" d=\"M92.566 1453.37 L100.205 1453.37 L100.205 1427.01 L91.8947 1428.68 L91.8947 1424.42 L100.159 1422.75 L104.834 1422.75 L104.834 1453.37 L112.473 1453.37 L112.473 1457.31 L92.566 1457.31 L92.566 1453.37 Z\" fill=\"#000000\" fill-rule=\"nonzero\" fill-opacity=\"1\" /><path clip-path=\"url(#clip940)\" d=\"M125.945 1453.37 L142.265 1453.37 L142.265 1457.31 L120.32 1457.31 L120.32 1453.37 Q122.982 1450.62 127.566 1445.99 Q132.172 1441.34 133.353 1439.99 Q135.598 1437.47 136.478 1435.74 Q137.381 1433.98 137.381 1432.29 Q137.381 1429.53 135.436 1427.8 Q133.515 1426.06 130.413 1426.06 Q128.214 1426.06 125.76 1426.82 Q123.33 1427.59 120.552 1429.14 L120.552 1424.42 Q123.376 1423.28 125.83 1422.7 Q128.283 1422.12 130.32 1422.12 Q135.691 1422.12 138.885 1424.81 Q142.08 1427.49 142.08 1431.99 Q142.08 1434.11 141.269 1436.04 Q140.482 1437.93 138.376 1440.53 Q137.797 1441.2 134.695 1444.42 Q131.594 1447.61 125.945 1453.37 Z\" fill=\"#000000\" fill-rule=\"nonzero\" fill-opacity=\"1\" /><path clip-path=\"url(#clip940)\" d=\"M152.08 1451.43 L156.964 1451.43 L156.964 1457.31 L152.08 1457.31 L152.08 1451.43 Z\" fill=\"#000000\" fill-rule=\"nonzero\" fill-opacity=\"1\" /><path clip-path=\"url(#clip940)\" d=\"M167.195 1422.75 L185.552 1422.75 L185.552 1426.68 L171.478 1426.68 L171.478 1435.16 Q172.496 1434.81 173.515 1434.65 Q174.533 1434.46 175.552 1434.46 Q181.339 1434.46 184.718 1437.63 Q188.098 1440.8 188.098 1446.22 Q188.098 1451.8 184.626 1454.9 Q181.153 1457.98 174.834 1457.98 Q172.658 1457.98 170.39 1457.61 Q168.144 1457.24 165.737 1456.5 L165.737 1451.8 Q167.82 1452.93 170.042 1453.49 Q172.265 1454.05 174.741 1454.05 Q178.746 1454.05 181.084 1451.94 Q183.422 1449.83 183.422 1446.22 Q183.422 1442.61 181.084 1440.5 Q178.746 1438.4 174.741 1438.4 Q172.866 1438.4 170.991 1438.81 Q169.14 1439.23 167.195 1440.11 L167.195 1422.75 Z\" fill=\"#000000\" fill-rule=\"nonzero\" fill-opacity=\"1\" /><path clip-path=\"url(#clip940)\" d=\"M50.9921 1230.71 L80.6679 1230.71 L80.6679 1234.65 L50.9921 1234.65 L50.9921 1230.71 Z\" fill=\"#000000\" fill-rule=\"nonzero\" fill-opacity=\"1\" /><path clip-path=\"url(#clip940)\" d=\"M91.5706 1243.61 L99.2095 1243.61 L99.2095 1217.24 L90.8993 1218.91 L90.8993 1214.65 L99.1632 1212.98 L103.839 1212.98 L103.839 1243.61 L111.478 1243.61 L111.478 1247.54 L91.5706 1247.54 L91.5706 1243.61 Z\" fill=\"#000000\" fill-rule=\"nonzero\" fill-opacity=\"1\" /><path clip-path=\"url(#clip940)\" d=\"M130.922 1216.06 Q127.311 1216.06 125.482 1219.63 Q123.677 1223.17 123.677 1230.3 Q123.677 1237.4 125.482 1240.97 Q127.311 1244.51 130.922 1244.51 Q134.556 1244.51 136.362 1240.97 Q138.191 1237.4 138.191 1230.3 Q138.191 1223.17 136.362 1219.63 Q134.556 1216.06 130.922 1216.06 M130.922 1212.36 Q136.732 1212.36 139.788 1216.96 Q142.867 1221.55 142.867 1230.3 Q142.867 1239.02 139.788 1243.63 Q136.732 1248.21 130.922 1248.21 Q125.112 1248.21 122.033 1243.63 Q118.978 1239.02 118.978 1230.3 Q118.978 1221.55 122.033 1216.96 Q125.112 1212.36 130.922 1212.36 Z\" fill=\"#000000\" fill-rule=\"nonzero\" fill-opacity=\"1\" /><path clip-path=\"url(#clip940)\" d=\"M151.084 1241.66 L155.968 1241.66 L155.968 1247.54 L151.084 1247.54 L151.084 1241.66 Z\" fill=\"#000000\" fill-rule=\"nonzero\" fill-opacity=\"1\" /><path clip-path=\"url(#clip940)\" d=\"M176.153 1216.06 Q172.542 1216.06 170.714 1219.63 Q168.908 1223.17 168.908 1230.3 Q168.908 1237.4 170.714 1240.97 Q172.542 1244.51 176.153 1244.51 Q179.788 1244.51 181.593 1240.97 Q183.422 1237.4 183.422 1230.3 Q183.422 1223.17 181.593 1219.63 Q179.788 1216.06 176.153 1216.06 M176.153 1212.36 Q181.964 1212.36 185.019 1216.96 Q188.098 1221.55 188.098 1230.3 Q188.098 1239.02 185.019 1243.63 Q181.964 1248.21 176.153 1248.21 Q170.343 1248.21 167.265 1243.63 Q164.209 1239.02 164.209 1230.3 Q164.209 1221.55 167.265 1216.96 Q170.343 1212.36 176.153 1212.36 Z\" fill=\"#000000\" fill-rule=\"nonzero\" fill-opacity=\"1\" /><path clip-path=\"url(#clip940)\" d=\"M82.1494 1020.95 L111.825 1020.95 L111.825 1024.88 L82.1494 1024.88 L82.1494 1020.95 Z\" fill=\"#000000\" fill-rule=\"nonzero\" fill-opacity=\"1\" /><path clip-path=\"url(#clip940)\" d=\"M120.737 1003.22 L142.959 1003.22 L142.959 1005.21 L130.413 1037.78 L125.529 1037.78 L137.334 1007.15 L120.737 1007.15 L120.737 1003.22 Z\" fill=\"#000000\" fill-rule=\"nonzero\" fill-opacity=\"1\" /><path clip-path=\"url(#clip940)\" d=\"M152.08 1031.9 L156.964 1031.9 L156.964 1037.78 L152.08 1037.78 L152.08 1031.9 Z\" fill=\"#000000\" fill-rule=\"nonzero\" fill-opacity=\"1\" /><path clip-path=\"url(#clip940)\" d=\"M167.195 1003.22 L185.552 1003.22 L185.552 1007.15 L171.478 1007.15 L171.478 1015.62 Q172.496 1015.28 173.515 1015.11 Q174.533 1014.93 175.552 1014.93 Q181.339 1014.93 184.718 1018.1 Q188.098 1021.27 188.098 1026.69 Q188.098 1032.27 184.626 1035.37 Q181.153 1038.45 174.834 1038.45 Q172.658 1038.45 170.39 1038.08 Q168.144 1037.71 165.737 1036.97 L165.737 1032.27 Q167.82 1033.4 170.042 1033.96 Q172.265 1034.51 174.741 1034.51 Q178.746 1034.51 181.084 1032.41 Q183.422 1030.3 183.422 1026.69 Q183.422 1023.08 181.084 1020.97 Q178.746 1018.86 174.741 1018.86 Q172.866 1018.86 170.991 1019.28 Q169.14 1019.7 167.195 1020.58 L167.195 1003.22 Z\" fill=\"#000000\" fill-rule=\"nonzero\" fill-opacity=\"1\" /><path clip-path=\"url(#clip940)\" d=\"M81.154 811.181 L110.83 811.181 L110.83 815.116 L81.154 815.116 L81.154 811.181 Z\" fill=\"#000000\" fill-rule=\"nonzero\" fill-opacity=\"1\" /><path clip-path=\"url(#clip940)\" d=\"M120.969 793.45 L139.325 793.45 L139.325 797.385 L125.251 797.385 L125.251 805.857 Q126.27 805.51 127.288 805.348 Q128.307 805.163 129.325 805.163 Q135.112 805.163 138.492 808.334 Q141.871 811.505 141.871 816.922 Q141.871 822.5 138.399 825.602 Q134.927 828.681 128.607 828.681 Q126.432 828.681 124.163 828.311 Q121.918 827.94 119.51 827.199 L119.51 822.5 Q121.594 823.635 123.816 824.19 Q126.038 824.746 128.515 824.746 Q132.519 824.746 134.857 822.639 Q137.195 820.533 137.195 816.922 Q137.195 813.311 134.857 811.204 Q132.519 809.098 128.515 809.098 Q126.64 809.098 124.765 809.514 Q122.913 809.931 120.969 810.811 L120.969 793.45 Z\" fill=\"#000000\" fill-rule=\"nonzero\" fill-opacity=\"1\" /><path clip-path=\"url(#clip940)\" d=\"M151.084 822.13 L155.968 822.13 L155.968 828.01 L151.084 828.01 L151.084 822.13 Z\" fill=\"#000000\" fill-rule=\"nonzero\" fill-opacity=\"1\" /><path clip-path=\"url(#clip940)\" d=\"M176.153 796.528 Q172.542 796.528 170.714 800.093 Q168.908 803.635 168.908 810.764 Q168.908 817.871 170.714 821.436 Q172.542 824.977 176.153 824.977 Q179.788 824.977 181.593 821.436 Q183.422 817.871 183.422 810.764 Q183.422 803.635 181.593 800.093 Q179.788 796.528 176.153 796.528 M176.153 792.825 Q181.964 792.825 185.019 797.431 Q188.098 802.014 188.098 810.764 Q188.098 819.491 185.019 824.098 Q181.964 828.681 176.153 828.681 Q170.343 828.681 167.265 824.098 Q164.209 819.491 164.209 810.764 Q164.209 802.014 167.265 797.431 Q170.343 792.825 176.153 792.825 Z\" fill=\"#000000\" fill-rule=\"nonzero\" fill-opacity=\"1\" /><path clip-path=\"url(#clip940)\" d=\"M82.1494 601.415 L111.825 601.415 L111.825 605.35 L82.1494 605.35 L82.1494 601.415 Z\" fill=\"#000000\" fill-rule=\"nonzero\" fill-opacity=\"1\" /><path clip-path=\"url(#clip940)\" d=\"M125.945 614.308 L142.265 614.308 L142.265 618.243 L120.32 618.243 L120.32 614.308 Q122.982 611.553 127.566 606.924 Q132.172 602.271 133.353 600.928 Q135.598 598.405 136.478 596.669 Q137.381 594.91 137.381 593.22 Q137.381 590.466 135.436 588.729 Q133.515 586.993 130.413 586.993 Q128.214 586.993 125.76 587.757 Q123.33 588.521 120.552 590.072 L120.552 585.35 Q123.376 584.216 125.83 583.637 Q128.283 583.058 130.32 583.058 Q135.691 583.058 138.885 585.743 Q142.08 588.428 142.08 592.919 Q142.08 595.049 141.269 596.97 Q140.482 598.868 138.376 601.461 Q137.797 602.132 134.695 605.35 Q131.594 608.544 125.945 614.308 Z\" fill=\"#000000\" fill-rule=\"nonzero\" fill-opacity=\"1\" /><path clip-path=\"url(#clip940)\" d=\"M152.08 612.364 L156.964 612.364 L156.964 618.243 L152.08 618.243 L152.08 612.364 Z\" fill=\"#000000\" fill-rule=\"nonzero\" fill-opacity=\"1\" /><path clip-path=\"url(#clip940)\" d=\"M167.195 583.683 L185.552 583.683 L185.552 587.618 L171.478 587.618 L171.478 596.09 Q172.496 595.743 173.515 595.581 Q174.533 595.396 175.552 595.396 Q181.339 595.396 184.718 598.567 Q188.098 601.739 188.098 607.155 Q188.098 612.734 184.626 615.836 Q181.153 618.914 174.834 618.914 Q172.658 618.914 170.39 618.544 Q168.144 618.174 165.737 617.433 L165.737 612.734 Q167.82 613.868 170.042 614.424 Q172.265 614.979 174.741 614.979 Q178.746 614.979 181.084 612.873 Q183.422 610.766 183.422 607.155 Q183.422 603.544 181.084 601.438 Q178.746 599.331 174.741 599.331 Q172.866 599.331 170.991 599.748 Q169.14 600.165 167.195 601.044 L167.195 583.683 Z\" fill=\"#000000\" fill-rule=\"nonzero\" fill-opacity=\"1\" /><path clip-path=\"url(#clip940)\" d=\"M130.922 376.995 Q127.311 376.995 125.482 380.56 Q123.677 384.102 123.677 391.231 Q123.677 398.338 125.482 401.903 Q127.311 405.444 130.922 405.444 Q134.556 405.444 136.362 401.903 Q138.191 398.338 138.191 391.231 Q138.191 384.102 136.362 380.56 Q134.556 376.995 130.922 376.995 M130.922 373.292 Q136.732 373.292 139.788 377.898 Q142.867 382.481 142.867 391.231 Q142.867 399.958 139.788 404.565 Q136.732 409.148 130.922 409.148 Q125.112 409.148 122.033 404.565 Q118.978 399.958 118.978 391.231 Q118.978 382.481 122.033 377.898 Q125.112 373.292 130.922 373.292 Z\" fill=\"#000000\" fill-rule=\"nonzero\" fill-opacity=\"1\" /><path clip-path=\"url(#clip940)\" d=\"M151.084 402.597 L155.968 402.597 L155.968 408.477 L151.084 408.477 L151.084 402.597 Z\" fill=\"#000000\" fill-rule=\"nonzero\" fill-opacity=\"1\" /><path clip-path=\"url(#clip940)\" d=\"M176.153 376.995 Q172.542 376.995 170.714 380.56 Q168.908 384.102 168.908 391.231 Q168.908 398.338 170.714 401.903 Q172.542 405.444 176.153 405.444 Q179.788 405.444 181.593 401.903 Q183.422 398.338 183.422 391.231 Q183.422 384.102 181.593 380.56 Q179.788 376.995 176.153 376.995 M176.153 373.292 Q181.964 373.292 185.019 377.898 Q188.098 382.481 188.098 391.231 Q188.098 399.958 185.019 404.565 Q181.964 409.148 176.153 409.148 Q170.343 409.148 167.265 404.565 Q164.209 399.958 164.209 391.231 Q164.209 382.481 167.265 377.898 Q170.343 373.292 176.153 373.292 Z\" fill=\"#000000\" fill-rule=\"nonzero\" fill-opacity=\"1\" /><path clip-path=\"url(#clip940)\" d=\"M125.945 194.775 L142.265 194.775 L142.265 198.71 L120.32 198.71 L120.32 194.775 Q122.982 192.02 127.566 187.391 Q132.172 182.738 133.353 181.395 Q135.598 178.872 136.478 177.136 Q137.381 175.377 137.381 173.687 Q137.381 170.932 135.436 169.196 Q133.515 167.46 130.413 167.46 Q128.214 167.46 125.76 168.224 Q123.33 168.988 120.552 170.539 L120.552 165.817 Q123.376 164.683 125.83 164.104 Q128.283 163.525 130.32 163.525 Q135.691 163.525 138.885 166.21 Q142.08 168.895 142.08 173.386 Q142.08 175.516 141.269 177.437 Q140.482 179.335 138.376 181.928 Q137.797 182.599 134.695 185.817 Q131.594 189.011 125.945 194.775 Z\" fill=\"#000000\" fill-rule=\"nonzero\" fill-opacity=\"1\" /><path clip-path=\"url(#clip940)\" d=\"M152.08 192.831 L156.964 192.831 L156.964 198.71 L152.08 198.71 L152.08 192.831 Z\" fill=\"#000000\" fill-rule=\"nonzero\" fill-opacity=\"1\" /><path clip-path=\"url(#clip940)\" d=\"M167.195 164.15 L185.552 164.15 L185.552 168.085 L171.478 168.085 L171.478 176.557 Q172.496 176.21 173.515 176.048 Q174.533 175.863 175.552 175.863 Q181.339 175.863 184.718 179.034 Q188.098 182.206 188.098 187.622 Q188.098 193.201 184.626 196.303 Q181.153 199.381 174.834 199.381 Q172.658 199.381 170.39 199.011 Q168.144 198.641 165.737 197.9 L165.737 193.201 Q167.82 194.335 170.042 194.891 Q172.265 195.446 174.741 195.446 Q178.746 195.446 181.084 193.34 Q183.422 191.233 183.422 187.622 Q183.422 184.011 181.084 181.905 Q178.746 179.798 174.741 179.798 Q172.866 179.798 170.991 180.215 Q169.14 180.632 167.195 181.511 L167.195 164.15 Z\" fill=\"#000000\" fill-rule=\"nonzero\" fill-opacity=\"1\" /><polyline clip-path=\"url(#clip942)\" style=\"stroke:#009af9; stroke-linecap:round; stroke-linejoin:round; stroke-width:4; stroke-opacity:1; fill:none\" points=\"284.343,309.542 325.326,256.077 366.309,87.9763 407.292,1445.72 448.275,550.311 489.258,459.977 530.241,423.006 571.224,401.735 612.207,387.387 653.19,376.816 694.173,368.604 735.156,362.006 776.139,356.589 817.122,352.077 858.105,348.283 899.088,345.072 940.071,342.343 981.054,340.018 1022.04,338.034 1063.02,336.34 1104,334.893 1144.99,333.658 1185.97,332.603 1226.95,331.704 1267.94,330.938 1308.92,330.286 1349.9,329.731 1390.88,329.26 1431.87,328.86 1472.85,328.521 1513.83,328.234 1554.82,327.991 1595.8,327.786 1636.78,327.613 1677.77,327.467 1718.75,327.344 1759.73,327.24 1800.71,327.152 1841.7,327.079 1882.68,327.017 1923.66,326.966 1964.65,326.922 2005.63,326.886 2046.61,326.855 2087.6,326.83 2128.58,326.808 2169.56,326.79 2210.54,326.775 2251.53,326.763 2292.51,326.752 \"/>\n",
              "<polyline clip-path=\"url(#clip942)\" style=\"stroke:#e26f46; stroke-linecap:round; stroke-linejoin:round; stroke-width:4; stroke-opacity:1; fill:none\" points=\"284.343,318.552 325.326,159.76 366.309,521.076 407.292,434.322 448.275,414.203 489.258,405.365 530.241,400.467 571.224,397.401 612.207,395.333 653.19,393.866 694.173,392.789 735.156,391.978 776.139,391.355 817.122,390.869 858.105,390.486 899.088,390.182 940.071,389.938 981.054,389.741 1022.04,389.582 1063.02,389.453 1104,389.347 1144.99,389.261 1185.97,389.191 1226.95,389.133 1267.94,389.086 1308.92,389.047 1349.9,389.014 1390.88,388.988 1431.87,388.966 1472.85,388.948 1513.83,388.933 1554.82,388.921 1595.8,388.911 1636.78,388.903 1677.77,388.896 1718.75,388.89 1759.73,388.886 1800.71,388.882 1841.7,388.878 1882.68,388.876 1923.66,388.874 1964.65,388.872 2005.63,388.87 2046.61,388.869 2087.6,388.868 2128.58,388.867 2169.56,388.867 2210.54,388.866 2251.53,388.865 2292.51,388.865 \"/>\n",
              "<path clip-path=\"url(#clip940)\" d=\"M2016.5 1438.47 L2281.8 1438.47 L2281.8 1282.95 L2016.5 1282.95  Z\" fill=\"#ffffff\" fill-rule=\"evenodd\" fill-opacity=\"1\"/>\n",
              "<polyline clip-path=\"url(#clip940)\" style=\"stroke:#000000; stroke-linecap:round; stroke-linejoin:round; stroke-width:4; stroke-opacity:1; fill:none\" points=\"2016.5,1438.47 2281.8,1438.47 2281.8,1282.95 2016.5,1282.95 2016.5,1438.47 \"/>\n",
              "<polyline clip-path=\"url(#clip940)\" style=\"stroke:#009af9; stroke-linecap:round; stroke-linejoin:round; stroke-width:4; stroke-opacity:1; fill:none\" points=\"2040.16,1334.79 2182.07,1334.79 \"/>\n",
              "<path clip-path=\"url(#clip940)\" d=\"M2219.56 1354.48 Q2217.76 1359.11 2216.04 1360.52 Q2214.33 1361.94 2211.46 1361.94 L2208.06 1361.94 L2208.06 1358.37 L2210.56 1358.37 Q2212.32 1358.37 2213.29 1357.54 Q2214.26 1356.7 2215.44 1353.6 L2216.2 1351.66 L2205.72 1326.15 L2210.23 1326.15 L2218.33 1346.43 L2226.44 1326.15 L2230.95 1326.15 L2219.56 1354.48 Z\" fill=\"#000000\" fill-rule=\"nonzero\" fill-opacity=\"1\" /><path clip-path=\"url(#clip940)\" d=\"M2238.24 1348.14 L2245.88 1348.14 L2245.88 1321.77 L2237.57 1323.44 L2237.57 1319.18 L2245.83 1317.51 L2250.51 1317.51 L2250.51 1348.14 L2258.15 1348.14 L2258.15 1352.07 L2238.24 1352.07 L2238.24 1348.14 Z\" fill=\"#000000\" fill-rule=\"nonzero\" fill-opacity=\"1\" /><polyline clip-path=\"url(#clip940)\" style=\"stroke:#e26f46; stroke-linecap:round; stroke-linejoin:round; stroke-width:4; stroke-opacity:1; fill:none\" points=\"2040.16,1386.63 2182.07,1386.63 \"/>\n",
              "<path clip-path=\"url(#clip940)\" d=\"M2219.56 1406.32 Q2217.76 1410.95 2216.04 1412.36 Q2214.33 1413.78 2211.46 1413.78 L2208.06 1413.78 L2208.06 1410.21 L2210.56 1410.21 Q2212.32 1410.21 2213.29 1409.38 Q2214.26 1408.54 2215.44 1405.44 L2216.2 1403.5 L2205.72 1377.99 L2210.23 1377.99 L2218.33 1398.27 L2226.44 1377.99 L2230.95 1377.99 L2219.56 1406.32 Z\" fill=\"#000000\" fill-rule=\"nonzero\" fill-opacity=\"1\" /><path clip-path=\"url(#clip940)\" d=\"M2241.46 1399.98 L2257.78 1399.98 L2257.78 1403.91 L2235.83 1403.91 L2235.83 1399.98 Q2238.5 1397.22 2243.08 1392.6 Q2247.69 1387.94 2248.87 1386.6 Q2251.11 1384.08 2251.99 1382.34 Q2252.89 1380.58 2252.89 1378.89 Q2252.89 1376.14 2250.95 1374.4 Q2249.03 1372.66 2245.93 1372.66 Q2243.73 1372.66 2241.27 1373.43 Q2238.84 1374.19 2236.07 1375.74 L2236.07 1371.02 Q2238.89 1369.89 2241.34 1369.31 Q2243.8 1368.73 2245.83 1368.73 Q2251.2 1368.73 2254.4 1371.41 Q2257.59 1374.1 2257.59 1378.59 Q2257.59 1380.72 2256.78 1382.64 Q2256 1384.54 2253.89 1387.13 Q2253.31 1387.8 2250.21 1391.02 Q2247.11 1394.22 2241.46 1399.98 Z\" fill=\"#000000\" fill-rule=\"nonzero\" fill-opacity=\"1\" /></svg>\n"
            ],
            "text/html": [
              "<?xml version=\"1.0\" encoding=\"utf-8\"?>\n",
              "<svg xmlns=\"http://www.w3.org/2000/svg\" xmlns:xlink=\"http://www.w3.org/1999/xlink\" width=\"600\" height=\"400\" viewBox=\"0 0 2400 1600\">\n",
              "<defs>\n",
              "  <clipPath id=\"clip990\">\n",
              "    <rect x=\"0\" y=\"0\" width=\"2400\" height=\"1600\"/>\n",
              "  </clipPath>\n",
              "</defs>\n",
              "<path clip-path=\"url(#clip990)\" d=\"M0 1600 L2400 1600 L2400 8.88178e-14 L0 8.88178e-14  Z\" fill=\"#ffffff\" fill-rule=\"evenodd\" fill-opacity=\"1\"/>\n",
              "<defs>\n",
              "  <clipPath id=\"clip991\">\n",
              "    <rect x=\"480\" y=\"0\" width=\"1681\" height=\"1600\"/>\n",
              "  </clipPath>\n",
              "</defs>\n",
              "<path clip-path=\"url(#clip990)\" d=\"M224.098 1486.45 L2352.76 1486.45 L2352.76 47.2441 L224.098 47.2441  Z\" fill=\"#ffffff\" fill-rule=\"evenodd\" fill-opacity=\"1\"/>\n",
              "<defs>\n",
              "  <clipPath id=\"clip992\">\n",
              "    <rect x=\"224\" y=\"47\" width=\"2130\" height=\"1440\"/>\n",
              "  </clipPath>\n",
              "</defs>\n",
              "<polyline clip-path=\"url(#clip992)\" style=\"stroke:#000000; stroke-linecap:round; stroke-linejoin:round; stroke-width:2; stroke-opacity:0.1; fill:none\" points=\"243.36,1486.45 243.36,47.2441 \"/>\n",
              "<polyline clip-path=\"url(#clip992)\" style=\"stroke:#000000; stroke-linecap:round; stroke-linejoin:round; stroke-width:2; stroke-opacity:0.1; fill:none\" points=\"653.19,1486.45 653.19,47.2441 \"/>\n",
              "<polyline clip-path=\"url(#clip992)\" style=\"stroke:#000000; stroke-linecap:round; stroke-linejoin:round; stroke-width:2; stroke-opacity:0.1; fill:none\" points=\"1063.02,1486.45 1063.02,47.2441 \"/>\n",
              "<polyline clip-path=\"url(#clip992)\" style=\"stroke:#000000; stroke-linecap:round; stroke-linejoin:round; stroke-width:2; stroke-opacity:0.1; fill:none\" points=\"1472.85,1486.45 1472.85,47.2441 \"/>\n",
              "<polyline clip-path=\"url(#clip992)\" style=\"stroke:#000000; stroke-linecap:round; stroke-linejoin:round; stroke-width:2; stroke-opacity:0.1; fill:none\" points=\"1882.68,1486.45 1882.68,47.2441 \"/>\n",
              "<polyline clip-path=\"url(#clip992)\" style=\"stroke:#000000; stroke-linecap:round; stroke-linejoin:round; stroke-width:2; stroke-opacity:0.1; fill:none\" points=\"2292.51,1486.45 2292.51,47.2441 \"/>\n",
              "<polyline clip-path=\"url(#clip990)\" style=\"stroke:#000000; stroke-linecap:round; stroke-linejoin:round; stroke-width:4; stroke-opacity:1; fill:none\" points=\"224.098,1486.45 2352.76,1486.45 \"/>\n",
              "<polyline clip-path=\"url(#clip990)\" style=\"stroke:#000000; stroke-linecap:round; stroke-linejoin:round; stroke-width:4; stroke-opacity:1; fill:none\" points=\"243.36,1486.45 243.36,1467.55 \"/>\n",
              "<polyline clip-path=\"url(#clip990)\" style=\"stroke:#000000; stroke-linecap:round; stroke-linejoin:round; stroke-width:4; stroke-opacity:1; fill:none\" points=\"653.19,1486.45 653.19,1467.55 \"/>\n",
              "<polyline clip-path=\"url(#clip990)\" style=\"stroke:#000000; stroke-linecap:round; stroke-linejoin:round; stroke-width:4; stroke-opacity:1; fill:none\" points=\"1063.02,1486.45 1063.02,1467.55 \"/>\n",
              "<polyline clip-path=\"url(#clip990)\" style=\"stroke:#000000; stroke-linecap:round; stroke-linejoin:round; stroke-width:4; stroke-opacity:1; fill:none\" points=\"1472.85,1486.45 1472.85,1467.55 \"/>\n",
              "<polyline clip-path=\"url(#clip990)\" style=\"stroke:#000000; stroke-linecap:round; stroke-linejoin:round; stroke-width:4; stroke-opacity:1; fill:none\" points=\"1882.68,1486.45 1882.68,1467.55 \"/>\n",
              "<polyline clip-path=\"url(#clip990)\" style=\"stroke:#000000; stroke-linecap:round; stroke-linejoin:round; stroke-width:4; stroke-opacity:1; fill:none\" points=\"2292.51,1486.45 2292.51,1467.55 \"/>\n",
              "<path clip-path=\"url(#clip990)\" d=\"M243.36 1517.37 Q239.749 1517.37 237.92 1520.93 Q236.115 1524.47 236.115 1531.6 Q236.115 1538.71 237.92 1542.27 Q239.749 1545.82 243.36 1545.82 Q246.994 1545.82 248.8 1542.27 Q250.628 1538.71 250.628 1531.6 Q250.628 1524.47 248.8 1520.93 Q246.994 1517.37 243.36 1517.37 M243.36 1513.66 Q249.17 1513.66 252.226 1518.27 Q255.304 1522.85 255.304 1531.6 Q255.304 1540.33 252.226 1544.94 Q249.17 1549.52 243.36 1549.52 Q237.55 1549.52 234.471 1544.94 Q231.416 1540.33 231.416 1531.6 Q231.416 1522.85 234.471 1518.27 Q237.55 1513.66 243.36 1513.66 Z\" fill=\"#000000\" fill-rule=\"nonzero\" fill-opacity=\"1\" /><path clip-path=\"url(#clip990)\" d=\"M627.878 1544.91 L635.517 1544.91 L635.517 1518.55 L627.206 1520.21 L627.206 1515.95 L635.47 1514.29 L640.146 1514.29 L640.146 1544.91 L647.785 1544.91 L647.785 1548.85 L627.878 1548.85 L627.878 1544.91 Z\" fill=\"#000000\" fill-rule=\"nonzero\" fill-opacity=\"1\" /><path clip-path=\"url(#clip990)\" d=\"M667.229 1517.37 Q663.618 1517.37 661.79 1520.93 Q659.984 1524.47 659.984 1531.6 Q659.984 1538.71 661.79 1542.27 Q663.618 1545.82 667.229 1545.82 Q670.864 1545.82 672.669 1542.27 Q674.498 1538.71 674.498 1531.6 Q674.498 1524.47 672.669 1520.93 Q670.864 1517.37 667.229 1517.37 M667.229 1513.66 Q673.04 1513.66 676.095 1518.27 Q679.174 1522.85 679.174 1531.6 Q679.174 1540.33 676.095 1544.94 Q673.04 1549.52 667.229 1549.52 Q661.419 1549.52 658.341 1544.94 Q655.285 1540.33 655.285 1531.6 Q655.285 1522.85 658.341 1518.27 Q661.419 1513.66 667.229 1513.66 Z\" fill=\"#000000\" fill-rule=\"nonzero\" fill-opacity=\"1\" /><path clip-path=\"url(#clip990)\" d=\"M1041.79 1544.91 L1058.11 1544.91 L1058.11 1548.85 L1036.17 1548.85 L1036.17 1544.91 Q1038.83 1542.16 1043.41 1537.53 Q1048.02 1532.88 1049.2 1531.53 Q1051.45 1529.01 1052.33 1527.27 Q1053.23 1525.51 1053.23 1523.82 Q1053.23 1521.07 1051.28 1519.33 Q1049.36 1517.6 1046.26 1517.6 Q1044.06 1517.6 1041.61 1518.36 Q1039.18 1519.13 1036.4 1520.68 L1036.4 1515.95 Q1039.22 1514.82 1041.68 1514.24 Q1044.13 1513.66 1046.17 1513.66 Q1051.54 1513.66 1054.73 1516.35 Q1057.93 1519.03 1057.93 1523.52 Q1057.93 1525.65 1057.12 1527.57 Q1056.33 1529.47 1054.22 1532.07 Q1053.65 1532.74 1050.54 1535.95 Q1047.44 1539.15 1041.79 1544.91 Z\" fill=\"#000000\" fill-rule=\"nonzero\" fill-opacity=\"1\" /><path clip-path=\"url(#clip990)\" d=\"M1077.93 1517.37 Q1074.32 1517.37 1072.49 1520.93 Q1070.68 1524.47 1070.68 1531.6 Q1070.68 1538.71 1072.49 1542.27 Q1074.32 1545.82 1077.93 1545.82 Q1081.56 1545.82 1083.37 1542.27 Q1085.2 1538.71 1085.2 1531.6 Q1085.2 1524.47 1083.37 1520.93 Q1081.56 1517.37 1077.93 1517.37 M1077.93 1513.66 Q1083.74 1513.66 1086.79 1518.27 Q1089.87 1522.85 1089.87 1531.6 Q1089.87 1540.33 1086.79 1544.94 Q1083.74 1549.52 1077.93 1549.52 Q1072.12 1549.52 1069.04 1544.94 Q1065.98 1540.33 1065.98 1531.6 Q1065.98 1522.85 1069.04 1518.27 Q1072.12 1513.66 1077.93 1513.66 Z\" fill=\"#000000\" fill-rule=\"nonzero\" fill-opacity=\"1\" /><path clip-path=\"url(#clip990)\" d=\"M1461.69 1530.21 Q1465.05 1530.93 1466.92 1533.2 Q1468.82 1535.47 1468.82 1538.8 Q1468.82 1543.92 1465.3 1546.72 Q1461.79 1549.52 1455.3 1549.52 Q1453.13 1549.52 1450.81 1549.08 Q1448.52 1548.66 1446.07 1547.81 L1446.07 1543.29 Q1448.01 1544.43 1450.33 1545.01 Q1452.64 1545.58 1455.17 1545.58 Q1459.56 1545.58 1461.86 1543.85 Q1464.17 1542.11 1464.17 1538.8 Q1464.17 1535.75 1462.02 1534.03 Q1459.89 1532.3 1456.07 1532.3 L1452.04 1532.3 L1452.04 1528.45 L1456.25 1528.45 Q1459.7 1528.45 1461.53 1527.09 Q1463.36 1525.7 1463.36 1523.11 Q1463.36 1520.45 1461.46 1519.03 Q1459.59 1517.6 1456.07 1517.6 Q1454.15 1517.6 1451.95 1518.01 Q1449.75 1518.43 1447.11 1519.31 L1447.11 1515.14 Q1449.77 1514.4 1452.09 1514.03 Q1454.42 1513.66 1456.48 1513.66 Q1461.81 1513.66 1464.91 1516.09 Q1468.01 1518.5 1468.01 1522.62 Q1468.01 1525.49 1466.37 1527.48 Q1464.73 1529.45 1461.69 1530.21 Z\" fill=\"#000000\" fill-rule=\"nonzero\" fill-opacity=\"1\" /><path clip-path=\"url(#clip990)\" d=\"M1487.69 1517.37 Q1484.08 1517.37 1482.25 1520.93 Q1480.44 1524.47 1480.44 1531.6 Q1480.44 1538.71 1482.25 1542.27 Q1484.08 1545.82 1487.69 1545.82 Q1491.32 1545.82 1493.13 1542.27 Q1494.96 1538.71 1494.96 1531.6 Q1494.96 1524.47 1493.13 1520.93 Q1491.32 1517.37 1487.69 1517.37 M1487.69 1513.66 Q1493.5 1513.66 1496.55 1518.27 Q1499.63 1522.85 1499.63 1531.6 Q1499.63 1540.33 1496.55 1544.94 Q1493.5 1549.52 1487.69 1549.52 Q1481.88 1549.52 1478.8 1544.94 Q1475.74 1540.33 1475.74 1531.6 Q1475.74 1522.85 1478.8 1518.27 Q1481.88 1513.66 1487.69 1513.66 Z\" fill=\"#000000\" fill-rule=\"nonzero\" fill-opacity=\"1\" /><path clip-path=\"url(#clip990)\" d=\"M1870.85 1518.36 L1859.05 1536.81 L1870.85 1536.81 L1870.85 1518.36 M1869.63 1514.29 L1875.5 1514.29 L1875.5 1536.81 L1880.44 1536.81 L1880.44 1540.7 L1875.5 1540.7 L1875.5 1548.85 L1870.85 1548.85 L1870.85 1540.7 L1855.25 1540.7 L1855.25 1536.19 L1869.63 1514.29 Z\" fill=\"#000000\" fill-rule=\"nonzero\" fill-opacity=\"1\" /><path clip-path=\"url(#clip990)\" d=\"M1898.17 1517.37 Q1894.56 1517.37 1892.73 1520.93 Q1890.92 1524.47 1890.92 1531.6 Q1890.92 1538.71 1892.73 1542.27 Q1894.56 1545.82 1898.17 1545.82 Q1901.8 1545.82 1903.61 1542.27 Q1905.44 1538.71 1905.44 1531.6 Q1905.44 1524.47 1903.61 1520.93 Q1901.8 1517.37 1898.17 1517.37 M1898.17 1513.66 Q1903.98 1513.66 1907.03 1518.27 Q1910.11 1522.85 1910.11 1531.6 Q1910.11 1540.33 1907.03 1544.94 Q1903.98 1549.52 1898.17 1549.52 Q1892.36 1549.52 1889.28 1544.94 Q1886.22 1540.33 1886.22 1531.6 Q1886.22 1522.85 1889.28 1518.27 Q1892.36 1513.66 1898.17 1513.66 Z\" fill=\"#000000\" fill-rule=\"nonzero\" fill-opacity=\"1\" /><path clip-path=\"url(#clip990)\" d=\"M2267.21 1514.29 L2285.57 1514.29 L2285.57 1518.22 L2271.49 1518.22 L2271.49 1526.7 Q2272.51 1526.35 2273.53 1526.19 Q2274.55 1526 2275.57 1526 Q2281.35 1526 2284.73 1529.17 Q2288.11 1532.34 2288.11 1537.76 Q2288.11 1543.34 2284.64 1546.44 Q2281.17 1549.52 2274.85 1549.52 Q2272.67 1549.52 2270.4 1549.15 Q2268.16 1548.78 2265.75 1548.04 L2265.75 1543.34 Q2267.84 1544.47 2270.06 1545.03 Q2272.28 1545.58 2274.76 1545.58 Q2278.76 1545.58 2281.1 1543.48 Q2283.44 1541.37 2283.44 1537.76 Q2283.44 1534.15 2281.1 1532.04 Q2278.76 1529.94 2274.76 1529.94 Q2272.88 1529.94 2271.01 1530.35 Q2269.15 1530.77 2267.21 1531.65 L2267.21 1514.29 Z\" fill=\"#000000\" fill-rule=\"nonzero\" fill-opacity=\"1\" /><path clip-path=\"url(#clip990)\" d=\"M2307.33 1517.37 Q2303.71 1517.37 2301.89 1520.93 Q2300.08 1524.47 2300.08 1531.6 Q2300.08 1538.71 2301.89 1542.27 Q2303.71 1545.82 2307.33 1545.82 Q2310.96 1545.82 2312.77 1542.27 Q2314.59 1538.71 2314.59 1531.6 Q2314.59 1524.47 2312.77 1520.93 Q2310.96 1517.37 2307.33 1517.37 M2307.33 1513.66 Q2313.14 1513.66 2316.19 1518.27 Q2319.27 1522.85 2319.27 1531.6 Q2319.27 1540.33 2316.19 1544.94 Q2313.14 1549.52 2307.33 1549.52 Q2301.52 1549.52 2298.44 1544.94 Q2295.38 1540.33 2295.38 1531.6 Q2295.38 1522.85 2298.44 1518.27 Q2301.52 1513.66 2307.33 1513.66 Z\" fill=\"#000000\" fill-rule=\"nonzero\" fill-opacity=\"1\" /><polyline clip-path=\"url(#clip992)\" style=\"stroke:#000000; stroke-linecap:round; stroke-linejoin:round; stroke-width:2; stroke-opacity:0.1; fill:none\" points=\"224.098,1440.03 2352.76,1440.03 \"/>\n",
              "<polyline clip-path=\"url(#clip992)\" style=\"stroke:#000000; stroke-linecap:round; stroke-linejoin:round; stroke-width:2; stroke-opacity:0.1; fill:none\" points=\"224.098,1230.26 2352.76,1230.26 \"/>\n",
              "<polyline clip-path=\"url(#clip992)\" style=\"stroke:#000000; stroke-linecap:round; stroke-linejoin:round; stroke-width:2; stroke-opacity:0.1; fill:none\" points=\"224.098,1020.5 2352.76,1020.5 \"/>\n",
              "<polyline clip-path=\"url(#clip992)\" style=\"stroke:#000000; stroke-linecap:round; stroke-linejoin:round; stroke-width:2; stroke-opacity:0.1; fill:none\" points=\"224.098,810.73 2352.76,810.73 \"/>\n",
              "<polyline clip-path=\"url(#clip992)\" style=\"stroke:#000000; stroke-linecap:round; stroke-linejoin:round; stroke-width:2; stroke-opacity:0.1; fill:none\" points=\"224.098,600.963 2352.76,600.963 \"/>\n",
              "<polyline clip-path=\"url(#clip992)\" style=\"stroke:#000000; stroke-linecap:round; stroke-linejoin:round; stroke-width:2; stroke-opacity:0.1; fill:none\" points=\"224.098,391.197 2352.76,391.197 \"/>\n",
              "<polyline clip-path=\"url(#clip992)\" style=\"stroke:#000000; stroke-linecap:round; stroke-linejoin:round; stroke-width:2; stroke-opacity:0.1; fill:none\" points=\"224.098,181.43 2352.76,181.43 \"/>\n",
              "<polyline clip-path=\"url(#clip990)\" style=\"stroke:#000000; stroke-linecap:round; stroke-linejoin:round; stroke-width:4; stroke-opacity:1; fill:none\" points=\"224.098,1486.45 224.098,47.2441 \"/>\n",
              "<polyline clip-path=\"url(#clip990)\" style=\"stroke:#000000; stroke-linecap:round; stroke-linejoin:round; stroke-width:4; stroke-opacity:1; fill:none\" points=\"224.098,1440.03 242.996,1440.03 \"/>\n",
              "<polyline clip-path=\"url(#clip990)\" style=\"stroke:#000000; stroke-linecap:round; stroke-linejoin:round; stroke-width:4; stroke-opacity:1; fill:none\" points=\"224.098,1230.26 242.996,1230.26 \"/>\n",
              "<polyline clip-path=\"url(#clip990)\" style=\"stroke:#000000; stroke-linecap:round; stroke-linejoin:round; stroke-width:4; stroke-opacity:1; fill:none\" points=\"224.098,1020.5 242.996,1020.5 \"/>\n",
              "<polyline clip-path=\"url(#clip990)\" style=\"stroke:#000000; stroke-linecap:round; stroke-linejoin:round; stroke-width:4; stroke-opacity:1; fill:none\" points=\"224.098,810.73 242.996,810.73 \"/>\n",
              "<polyline clip-path=\"url(#clip990)\" style=\"stroke:#000000; stroke-linecap:round; stroke-linejoin:round; stroke-width:4; stroke-opacity:1; fill:none\" points=\"224.098,600.963 242.996,600.963 \"/>\n",
              "<polyline clip-path=\"url(#clip990)\" style=\"stroke:#000000; stroke-linecap:round; stroke-linejoin:round; stroke-width:4; stroke-opacity:1; fill:none\" points=\"224.098,391.197 242.996,391.197 \"/>\n",
              "<polyline clip-path=\"url(#clip990)\" style=\"stroke:#000000; stroke-linecap:round; stroke-linejoin:round; stroke-width:4; stroke-opacity:1; fill:none\" points=\"224.098,181.43 242.996,181.43 \"/>\n",
              "<path clip-path=\"url(#clip990)\" d=\"M51.9875 1440.48 L81.6633 1440.48 L81.6633 1444.42 L51.9875 1444.42 L51.9875 1440.48 Z\" fill=\"#000000\" fill-rule=\"nonzero\" fill-opacity=\"1\" /><path clip-path=\"url(#clip990)\" d=\"M92.566 1453.37 L100.205 1453.37 L100.205 1427.01 L91.8947 1428.68 L91.8947 1424.42 L100.159 1422.75 L104.834 1422.75 L104.834 1453.37 L112.473 1453.37 L112.473 1457.31 L92.566 1457.31 L92.566 1453.37 Z\" fill=\"#000000\" fill-rule=\"nonzero\" fill-opacity=\"1\" /><path clip-path=\"url(#clip990)\" d=\"M125.945 1453.37 L142.265 1453.37 L142.265 1457.31 L120.32 1457.31 L120.32 1453.37 Q122.982 1450.62 127.566 1445.99 Q132.172 1441.34 133.353 1439.99 Q135.598 1437.47 136.478 1435.74 Q137.381 1433.98 137.381 1432.29 Q137.381 1429.53 135.436 1427.8 Q133.515 1426.06 130.413 1426.06 Q128.214 1426.06 125.76 1426.82 Q123.33 1427.59 120.552 1429.14 L120.552 1424.42 Q123.376 1423.28 125.83 1422.7 Q128.283 1422.12 130.32 1422.12 Q135.691 1422.12 138.885 1424.81 Q142.08 1427.49 142.08 1431.99 Q142.08 1434.11 141.269 1436.04 Q140.482 1437.93 138.376 1440.53 Q137.797 1441.2 134.695 1444.42 Q131.594 1447.61 125.945 1453.37 Z\" fill=\"#000000\" fill-rule=\"nonzero\" fill-opacity=\"1\" /><path clip-path=\"url(#clip990)\" d=\"M152.08 1451.43 L156.964 1451.43 L156.964 1457.31 L152.08 1457.31 L152.08 1451.43 Z\" fill=\"#000000\" fill-rule=\"nonzero\" fill-opacity=\"1\" /><path clip-path=\"url(#clip990)\" d=\"M167.195 1422.75 L185.552 1422.75 L185.552 1426.68 L171.478 1426.68 L171.478 1435.16 Q172.496 1434.81 173.515 1434.65 Q174.533 1434.46 175.552 1434.46 Q181.339 1434.46 184.718 1437.63 Q188.098 1440.8 188.098 1446.22 Q188.098 1451.8 184.626 1454.9 Q181.153 1457.98 174.834 1457.98 Q172.658 1457.98 170.39 1457.61 Q168.144 1457.24 165.737 1456.5 L165.737 1451.8 Q167.82 1452.93 170.042 1453.49 Q172.265 1454.05 174.741 1454.05 Q178.746 1454.05 181.084 1451.94 Q183.422 1449.83 183.422 1446.22 Q183.422 1442.61 181.084 1440.5 Q178.746 1438.4 174.741 1438.4 Q172.866 1438.4 170.991 1438.81 Q169.14 1439.23 167.195 1440.11 L167.195 1422.75 Z\" fill=\"#000000\" fill-rule=\"nonzero\" fill-opacity=\"1\" /><path clip-path=\"url(#clip990)\" d=\"M50.9921 1230.71 L80.6679 1230.71 L80.6679 1234.65 L50.9921 1234.65 L50.9921 1230.71 Z\" fill=\"#000000\" fill-rule=\"nonzero\" fill-opacity=\"1\" /><path clip-path=\"url(#clip990)\" d=\"M91.5706 1243.61 L99.2095 1243.61 L99.2095 1217.24 L90.8993 1218.91 L90.8993 1214.65 L99.1632 1212.98 L103.839 1212.98 L103.839 1243.61 L111.478 1243.61 L111.478 1247.54 L91.5706 1247.54 L91.5706 1243.61 Z\" fill=\"#000000\" fill-rule=\"nonzero\" fill-opacity=\"1\" /><path clip-path=\"url(#clip990)\" d=\"M130.922 1216.06 Q127.311 1216.06 125.482 1219.63 Q123.677 1223.17 123.677 1230.3 Q123.677 1237.4 125.482 1240.97 Q127.311 1244.51 130.922 1244.51 Q134.556 1244.51 136.362 1240.97 Q138.191 1237.4 138.191 1230.3 Q138.191 1223.17 136.362 1219.63 Q134.556 1216.06 130.922 1216.06 M130.922 1212.36 Q136.732 1212.36 139.788 1216.96 Q142.867 1221.55 142.867 1230.3 Q142.867 1239.02 139.788 1243.63 Q136.732 1248.21 130.922 1248.21 Q125.112 1248.21 122.033 1243.63 Q118.978 1239.02 118.978 1230.3 Q118.978 1221.55 122.033 1216.96 Q125.112 1212.36 130.922 1212.36 Z\" fill=\"#000000\" fill-rule=\"nonzero\" fill-opacity=\"1\" /><path clip-path=\"url(#clip990)\" d=\"M151.084 1241.66 L155.968 1241.66 L155.968 1247.54 L151.084 1247.54 L151.084 1241.66 Z\" fill=\"#000000\" fill-rule=\"nonzero\" fill-opacity=\"1\" /><path clip-path=\"url(#clip990)\" d=\"M176.153 1216.06 Q172.542 1216.06 170.714 1219.63 Q168.908 1223.17 168.908 1230.3 Q168.908 1237.4 170.714 1240.97 Q172.542 1244.51 176.153 1244.51 Q179.788 1244.51 181.593 1240.97 Q183.422 1237.4 183.422 1230.3 Q183.422 1223.17 181.593 1219.63 Q179.788 1216.06 176.153 1216.06 M176.153 1212.36 Q181.964 1212.36 185.019 1216.96 Q188.098 1221.55 188.098 1230.3 Q188.098 1239.02 185.019 1243.63 Q181.964 1248.21 176.153 1248.21 Q170.343 1248.21 167.265 1243.63 Q164.209 1239.02 164.209 1230.3 Q164.209 1221.55 167.265 1216.96 Q170.343 1212.36 176.153 1212.36 Z\" fill=\"#000000\" fill-rule=\"nonzero\" fill-opacity=\"1\" /><path clip-path=\"url(#clip990)\" d=\"M82.1494 1020.95 L111.825 1020.95 L111.825 1024.88 L82.1494 1024.88 L82.1494 1020.95 Z\" fill=\"#000000\" fill-rule=\"nonzero\" fill-opacity=\"1\" /><path clip-path=\"url(#clip990)\" d=\"M120.737 1003.22 L142.959 1003.22 L142.959 1005.21 L130.413 1037.78 L125.529 1037.78 L137.334 1007.15 L120.737 1007.15 L120.737 1003.22 Z\" fill=\"#000000\" fill-rule=\"nonzero\" fill-opacity=\"1\" /><path clip-path=\"url(#clip990)\" d=\"M152.08 1031.9 L156.964 1031.9 L156.964 1037.78 L152.08 1037.78 L152.08 1031.9 Z\" fill=\"#000000\" fill-rule=\"nonzero\" fill-opacity=\"1\" /><path clip-path=\"url(#clip990)\" d=\"M167.195 1003.22 L185.552 1003.22 L185.552 1007.15 L171.478 1007.15 L171.478 1015.62 Q172.496 1015.28 173.515 1015.11 Q174.533 1014.93 175.552 1014.93 Q181.339 1014.93 184.718 1018.1 Q188.098 1021.27 188.098 1026.69 Q188.098 1032.27 184.626 1035.37 Q181.153 1038.45 174.834 1038.45 Q172.658 1038.45 170.39 1038.08 Q168.144 1037.71 165.737 1036.97 L165.737 1032.27 Q167.82 1033.4 170.042 1033.96 Q172.265 1034.51 174.741 1034.51 Q178.746 1034.51 181.084 1032.41 Q183.422 1030.3 183.422 1026.69 Q183.422 1023.08 181.084 1020.97 Q178.746 1018.86 174.741 1018.86 Q172.866 1018.86 170.991 1019.28 Q169.14 1019.7 167.195 1020.58 L167.195 1003.22 Z\" fill=\"#000000\" fill-rule=\"nonzero\" fill-opacity=\"1\" /><path clip-path=\"url(#clip990)\" d=\"M81.154 811.181 L110.83 811.181 L110.83 815.116 L81.154 815.116 L81.154 811.181 Z\" fill=\"#000000\" fill-rule=\"nonzero\" fill-opacity=\"1\" /><path clip-path=\"url(#clip990)\" d=\"M120.969 793.45 L139.325 793.45 L139.325 797.385 L125.251 797.385 L125.251 805.857 Q126.27 805.51 127.288 805.348 Q128.307 805.163 129.325 805.163 Q135.112 805.163 138.492 808.334 Q141.871 811.505 141.871 816.922 Q141.871 822.5 138.399 825.602 Q134.927 828.681 128.607 828.681 Q126.432 828.681 124.163 828.311 Q121.918 827.94 119.51 827.199 L119.51 822.5 Q121.594 823.635 123.816 824.19 Q126.038 824.746 128.515 824.746 Q132.519 824.746 134.857 822.639 Q137.195 820.533 137.195 816.922 Q137.195 813.311 134.857 811.204 Q132.519 809.098 128.515 809.098 Q126.64 809.098 124.765 809.514 Q122.913 809.931 120.969 810.811 L120.969 793.45 Z\" fill=\"#000000\" fill-rule=\"nonzero\" fill-opacity=\"1\" /><path clip-path=\"url(#clip990)\" d=\"M151.084 822.13 L155.968 822.13 L155.968 828.01 L151.084 828.01 L151.084 822.13 Z\" fill=\"#000000\" fill-rule=\"nonzero\" fill-opacity=\"1\" /><path clip-path=\"url(#clip990)\" d=\"M176.153 796.528 Q172.542 796.528 170.714 800.093 Q168.908 803.635 168.908 810.764 Q168.908 817.871 170.714 821.436 Q172.542 824.977 176.153 824.977 Q179.788 824.977 181.593 821.436 Q183.422 817.871 183.422 810.764 Q183.422 803.635 181.593 800.093 Q179.788 796.528 176.153 796.528 M176.153 792.825 Q181.964 792.825 185.019 797.431 Q188.098 802.014 188.098 810.764 Q188.098 819.491 185.019 824.098 Q181.964 828.681 176.153 828.681 Q170.343 828.681 167.265 824.098 Q164.209 819.491 164.209 810.764 Q164.209 802.014 167.265 797.431 Q170.343 792.825 176.153 792.825 Z\" fill=\"#000000\" fill-rule=\"nonzero\" fill-opacity=\"1\" /><path clip-path=\"url(#clip990)\" d=\"M82.1494 601.415 L111.825 601.415 L111.825 605.35 L82.1494 605.35 L82.1494 601.415 Z\" fill=\"#000000\" fill-rule=\"nonzero\" fill-opacity=\"1\" /><path clip-path=\"url(#clip990)\" d=\"M125.945 614.308 L142.265 614.308 L142.265 618.243 L120.32 618.243 L120.32 614.308 Q122.982 611.553 127.566 606.924 Q132.172 602.271 133.353 600.928 Q135.598 598.405 136.478 596.669 Q137.381 594.91 137.381 593.22 Q137.381 590.466 135.436 588.729 Q133.515 586.993 130.413 586.993 Q128.214 586.993 125.76 587.757 Q123.33 588.521 120.552 590.072 L120.552 585.35 Q123.376 584.216 125.83 583.637 Q128.283 583.058 130.32 583.058 Q135.691 583.058 138.885 585.743 Q142.08 588.428 142.08 592.919 Q142.08 595.049 141.269 596.97 Q140.482 598.868 138.376 601.461 Q137.797 602.132 134.695 605.35 Q131.594 608.544 125.945 614.308 Z\" fill=\"#000000\" fill-rule=\"nonzero\" fill-opacity=\"1\" /><path clip-path=\"url(#clip990)\" d=\"M152.08 612.364 L156.964 612.364 L156.964 618.243 L152.08 618.243 L152.08 612.364 Z\" fill=\"#000000\" fill-rule=\"nonzero\" fill-opacity=\"1\" /><path clip-path=\"url(#clip990)\" d=\"M167.195 583.683 L185.552 583.683 L185.552 587.618 L171.478 587.618 L171.478 596.09 Q172.496 595.743 173.515 595.581 Q174.533 595.396 175.552 595.396 Q181.339 595.396 184.718 598.567 Q188.098 601.739 188.098 607.155 Q188.098 612.734 184.626 615.836 Q181.153 618.914 174.834 618.914 Q172.658 618.914 170.39 618.544 Q168.144 618.174 165.737 617.433 L165.737 612.734 Q167.82 613.868 170.042 614.424 Q172.265 614.979 174.741 614.979 Q178.746 614.979 181.084 612.873 Q183.422 610.766 183.422 607.155 Q183.422 603.544 181.084 601.438 Q178.746 599.331 174.741 599.331 Q172.866 599.331 170.991 599.748 Q169.14 600.165 167.195 601.044 L167.195 583.683 Z\" fill=\"#000000\" fill-rule=\"nonzero\" fill-opacity=\"1\" /><path clip-path=\"url(#clip990)\" d=\"M130.922 376.995 Q127.311 376.995 125.482 380.56 Q123.677 384.102 123.677 391.231 Q123.677 398.338 125.482 401.903 Q127.311 405.444 130.922 405.444 Q134.556 405.444 136.362 401.903 Q138.191 398.338 138.191 391.231 Q138.191 384.102 136.362 380.56 Q134.556 376.995 130.922 376.995 M130.922 373.292 Q136.732 373.292 139.788 377.898 Q142.867 382.481 142.867 391.231 Q142.867 399.958 139.788 404.565 Q136.732 409.148 130.922 409.148 Q125.112 409.148 122.033 404.565 Q118.978 399.958 118.978 391.231 Q118.978 382.481 122.033 377.898 Q125.112 373.292 130.922 373.292 Z\" fill=\"#000000\" fill-rule=\"nonzero\" fill-opacity=\"1\" /><path clip-path=\"url(#clip990)\" d=\"M151.084 402.597 L155.968 402.597 L155.968 408.477 L151.084 408.477 L151.084 402.597 Z\" fill=\"#000000\" fill-rule=\"nonzero\" fill-opacity=\"1\" /><path clip-path=\"url(#clip990)\" d=\"M176.153 376.995 Q172.542 376.995 170.714 380.56 Q168.908 384.102 168.908 391.231 Q168.908 398.338 170.714 401.903 Q172.542 405.444 176.153 405.444 Q179.788 405.444 181.593 401.903 Q183.422 398.338 183.422 391.231 Q183.422 384.102 181.593 380.56 Q179.788 376.995 176.153 376.995 M176.153 373.292 Q181.964 373.292 185.019 377.898 Q188.098 382.481 188.098 391.231 Q188.098 399.958 185.019 404.565 Q181.964 409.148 176.153 409.148 Q170.343 409.148 167.265 404.565 Q164.209 399.958 164.209 391.231 Q164.209 382.481 167.265 377.898 Q170.343 373.292 176.153 373.292 Z\" fill=\"#000000\" fill-rule=\"nonzero\" fill-opacity=\"1\" /><path clip-path=\"url(#clip990)\" d=\"M125.945 194.775 L142.265 194.775 L142.265 198.71 L120.32 198.71 L120.32 194.775 Q122.982 192.02 127.566 187.391 Q132.172 182.738 133.353 181.395 Q135.598 178.872 136.478 177.136 Q137.381 175.377 137.381 173.687 Q137.381 170.932 135.436 169.196 Q133.515 167.46 130.413 167.46 Q128.214 167.46 125.76 168.224 Q123.33 168.988 120.552 170.539 L120.552 165.817 Q123.376 164.683 125.83 164.104 Q128.283 163.525 130.32 163.525 Q135.691 163.525 138.885 166.21 Q142.08 168.895 142.08 173.386 Q142.08 175.516 141.269 177.437 Q140.482 179.335 138.376 181.928 Q137.797 182.599 134.695 185.817 Q131.594 189.011 125.945 194.775 Z\" fill=\"#000000\" fill-rule=\"nonzero\" fill-opacity=\"1\" /><path clip-path=\"url(#clip990)\" d=\"M152.08 192.831 L156.964 192.831 L156.964 198.71 L152.08 198.71 L152.08 192.831 Z\" fill=\"#000000\" fill-rule=\"nonzero\" fill-opacity=\"1\" /><path clip-path=\"url(#clip990)\" d=\"M167.195 164.15 L185.552 164.15 L185.552 168.085 L171.478 168.085 L171.478 176.557 Q172.496 176.21 173.515 176.048 Q174.533 175.863 175.552 175.863 Q181.339 175.863 184.718 179.034 Q188.098 182.206 188.098 187.622 Q188.098 193.201 184.626 196.303 Q181.153 199.381 174.834 199.381 Q172.658 199.381 170.39 199.011 Q168.144 198.641 165.737 197.9 L165.737 193.201 Q167.82 194.335 170.042 194.891 Q172.265 195.446 174.741 195.446 Q178.746 195.446 181.084 193.34 Q183.422 191.233 183.422 187.622 Q183.422 184.011 181.084 181.905 Q178.746 179.798 174.741 179.798 Q172.866 179.798 170.991 180.215 Q169.14 180.632 167.195 181.511 L167.195 164.15 Z\" fill=\"#000000\" fill-rule=\"nonzero\" fill-opacity=\"1\" /><polyline clip-path=\"url(#clip992)\" style=\"stroke:#009af9; stroke-linecap:round; stroke-linejoin:round; stroke-width:4; stroke-opacity:1; fill:none\" points=\"284.343,309.542 325.326,256.077 366.309,87.9763 407.292,1445.72 448.275,550.311 489.258,459.977 530.241,423.006 571.224,401.735 612.207,387.387 653.19,376.816 694.173,368.604 735.156,362.006 776.139,356.589 817.122,352.077 858.105,348.283 899.088,345.072 940.071,342.343 981.054,340.018 1022.04,338.034 1063.02,336.34 1104,334.893 1144.99,333.658 1185.97,332.603 1226.95,331.704 1267.94,330.938 1308.92,330.286 1349.9,329.731 1390.88,329.26 1431.87,328.86 1472.85,328.521 1513.83,328.234 1554.82,327.991 1595.8,327.786 1636.78,327.613 1677.77,327.467 1718.75,327.344 1759.73,327.24 1800.71,327.152 1841.7,327.079 1882.68,327.017 1923.66,326.966 1964.65,326.922 2005.63,326.886 2046.61,326.855 2087.6,326.83 2128.58,326.808 2169.56,326.79 2210.54,326.775 2251.53,326.763 2292.51,326.752 \"/>\n",
              "<polyline clip-path=\"url(#clip992)\" style=\"stroke:#e26f46; stroke-linecap:round; stroke-linejoin:round; stroke-width:4; stroke-opacity:1; fill:none\" points=\"284.343,318.552 325.326,159.76 366.309,521.076 407.292,434.322 448.275,414.203 489.258,405.365 530.241,400.467 571.224,397.401 612.207,395.333 653.19,393.866 694.173,392.789 735.156,391.978 776.139,391.355 817.122,390.869 858.105,390.486 899.088,390.182 940.071,389.938 981.054,389.741 1022.04,389.582 1063.02,389.453 1104,389.347 1144.99,389.261 1185.97,389.191 1226.95,389.133 1267.94,389.086 1308.92,389.047 1349.9,389.014 1390.88,388.988 1431.87,388.966 1472.85,388.948 1513.83,388.933 1554.82,388.921 1595.8,388.911 1636.78,388.903 1677.77,388.896 1718.75,388.89 1759.73,388.886 1800.71,388.882 1841.7,388.878 1882.68,388.876 1923.66,388.874 1964.65,388.872 2005.63,388.87 2046.61,388.869 2087.6,388.868 2128.58,388.867 2169.56,388.867 2210.54,388.866 2251.53,388.865 2292.51,388.865 \"/>\n",
              "<path clip-path=\"url(#clip990)\" d=\"M2016.5 1438.47 L2281.8 1438.47 L2281.8 1282.95 L2016.5 1282.95  Z\" fill=\"#ffffff\" fill-rule=\"evenodd\" fill-opacity=\"1\"/>\n",
              "<polyline clip-path=\"url(#clip990)\" style=\"stroke:#000000; stroke-linecap:round; stroke-linejoin:round; stroke-width:4; stroke-opacity:1; fill:none\" points=\"2016.5,1438.47 2281.8,1438.47 2281.8,1282.95 2016.5,1282.95 2016.5,1438.47 \"/>\n",
              "<polyline clip-path=\"url(#clip990)\" style=\"stroke:#009af9; stroke-linecap:round; stroke-linejoin:round; stroke-width:4; stroke-opacity:1; fill:none\" points=\"2040.16,1334.79 2182.07,1334.79 \"/>\n",
              "<path clip-path=\"url(#clip990)\" d=\"M2219.56 1354.48 Q2217.76 1359.11 2216.04 1360.52 Q2214.33 1361.94 2211.46 1361.94 L2208.06 1361.94 L2208.06 1358.37 L2210.56 1358.37 Q2212.32 1358.37 2213.29 1357.54 Q2214.26 1356.7 2215.44 1353.6 L2216.2 1351.66 L2205.72 1326.15 L2210.23 1326.15 L2218.33 1346.43 L2226.44 1326.15 L2230.95 1326.15 L2219.56 1354.48 Z\" fill=\"#000000\" fill-rule=\"nonzero\" fill-opacity=\"1\" /><path clip-path=\"url(#clip990)\" d=\"M2238.24 1348.14 L2245.88 1348.14 L2245.88 1321.77 L2237.57 1323.44 L2237.57 1319.18 L2245.83 1317.51 L2250.51 1317.51 L2250.51 1348.14 L2258.15 1348.14 L2258.15 1352.07 L2238.24 1352.07 L2238.24 1348.14 Z\" fill=\"#000000\" fill-rule=\"nonzero\" fill-opacity=\"1\" /><polyline clip-path=\"url(#clip990)\" style=\"stroke:#e26f46; stroke-linecap:round; stroke-linejoin:round; stroke-width:4; stroke-opacity:1; fill:none\" points=\"2040.16,1386.63 2182.07,1386.63 \"/>\n",
              "<path clip-path=\"url(#clip990)\" d=\"M2219.56 1406.32 Q2217.76 1410.95 2216.04 1412.36 Q2214.33 1413.78 2211.46 1413.78 L2208.06 1413.78 L2208.06 1410.21 L2210.56 1410.21 Q2212.32 1410.21 2213.29 1409.38 Q2214.26 1408.54 2215.44 1405.44 L2216.2 1403.5 L2205.72 1377.99 L2210.23 1377.99 L2218.33 1398.27 L2226.44 1377.99 L2230.95 1377.99 L2219.56 1406.32 Z\" fill=\"#000000\" fill-rule=\"nonzero\" fill-opacity=\"1\" /><path clip-path=\"url(#clip990)\" d=\"M2241.46 1399.98 L2257.78 1399.98 L2257.78 1403.91 L2235.83 1403.91 L2235.83 1399.98 Q2238.5 1397.22 2243.08 1392.6 Q2247.69 1387.94 2248.87 1386.6 Q2251.11 1384.08 2251.99 1382.34 Q2252.89 1380.58 2252.89 1378.89 Q2252.89 1376.14 2250.95 1374.4 Q2249.03 1372.66 2245.93 1372.66 Q2243.73 1372.66 2241.27 1373.43 Q2238.84 1374.19 2236.07 1375.74 L2236.07 1371.02 Q2238.89 1369.89 2241.34 1369.31 Q2243.8 1368.73 2245.83 1368.73 Q2251.2 1368.73 2254.4 1371.41 Q2257.59 1374.1 2257.59 1378.59 Q2257.59 1380.72 2256.78 1382.64 Q2256 1384.54 2253.89 1387.13 Q2253.31 1387.8 2250.21 1391.02 Q2247.11 1394.22 2241.46 1399.98 Z\" fill=\"#000000\" fill-rule=\"nonzero\" fill-opacity=\"1\" /></svg>\n"
            ]
          },
          "metadata": {},
          "output_type": "display_data"
        }
      ],
      "source": [
        "# Convergence des différents coeff de X\n",
        "plot([x[1] for x in linear_time_iteration(rand(1,2), FO_model, deb=false).X_L][1:50])\n",
        "plot!([x[2] for x in linear_time_iteration(rand(1,2), FO_model, deb=false).X_L][1:50])"
      ]
    },
    {
      "cell_type": "code",
      "execution_count": 16,
      "id": "089779c7",
      "metadata": {},
      "outputs": [
        {
          "data": {
            "text/plain": [
              "1×2 Matrix{Float64}:\n",
              " -4.44089e-16  -5.55112e-17"
            ]
          },
          "metadata": {},
          "output_type": "display_data"
        }
      ],
      "source": [
        "#! X = Lim(X_n) Satisfies First Order Model ? i.e X satisfies the equation (A + BX) + (C+DX})(E+FX) = 0 ?\n",
        "residual(linear_time_iteration(rand(1,2), FO_model).X,FO_model)\n",
        "# Résidus << 1^{-16)"
      ]
    },
    {
      "cell_type": "markdown",
      "id": "f5512317",
      "metadata": {},
      "source": [
        "**Define two linear operators\n",
        "`L_S(U::Union{Vector, Matrix}, X_0::Matrix, m::PerturbedModel)::Matrix`\n",
        "and `L_T(U::Matrix, X_0::Matrix, m::PerturbedModel)::Matrix` which\n",
        "implement the derivatives of the simulation and the time-iteration\n",
        "operator respectively.**"
      ]
    },
    {
      "cell_type": "markdown",
      "id": "41d24930",
      "metadata": {},
      "source": [
        "$$\\textrm{{\\color{red} \\underline{T does \\textbf{Forward iteration}} (Time iteration operator)}}$$\n",
        "\n",
        "$$\\begin{align*} T:  \\mathbb{R}^{n_x} \\times \\mathbb{R}^{n_s}  & \\rightarrow  \\mathbb{R}^{n_x} \\times \\mathbb{R}^{n_s}  \\\\ {\\color{red} X_{t+1}} & \\mapsto {\\color{red} X_t}  \\\\ & \\text{s.t.} \\; F(X_t,X_{t+1})=0\\end{align*}$$\n",
        "\n",
        "$${\\color{blue} X_{n+1} := T(X_n) \\longrightarrow F(X_{n+1},X_n) = 0}$$\n",
        "\n",
        "$$\\begin{align*} T:  \\mathbb{R}^{n_x} \\times \\mathbb{R}^{n_s}  & \\rightarrow  \\mathbb{R}^{n_x} \\times \\mathbb{R}^{n_s}  \\\\ {\\color{red} X_{n}} & \\mapsto {\\color{red} X_{n+1}} \\\\ & \\text{s.t.} \\; F(X_{n+1},X_{n})=0\\end{align*}$$\n",
        "\n",
        "$$\\textrm{{\\color{red} \\underline{P does \\textbf{Backward iteration}} (Simulation operator)}}$$\n",
        "\n",
        "$$\\begin{align*} P:  \\mathbb{R}^{n_s}  & \\rightarrow  \\mathbb{R}^{n_s}  \\\\ {\\color{red} \\Delta s_t} & \\mapsto {\\color{red} \\Delta s_{t+1} = (E+FX)\\Delta s_t} \\end{align*}$$"
      ]
    },
    {
      "cell_type": "code",
      "execution_count": 19,
      "id": "b4fdd0fb",
      "metadata": {},
      "outputs": [
        {
          "data": {
            "text/plain": [
              "P (generic function with 1 method)"
            ]
          },
          "metadata": {},
          "output_type": "display_data"
        }
      ],
      "source": [
        "#! --------------------------------------------\n",
        "#! FORWARD ITERATION = Time iteration operator\n",
        "#! --------------------------------------------\n",
        "\n",
        "function T(X, M::PerturbedModel)\n",
        "    (; A,B,C,D,E,F) = M\n",
        "    C_DX = C+D*X    # pas efficace de calculer deux fois (C+DX)... autant stocker\n",
        "    # Never compute inv(...) > rather use : solve(A,B) <> solve Ax = B <-> x = A^{-1}.B\n",
        "\n",
        "    T = - (B+C_DX*F) \\ (A+C_DX*E) #! left divide \n",
        "    # T = - solve(B+C_DX*F, A+C_DX*E) #! or solve\n",
        "    # NOT OK : - inv(B + (C+D*X)*F) * (A+(C+D*X)*E) \n",
        "    \n",
        "    return T\n",
        "end\n",
        "\n",
        "#! ----------------------------------------\n",
        "#! BACKWARD ITERATION = Simulation operator\n",
        "#! ----------------------------------------\n",
        "\n",
        "function P(X::Matrix, s::Union{Vector,Matrix}, M::PerturbedModel) # s : state vector at date t > P(s_t) -> s_t+1\n",
        "    (; A,B,C,D,E,F) = M\n",
        "    P = (E+F*X)*s\n",
        "    return P\n",
        "end"
      ]
    },
    {
      "cell_type": "code",
      "execution_count": 20,
      "id": "d0620b6e",
      "metadata": {},
      "outputs": [
        {
          "data": {
            "text/plain": [
              "2-element Vector{Float64}:\n",
              " 0.45\n",
              " 0.8482418893846204"
            ]
          },
          "metadata": {},
          "output_type": "display_data"
        }
      ],
      "source": [
        "#! P.s_{T-1} -> s_{T}\n",
        "P(linear_time_iteration(rand(1,2), FO_model).X, [0.5 ; 0.5], FO_model)"
      ]
    },
    {
      "cell_type": "code",
      "execution_count": 22,
      "id": "f6e2f954",
      "metadata": {},
      "outputs": [
        {
          "data": {
            "text/plain": [
              "L_P (generic function with 1 method)"
            ]
          },
          "metadata": {},
          "output_type": "display_data"
        }
      ],
      "source": [
        "#! -----------------------------------------------------------------\n",
        "#!                              STABILITY : \n",
        "#! DERIVATE FUNCTIONS OF THE Simulation AND Time Iteration OPERATORS  \n",
        "#! -----------------------------------------------------------------\n",
        "\n",
        "# brutal --------------\n",
        "P(X, s, M) = P(X, s, M)\n",
        "T(X, M) = T(X, M)\n",
        "# ---------------------\n",
        "\n",
        "function L_T(U::Matrix, M::PerturbedModel)\n",
        "    res = ForwardDiff.jacobian( u->T(u,M), U)\n",
        "    return res\n",
        "end\n",
        "\n",
        "function L_P(U::Union{Vector,Matrix}, X::Union{Vector,Matrix}, M::PerturbedModel)\n",
        "    res = ForwardDiff.jacobian( u->P(X,u,M), U)\n",
        "    return res\n",
        "end\n",
        "\n",
        "#! On connait aussi les formes explicites de L_T et L_P ..."
      ]
    },
    {
      "cell_type": "code",
      "execution_count": 30,
      "id": "1e17b7df",
      "metadata": {},
      "outputs": [
        {
          "data": {
            "text/plain": [
              "2×2 Matrix{Float64}:\n",
              " 0.921732  0.883183\n",
              " 0.0       1.09258"
            ]
          },
          "metadata": {},
          "output_type": "display_data"
        }
      ],
      "source": [
        "L_T(rand(1,2), FO_model)"
      ]
    },
    {
      "cell_type": "code",
      "execution_count": 24,
      "id": "e6917389",
      "metadata": {},
      "outputs": [
        {
          "data": {
            "text/plain": [
              "2×2 Matrix{Float64}:\n",
              " 0.9       0.0\n",
              " 0.768674  0.92781"
            ]
          },
          "metadata": {},
          "output_type": "display_data"
        }
      ],
      "source": [
        "L_P(rand(2,1), linear_time_iteration(rand(1,2), FO_model).X, FO_model)"
      ]
    },
    {
      "cell_type": "markdown",
      "id": "623dbd24",
      "metadata": {},
      "source": [
        "$\\color{blue} \\Rightarrow \\textrm{Interested in the \\underline{\\textbf{Stability} of the Forward and Backward operators}}$"
      ]
    },
    {
      "cell_type": "markdown",
      "id": "05b23697",
      "metadata": {},
      "source": [
        "**Implement a function `spectral_radius(f::Function)::Float64` which\n",
        "implements the power iteration method to compute the biggest eigenvalues\n",
        "of the two previously defined operators.** \n",
        "\n",
        "**Check that Blanchard-Kahn\n",
        "conditions are met.**"
      ]
    },
    {
      "cell_type": "code",
      "execution_count": 40,
      "id": "699794c3",
      "metadata": {},
      "outputs": [
        {
          "data": {
            "text/plain": [
              "spectral_radius (generic function with 1 method)"
            ]
          },
          "metadata": {},
          "output_type": "display_data"
        }
      ],
      "source": [
        "#! -------------------------------------------\n",
        "#! POWER ITERATION METHOD - Blanchard & Kahn -\n",
        "#! -------------------------------------------\n",
        "\n",
        "L_P_spectral(s) = L_P(s, linear_time_iteration(rand(1,2), FO_model).X, FO_model)\n",
        "L_T_spectral(X) = L_T(X, FO_model)\n",
        "\n",
        "function spectral_radius(f::Function, dim::Tuple; N=500, τ_η=10^(-14))\n",
        "\n",
        "    cvspeed_L = []\n",
        "    x_0 = rand(dim...)\n",
        "    u_0 = x_0 / sum(x_0.^2)\n",
        "    local η\n",
        "\n",
        "    for i in 1:N\n",
        "        x_0 = f(u_0)\n",
        "        u_1 = x_0 / sum(x_0.^2)\n",
        "        η = sum((u_1 - u_0).^2)\n",
        "        push!(cvspeed_L,η)\n",
        "        u_0 = u_1\n",
        "    end\n",
        "    \n",
        "    if η < τ_η\n",
        "        return sum(x_0.^2)\n",
        "    else\n",
        "        return(\"No convergence\")\n",
        "    end\n",
        "\n",
        "end"
      ]
    },
    {
      "cell_type": "code",
      "execution_count": 43,
      "id": "8f939ca8",
      "metadata": {},
      "outputs": [
        {
          "data": {
            "text/plain": [
              "2×2 Matrix{Float64}:\n",
              " 0.952173  0.782429\n",
              " 0.0       1.16594"
            ]
          },
          "metadata": {},
          "output_type": "display_data"
        }
      ],
      "source": [
        "L_T_spectral(rand(1,2))"
      ]
    },
    {
      "cell_type": "code",
      "execution_count": null,
      "id": "6c6d1741",
      "metadata": {},
      "outputs": [],
      "source": [
        "function Blanchard_Kahn(X,M)\n",
        "    (; A,B,C,D,E,F) = M\n",
        "    P = (E+F*X)\n",
        "    \n",
        "end"
      ]
    },
    {
      "cell_type": "markdown",
      "id": "57fdfc77",
      "metadata": {},
      "source": [
        "$\\textrm{\\textbf{{\\color{blue} \\underline{ We compute the spectral radius of two operators to ensure the model is well defined and that the solution is the right one}}}}$"
      ]
    },
    {
      "cell_type": "markdown",
      "id": "3ddf218f",
      "metadata": {},
      "source": [
        "**Write a function\n",
        "`simulate(s0::Vector, X::Matrix, p, T::Int64)::Tuple{Matrix, Matrix}` to\n",
        "simulate the model over $T$ periods (by using the formula\n",
        "$\\Delta s_t = (E + F X) \\Delta s_{t-1}$.**\n",
        "\n",
        "**Return a matrix for the states\n",
        "(one line per date) and another matrix for the controls. Bonus: add a\n",
        "keyword option to compute variables levels or log-deviations. If\n",
        "possible, return a DataFrame object.**"
      ]
    },
    {
      "cell_type": "code",
      "execution_count": null,
      "id": "3f30e0e0",
      "metadata": {},
      "outputs": [],
      "source": []
    },
    {
      "cell_type": "markdown",
      "id": "73242859",
      "metadata": {},
      "source": [
        "------\n",
        "\n",
        "**Warm-up: install the `ForwardDiff` library. Use it to differentiate\n",
        "the function below. Check the jacobian function.**\n",
        "\n",
        "Note: the signature of function `f` needs to be fixed first to allow for\n",
        "dual numbers as arguments."
      ]
    },
    {
      "cell_type": "code",
      "execution_count": null,
      "id": "8de20f06",
      "metadata": {},
      "outputs": [],
      "source": [
        "test = eps(Float64)\n",
        "println((1+test)-1)\n",
        "println((1+test/2)-1)\n",
        "\n",
        "# test = smallest number : a number smaller than test will disappear in computations"
      ]
    },
    {
      "cell_type": "code",
      "execution_count": null,
      "id": "b988f496",
      "metadata": {},
      "outputs": [],
      "source": [
        "@variables a b x\n",
        "\n",
        "# Dual number :\n",
        "# Pour redéfinir opérations \n",
        "# import Base: *\n",
        "# import Base: /\n",
        "# import Base: +\n",
        "# import Base: -\n",
        "\n",
        "a + b*x\n",
        "Symbolics.derivative(sin(x^2), x)"
      ]
    },
    {
      "cell_type": "code",
      "execution_count": null,
      "id": "91862df9",
      "metadata": {},
      "outputs": [],
      "source": [
        "ForwardDiff.Dual(1.0,1.0)"
      ]
    },
    {
      "cell_type": "code",
      "execution_count": null,
      "id": "311fecf8",
      "metadata": {},
      "outputs": [],
      "source": [
        "#function f(x::Vector{T}) where T <: Number # Is equivalent to below definition\n",
        "function f(x::Vector{<:Number})\n",
        "    #works because 'Dual' (number) of ForwardDiff is a Number !\n",
        "    a = x[1]\n",
        "    b = x[2]\n",
        "    x1 = a+b\n",
        "    x2 = a*exp(b)\n",
        "    return [x1,x2]\n",
        "end"
      ]
    },
    {
      "cell_type": "code",
      "execution_count": null,
      "id": "4d772fcc",
      "metadata": {},
      "outputs": [],
      "source": [
        "# typeof(ForwardDiff.Dual(2.0,1.0,0.0))\n",
        "ForwardDiff.jacobian( u->f(u),[0.5,1.0] )"
      ]
    }
  ],
  "metadata": {
    "kernelspec": {
      "display_name": "Julia 1.10.1",
      "language": "julia",
      "name": "julia-1.10"
    },
    "language_info": {
      "file_extension": ".jl",
      "mimetype": "application/julia",
      "name": "julia",
      "version": "1.10.1"
    }
  },
  "nbformat": 4,
  "nbformat_minor": 5
}
