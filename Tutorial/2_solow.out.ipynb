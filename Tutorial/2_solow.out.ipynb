{
  "cells": [
    {
      "cell_type": "markdown",
      "id": "84e45fa1-3e52-4f4f-bc96-945d7816129b",
      "metadata": {},
      "source": [
        "# Convergence of Sequences\n",
        "\n",
        "Pablo Winant\n",
        "\n",
        "# Tutorial: Convergence\n",
        "\n",
        "### Solow Model\n",
        "\n",
        "A representative agent uses capital $k_t$ to produce $y_t$ using the\n",
        "following production function:\n",
        "\n",
        "$$y_t = k_t^{\\alpha}$$\n",
        "\n",
        "He chooses to consume an amount $c_t \\in ]0, y_t]$ and invests what\n",
        "remains:\n",
        "\n",
        "$$i_t = y_t - c_t$$\n",
        "\n",
        "He accumulates capital $k_t$ according to:\n",
        "\n",
        "$$k_{t+1} = \\left( 1-\\delta \\right) k_{t} + i_{t}$$\n",
        "\n",
        "where $\\delta$ is the depreciation rate and $i_t$ is the amount\n",
        "invested.\n",
        "\n",
        "The goal of the representative agent is to maximize:\n",
        "\n",
        "$$\\sum_{t\\geq 0} \\beta^t U(c_t)$$\n",
        "\n",
        "where $U(x)=\\frac{x^{1-\\gamma}}{1-\\gamma}$ and $\\beta<1$ is the discount\n",
        "factor.\n",
        "\n",
        "For now, we ignore the objective and assume that the saving rate\n",
        "$s=\\frac{c_t}{y_t}$ is constant over time. (1-s plutôt ?)\n",
        "\n",
        "**Create a `NamedTuple` to hold parameter values $\\beta=0.96$,\n",
        "$\\delta=0.1$, $\\alpha=0.3$, $\\gamma=4$.**\n",
        "\n",
        "**Write down the formula of function $f$ such that $k_{t+1}$:\n",
        "$k_{t+1} = f(k_t)$.**\n",
        "\n",
        "**Define a function `f(k::Float64, p::NamedTuple)::Float64` to represent\n",
        "$f$ for a given calibration**"
      ]
    },
    {
      "cell_type": "code",
      "execution_count": 15,
      "id": "3089d306",
      "metadata": {},
      "outputs": [],
      "source": [
        "using Plots"
      ]
    },
    {
      "cell_type": "code",
      "execution_count": 16,
      "id": "c5230950",
      "metadata": {},
      "outputs": [
        {
          "data": {
            "text/plain": [
              "(α = 0.3, β = 0.96, δ = 0.1, γ = 4)"
            ]
          },
          "metadata": {},
          "output_type": "display_data"
        }
      ],
      "source": [
        "model = (α=0.3, β=0.96, δ=0.1, γ=4)\n",
        "# model_2 = merge(model, (;α=0.4)) to create new model\n",
        "\n",
        "# syntax to \"unpack\" values from named tuple : \n",
        "# (;α, β, δ, γ) = model"
      ]
    },
    {
      "cell_type": "markdown",
      "id": "4bd89e81",
      "metadata": {},
      "source": [
        "$ f(k_t) :: k_{t+1} = (1-\\delta)k_t + s.k_{t}^{\\alpha} $ (S= (1-s) de l'énoncé)"
      ]
    },
    {
      "cell_type": "code",
      "execution_count": 5,
      "id": "2f2a8d37",
      "metadata": {},
      "outputs": [
        {
          "data": {
            "text/plain": [
              "f (generic function with 1 method)"
            ]
          },
          "metadata": {},
          "output_type": "display_data"
        }
      ],
      "source": [
        "function f(k, model; s=0.3)\n",
        "\n",
        "    (;α, β, δ, γ) = model\n",
        "    y = k^α\n",
        "    i = s*y\n",
        "    K = (1-δ)*k + i\n",
        "\n",
        "    return K\n",
        "end\n",
        "\n",
        "function df(k, model; s=0.3)\n",
        "\n",
        "    (;α, β, δ, γ) = model\n",
        "    return (1-δ)\n",
        "end"
      ]
    },
    {
      "cell_type": "code",
      "execution_count": 8,
      "id": "d4077191",
      "metadata": {},
      "outputs": [
        {
          "data": {
            "text/plain": [
              "0.6936757189068706"
            ]
          },
          "metadata": {},
          "output_type": "display_data"
        }
      ],
      "source": [
        "f(0.5, model)\n",
        "#f(0.5, model; s=0.4)"
      ]
    },
    {
      "cell_type": "markdown",
      "id": "705925d8",
      "metadata": {},
      "source": [
        "**Write a function\n",
        "`simulate(k0::Float64, T::Int, p::NamedTuple)::Vector{Float64}` to\n",
        "compute the simulation over `T` periods starting from initial capital\n",
        "level `k0`.**"
      ]
    },
    {
      "cell_type": "code",
      "execution_count": 13,
      "id": "43faaaef",
      "metadata": {},
      "outputs": [
        {
          "data": {
            "text/plain": [
              "simulate (generic function with 1 method)"
            ]
          },
          "metadata": {},
          "output_type": "display_data"
        }
      ],
      "source": [
        "function simulate(k0, model; s=0.4, T=100)\n",
        "    res = [k0]\n",
        "    for t=1:T\n",
        "        k = res[end]\n",
        "        K = f(k, model; s=s)\n",
        "        push!(res, K)\n",
        "    end\n",
        "    return res\n",
        "end"
      ]
    },
    {
      "cell_type": "code",
      "execution_count": 14,
      "id": "63465ba3",
      "metadata": {},
      "outputs": [
        {
          "data": {
            "text/plain": [
              "101-element Vector{Float64}:\n",
              " 0.5\n",
              " 0.7749009585424942\n",
              " 1.0679497992469396\n",
              " 1.3691220146661789\n",
              " 1.6717439771875893\n",
              " 1.9712406953317936\n",
              " 2.2644391998184954\n",
              " 2.5491450744662236\n",
              " 2.8238676158995952\n",
              " 3.087632556067258\n",
              " ⋮\n",
              " 7.234413529429885\n",
              " 7.235209646662481\n",
              " 7.2359500610507625\n",
              " 7.236638668366576\n",
              " 7.23727909214093\n",
              " 7.237874702658239\n",
              " 7.238428634629446\n",
              " 7.238943803635337\n",
              " 7.2394229214251595"
            ]
          },
          "metadata": {},
          "output_type": "display_data"
        }
      ],
      "source": [
        "simulate(0.5, model)"
      ]
    },
    {
      "cell_type": "code",
      "execution_count": 25,
      "id": "a3ddf9c6",
      "metadata": {},
      "outputs": [
        {
          "data": {
            "image/png": "[encoded data removed]",
            "image/svg+xml": [
              "<?xml version=\"1.0\" encoding=\"utf-8\"?>\n",
              "<svg xmlns=\"http://www.w3.org/2000/svg\" xmlns:xlink=\"http://www.w3.org/1999/xlink\" width=\"600\" height=\"400\" viewBox=\"0 0 2400 1600\">\n",
              "<defs>\n",
              "  <clipPath id=\"clip910\">\n",
              "    <rect x=\"0\" y=\"0\" width=\"2400\" height=\"1600\"/>\n",
              "  </clipPath>\n",
              "</defs>\n",
              "<path clip-path=\"url(#clip910)\" d=\"M0 1600 L2400 1600 L2400 8.88178e-14 L0 8.88178e-14  Z\" fill=\"#ffffff\" fill-rule=\"evenodd\" fill-opacity=\"1\"/>\n",
              "<defs>\n",
              "  <clipPath id=\"clip911\">\n",
              "    <rect x=\"480\" y=\"0\" width=\"1681\" height=\"1600\"/>\n",
              "  </clipPath>\n",
              "</defs>\n",
              "<path clip-path=\"url(#clip910)\" d=\"M112.177 1486.45 L2352.76 1486.45 L2352.76 47.2441 L112.177 47.2441  Z\" fill=\"#ffffff\" fill-rule=\"evenodd\" fill-opacity=\"1\"/>\n",
              "<defs>\n",
              "  <clipPath id=\"clip912\">\n",
              "    <rect x=\"112\" y=\"47\" width=\"2242\" height=\"1440\"/>\n",
              "  </clipPath>\n",
              "</defs>\n",
              "<polyline clip-path=\"url(#clip912)\" style=\"stroke:#000000; stroke-linecap:round; stroke-linejoin:round; stroke-width:2; stroke-opacity:0.1; fill:none\" points=\"112.177,1486.45 112.177,47.2441 \"/>\n",
              "<polyline clip-path=\"url(#clip912)\" style=\"stroke:#000000; stroke-linecap:round; stroke-linejoin:round; stroke-width:2; stroke-opacity:0.1; fill:none\" points=\"560.293,1486.45 560.293,47.2441 \"/>\n",
              "<polyline clip-path=\"url(#clip912)\" style=\"stroke:#000000; stroke-linecap:round; stroke-linejoin:round; stroke-width:2; stroke-opacity:0.1; fill:none\" points=\"1008.41,1486.45 1008.41,47.2441 \"/>\n",
              "<polyline clip-path=\"url(#clip912)\" style=\"stroke:#000000; stroke-linecap:round; stroke-linejoin:round; stroke-width:2; stroke-opacity:0.1; fill:none\" points=\"1456.52,1486.45 1456.52,47.2441 \"/>\n",
              "<polyline clip-path=\"url(#clip912)\" style=\"stroke:#000000; stroke-linecap:round; stroke-linejoin:round; stroke-width:2; stroke-opacity:0.1; fill:none\" points=\"1904.64,1486.45 1904.64,47.2441 \"/>\n",
              "<polyline clip-path=\"url(#clip912)\" style=\"stroke:#000000; stroke-linecap:round; stroke-linejoin:round; stroke-width:2; stroke-opacity:0.1; fill:none\" points=\"2352.76,1486.45 2352.76,47.2441 \"/>\n",
              "<polyline clip-path=\"url(#clip910)\" style=\"stroke:#000000; stroke-linecap:round; stroke-linejoin:round; stroke-width:4; stroke-opacity:1; fill:none\" points=\"112.177,1486.45 2352.76,1486.45 \"/>\n",
              "<polyline clip-path=\"url(#clip910)\" style=\"stroke:#000000; stroke-linecap:round; stroke-linejoin:round; stroke-width:4; stroke-opacity:1; fill:none\" points=\"112.177,1486.45 112.177,1467.55 \"/>\n",
              "<polyline clip-path=\"url(#clip910)\" style=\"stroke:#000000; stroke-linecap:round; stroke-linejoin:round; stroke-width:4; stroke-opacity:1; fill:none\" points=\"560.293,1486.45 560.293,1467.55 \"/>\n",
              "<polyline clip-path=\"url(#clip910)\" style=\"stroke:#000000; stroke-linecap:round; stroke-linejoin:round; stroke-width:4; stroke-opacity:1; fill:none\" points=\"1008.41,1486.45 1008.41,1467.55 \"/>\n",
              "<polyline clip-path=\"url(#clip910)\" style=\"stroke:#000000; stroke-linecap:round; stroke-linejoin:round; stroke-width:4; stroke-opacity:1; fill:none\" points=\"1456.52,1486.45 1456.52,1467.55 \"/>\n",
              "<polyline clip-path=\"url(#clip910)\" style=\"stroke:#000000; stroke-linecap:round; stroke-linejoin:round; stroke-width:4; stroke-opacity:1; fill:none\" points=\"1904.64,1486.45 1904.64,1467.55 \"/>\n",
              "<polyline clip-path=\"url(#clip910)\" style=\"stroke:#000000; stroke-linecap:round; stroke-linejoin:round; stroke-width:4; stroke-opacity:1; fill:none\" points=\"2352.76,1486.45 2352.76,1467.55 \"/>\n",
              "<path clip-path=\"url(#clip910)\" d=\"M112.177 1517.37 Q108.566 1517.37 106.737 1520.93 Q104.932 1524.47 104.932 1531.6 Q104.932 1538.71 106.737 1542.27 Q108.566 1545.82 112.177 1545.82 Q115.811 1545.82 117.617 1542.27 Q119.446 1538.71 119.446 1531.6 Q119.446 1524.47 117.617 1520.93 Q115.811 1517.37 112.177 1517.37 M112.177 1513.66 Q117.987 1513.66 121.043 1518.27 Q124.122 1522.85 124.122 1531.6 Q124.122 1540.33 121.043 1544.94 Q117.987 1549.52 112.177 1549.52 Q106.367 1549.52 103.288 1544.94 Q100.233 1540.33 100.233 1531.6 Q100.233 1522.85 103.288 1518.27 Q106.367 1513.66 112.177 1513.66 Z\" fill=\"#000000\" fill-rule=\"nonzero\" fill-opacity=\"1\" /><path clip-path=\"url(#clip910)\" d=\"M539.066 1544.91 L555.386 1544.91 L555.386 1548.85 L533.441 1548.85 L533.441 1544.91 Q536.103 1542.16 540.687 1537.53 Q545.293 1532.88 546.474 1531.53 Q548.719 1529.01 549.599 1527.27 Q550.501 1525.51 550.501 1523.82 Q550.501 1521.07 548.557 1519.33 Q546.636 1517.6 543.534 1517.6 Q541.335 1517.6 538.881 1518.36 Q536.45 1519.13 533.673 1520.68 L533.673 1515.95 Q536.497 1514.82 538.95 1514.24 Q541.404 1513.66 543.441 1513.66 Q548.812 1513.66 552.006 1516.35 Q555.2 1519.03 555.2 1523.52 Q555.2 1525.65 554.39 1527.57 Q553.603 1529.47 551.497 1532.07 Q550.918 1532.74 547.816 1535.95 Q544.714 1539.15 539.066 1544.91 Z\" fill=\"#000000\" fill-rule=\"nonzero\" fill-opacity=\"1\" /><path clip-path=\"url(#clip910)\" d=\"M575.2 1517.37 Q571.589 1517.37 569.76 1520.93 Q567.955 1524.47 567.955 1531.6 Q567.955 1538.71 569.76 1542.27 Q571.589 1545.82 575.2 1545.82 Q578.834 1545.82 580.64 1542.27 Q582.469 1538.71 582.469 1531.6 Q582.469 1524.47 580.64 1520.93 Q578.834 1517.37 575.2 1517.37 M575.2 1513.66 Q581.01 1513.66 584.066 1518.27 Q587.145 1522.85 587.145 1531.6 Q587.145 1540.33 584.066 1544.94 Q581.01 1549.52 575.2 1549.52 Q569.39 1549.52 566.311 1544.94 Q563.256 1540.33 563.256 1531.6 Q563.256 1522.85 566.311 1518.27 Q569.39 1513.66 575.2 1513.66 Z\" fill=\"#000000\" fill-rule=\"nonzero\" fill-opacity=\"1\" /><path clip-path=\"url(#clip910)\" d=\"M996.58 1518.36 L984.775 1536.81 L996.58 1536.81 L996.58 1518.36 M995.353 1514.29 L1001.23 1514.29 L1001.23 1536.81 L1006.16 1536.81 L1006.16 1540.7 L1001.23 1540.7 L1001.23 1548.85 L996.58 1548.85 L996.58 1540.7 L980.978 1540.7 L980.978 1536.19 L995.353 1514.29 Z\" fill=\"#000000\" fill-rule=\"nonzero\" fill-opacity=\"1\" /><path clip-path=\"url(#clip910)\" d=\"M1023.89 1517.37 Q1020.28 1517.37 1018.45 1520.93 Q1016.65 1524.47 1016.65 1531.6 Q1016.65 1538.71 1018.45 1542.27 Q1020.28 1545.82 1023.89 1545.82 Q1027.53 1545.82 1029.33 1542.27 Q1031.16 1538.71 1031.16 1531.6 Q1031.16 1524.47 1029.33 1520.93 Q1027.53 1517.37 1023.89 1517.37 M1023.89 1513.66 Q1029.7 1513.66 1032.76 1518.27 Q1035.84 1522.85 1035.84 1531.6 Q1035.84 1540.33 1032.76 1544.94 Q1029.7 1549.52 1023.89 1549.52 Q1018.08 1549.52 1015.01 1544.94 Q1011.95 1540.33 1011.95 1531.6 Q1011.95 1522.85 1015.01 1518.27 Q1018.08 1513.66 1023.89 1513.66 Z\" fill=\"#000000\" fill-rule=\"nonzero\" fill-opacity=\"1\" /><path clip-path=\"url(#clip910)\" d=\"M1441.93 1529.7 Q1438.78 1529.7 1436.93 1531.86 Q1435.1 1534.01 1435.1 1537.76 Q1435.1 1541.49 1436.93 1543.66 Q1438.78 1545.82 1441.93 1545.82 Q1445.08 1545.82 1446.91 1543.66 Q1448.76 1541.49 1448.76 1537.76 Q1448.76 1534.01 1446.91 1531.86 Q1445.08 1529.7 1441.93 1529.7 M1451.21 1515.05 L1451.21 1519.31 Q1449.45 1518.48 1447.65 1518.04 Q1445.86 1517.6 1444.11 1517.6 Q1439.48 1517.6 1437.02 1520.72 Q1434.59 1523.85 1434.24 1530.17 Q1435.61 1528.15 1437.67 1527.09 Q1439.73 1526 1442.21 1526 Q1447.42 1526 1450.42 1529.17 Q1453.46 1532.32 1453.46 1537.76 Q1453.46 1543.08 1450.31 1546.3 Q1447.16 1549.52 1441.93 1549.52 Q1435.93 1549.52 1432.76 1544.94 Q1429.59 1540.33 1429.59 1531.6 Q1429.59 1523.41 1433.48 1518.55 Q1437.37 1513.66 1443.92 1513.66 Q1445.68 1513.66 1447.46 1514.01 Q1449.27 1514.36 1451.21 1515.05 Z\" fill=\"#000000\" fill-rule=\"nonzero\" fill-opacity=\"1\" /><path clip-path=\"url(#clip910)\" d=\"M1471.51 1517.37 Q1467.9 1517.37 1466.07 1520.93 Q1464.27 1524.47 1464.27 1531.6 Q1464.27 1538.71 1466.07 1542.27 Q1467.9 1545.82 1471.51 1545.82 Q1475.15 1545.82 1476.95 1542.27 Q1478.78 1538.71 1478.78 1531.6 Q1478.78 1524.47 1476.95 1520.93 Q1475.15 1517.37 1471.51 1517.37 M1471.51 1513.66 Q1477.32 1513.66 1480.38 1518.27 Q1483.46 1522.85 1483.46 1531.6 Q1483.46 1540.33 1480.38 1544.94 Q1477.32 1549.52 1471.51 1549.52 Q1465.7 1549.52 1462.62 1544.94 Q1459.57 1540.33 1459.57 1531.6 Q1459.57 1522.85 1462.62 1518.27 Q1465.7 1513.66 1471.51 1513.66 Z\" fill=\"#000000\" fill-rule=\"nonzero\" fill-opacity=\"1\" /><path clip-path=\"url(#clip910)\" d=\"M1889.51 1532.44 Q1886.18 1532.44 1884.26 1534.22 Q1882.36 1536 1882.36 1539.13 Q1882.36 1542.25 1884.26 1544.03 Q1886.18 1545.82 1889.51 1545.82 Q1892.85 1545.82 1894.77 1544.03 Q1896.69 1542.23 1896.69 1539.13 Q1896.69 1536 1894.77 1534.22 Q1892.87 1532.44 1889.51 1532.44 M1884.84 1530.45 Q1881.83 1529.7 1880.14 1527.64 Q1878.47 1525.58 1878.47 1522.62 Q1878.47 1518.48 1881.41 1516.07 Q1884.37 1513.66 1889.51 1513.66 Q1894.67 1513.66 1897.61 1516.07 Q1900.55 1518.48 1900.55 1522.62 Q1900.55 1525.58 1898.86 1527.64 Q1897.2 1529.7 1894.21 1530.45 Q1897.59 1531.23 1899.47 1533.52 Q1901.36 1535.82 1901.36 1539.13 Q1901.36 1544.15 1898.29 1546.83 Q1895.23 1549.52 1889.51 1549.52 Q1883.8 1549.52 1880.72 1546.83 Q1877.66 1544.15 1877.66 1539.13 Q1877.66 1535.82 1879.56 1533.52 Q1881.46 1531.23 1884.84 1530.45 M1883.12 1523.06 Q1883.12 1525.75 1884.79 1527.25 Q1886.48 1528.76 1889.51 1528.76 Q1892.52 1528.76 1894.21 1527.25 Q1895.92 1525.75 1895.92 1523.06 Q1895.92 1520.38 1894.21 1518.87 Q1892.52 1517.37 1889.51 1517.37 Q1886.48 1517.37 1884.79 1518.87 Q1883.12 1520.38 1883.12 1523.06 Z\" fill=\"#000000\" fill-rule=\"nonzero\" fill-opacity=\"1\" /><path clip-path=\"url(#clip910)\" d=\"M1919.67 1517.37 Q1916.06 1517.37 1914.24 1520.93 Q1912.43 1524.47 1912.43 1531.6 Q1912.43 1538.71 1914.24 1542.27 Q1916.06 1545.82 1919.67 1545.82 Q1923.31 1545.82 1925.11 1542.27 Q1926.94 1538.71 1926.94 1531.6 Q1926.94 1524.47 1925.11 1520.93 Q1923.31 1517.37 1919.67 1517.37 M1919.67 1513.66 Q1925.48 1513.66 1928.54 1518.27 Q1931.62 1522.85 1931.62 1531.6 Q1931.62 1540.33 1928.54 1544.94 Q1925.48 1549.52 1919.67 1549.52 Q1913.86 1549.52 1910.79 1544.94 Q1907.73 1540.33 1907.73 1531.6 Q1907.73 1522.85 1910.79 1518.27 Q1913.86 1513.66 1919.67 1513.66 Z\" fill=\"#000000\" fill-rule=\"nonzero\" fill-opacity=\"1\" /><path clip-path=\"url(#clip910)\" d=\"M2312.36 1544.91 L2320 1544.91 L2320 1518.55 L2311.69 1520.21 L2311.69 1515.95 L2319.96 1514.29 L2324.63 1514.29 L2324.63 1544.91 L2332.27 1544.91 L2332.27 1548.85 L2312.36 1548.85 L2312.36 1544.91 Z\" fill=\"#000000\" fill-rule=\"nonzero\" fill-opacity=\"1\" /><path clip-path=\"url(#clip910)\" d=\"M2351.71 1517.37 Q2348.1 1517.37 2346.27 1520.93 Q2344.47 1524.47 2344.47 1531.6 Q2344.47 1538.71 2346.27 1542.27 Q2348.1 1545.82 2351.71 1545.82 Q2355.35 1545.82 2357.15 1542.27 Q2358.98 1538.71 2358.98 1531.6 Q2358.98 1524.47 2357.15 1520.93 Q2355.35 1517.37 2351.71 1517.37 M2351.71 1513.66 Q2357.52 1513.66 2360.58 1518.27 Q2363.66 1522.85 2363.66 1531.6 Q2363.66 1540.33 2360.58 1544.94 Q2357.52 1549.52 2351.71 1549.52 Q2345.9 1549.52 2342.83 1544.94 Q2339.77 1540.33 2339.77 1531.6 Q2339.77 1522.85 2342.83 1518.27 Q2345.9 1513.66 2351.71 1513.66 Z\" fill=\"#000000\" fill-rule=\"nonzero\" fill-opacity=\"1\" /><path clip-path=\"url(#clip910)\" d=\"M2381.88 1517.37 Q2378.27 1517.37 2376.44 1520.93 Q2374.63 1524.47 2374.63 1531.6 Q2374.63 1538.71 2376.44 1542.27 Q2378.27 1545.82 2381.88 1545.82 Q2385.51 1545.82 2387.32 1542.27 Q2389.14 1538.71 2389.14 1531.6 Q2389.14 1524.47 2387.32 1520.93 Q2385.51 1517.37 2381.88 1517.37 M2381.88 1513.66 Q2387.69 1513.66 2390.74 1518.27 Q2393.82 1522.85 2393.82 1531.6 Q2393.82 1540.33 2390.74 1544.94 Q2387.69 1549.52 2381.88 1549.52 Q2376.07 1549.52 2372.99 1544.94 Q2369.93 1540.33 2369.93 1531.6 Q2369.93 1522.85 2372.99 1518.27 Q2376.07 1513.66 2381.88 1513.66 Z\" fill=\"#000000\" fill-rule=\"nonzero\" fill-opacity=\"1\" /><polyline clip-path=\"url(#clip912)\" style=\"stroke:#000000; stroke-linecap:round; stroke-linejoin:round; stroke-width:2; stroke-opacity:0.1; fill:none\" points=\"112.177,1344.98 2352.76,1344.98 \"/>\n",
              "<polyline clip-path=\"url(#clip912)\" style=\"stroke:#000000; stroke-linecap:round; stroke-linejoin:round; stroke-width:2; stroke-opacity:0.1; fill:none\" points=\"112.177,1143.52 2352.76,1143.52 \"/>\n",
              "<polyline clip-path=\"url(#clip912)\" style=\"stroke:#000000; stroke-linecap:round; stroke-linejoin:round; stroke-width:2; stroke-opacity:0.1; fill:none\" points=\"112.177,942.06 2352.76,942.06 \"/>\n",
              "<polyline clip-path=\"url(#clip912)\" style=\"stroke:#000000; stroke-linecap:round; stroke-linejoin:round; stroke-width:2; stroke-opacity:0.1; fill:none\" points=\"112.177,740.598 2352.76,740.598 \"/>\n",
              "<polyline clip-path=\"url(#clip912)\" style=\"stroke:#000000; stroke-linecap:round; stroke-linejoin:round; stroke-width:2; stroke-opacity:0.1; fill:none\" points=\"112.177,539.135 2352.76,539.135 \"/>\n",
              "<polyline clip-path=\"url(#clip912)\" style=\"stroke:#000000; stroke-linecap:round; stroke-linejoin:round; stroke-width:2; stroke-opacity:0.1; fill:none\" points=\"112.177,337.673 2352.76,337.673 \"/>\n",
              "<polyline clip-path=\"url(#clip912)\" style=\"stroke:#000000; stroke-linecap:round; stroke-linejoin:round; stroke-width:2; stroke-opacity:0.1; fill:none\" points=\"112.177,136.211 2352.76,136.211 \"/>\n",
              "<polyline clip-path=\"url(#clip910)\" style=\"stroke:#000000; stroke-linecap:round; stroke-linejoin:round; stroke-width:4; stroke-opacity:1; fill:none\" points=\"112.177,1486.45 112.177,47.2441 \"/>\n",
              "<polyline clip-path=\"url(#clip910)\" style=\"stroke:#000000; stroke-linecap:round; stroke-linejoin:round; stroke-width:4; stroke-opacity:1; fill:none\" points=\"112.177,1344.98 131.075,1344.98 \"/>\n",
              "<polyline clip-path=\"url(#clip910)\" style=\"stroke:#000000; stroke-linecap:round; stroke-linejoin:round; stroke-width:4; stroke-opacity:1; fill:none\" points=\"112.177,1143.52 131.075,1143.52 \"/>\n",
              "<polyline clip-path=\"url(#clip910)\" style=\"stroke:#000000; stroke-linecap:round; stroke-linejoin:round; stroke-width:4; stroke-opacity:1; fill:none\" points=\"112.177,942.06 131.075,942.06 \"/>\n",
              "<polyline clip-path=\"url(#clip910)\" style=\"stroke:#000000; stroke-linecap:round; stroke-linejoin:round; stroke-width:4; stroke-opacity:1; fill:none\" points=\"112.177,740.598 131.075,740.598 \"/>\n",
              "<polyline clip-path=\"url(#clip910)\" style=\"stroke:#000000; stroke-linecap:round; stroke-linejoin:round; stroke-width:4; stroke-opacity:1; fill:none\" points=\"112.177,539.135 131.075,539.135 \"/>\n",
              "<polyline clip-path=\"url(#clip910)\" style=\"stroke:#000000; stroke-linecap:round; stroke-linejoin:round; stroke-width:4; stroke-opacity:1; fill:none\" points=\"112.177,337.673 131.075,337.673 \"/>\n",
              "<polyline clip-path=\"url(#clip910)\" style=\"stroke:#000000; stroke-linecap:round; stroke-linejoin:round; stroke-width:4; stroke-opacity:1; fill:none\" points=\"112.177,136.211 131.075,136.211 \"/>\n",
              "<path clip-path=\"url(#clip910)\" d=\"M56.2699 1358.33 L63.9087 1358.33 L63.9087 1331.96 L55.5986 1333.63 L55.5986 1329.37 L63.8624 1327.7 L68.5383 1327.7 L68.5383 1358.33 L76.1772 1358.33 L76.1772 1362.26 L56.2699 1362.26 L56.2699 1358.33 Z\" fill=\"#000000\" fill-rule=\"nonzero\" fill-opacity=\"1\" /><path clip-path=\"url(#clip910)\" d=\"M59.8578 1156.87 L76.1772 1156.87 L76.1772 1160.8 L54.2328 1160.8 L54.2328 1156.87 Q56.8949 1154.11 61.4782 1149.48 Q66.0846 1144.83 67.2652 1143.49 Q69.5105 1140.96 70.3902 1139.23 Q71.2929 1137.47 71.2929 1135.78 Q71.2929 1133.02 69.3485 1131.29 Q67.4272 1129.55 64.3254 1129.55 Q62.1263 1129.55 59.6726 1130.32 Q57.2421 1131.08 54.4643 1132.63 L54.4643 1127.91 Q57.2884 1126.77 59.7421 1126.2 Q62.1958 1125.62 64.2328 1125.62 Q69.6031 1125.62 72.7976 1128.3 Q75.992 1130.99 75.992 1135.48 Q75.992 1137.61 75.1818 1139.53 Q74.3948 1141.43 72.2883 1144.02 Q71.7096 1144.69 68.6078 1147.91 Q65.5059 1151.1 59.8578 1156.87 Z\" fill=\"#000000\" fill-rule=\"nonzero\" fill-opacity=\"1\" /><path clip-path=\"url(#clip910)\" d=\"M69.0476 940.706 Q72.404 941.423 74.279 943.692 Q76.1772 945.96 76.1772 949.294 Q76.1772 954.409 72.6587 957.21 Q69.1402 960.011 62.6587 960.011 Q60.4828 960.011 58.168 959.572 Q55.8764 959.155 53.4227 958.298 L53.4227 953.785 Q55.3671 954.919 57.6819 955.497 Q59.9967 956.076 62.5198 956.076 Q66.918 956.076 69.2096 954.34 Q71.5244 952.604 71.5244 949.294 Q71.5244 946.238 69.3717 944.525 Q67.242 942.789 63.4226 942.789 L59.3949 942.789 L59.3949 938.947 L63.6078 938.947 Q67.0569 938.947 68.8855 937.581 Q70.7142 936.192 70.7142 933.599 Q70.7142 930.937 68.8161 929.525 Q66.9411 928.09 63.4226 928.09 Q61.5013 928.09 59.3023 928.507 Q57.1032 928.924 54.4643 929.803 L54.4643 925.637 Q57.1264 924.896 59.4412 924.525 Q61.7791 924.155 63.8393 924.155 Q69.1633 924.155 72.2652 926.586 Q75.367 928.993 75.367 933.113 Q75.367 935.984 73.7235 937.974 Q72.08 939.942 69.0476 940.706 Z\" fill=\"#000000\" fill-rule=\"nonzero\" fill-opacity=\"1\" /><path clip-path=\"url(#clip910)\" d=\"M66.5939 727.392 L54.7884 745.841 L66.5939 745.841 L66.5939 727.392 M65.367 723.318 L71.2466 723.318 L71.2466 745.841 L76.1772 745.841 L76.1772 749.73 L71.2466 749.73 L71.2466 757.878 L66.5939 757.878 L66.5939 749.73 L50.9921 749.73 L50.9921 745.216 L65.367 723.318 Z\" fill=\"#000000\" fill-rule=\"nonzero\" fill-opacity=\"1\" /><path clip-path=\"url(#clip910)\" d=\"M55.2745 521.855 L73.6309 521.855 L73.6309 525.791 L59.5569 525.791 L59.5569 534.263 Q60.5754 533.916 61.5939 533.754 Q62.6124 533.568 63.6309 533.568 Q69.418 533.568 72.7976 536.74 Q76.1772 539.911 76.1772 545.328 Q76.1772 550.906 72.705 554.008 Q69.2328 557.087 62.9134 557.087 Q60.7374 557.087 58.4689 556.716 Q56.2236 556.346 53.8162 555.605 L53.8162 550.906 Q55.8995 552.041 58.1217 552.596 Q60.3439 553.152 62.8208 553.152 Q66.8254 553.152 69.1633 551.045 Q71.5013 548.939 71.5013 545.328 Q71.5013 541.716 69.1633 539.61 Q66.8254 537.504 62.8208 537.504 Q60.9458 537.504 59.0708 537.92 Q57.2189 538.337 55.2745 539.217 L55.2745 521.855 Z\" fill=\"#000000\" fill-rule=\"nonzero\" fill-opacity=\"1\" /><path clip-path=\"url(#clip910)\" d=\"M64.6495 335.81 Q61.5013 335.81 59.6495 337.963 Q57.8208 340.115 57.8208 343.865 Q57.8208 347.592 59.6495 349.768 Q61.5013 351.921 64.6495 351.921 Q67.7976 351.921 69.6263 349.768 Q71.4781 347.592 71.4781 343.865 Q71.4781 340.115 69.6263 337.963 Q67.7976 335.81 64.6495 335.81 M73.9318 321.157 L73.9318 325.416 Q72.1726 324.583 70.367 324.143 Q68.5846 323.703 66.8254 323.703 Q62.1958 323.703 59.7421 326.828 Q57.3115 329.953 56.9643 336.273 Q58.33 334.259 60.3902 333.194 Q62.4504 332.106 64.9272 332.106 Q70.1355 332.106 73.1448 335.277 Q76.1772 338.426 76.1772 343.865 Q76.1772 349.189 73.029 352.407 Q69.8809 355.625 64.6495 355.625 Q58.6541 355.625 55.4828 351.041 Q52.3116 346.435 52.3116 337.708 Q52.3116 329.514 56.2004 324.652 Q60.0893 319.768 66.6402 319.768 Q68.3994 319.768 70.1818 320.115 Q71.9874 320.463 73.9318 321.157 Z\" fill=\"#000000\" fill-rule=\"nonzero\" fill-opacity=\"1\" /><path clip-path=\"url(#clip910)\" d=\"M53.9551 118.931 L76.1772 118.931 L76.1772 120.922 L63.6309 153.491 L58.7467 153.491 L70.5522 122.866 L53.9551 122.866 L53.9551 118.931 Z\" fill=\"#000000\" fill-rule=\"nonzero\" fill-opacity=\"1\" /><polyline clip-path=\"url(#clip912)\" style=\"stroke:#0000ff; stroke-linecap:round; stroke-linejoin:round; stroke-width:4; stroke-opacity:1; fill:none\" points=\"134.583,1445.72 156.989,1390.33 179.395,1331.3 201.8,1270.62 224.206,1209.65 246.612,1149.32 269.018,1090.25 291.423,1032.89 313.829,977.544 336.235,924.405 358.641,873.593 381.047,825.168 403.452,779.148 425.858,735.517 448.264,694.236 470.67,655.246 493.076,618.477 515.481,583.849 537.887,551.275 560.293,520.666 582.699,491.93 605.104,464.974 627.51,439.708 649.916,416.04 672.322,393.884 694.728,373.154 717.133,353.768 739.539,335.647 761.945,318.715 784.351,302.9 806.757,288.133 829.162,274.349 851.568,261.487 873.974,249.487 896.38,238.295 918.786,227.859 941.191,218.129 963.597,209.06 986.003,200.607 1008.41,192.731 1030.81,185.393 1053.22,178.557 1075.63,172.189 1098.03,166.259 1120.44,160.736 1142.84,155.594 1165.25,150.806 1187.65,146.349 1210.06,142.199 1232.47,138.336 1254.87,134.741 1277.28,131.394 1299.68,128.28 1322.09,125.382 1344.5,122.684 1366.9,120.174 1389.31,117.839 1411.71,115.666 1434.12,113.644 1456.52,111.763 1478.93,110.012 1501.34,108.384 1523.74,106.869 1546.15,105.46 1568.55,104.149 1590.96,102.929 1613.36,101.795 1635.77,100.739 1658.18,99.7574 1680.58,98.8441 1702.99,97.9947 1725.39,97.2045 1747.8,96.4696 1770.21,95.7859 1792.61,95.1501 1815.02,94.5587 1837.42,94.0086 1859.83,93.4969 1882.23,93.021 1904.64,92.5784 1927.05,92.1667 1949.45,91.7838 1971.86,91.4277 1994.26,91.0965 2016.67,90.7884 2039.07,90.5019 2061.48,90.2354 2083.89,89.9876 2106.29,89.7571 2128.7,89.5427 2151.1,89.3434 2173.51,89.1579 2195.92,88.9855 2218.32,88.8251 2240.73,88.6759 2263.13,88.5372 2285.54,88.4082 2307.94,88.2882 2330.35,88.1766 2352.76,88.0728 2375.16,87.9763 \"/>\n",
              "<path clip-path=\"url(#clip910)\" d=\"M2031 1438.47 L2278.07 1438.47 L2278.07 1334.79 L2031 1334.79  Z\" fill=\"#ffffff\" fill-rule=\"evenodd\" fill-opacity=\"1\"/>\n",
              "<polyline clip-path=\"url(#clip910)\" style=\"stroke:#000000; stroke-linecap:round; stroke-linejoin:round; stroke-width:4; stroke-opacity:1; fill:none\" points=\"2031,1438.47 2278.07,1438.47 2278.07,1334.79 2031,1334.79 2031,1438.47 \"/>\n",
              "<polyline clip-path=\"url(#clip910)\" style=\"stroke:#0000ff; stroke-linecap:round; stroke-linejoin:round; stroke-width:4; stroke-opacity:1; fill:none\" points=\"2055.9,1386.63 2205.27,1386.63 \"/>\n",
              "<path clip-path=\"url(#clip910)\" d=\"M2230.17 1367.9 L2234.45 1367.9 L2234.45 1389.17 L2247.16 1377.99 L2252.6 1377.99 L2238.85 1390.12 L2253.17 1403.91 L2247.62 1403.91 L2234.45 1391.25 L2234.45 1403.91 L2230.17 1403.91 L2230.17 1367.9 Z\" fill=\"#000000\" fill-rule=\"nonzero\" fill-opacity=\"1\" /></svg>\n"
            ],
            "text/html": [
              "<?xml version=\"1.0\" encoding=\"utf-8\"?>\n",
              "<svg xmlns=\"http://www.w3.org/2000/svg\" xmlns:xlink=\"http://www.w3.org/1999/xlink\" width=\"600\" height=\"400\" viewBox=\"0 0 2400 1600\">\n",
              "<defs>\n",
              "  <clipPath id=\"clip960\">\n",
              "    <rect x=\"0\" y=\"0\" width=\"2400\" height=\"1600\"/>\n",
              "  </clipPath>\n",
              "</defs>\n",
              "<path clip-path=\"url(#clip960)\" d=\"M0 1600 L2400 1600 L2400 8.88178e-14 L0 8.88178e-14  Z\" fill=\"#ffffff\" fill-rule=\"evenodd\" fill-opacity=\"1\"/>\n",
              "<defs>\n",
              "  <clipPath id=\"clip961\">\n",
              "    <rect x=\"480\" y=\"0\" width=\"1681\" height=\"1600\"/>\n",
              "  </clipPath>\n",
              "</defs>\n",
              "<path clip-path=\"url(#clip960)\" d=\"M112.177 1486.45 L2352.76 1486.45 L2352.76 47.2441 L112.177 47.2441  Z\" fill=\"#ffffff\" fill-rule=\"evenodd\" fill-opacity=\"1\"/>\n",
              "<defs>\n",
              "  <clipPath id=\"clip962\">\n",
              "    <rect x=\"112\" y=\"47\" width=\"2242\" height=\"1440\"/>\n",
              "  </clipPath>\n",
              "</defs>\n",
              "<polyline clip-path=\"url(#clip962)\" style=\"stroke:#000000; stroke-linecap:round; stroke-linejoin:round; stroke-width:2; stroke-opacity:0.1; fill:none\" points=\"112.177,1486.45 112.177,47.2441 \"/>\n",
              "<polyline clip-path=\"url(#clip962)\" style=\"stroke:#000000; stroke-linecap:round; stroke-linejoin:round; stroke-width:2; stroke-opacity:0.1; fill:none\" points=\"560.293,1486.45 560.293,47.2441 \"/>\n",
              "<polyline clip-path=\"url(#clip962)\" style=\"stroke:#000000; stroke-linecap:round; stroke-linejoin:round; stroke-width:2; stroke-opacity:0.1; fill:none\" points=\"1008.41,1486.45 1008.41,47.2441 \"/>\n",
              "<polyline clip-path=\"url(#clip962)\" style=\"stroke:#000000; stroke-linecap:round; stroke-linejoin:round; stroke-width:2; stroke-opacity:0.1; fill:none\" points=\"1456.52,1486.45 1456.52,47.2441 \"/>\n",
              "<polyline clip-path=\"url(#clip962)\" style=\"stroke:#000000; stroke-linecap:round; stroke-linejoin:round; stroke-width:2; stroke-opacity:0.1; fill:none\" points=\"1904.64,1486.45 1904.64,47.2441 \"/>\n",
              "<polyline clip-path=\"url(#clip962)\" style=\"stroke:#000000; stroke-linecap:round; stroke-linejoin:round; stroke-width:2; stroke-opacity:0.1; fill:none\" points=\"2352.76,1486.45 2352.76,47.2441 \"/>\n",
              "<polyline clip-path=\"url(#clip960)\" style=\"stroke:#000000; stroke-linecap:round; stroke-linejoin:round; stroke-width:4; stroke-opacity:1; fill:none\" points=\"112.177,1486.45 2352.76,1486.45 \"/>\n",
              "<polyline clip-path=\"url(#clip960)\" style=\"stroke:#000000; stroke-linecap:round; stroke-linejoin:round; stroke-width:4; stroke-opacity:1; fill:none\" points=\"112.177,1486.45 112.177,1467.55 \"/>\n",
              "<polyline clip-path=\"url(#clip960)\" style=\"stroke:#000000; stroke-linecap:round; stroke-linejoin:round; stroke-width:4; stroke-opacity:1; fill:none\" points=\"560.293,1486.45 560.293,1467.55 \"/>\n",
              "<polyline clip-path=\"url(#clip960)\" style=\"stroke:#000000; stroke-linecap:round; stroke-linejoin:round; stroke-width:4; stroke-opacity:1; fill:none\" points=\"1008.41,1486.45 1008.41,1467.55 \"/>\n",
              "<polyline clip-path=\"url(#clip960)\" style=\"stroke:#000000; stroke-linecap:round; stroke-linejoin:round; stroke-width:4; stroke-opacity:1; fill:none\" points=\"1456.52,1486.45 1456.52,1467.55 \"/>\n",
              "<polyline clip-path=\"url(#clip960)\" style=\"stroke:#000000; stroke-linecap:round; stroke-linejoin:round; stroke-width:4; stroke-opacity:1; fill:none\" points=\"1904.64,1486.45 1904.64,1467.55 \"/>\n",
              "<polyline clip-path=\"url(#clip960)\" style=\"stroke:#000000; stroke-linecap:round; stroke-linejoin:round; stroke-width:4; stroke-opacity:1; fill:none\" points=\"2352.76,1486.45 2352.76,1467.55 \"/>\n",
              "<path clip-path=\"url(#clip960)\" d=\"M112.177 1517.37 Q108.566 1517.37 106.737 1520.93 Q104.932 1524.47 104.932 1531.6 Q104.932 1538.71 106.737 1542.27 Q108.566 1545.82 112.177 1545.82 Q115.811 1545.82 117.617 1542.27 Q119.446 1538.71 119.446 1531.6 Q119.446 1524.47 117.617 1520.93 Q115.811 1517.37 112.177 1517.37 M112.177 1513.66 Q117.987 1513.66 121.043 1518.27 Q124.122 1522.85 124.122 1531.6 Q124.122 1540.33 121.043 1544.94 Q117.987 1549.52 112.177 1549.52 Q106.367 1549.52 103.288 1544.94 Q100.233 1540.33 100.233 1531.6 Q100.233 1522.85 103.288 1518.27 Q106.367 1513.66 112.177 1513.66 Z\" fill=\"#000000\" fill-rule=\"nonzero\" fill-opacity=\"1\" /><path clip-path=\"url(#clip960)\" d=\"M539.066 1544.91 L555.386 1544.91 L555.386 1548.85 L533.441 1548.85 L533.441 1544.91 Q536.103 1542.16 540.687 1537.53 Q545.293 1532.88 546.474 1531.53 Q548.719 1529.01 549.599 1527.27 Q550.501 1525.51 550.501 1523.82 Q550.501 1521.07 548.557 1519.33 Q546.636 1517.6 543.534 1517.6 Q541.335 1517.6 538.881 1518.36 Q536.45 1519.13 533.673 1520.68 L533.673 1515.95 Q536.497 1514.82 538.95 1514.24 Q541.404 1513.66 543.441 1513.66 Q548.812 1513.66 552.006 1516.35 Q555.2 1519.03 555.2 1523.52 Q555.2 1525.65 554.39 1527.57 Q553.603 1529.47 551.497 1532.07 Q550.918 1532.74 547.816 1535.95 Q544.714 1539.15 539.066 1544.91 Z\" fill=\"#000000\" fill-rule=\"nonzero\" fill-opacity=\"1\" /><path clip-path=\"url(#clip960)\" d=\"M575.2 1517.37 Q571.589 1517.37 569.76 1520.93 Q567.955 1524.47 567.955 1531.6 Q567.955 1538.71 569.76 1542.27 Q571.589 1545.82 575.2 1545.82 Q578.834 1545.82 580.64 1542.27 Q582.469 1538.71 582.469 1531.6 Q582.469 1524.47 580.64 1520.93 Q578.834 1517.37 575.2 1517.37 M575.2 1513.66 Q581.01 1513.66 584.066 1518.27 Q587.145 1522.85 587.145 1531.6 Q587.145 1540.33 584.066 1544.94 Q581.01 1549.52 575.2 1549.52 Q569.39 1549.52 566.311 1544.94 Q563.256 1540.33 563.256 1531.6 Q563.256 1522.85 566.311 1518.27 Q569.39 1513.66 575.2 1513.66 Z\" fill=\"#000000\" fill-rule=\"nonzero\" fill-opacity=\"1\" /><path clip-path=\"url(#clip960)\" d=\"M996.58 1518.36 L984.775 1536.81 L996.58 1536.81 L996.58 1518.36 M995.353 1514.29 L1001.23 1514.29 L1001.23 1536.81 L1006.16 1536.81 L1006.16 1540.7 L1001.23 1540.7 L1001.23 1548.85 L996.58 1548.85 L996.58 1540.7 L980.978 1540.7 L980.978 1536.19 L995.353 1514.29 Z\" fill=\"#000000\" fill-rule=\"nonzero\" fill-opacity=\"1\" /><path clip-path=\"url(#clip960)\" d=\"M1023.89 1517.37 Q1020.28 1517.37 1018.45 1520.93 Q1016.65 1524.47 1016.65 1531.6 Q1016.65 1538.71 1018.45 1542.27 Q1020.28 1545.82 1023.89 1545.82 Q1027.53 1545.82 1029.33 1542.27 Q1031.16 1538.71 1031.16 1531.6 Q1031.16 1524.47 1029.33 1520.93 Q1027.53 1517.37 1023.89 1517.37 M1023.89 1513.66 Q1029.7 1513.66 1032.76 1518.27 Q1035.84 1522.85 1035.84 1531.6 Q1035.84 1540.33 1032.76 1544.94 Q1029.7 1549.52 1023.89 1549.52 Q1018.08 1549.52 1015.01 1544.94 Q1011.95 1540.33 1011.95 1531.6 Q1011.95 1522.85 1015.01 1518.27 Q1018.08 1513.66 1023.89 1513.66 Z\" fill=\"#000000\" fill-rule=\"nonzero\" fill-opacity=\"1\" /><path clip-path=\"url(#clip960)\" d=\"M1441.93 1529.7 Q1438.78 1529.7 1436.93 1531.86 Q1435.1 1534.01 1435.1 1537.76 Q1435.1 1541.49 1436.93 1543.66 Q1438.78 1545.82 1441.93 1545.82 Q1445.08 1545.82 1446.91 1543.66 Q1448.76 1541.49 1448.76 1537.76 Q1448.76 1534.01 1446.91 1531.86 Q1445.08 1529.7 1441.93 1529.7 M1451.21 1515.05 L1451.21 1519.31 Q1449.45 1518.48 1447.65 1518.04 Q1445.86 1517.6 1444.11 1517.6 Q1439.48 1517.6 1437.02 1520.72 Q1434.59 1523.85 1434.24 1530.17 Q1435.61 1528.15 1437.67 1527.09 Q1439.73 1526 1442.21 1526 Q1447.42 1526 1450.42 1529.17 Q1453.46 1532.32 1453.46 1537.76 Q1453.46 1543.08 1450.31 1546.3 Q1447.16 1549.52 1441.93 1549.52 Q1435.93 1549.52 1432.76 1544.94 Q1429.59 1540.33 1429.59 1531.6 Q1429.59 1523.41 1433.48 1518.55 Q1437.37 1513.66 1443.92 1513.66 Q1445.68 1513.66 1447.46 1514.01 Q1449.27 1514.36 1451.21 1515.05 Z\" fill=\"#000000\" fill-rule=\"nonzero\" fill-opacity=\"1\" /><path clip-path=\"url(#clip960)\" d=\"M1471.51 1517.37 Q1467.9 1517.37 1466.07 1520.93 Q1464.27 1524.47 1464.27 1531.6 Q1464.27 1538.71 1466.07 1542.27 Q1467.9 1545.82 1471.51 1545.82 Q1475.15 1545.82 1476.95 1542.27 Q1478.78 1538.71 1478.78 1531.6 Q1478.78 1524.47 1476.95 1520.93 Q1475.15 1517.37 1471.51 1517.37 M1471.51 1513.66 Q1477.32 1513.66 1480.38 1518.27 Q1483.46 1522.85 1483.46 1531.6 Q1483.46 1540.33 1480.38 1544.94 Q1477.32 1549.52 1471.51 1549.52 Q1465.7 1549.52 1462.62 1544.94 Q1459.57 1540.33 1459.57 1531.6 Q1459.57 1522.85 1462.62 1518.27 Q1465.7 1513.66 1471.51 1513.66 Z\" fill=\"#000000\" fill-rule=\"nonzero\" fill-opacity=\"1\" /><path clip-path=\"url(#clip960)\" d=\"M1889.51 1532.44 Q1886.18 1532.44 1884.26 1534.22 Q1882.36 1536 1882.36 1539.13 Q1882.36 1542.25 1884.26 1544.03 Q1886.18 1545.82 1889.51 1545.82 Q1892.85 1545.82 1894.77 1544.03 Q1896.69 1542.23 1896.69 1539.13 Q1896.69 1536 1894.77 1534.22 Q1892.87 1532.44 1889.51 1532.44 M1884.84 1530.45 Q1881.83 1529.7 1880.14 1527.64 Q1878.47 1525.58 1878.47 1522.62 Q1878.47 1518.48 1881.41 1516.07 Q1884.37 1513.66 1889.51 1513.66 Q1894.67 1513.66 1897.61 1516.07 Q1900.55 1518.48 1900.55 1522.62 Q1900.55 1525.58 1898.86 1527.64 Q1897.2 1529.7 1894.21 1530.45 Q1897.59 1531.23 1899.47 1533.52 Q1901.36 1535.82 1901.36 1539.13 Q1901.36 1544.15 1898.29 1546.83 Q1895.23 1549.52 1889.51 1549.52 Q1883.8 1549.52 1880.72 1546.83 Q1877.66 1544.15 1877.66 1539.13 Q1877.66 1535.82 1879.56 1533.52 Q1881.46 1531.23 1884.84 1530.45 M1883.12 1523.06 Q1883.12 1525.75 1884.79 1527.25 Q1886.48 1528.76 1889.51 1528.76 Q1892.52 1528.76 1894.21 1527.25 Q1895.92 1525.75 1895.92 1523.06 Q1895.92 1520.38 1894.21 1518.87 Q1892.52 1517.37 1889.51 1517.37 Q1886.48 1517.37 1884.79 1518.87 Q1883.12 1520.38 1883.12 1523.06 Z\" fill=\"#000000\" fill-rule=\"nonzero\" fill-opacity=\"1\" /><path clip-path=\"url(#clip960)\" d=\"M1919.67 1517.37 Q1916.06 1517.37 1914.24 1520.93 Q1912.43 1524.47 1912.43 1531.6 Q1912.43 1538.71 1914.24 1542.27 Q1916.06 1545.82 1919.67 1545.82 Q1923.31 1545.82 1925.11 1542.27 Q1926.94 1538.71 1926.94 1531.6 Q1926.94 1524.47 1925.11 1520.93 Q1923.31 1517.37 1919.67 1517.37 M1919.67 1513.66 Q1925.48 1513.66 1928.54 1518.27 Q1931.62 1522.85 1931.62 1531.6 Q1931.62 1540.33 1928.54 1544.94 Q1925.48 1549.52 1919.67 1549.52 Q1913.86 1549.52 1910.79 1544.94 Q1907.73 1540.33 1907.73 1531.6 Q1907.73 1522.85 1910.79 1518.27 Q1913.86 1513.66 1919.67 1513.66 Z\" fill=\"#000000\" fill-rule=\"nonzero\" fill-opacity=\"1\" /><path clip-path=\"url(#clip960)\" d=\"M2312.36 1544.91 L2320 1544.91 L2320 1518.55 L2311.69 1520.21 L2311.69 1515.95 L2319.96 1514.29 L2324.63 1514.29 L2324.63 1544.91 L2332.27 1544.91 L2332.27 1548.85 L2312.36 1548.85 L2312.36 1544.91 Z\" fill=\"#000000\" fill-rule=\"nonzero\" fill-opacity=\"1\" /><path clip-path=\"url(#clip960)\" d=\"M2351.71 1517.37 Q2348.1 1517.37 2346.27 1520.93 Q2344.47 1524.47 2344.47 1531.6 Q2344.47 1538.71 2346.27 1542.27 Q2348.1 1545.82 2351.71 1545.82 Q2355.35 1545.82 2357.15 1542.27 Q2358.98 1538.71 2358.98 1531.6 Q2358.98 1524.47 2357.15 1520.93 Q2355.35 1517.37 2351.71 1517.37 M2351.71 1513.66 Q2357.52 1513.66 2360.58 1518.27 Q2363.66 1522.85 2363.66 1531.6 Q2363.66 1540.33 2360.58 1544.94 Q2357.52 1549.52 2351.71 1549.52 Q2345.9 1549.52 2342.83 1544.94 Q2339.77 1540.33 2339.77 1531.6 Q2339.77 1522.85 2342.83 1518.27 Q2345.9 1513.66 2351.71 1513.66 Z\" fill=\"#000000\" fill-rule=\"nonzero\" fill-opacity=\"1\" /><path clip-path=\"url(#clip960)\" d=\"M2381.88 1517.37 Q2378.27 1517.37 2376.44 1520.93 Q2374.63 1524.47 2374.63 1531.6 Q2374.63 1538.71 2376.44 1542.27 Q2378.27 1545.82 2381.88 1545.82 Q2385.51 1545.82 2387.32 1542.27 Q2389.14 1538.71 2389.14 1531.6 Q2389.14 1524.47 2387.32 1520.93 Q2385.51 1517.37 2381.88 1517.37 M2381.88 1513.66 Q2387.69 1513.66 2390.74 1518.27 Q2393.82 1522.85 2393.82 1531.6 Q2393.82 1540.33 2390.74 1544.94 Q2387.69 1549.52 2381.88 1549.52 Q2376.07 1549.52 2372.99 1544.94 Q2369.93 1540.33 2369.93 1531.6 Q2369.93 1522.85 2372.99 1518.27 Q2376.07 1513.66 2381.88 1513.66 Z\" fill=\"#000000\" fill-rule=\"nonzero\" fill-opacity=\"1\" /><polyline clip-path=\"url(#clip962)\" style=\"stroke:#000000; stroke-linecap:round; stroke-linejoin:round; stroke-width:2; stroke-opacity:0.1; fill:none\" points=\"112.177,1344.98 2352.76,1344.98 \"/>\n",
              "<polyline clip-path=\"url(#clip962)\" style=\"stroke:#000000; stroke-linecap:round; stroke-linejoin:round; stroke-width:2; stroke-opacity:0.1; fill:none\" points=\"112.177,1143.52 2352.76,1143.52 \"/>\n",
              "<polyline clip-path=\"url(#clip962)\" style=\"stroke:#000000; stroke-linecap:round; stroke-linejoin:round; stroke-width:2; stroke-opacity:0.1; fill:none\" points=\"112.177,942.06 2352.76,942.06 \"/>\n",
              "<polyline clip-path=\"url(#clip962)\" style=\"stroke:#000000; stroke-linecap:round; stroke-linejoin:round; stroke-width:2; stroke-opacity:0.1; fill:none\" points=\"112.177,740.598 2352.76,740.598 \"/>\n",
              "<polyline clip-path=\"url(#clip962)\" style=\"stroke:#000000; stroke-linecap:round; stroke-linejoin:round; stroke-width:2; stroke-opacity:0.1; fill:none\" points=\"112.177,539.135 2352.76,539.135 \"/>\n",
              "<polyline clip-path=\"url(#clip962)\" style=\"stroke:#000000; stroke-linecap:round; stroke-linejoin:round; stroke-width:2; stroke-opacity:0.1; fill:none\" points=\"112.177,337.673 2352.76,337.673 \"/>\n",
              "<polyline clip-path=\"url(#clip962)\" style=\"stroke:#000000; stroke-linecap:round; stroke-linejoin:round; stroke-width:2; stroke-opacity:0.1; fill:none\" points=\"112.177,136.211 2352.76,136.211 \"/>\n",
              "<polyline clip-path=\"url(#clip960)\" style=\"stroke:#000000; stroke-linecap:round; stroke-linejoin:round; stroke-width:4; stroke-opacity:1; fill:none\" points=\"112.177,1486.45 112.177,47.2441 \"/>\n",
              "<polyline clip-path=\"url(#clip960)\" style=\"stroke:#000000; stroke-linecap:round; stroke-linejoin:round; stroke-width:4; stroke-opacity:1; fill:none\" points=\"112.177,1344.98 131.075,1344.98 \"/>\n",
              "<polyline clip-path=\"url(#clip960)\" style=\"stroke:#000000; stroke-linecap:round; stroke-linejoin:round; stroke-width:4; stroke-opacity:1; fill:none\" points=\"112.177,1143.52 131.075,1143.52 \"/>\n",
              "<polyline clip-path=\"url(#clip960)\" style=\"stroke:#000000; stroke-linecap:round; stroke-linejoin:round; stroke-width:4; stroke-opacity:1; fill:none\" points=\"112.177,942.06 131.075,942.06 \"/>\n",
              "<polyline clip-path=\"url(#clip960)\" style=\"stroke:#000000; stroke-linecap:round; stroke-linejoin:round; stroke-width:4; stroke-opacity:1; fill:none\" points=\"112.177,740.598 131.075,740.598 \"/>\n",
              "<polyline clip-path=\"url(#clip960)\" style=\"stroke:#000000; stroke-linecap:round; stroke-linejoin:round; stroke-width:4; stroke-opacity:1; fill:none\" points=\"112.177,539.135 131.075,539.135 \"/>\n",
              "<polyline clip-path=\"url(#clip960)\" style=\"stroke:#000000; stroke-linecap:round; stroke-linejoin:round; stroke-width:4; stroke-opacity:1; fill:none\" points=\"112.177,337.673 131.075,337.673 \"/>\n",
              "<polyline clip-path=\"url(#clip960)\" style=\"stroke:#000000; stroke-linecap:round; stroke-linejoin:round; stroke-width:4; stroke-opacity:1; fill:none\" points=\"112.177,136.211 131.075,136.211 \"/>\n",
              "<path clip-path=\"url(#clip960)\" d=\"M56.2699 1358.33 L63.9087 1358.33 L63.9087 1331.96 L55.5986 1333.63 L55.5986 1329.37 L63.8624 1327.7 L68.5383 1327.7 L68.5383 1358.33 L76.1772 1358.33 L76.1772 1362.26 L56.2699 1362.26 L56.2699 1358.33 Z\" fill=\"#000000\" fill-rule=\"nonzero\" fill-opacity=\"1\" /><path clip-path=\"url(#clip960)\" d=\"M59.8578 1156.87 L76.1772 1156.87 L76.1772 1160.8 L54.2328 1160.8 L54.2328 1156.87 Q56.8949 1154.11 61.4782 1149.48 Q66.0846 1144.83 67.2652 1143.49 Q69.5105 1140.96 70.3902 1139.23 Q71.2929 1137.47 71.2929 1135.78 Q71.2929 1133.02 69.3485 1131.29 Q67.4272 1129.55 64.3254 1129.55 Q62.1263 1129.55 59.6726 1130.32 Q57.2421 1131.08 54.4643 1132.63 L54.4643 1127.91 Q57.2884 1126.77 59.7421 1126.2 Q62.1958 1125.62 64.2328 1125.62 Q69.6031 1125.62 72.7976 1128.3 Q75.992 1130.99 75.992 1135.48 Q75.992 1137.61 75.1818 1139.53 Q74.3948 1141.43 72.2883 1144.02 Q71.7096 1144.69 68.6078 1147.91 Q65.5059 1151.1 59.8578 1156.87 Z\" fill=\"#000000\" fill-rule=\"nonzero\" fill-opacity=\"1\" /><path clip-path=\"url(#clip960)\" d=\"M69.0476 940.706 Q72.404 941.423 74.279 943.692 Q76.1772 945.96 76.1772 949.294 Q76.1772 954.409 72.6587 957.21 Q69.1402 960.011 62.6587 960.011 Q60.4828 960.011 58.168 959.572 Q55.8764 959.155 53.4227 958.298 L53.4227 953.785 Q55.3671 954.919 57.6819 955.497 Q59.9967 956.076 62.5198 956.076 Q66.918 956.076 69.2096 954.34 Q71.5244 952.604 71.5244 949.294 Q71.5244 946.238 69.3717 944.525 Q67.242 942.789 63.4226 942.789 L59.3949 942.789 L59.3949 938.947 L63.6078 938.947 Q67.0569 938.947 68.8855 937.581 Q70.7142 936.192 70.7142 933.599 Q70.7142 930.937 68.8161 929.525 Q66.9411 928.09 63.4226 928.09 Q61.5013 928.09 59.3023 928.507 Q57.1032 928.924 54.4643 929.803 L54.4643 925.637 Q57.1264 924.896 59.4412 924.525 Q61.7791 924.155 63.8393 924.155 Q69.1633 924.155 72.2652 926.586 Q75.367 928.993 75.367 933.113 Q75.367 935.984 73.7235 937.974 Q72.08 939.942 69.0476 940.706 Z\" fill=\"#000000\" fill-rule=\"nonzero\" fill-opacity=\"1\" /><path clip-path=\"url(#clip960)\" d=\"M66.5939 727.392 L54.7884 745.841 L66.5939 745.841 L66.5939 727.392 M65.367 723.318 L71.2466 723.318 L71.2466 745.841 L76.1772 745.841 L76.1772 749.73 L71.2466 749.73 L71.2466 757.878 L66.5939 757.878 L66.5939 749.73 L50.9921 749.73 L50.9921 745.216 L65.367 723.318 Z\" fill=\"#000000\" fill-rule=\"nonzero\" fill-opacity=\"1\" /><path clip-path=\"url(#clip960)\" d=\"M55.2745 521.855 L73.6309 521.855 L73.6309 525.791 L59.5569 525.791 L59.5569 534.263 Q60.5754 533.916 61.5939 533.754 Q62.6124 533.568 63.6309 533.568 Q69.418 533.568 72.7976 536.74 Q76.1772 539.911 76.1772 545.328 Q76.1772 550.906 72.705 554.008 Q69.2328 557.087 62.9134 557.087 Q60.7374 557.087 58.4689 556.716 Q56.2236 556.346 53.8162 555.605 L53.8162 550.906 Q55.8995 552.041 58.1217 552.596 Q60.3439 553.152 62.8208 553.152 Q66.8254 553.152 69.1633 551.045 Q71.5013 548.939 71.5013 545.328 Q71.5013 541.716 69.1633 539.61 Q66.8254 537.504 62.8208 537.504 Q60.9458 537.504 59.0708 537.92 Q57.2189 538.337 55.2745 539.217 L55.2745 521.855 Z\" fill=\"#000000\" fill-rule=\"nonzero\" fill-opacity=\"1\" /><path clip-path=\"url(#clip960)\" d=\"M64.6495 335.81 Q61.5013 335.81 59.6495 337.963 Q57.8208 340.115 57.8208 343.865 Q57.8208 347.592 59.6495 349.768 Q61.5013 351.921 64.6495 351.921 Q67.7976 351.921 69.6263 349.768 Q71.4781 347.592 71.4781 343.865 Q71.4781 340.115 69.6263 337.963 Q67.7976 335.81 64.6495 335.81 M73.9318 321.157 L73.9318 325.416 Q72.1726 324.583 70.367 324.143 Q68.5846 323.703 66.8254 323.703 Q62.1958 323.703 59.7421 326.828 Q57.3115 329.953 56.9643 336.273 Q58.33 334.259 60.3902 333.194 Q62.4504 332.106 64.9272 332.106 Q70.1355 332.106 73.1448 335.277 Q76.1772 338.426 76.1772 343.865 Q76.1772 349.189 73.029 352.407 Q69.8809 355.625 64.6495 355.625 Q58.6541 355.625 55.4828 351.041 Q52.3116 346.435 52.3116 337.708 Q52.3116 329.514 56.2004 324.652 Q60.0893 319.768 66.6402 319.768 Q68.3994 319.768 70.1818 320.115 Q71.9874 320.463 73.9318 321.157 Z\" fill=\"#000000\" fill-rule=\"nonzero\" fill-opacity=\"1\" /><path clip-path=\"url(#clip960)\" d=\"M53.9551 118.931 L76.1772 118.931 L76.1772 120.922 L63.6309 153.491 L58.7467 153.491 L70.5522 122.866 L53.9551 122.866 L53.9551 118.931 Z\" fill=\"#000000\" fill-rule=\"nonzero\" fill-opacity=\"1\" /><polyline clip-path=\"url(#clip962)\" style=\"stroke:#0000ff; stroke-linecap:round; stroke-linejoin:round; stroke-width:4; stroke-opacity:1; fill:none\" points=\"134.583,1445.72 156.989,1390.33 179.395,1331.3 201.8,1270.62 224.206,1209.65 246.612,1149.32 269.018,1090.25 291.423,1032.89 313.829,977.544 336.235,924.405 358.641,873.593 381.047,825.168 403.452,779.148 425.858,735.517 448.264,694.236 470.67,655.246 493.076,618.477 515.481,583.849 537.887,551.275 560.293,520.666 582.699,491.93 605.104,464.974 627.51,439.708 649.916,416.04 672.322,393.884 694.728,373.154 717.133,353.768 739.539,335.647 761.945,318.715 784.351,302.9 806.757,288.133 829.162,274.349 851.568,261.487 873.974,249.487 896.38,238.295 918.786,227.859 941.191,218.129 963.597,209.06 986.003,200.607 1008.41,192.731 1030.81,185.393 1053.22,178.557 1075.63,172.189 1098.03,166.259 1120.44,160.736 1142.84,155.594 1165.25,150.806 1187.65,146.349 1210.06,142.199 1232.47,138.336 1254.87,134.741 1277.28,131.394 1299.68,128.28 1322.09,125.382 1344.5,122.684 1366.9,120.174 1389.31,117.839 1411.71,115.666 1434.12,113.644 1456.52,111.763 1478.93,110.012 1501.34,108.384 1523.74,106.869 1546.15,105.46 1568.55,104.149 1590.96,102.929 1613.36,101.795 1635.77,100.739 1658.18,99.7574 1680.58,98.8441 1702.99,97.9947 1725.39,97.2045 1747.8,96.4696 1770.21,95.7859 1792.61,95.1501 1815.02,94.5587 1837.42,94.0086 1859.83,93.4969 1882.23,93.021 1904.64,92.5784 1927.05,92.1667 1949.45,91.7838 1971.86,91.4277 1994.26,91.0965 2016.67,90.7884 2039.07,90.5019 2061.48,90.2354 2083.89,89.9876 2106.29,89.7571 2128.7,89.5427 2151.1,89.3434 2173.51,89.1579 2195.92,88.9855 2218.32,88.8251 2240.73,88.6759 2263.13,88.5372 2285.54,88.4082 2307.94,88.2882 2330.35,88.1766 2352.76,88.0728 2375.16,87.9763 \"/>\n",
              "<path clip-path=\"url(#clip960)\" d=\"M2031 1438.47 L2278.07 1438.47 L2278.07 1334.79 L2031 1334.79  Z\" fill=\"#ffffff\" fill-rule=\"evenodd\" fill-opacity=\"1\"/>\n",
              "<polyline clip-path=\"url(#clip960)\" style=\"stroke:#000000; stroke-linecap:round; stroke-linejoin:round; stroke-width:4; stroke-opacity:1; fill:none\" points=\"2031,1438.47 2278.07,1438.47 2278.07,1334.79 2031,1334.79 2031,1438.47 \"/>\n",
              "<polyline clip-path=\"url(#clip960)\" style=\"stroke:#0000ff; stroke-linecap:round; stroke-linejoin:round; stroke-width:4; stroke-opacity:1; fill:none\" points=\"2055.9,1386.63 2205.27,1386.63 \"/>\n",
              "<path clip-path=\"url(#clip960)\" d=\"M2230.17 1367.9 L2234.45 1367.9 L2234.45 1389.17 L2247.16 1377.99 L2252.6 1377.99 L2238.85 1390.12 L2253.17 1403.91 L2247.62 1403.91 L2234.45 1391.25 L2234.45 1403.91 L2230.17 1403.91 L2230.17 1367.9 Z\" fill=\"#000000\" fill-rule=\"nonzero\" fill-opacity=\"1\" /></svg>\n"
            ]
          },
          "metadata": {},
          "output_type": "display_data"
        }
      ],
      "source": [
        "fig = plot(xlim=(0,100), legend=:bottomright)\n",
        "plot!(fig, simulate(0.5, model; T=100), c=:blue, label=\"k\")"
      ]
    },
    {
      "cell_type": "markdown",
      "id": "2b9be29e",
      "metadata": {},
      "source": [
        "**Make a nice plot to illustrate the convergence. Do we get convergence\n",
        "from any initial level of capital?**\n",
        "\n",
        "**Suppose you were interested in using `f` to compute the steady-state.\n",
        "What would you propose to measure convergence speed? To speed-up\n",
        "convergence? Implement these ideas.**"
      ]
    },
    {
      "cell_type": "markdown",
      "id": "50727cd9",
      "metadata": {},
      "source": [
        "Speed up the convergence using Newton's method applied to $\\Phi(x) = f(x) - x$\n",
        "\n",
        "$$k_{n+1} = k_{n} - \\frac{f(k_n) - k_n}{f'(k_n)-1}$$"
      ]
    },
    {
      "cell_type": "code",
      "execution_count": null,
      "id": "ad1a798b",
      "metadata": {},
      "outputs": [],
      "source": [
        "function simulate_newton(k0, model; s=0.4, T=100)\n",
        "    res = [k0]\n",
        "    resN = [k0]\n",
        "    for t=1:T\n",
        "        k = res[end]\n",
        "        K = f(k, model; s=s)\n",
        "        KN = \n",
        "        push!(res, K)\n",
        "    end\n",
        "    return res\n",
        "end"
      ]
    },
    {
      "cell_type": "code",
      "execution_count": 24,
      "id": "1dd64bf8",
      "metadata": {},
      "outputs": [],
      "source": [
        "# Julia REPL\n",
        "# ] for packages\n",
        "# ; for shell\n",
        "\n",
        "# Finir exo \n",
        "# Prendre notes sur slides"
      ]
    }
  ],
  "metadata": {
    "kernelspec": {
      "display_name": "Julia 1.10.1",
      "language": "julia",
      "name": "julia-1.10"
    },
    "language_info": {
      "file_extension": ".jl",
      "mimetype": "application/julia",
      "name": "julia",
      "version": "1.10.1"
    }
  },
  "nbformat": 4,
  "nbformat_minor": 5
}
